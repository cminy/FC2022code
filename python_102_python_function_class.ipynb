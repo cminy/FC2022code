{
  "nbformat": 4,
  "nbformat_minor": 0,
  "metadata": {
    "colab": {
      "name": "python_102_python_function_class.ipynb",
      "provenance": [],
      "collapsed_sections": [],
      "toc_visible": true,
      "authorship_tag": "ABX9TyOd9Zf0BZMDVcmKd3zmm/vm",
      "include_colab_link": true
    },
    "kernelspec": {
      "name": "python3",
      "display_name": "Python 3"
    },
    "language_info": {
      "name": "python"
    }
  },
  "cells": [
    {
      "cell_type": "markdown",
      "metadata": {
        "id": "view-in-github",
        "colab_type": "text"
      },
      "source": [
        "<a href=\"https://colab.research.google.com/github/cminy/FC2022code/blob/main/python_102_python_function_class.ipynb\" target=\"_parent\"><img src=\"https://colab.research.google.com/assets/colab-badge.svg\" alt=\"Open In Colab\"/></a>"
      ]
    },
    {
      "cell_type": "markdown",
      "source": [
        "## Review\n",
        "\n",
        "**python** : cpu, ram, hdd(ssd)를 사용하기 위한 방법\n",
        "1. 변수선언 : ram 사용하기 위한 방법\n",
        "  - data = 1\n",
        "  - data1, data2 = 1, 2\n",
        "  - data1 = data2 = 1\n",
        "  - 식별자 규칙\n",
        "  - 대소문자, 숫자, _ 만 사용가능, 숫자 가장 앞에 올수 X, 대소문자구분, 명령어 사용 X\n",
        "2. 데이터 타입\n",
        "  - 기본 데이터타입 : int, float, bool, str\n",
        "  - 컬렉션 데이터타입 : list, tuple, dict, set\n",
        "  - read : masking : [index], [start:end], [start:end:stride]\n",
        "  - update : 데이터선택 = 데이터\n",
        "  - delete : dict 데이터 삭제 : del\n",
        "  - set 데이터 타입의 특징 : 중복을 허용 X : 교집합, 합집합, 차집합\n",
        "3. 연산자 \n",
        "  - 산술, 할당, 비교, 논리(not, or, and), 멤버(in, not in)\n",
        "4. 조건문\n",
        "  - if, elif, else : 조건을 작성하는 부분에서 bool 데이터 타입이 아니면 형변환\n",
        "5. 반복문\n",
        "  - while, for in, break, continue, range()\n",
        "  - list comprehention, 삼항연산( ture if condition else false )\n",
        "6. 함수\n",
        "  - 중복되는 코드를 묶어서 사용\n",
        "  - 사용법 : 함수선언(코드작성) > 함수호출(코드실행)"
      ],
      "metadata": {
        "id": "n_R4jjwM6bmo"
      }
    },
    {
      "cell_type": "markdown",
      "source": [
        "## 6. 함수"
      ],
      "metadata": {
        "id": "Z53BQgwp6qUx"
      }
    },
    {
      "cell_type": "code",
      "source": [
        "# 객체(변수)의 복사\n",
        "data1 = [1, 2, 3]\n",
        "data2 = data1 # call by refrenece : 주소값 복사 : 얕은복사\n",
        "data3 = data1.copy() # call by value : 값 복사 : 깊은복사\n",
        "print(data1, data2, data3)\n",
        "data1[1] = 4\n",
        "print(data1, data2, data3)\n",
        "print(id(data1), id(data2), id(data3))"
      ],
      "metadata": {
        "colab": {
          "base_uri": "https://localhost:8080/"
        },
        "id": "6cB9xYdofHKy",
        "outputId": "3a27af60-11dd-4a80-da2c-0b00c795fb6f"
      },
      "execution_count": null,
      "outputs": [
        {
          "output_type": "stream",
          "name": "stdout",
          "text": [
            "[1, 2, 3] [1, 2, 3] [1, 2, 3]\n",
            "[1, 4, 3] [1, 4, 3] [1, 2, 3]\n",
            "140479686213952 140479686213952 140479686429024\n"
          ]
        }
      ]
    },
    {
      "cell_type": "code",
      "source": [
        "# 함수\n",
        "# 함수선언(데이터) > 함수호출(데이터)\n",
        "# 함수호출에서 함수선언하는 코드로 데이터를 전달"
      ],
      "metadata": {
        "id": "DWe1fghPfHFx"
      },
      "execution_count": null,
      "outputs": []
    },
    {
      "cell_type": "code",
      "source": [
        "# parameter, agument\n",
        "def plus(num1, num2): # parameter : num1, num2\n",
        "    print(num1 + num2)\n",
        "\n",
        "plus(1, 2) # argument : 1, 2"
      ],
      "metadata": {
        "colab": {
          "base_uri": "https://localhost:8080/"
        },
        "id": "DnvckHvIfHB9",
        "outputId": "6e55ab3f-b722-4923-a754-40ddc0dbd916"
      },
      "execution_count": null,
      "outputs": [
        {
          "output_type": "stream",
          "name": "stdout",
          "text": [
            "3\n"
          ]
        }
      ]
    },
    {
      "cell_type": "code",
      "source": [
        "# default parameter : num2=10, num3=20\n",
        "def plus(num1, num2=10, num3=20): \n",
        "    print(num1 + num2 + num3)\n",
        "\n",
        "plus(1, num3=100) # keyword argument : num3=100"
      ],
      "metadata": {
        "colab": {
          "base_uri": "https://localhost:8080/"
        },
        "id": "6iGc-RGtfG-W",
        "outputId": "796cbf69-6dd2-4e74-8026-203de8d96cbb"
      },
      "execution_count": null,
      "outputs": [
        {
          "output_type": "stream",
          "name": "stdout",
          "text": [
            "111\n"
          ]
        }
      ]
    },
    {
      "cell_type": "code",
      "source": [
        "# print(value, ..., sep=' ', end='\\n', file=sys.stdout, flush=False)\n",
        "print(\"A\", \"B\", sep=\",\", end=\" - \")\n",
        "print(\"C\", \"D\", sep=\",\")"
      ],
      "metadata": {
        "colab": {
          "base_uri": "https://localhost:8080/"
        },
        "id": "2H81z5H4fG7F",
        "outputId": "8d5502b0-30f1-49e3-db5d-1e25e0d0b2d5"
      },
      "execution_count": null,
      "outputs": [
        {
          "output_type": "stream",
          "name": "stdout",
          "text": [
            "A,B - C,D\n"
          ]
        }
      ]
    },
    {
      "cell_type": "code",
      "source": [
        "# *args, **kwargs\n",
        "# 아규먼트의 갯수에 상관없이 함수를 실행\n",
        "def plus(*args, **kwargs):\n",
        "    print(type(args), args)\n",
        "    print(type(kwargs), kwargs)\n",
        "    print(sum(args) + sum(kwargs.values()))\n",
        "\n",
        "plus(1, 2, 3, num1=4, num2=5)"
      ],
      "metadata": {
        "colab": {
          "base_uri": "https://localhost:8080/"
        },
        "id": "u2bQ-ZHJlH85",
        "outputId": "3a8676a0-1a21-4d8b-ffca-996ba71fd73d"
      },
      "execution_count": null,
      "outputs": [
        {
          "output_type": "stream",
          "name": "stdout",
          "text": [
            "<class 'tuple'> (1, 2, 3)\n",
            "<class 'dict'> {'num1': 4, 'num2': 5}\n",
            "15\n"
          ]
        }
      ]
    },
    {
      "cell_type": "code",
      "source": [
        "def plus(*args, **kwargs):\n",
        "    print(type(args), args)\n",
        "    print(type(kwargs), kwargs)\n",
        "\n",
        "# 1, 2, 3, num1=4, num2=5\n",
        "data1 = [1,2,3]\n",
        "plus(data1) # plus([1,2,3]) : argument 1개, datatype list\n",
        "# <class 'tuple'> ([1, 2, 3],) 요기 콤마, 있는거는 tuple data인데 argument가 1개라고 하는거야.\n",
        "plus(*data1) # plus(1,2,3) : argument 3개, datatype int\n",
        "# *가 있으면 묶여있는 데이터를 하나씩 풀어줌\n",
        "data2 = {\"num1\":4, \"num2\":5}\n",
        "plus(data2) # plus({\"num1\": 4, \"num2\": 5}) : a 1개, dt : dict\n",
        "plus(**data2) # plus(num1=4, num2=5) : ka 2개, dt : int"
      ],
      "metadata": {
        "colab": {
          "base_uri": "https://localhost:8080/"
        },
        "id": "FxkR1z-SqaJj",
        "outputId": "bc055679-13b6-4f43-af1a-cddcbe01d48a"
      },
      "execution_count": null,
      "outputs": [
        {
          "output_type": "stream",
          "name": "stdout",
          "text": [
            "<class 'tuple'> ([1, 2, 3],)\n",
            "<class 'dict'> {}\n",
            "<class 'tuple'> (1, 2, 3)\n",
            "<class 'dict'> {}\n",
            "<class 'tuple'> ({'num1': 4, 'num2': 5},)\n",
            "<class 'dict'> {}\n",
            "<class 'tuple'> ()\n",
            "<class 'dict'> {'num1': 4, 'num2': 5}\n"
          ]
        }
      ]
    },
    {
      "cell_type": "code",
      "source": [
        "# MySQL.connet(host=\"123.1.2.3\", user=\"root\")\n",
        "# sqlalchemy.connet(host=\"123.1.2.3\", user=\"root\")\n",
        "\n",
        "# data = {\"host\": \"1.2.3.4\", \"user\": \"root\"}\n",
        "# MySQL.connet(host=data[\"host\"], user=data[\"user\"])\n",
        "# sqlalchemy.connet(host=data[\"host\"], user=data[\"user\"])\n",
        "\n",
        "# data = {\"host\": \"1.2.3.4\", \"user\": \"root\"}\n",
        "# MySQL.connet(**data) # (host=\"1.1.2.3\", user=\"root\")\n",
        "# sqlalchemy.connet(**data) # (host=\"1.1.2.3\", user=\"root\")"
      ],
      "metadata": {
        "id": "rIxKqhYat-y9"
      },
      "execution_count": null,
      "outputs": []
    },
    {
      "cell_type": "code",
      "source": [
        "# 파라미터에서 사용 : 여러개의 아규먼트 데이터를 하나의 변수로 받아줌\n",
        "# 아규먼트에서 사용 : 컬렉션 데이터를 풀어서 여러개의 아규먼트를 만들어서 함수호출\u001b"
      ],
      "metadata": {
        "id": "I49no1w3tzWE"
      },
      "execution_count": null,
      "outputs": []
    },
    {
      "cell_type": "code",
      "source": [
        "# return\n",
        "# 1) 함수의 코드를 실행한 겨로가를 함수 호출하는 부분으로 보낼때\n",
        "# 2) 함수의 코드 실행을 중단 (하고 싶을 떄 그냥 return을 써버림. none data를 return하고 그 밑에는 실행하지 않는거)"
      ],
      "metadata": {
        "id": "wrWEnCskRgs3"
      },
      "execution_count": null,
      "outputs": []
    },
    {
      "cell_type": "code",
      "source": [
        "# 1) 함수의 코드를 실행한 겨로가를 함수 호출하는 부분으로 보낼때\n",
        "# plus1 : return이 없는 함수\n",
        "def plus1(num1, num2=10, num3=20):\n",
        "  print(num1 + num2 + num3)\n",
        "# plus2 : return이 있는 함수\n",
        "def plus2(num1, num2=10, num3=20):\n",
        "  print(num1 + num2 + num3)\n",
        "  return num1 + num2 + num3"
      ],
      "metadata": {
        "id": "cv-_ZQgSTLFH"
      },
      "execution_count": null,
      "outputs": []
    },
    {
      "cell_type": "code",
      "source": [
        "result1 = plus1(1, 2) # 출력은 되지만 변수에 저장은 안됨. -> 밑에 코드에서 활용못함.\n",
        "result2 = plus2(1, 2)\n",
        "print(\"---\")\n",
        "print(\"return없다: \",result1,\"/return있다: \", result2)"
      ],
      "metadata": {
        "colab": {
          "base_uri": "https://localhost:8080/"
        },
        "id": "aKgK1M2kR0pG",
        "outputId": "2e984cd1-3c9b-4220-d14f-b22cc7abd382"
      },
      "execution_count": null,
      "outputs": [
        {
          "output_type": "stream",
          "name": "stdout",
          "text": [
            "23\n",
            "23\n",
            "---\n",
            "return없다:  None /return있다:  23\n"
          ]
        }
      ]
    },
    {
      "cell_type": "code",
      "source": [
        "def plus_minus(num1, num2):\n",
        "  return num1 + num2, num1 - num2\n",
        "result1, result2 = plus_minus(1,2)\n",
        "# result1, result2 = num1 + num2, num1 - num2 와 같은거임.\n",
        "print(\"result\", result1, result2)"
      ],
      "metadata": {
        "colab": {
          "base_uri": "https://localhost:8080/"
        },
        "id": "aYh3i4eevGv7",
        "outputId": "661f1f29-0313-45a1-8704-739565f937d3"
      },
      "execution_count": null,
      "outputs": [
        {
          "output_type": "stream",
          "name": "stdout",
          "text": [
            "result 3 -1\n"
          ]
        }
      ]
    },
    {
      "cell_type": "code",
      "source": [
        "# result1, result2 = num1 + num2, num1 - num2\n",
        "# 이게 가능한 이유는\n",
        "\n",
        "# tuple 선언 : () : () 생략가능\n",
        "data = 1, 2\n",
        "data1, data2 = 3, 4\n",
        "type(data), data, data1, data2"
      ],
      "metadata": {
        "colab": {
          "base_uri": "https://localhost:8080/"
        },
        "id": "wEQkXWPBwFF0",
        "outputId": "5a5642da-d6a8-462e-d93a-7035ef293178"
      },
      "execution_count": null,
      "outputs": [
        {
          "output_type": "execute_result",
          "data": {
            "text/plain": [
              "(tuple, (1, 2), 3, 4)"
            ]
          },
          "metadata": {},
          "execution_count": 15
        }
      ]
    },
    {
      "cell_type": "code",
      "source": [
        "# 리턴이 있는 함수 : str.upper()\n",
        "# 변수의 내용을 바꾸지 않고 코드를 실행한 결과를 출력\n",
        "data1 = \"python\"\n",
        "result = data1.upper()\n",
        "print(result, data1)\n",
        "\n",
        "# 리턴이 없는 함수 : list.sort()\n",
        "# 변수의 내용을 바꾸고 코드를 실행한 결과를 출력 X\n",
        "data2 = [3, 1, 2]\n",
        "result = data2.sort()\n",
        "print(result, data2)"
      ],
      "metadata": {
        "colab": {
          "base_uri": "https://localhost:8080/"
        },
        "id": "yewSFW4xSE-l",
        "outputId": "c96457ba-9b8b-41a0-f3b5-b1fb7e8e84d2"
      },
      "execution_count": null,
      "outputs": [
        {
          "output_type": "stream",
          "name": "stdout",
          "text": [
            "PYTHON python\n",
            "None [1, 2, 3]\n"
          ]
        }
      ]
    },
    {
      "cell_type": "code",
      "source": [
        "# return 2번째 기능\n",
        "# 함수 내에 있는 코드의 실행을 중단\n",
        "def echo(msg):\n",
        "    print(msg)\n",
        "    print(msg)\n",
        "    return\n",
        "    print(msg)"
      ],
      "metadata": {
        "id": "vmz8tS5z7zCV"
      },
      "execution_count": null,
      "outputs": []
    },
    {
      "cell_type": "code",
      "source": [
        "echo(\"python\")"
      ],
      "metadata": {
        "colab": {
          "base_uri": "https://localhost:8080/"
        },
        "id": "pEfwRScP72_m",
        "outputId": "97fcfb15-1e08-4766-bcb0-4ed94f5e2ce9"
      },
      "execution_count": null,
      "outputs": [
        {
          "output_type": "stream",
          "name": "stdout",
          "text": [
            "python\n",
            "python\n"
          ]
        }
      ]
    },
    {
      "cell_type": "code",
      "source": [
        "# docstring : 함수 설명 작성\n",
        "def plus(num1, num2):\n",
        "    \"\"\"\n",
        "    This function is plus.\n",
        "    ---------------------------------\n",
        "    Parameters\n",
        "    num1 : int : first number data\n",
        "    num2 : int : second number data\n",
        "    ---------------------------------\n",
        "    Return\n",
        "    num1 + num2 : int\n",
        "    \"\"\"\n",
        "    return num1 + num2"
      ],
      "metadata": {
        "id": "45BiORXoXm20"
      },
      "execution_count": null,
      "outputs": []
    },
    {
      "cell_type": "code",
      "source": [
        "# help(plus) # docstring만 보기\n",
        "# plus? # docstring만 보기\n",
        "# plus?? # code 전체를 보기"
      ],
      "metadata": {
        "id": "tSQxo9_xzZuz"
      },
      "execution_count": null,
      "outputs": []
    },
    {
      "cell_type": "code",
      "source": [
        "help(plus)"
      ],
      "metadata": {
        "colab": {
          "base_uri": "https://localhost:8080/"
        },
        "id": "OvT_c6R7zPWv",
        "outputId": "88a234a7-63c9-4e81-8110-fe8638ac11e1"
      },
      "execution_count": null,
      "outputs": [
        {
          "output_type": "stream",
          "name": "stdout",
          "text": [
            "Help on function plus in module __main__:\n",
            "\n",
            "plus(num1, num2)\n",
            "    This function is plus.\n",
            "    ---------------------------------\n",
            "    Parameters\n",
            "    num1 : int : first number data\n",
            "    num2 : int : second number data\n",
            "    ---------------------------------\n",
            "    Return\n",
            "    num1 + num2 : int\n",
            "\n"
          ]
        }
      ]
    },
    {
      "cell_type": "code",
      "source": [
        "# 변수를 문자열에 넣어서 문자열을 만드는 방법\n",
        "data1 = 1000\n",
        "data2 = 500\n",
        "print(data, \"원을 인출하겠습니다. 잔액은\", data2, \"입니다.\")\n",
        "# 방법1\n",
        "print(\"{} 원을 인출하겠습니다. 잔액은 {} 입니다.\".format(data1,data2))\n",
        "# 방법2 \n",
        "print(f\"{data1} 원을 인출하겠습니다. 잔액은 {data2} 입니다.\")"
      ],
      "metadata": {
        "colab": {
          "base_uri": "https://localhost:8080/"
        },
        "id": "5hr4AYkY0Egt",
        "outputId": "72ea6290-7f71-4a72-b885-6c4123ff5a8f"
      },
      "execution_count": null,
      "outputs": [
        {
          "output_type": "stream",
          "name": "stdout",
          "text": [
            "python 원을 인출하겠습니다. 잔액은 500 입니다.\n",
            "1000 원을 인출하겠습니다. 잔액은 500 입니다.\n",
            "1000 원을 인출하겠습니다. 잔액은 500 입니다.\n"
          ]
        }
      ]
    },
    {
      "cell_type": "code",
      "source": [
        "# lambda function\n",
        "# 함수는 데이터 타입이 function인 변수이다."
      ],
      "metadata": {
        "id": "KfU5uw9YmENg"
      },
      "execution_count": null,
      "outputs": []
    },
    {
      "cell_type": "code",
      "source": [
        "# 함수 3개 선언 : 메모리 사용\n",
        "def plus3(num1, num2):\n",
        "  return num1 + num2\n",
        "\n",
        "def minus(num1, num2):\n",
        "  return num1 - num2\n",
        "\n",
        "def calc(func, num1, num2): # 함수도 변수니까 ~ function도 파라매터나 아규먼트로 사용할 수 있다.\n",
        "    return func(num1, num2)"
      ],
      "metadata": {
        "id": "vgl8xBi9mOJH"
      },
      "execution_count": null,
      "outputs": []
    },
    {
      "cell_type": "code",
      "source": [
        "type(plus)"
      ],
      "metadata": {
        "colab": {
          "base_uri": "https://localhost:8080/"
        },
        "id": "WNJcuoy_5hQW",
        "outputId": "ea908dd0-2ed0-49db-bc5f-4386bf02dc57"
      },
      "execution_count": null,
      "outputs": [
        {
          "output_type": "execute_result",
          "data": {
            "text/plain": [
              "function"
            ]
          },
          "metadata": {},
          "execution_count": 30
        }
      ]
    },
    {
      "cell_type": "code",
      "source": [
        "calc(plus3, 1, 2), calc(minus, 1, 2)"
      ],
      "metadata": {
        "colab": {
          "base_uri": "https://localhost:8080/"
        },
        "id": "QAJNgZbGmqs4",
        "outputId": "7b22a373-0206-4c5e-b311-7b6df1a85c00"
      },
      "execution_count": null,
      "outputs": [
        {
          "output_type": "execute_result",
          "data": {
            "text/plain": [
              "(3, -1)"
            ]
          },
          "metadata": {},
          "execution_count": 31
        }
      ]
    },
    {
      "cell_type": "code",
      "source": [
        "# 함수선언하면 메모리 사용하는데, 선언했는데 안쓸수도 있쟈나. 그런경우에는 lambda함수를 써보자.\n",
        "# lambda <parameters> : <return data>\n",
        "# 간단하게 파라미터와 return만 있는 함수는 람다함수로 사용하면 메모리 절약\n",
        "# 복잡한 함수는 람다함수로 대체할 수 X"
      ],
      "metadata": {
        "id": "QZ8wvPtunsaN"
      },
      "execution_count": null,
      "outputs": []
    },
    {
      "cell_type": "code",
      "source": [
        "# 아래 함수 lambda로 바꾸어 보기\n",
        "# def plus3(num1, num2):\n",
        "#   return num1 + num2\n",
        "pluss = lambda num1, num2: num1 + num2\n",
        "pluss(1,2)\n",
        "# 근데 이거는 여러번 사용되는거쟈나.. 그래서 lambda 쓰는 의미없지. 이런건 안씀.\n",
        "# 아래 코드 쓸때 좀 하는거야."
      ],
      "metadata": {
        "colab": {
          "base_uri": "https://localhost:8080/"
        },
        "id": "kAjSrXCRpbkA",
        "outputId": "dba9d5df-b85c-42c1-d324-aa39bad4e9e2"
      },
      "execution_count": null,
      "outputs": [
        {
          "output_type": "execute_result",
          "data": {
            "text/plain": [
              "3"
            ]
          },
          "metadata": {},
          "execution_count": 32
        }
      ]
    },
    {
      "cell_type": "code",
      "source": [
        "# calc(plus3, 1, 2), calc(minus, 1, 2)\n",
        "calc(lambda num1, num2: num1   + num2, 1, 2), calc(lambda num1, num2: num1 - num2, 1, 2)"
      ],
      "metadata": {
        "colab": {
          "base_uri": "https://localhost:8080/"
        },
        "id": "G2ywEYSooj4p",
        "outputId": "8c1ed564-7673-43ea-ab20-5752ad8b725b"
      },
      "execution_count": null,
      "outputs": [
        {
          "output_type": "execute_result",
          "data": {
            "text/plain": [
              "(3, -1)"
            ]
          },
          "metadata": {},
          "execution_count": 34
        }
      ]
    },
    {
      "cell_type": "code",
      "source": [
        "# function summary\n",
        "# 사용법 : 함수선언(코드작성) > 함수호출(코드실행)\n",
        "# parameter, argument, default parameter, keyword argument\n",
        "# *args, **kwargs\n",
        "# return\n",
        "# lambda"
      ],
      "metadata": {
        "id": "7D5zkRXW8Av6"
      },
      "execution_count": null,
      "outputs": []
    },
    {
      "cell_type": "markdown",
      "source": [
        "##7. 클래스 : class"
      ],
      "metadata": {
        "id": "qYOotvIs7e9y"
      }
    },
    {
      "cell_type": "code",
      "source": [
        "# 개념 1 : 변수, 함수를 묶어서 사용\n",
        "# 개념 2 : 객체지향을 구현한 문법\n",
        "# 객체지향\n",
        "#   - 실제세계를 반영해서 개발하는 방법 > 협업이 용이\n",
        "# 함수의 사용법 : 함수선언(코드작성) > 함수호출(코드실행)\n",
        "# 클래스 사용법\n",
        "# - 메서드 : 클래스에서 사용하는 함수\n",
        "# - 클래스선언(코드작성(변수, 함수)) > 객체생성(메모리사용) > 메서드실행(코드실행)\n",
        "# - 클래스선언(설계도작성) > 객체생성(제품생산) > 메서드실행(기능사용)"
      ],
      "metadata": {
        "id": "MNd8nR0k7qgN"
      },
      "execution_count": null,
      "outputs": []
    },
    {
      "cell_type": "code",
      "source": [
        "# 클래스선언 : Calculator : num1, num2, plus(), minus()\n",
        "class Calculator:\n",
        "    num1 = 1\n",
        "    num2 = 2\n",
        "    def plus(self):\n",
        "        return self.num1 + self.num2\n",
        "    def minus(self):\n",
        "        return self.num1 - self.num2\n",
        "\n",
        "# 객체생성\n",
        "calc = Calculator()\n",
        "\n",
        "# 메서드실행\n",
        "calc.plus(), calc.minus()"
      ],
      "metadata": {
        "colab": {
          "base_uri": "https://localhost:8080/"
        },
        "id": "Ry9Lm4pu6_dM",
        "outputId": "9769549b-accd-4d01-af7a-600e34922fe3"
      },
      "execution_count": null,
      "outputs": [
        {
          "output_type": "execute_result",
          "data": {
            "text/plain": [
              "(3, -1)"
            ]
          },
          "metadata": {},
          "execution_count": 43
        }
      ]
    },
    {
      "cell_type": "code",
      "source": [
        "# self : 객체 자신\n",
        "# Calculator.plus() : self.num1 + self.num2\n",
        "# calc.plus() : self == calc : calc.num1 + calc.num2\n",
        "print(calc.num1, calc.num2)\n",
        "calc.plus()"
      ],
      "metadata": {
        "colab": {
          "base_uri": "https://localhost:8080/"
        },
        "id": "_LhUeyNqU5nI",
        "outputId": "db71049c-2095-4bb6-8e43-d8cc63ada9e4"
      },
      "execution_count": null,
      "outputs": [
        {
          "output_type": "stream",
          "name": "stdout",
          "text": [
            "1 2\n"
          ]
        },
        {
          "output_type": "execute_result",
          "data": {
            "text/plain": [
              "3"
            ]
          },
          "metadata": {},
          "execution_count": 44
        }
      ]
    },
    {
      "cell_type": "code",
      "source": [
        "# 스타크래프트 : Marine\n",
        "# 클래스선언 : Marine : health, attack_pow, attack()\n",
        "class Marine:\n",
        "    health = 40\n",
        "    attack_pow = 5\n",
        "    def attack(self, target):\n",
        "        target.health -= self.attack_pow\n",
        "\n",
        "# 객체생성 : m1, m2 생산\n",
        "m1 = Marine()\n",
        "m2 = Marine()\n",
        "print(m1.health, m2.health)"
      ],
      "metadata": {
        "colab": {
          "base_uri": "https://localhost:8080/"
        },
        "id": "C4JxMHqsWPUZ",
        "outputId": "464dcc08-4fbc-4d3d-f982-4299a56f3347"
      },
      "execution_count": null,
      "outputs": [
        {
          "output_type": "stream",
          "name": "stdout",
          "text": [
            "40 40\n"
          ]
        }
      ]
    },
    {
      "cell_type": "code",
      "source": [
        "# 메서드실행 : m1.attack(m2)\n",
        "m1.attack(m2)\n",
        "print(m1.health, m2.health)"
      ],
      "metadata": {
        "colab": {
          "base_uri": "https://localhost:8080/"
        },
        "id": "-sQZ0UvVWPOa",
        "outputId": "f14c9fcb-3db5-46df-c5e6-aae3d0a2c641"
      },
      "execution_count": null,
      "outputs": [
        {
          "output_type": "stream",
          "name": "stdout",
          "text": [
            "40 35\n"
          ]
        }
      ]
    },
    {
      "cell_type": "code",
      "source": [
        "# Quiz : Medic : health=60, heal_pow=6, heal()\n",
        "class Medic:\n",
        "    health = 60\n",
        "    heal_pow = 6\n",
        "    def heal(self, target):\n",
        "        target.health += self.heal_pow\n",
        "\n",
        "medic = Medic()"
      ],
      "metadata": {
        "id": "-0SqdzE96_Z-"
      },
      "execution_count": null,
      "outputs": []
    },
    {
      "cell_type": "code",
      "source": [
        "medic.heal(m2)\n",
        "print(m1.health, m2.health)"
      ],
      "metadata": {
        "colab": {
          "base_uri": "https://localhost:8080/"
        },
        "id": "9vIxIUkg6_W8",
        "outputId": "0dc66bf5-731a-4bc2-f08a-a06c2489552f"
      },
      "execution_count": null,
      "outputs": [
        {
          "output_type": "stream",
          "name": "stdout",
          "text": [
            "40 41\n"
          ]
        }
      ]
    },
    {
      "cell_type": "code",
      "source": [
        "# 공격력 업그레이드\n",
        "m2.attack_pow = 12\n",
        "print(m1.health, m2.health, m1.attack_pow, m2.attack_pow)"
      ],
      "metadata": {
        "colab": {
          "base_uri": "https://localhost:8080/"
        },
        "id": "cNJyMUIq6_Tk",
        "outputId": "150f1f15-1b31-4599-ff3f-a861aef98baa"
      },
      "execution_count": null,
      "outputs": [
        {
          "output_type": "stream",
          "name": "stdout",
          "text": [
            "40 41 5 12\n"
          ]
        }
      ]
    },
    {
      "cell_type": "code",
      "source": [
        "m2.attack(m1)\n",
        "print(m1.health, m2.health, m1.attack_pow, m2.attack_pow)"
      ],
      "metadata": {
        "colab": {
          "base_uri": "https://localhost:8080/"
        },
        "id": "NkKDdDWE6cFa",
        "outputId": "4da0c7c0-2b02-486a-ef87-960b2a3d45b3"
      },
      "execution_count": null,
      "outputs": [
        {
          "output_type": "stream",
          "name": "stdout",
          "text": [
            "28 41 5 12\n"
          ]
        }
      ]
    },
    {
      "cell_type": "code",
      "source": [
        "# 생성자 메서드 : __init__(self)\n",
        "# 기능 : 객체를 생성할때 메서드 실행\n",
        "# 생성자 메서드는 주로 객체를 만들때 변수값을 할당하는 용도로 사용됩니다.\n",
        "# 메서드를 실행할때 변수값이 없어서 실행이 안되는 에러를 방지."
      ],
      "metadata": {
        "id": "ALZuz3ouaqtj"
      },
      "execution_count": null,
      "outputs": []
    },
    {
      "cell_type": "code",
      "source": [
        "# 클래스 선언\n",
        "class Calculator:\n",
        "    def __init__(self, num1, num2=10):\n",
        "        self.num1 = num1\n",
        "        self.num2 = num2\n",
        "    def plus(self):\n",
        "        return self.num1 + self.num2\n",
        "\n",
        "# 객체 생성 : 메모리 사용\n",
        "calc = Calculator(1)"
      ],
      "metadata": {
        "id": "Z3Q21FhMaqpH"
      },
      "execution_count": null,
      "outputs": []
    },
    {
      "cell_type": "code",
      "source": [
        "# 메서드 사용\n",
        "calc.plus()"
      ],
      "metadata": {
        "colab": {
          "base_uri": "https://localhost:8080/"
        },
        "id": "d2TehulUaqk8",
        "outputId": "445b1acd-00a6-4bcc-b421-8edb825fd745"
      },
      "execution_count": null,
      "outputs": [
        {
          "output_type": "execute_result",
          "data": {
            "text/plain": [
              "11"
            ]
          },
          "metadata": {},
          "execution_count": 53
        }
      ]
    },
    {
      "cell_type": "code",
      "source": [
        "# 데이터 타입의 이해\n",
        "# 클래스는 사용자 정의 데이터 타입"
      ],
      "metadata": {
        "id": "JQakOZ01g6Q6"
      },
      "execution_count": null,
      "outputs": []
    },
    {
      "cell_type": "code",
      "source": [
        "# calc 객체의 데이터 타입은 Calculator : num1, num2, plus()\n",
        "# data 객체의 데이터 타입은 str : upper(), split() ...\n",
        "# 객체는 어떤 클래스(데이터타입)로 만들어 졌는지에 따라서 사용할수 있는 메서드가 다르다.\n",
        "data = \"python\"\n",
        "type(calc), type(data), calc.plus(), data.upper()"
      ],
      "metadata": {
        "colab": {
          "base_uri": "https://localhost:8080/"
        },
        "id": "fi8lpEuag6NV",
        "outputId": "2ef42311-b47e-4a9f-a1f3-9d9f9142eb1c"
      },
      "execution_count": null,
      "outputs": [
        {
          "output_type": "execute_result",
          "data": {
            "text/plain": [
              "(__main__.Calculator, str, 11, 'PYTHON')"
            ]
          },
          "metadata": {},
          "execution_count": 54
        }
      ]
    },
    {
      "cell_type": "code",
      "source": [
        "# 객체의 변수 출력 : dir()\n",
        "functions = dir(calc)\n",
        "functions = dir(data)\n",
        "functions = [function for function in functions if function[0] != \"_\"]\n",
        "functions"
      ],
      "metadata": {
        "id": "GrrZjFAVg6Kq",
        "colab": {
          "base_uri": "https://localhost:8080/"
        },
        "outputId": "2b5ac110-06d9-46e4-ee3c-f86c20c884d3"
      },
      "execution_count": null,
      "outputs": [
        {
          "output_type": "execute_result",
          "data": {
            "text/plain": [
              "['capitalize',\n",
              " 'casefold',\n",
              " 'center',\n",
              " 'count',\n",
              " 'encode',\n",
              " 'endswith',\n",
              " 'expandtabs',\n",
              " 'find',\n",
              " 'format',\n",
              " 'format_map',\n",
              " 'index',\n",
              " 'isalnum',\n",
              " 'isalpha',\n",
              " 'isascii',\n",
              " 'isdecimal',\n",
              " 'isdigit',\n",
              " 'isidentifier',\n",
              " 'islower',\n",
              " 'isnumeric',\n",
              " 'isprintable',\n",
              " 'isspace',\n",
              " 'istitle',\n",
              " 'isupper',\n",
              " 'join',\n",
              " 'ljust',\n",
              " 'lower',\n",
              " 'lstrip',\n",
              " 'maketrans',\n",
              " 'partition',\n",
              " 'replace',\n",
              " 'rfind',\n",
              " 'rindex',\n",
              " 'rjust',\n",
              " 'rpartition',\n",
              " 'rsplit',\n",
              " 'rstrip',\n",
              " 'split',\n",
              " 'splitlines',\n",
              " 'startswith',\n",
              " 'strip',\n",
              " 'swapcase',\n",
              " 'title',\n",
              " 'translate',\n",
              " 'upper',\n",
              " 'zfill']"
            ]
          },
          "metadata": {},
          "execution_count": 58
        }
      ]
    },
    {
      "cell_type": "code",
      "source": [
        "# 기본 데이터 타입에서 자주 사용되는 메서드들"
      ],
      "metadata": {
        "id": "9Cak6H8raqdJ"
      },
      "execution_count": null,
      "outputs": []
    },
    {
      "cell_type": "code",
      "source": [
        "data1 = \"Python jupyter notebook\"\n",
        "data1.upper(), data1.lower(), data1.count(\"o\"),\\\n",
        "data1.replace(\"notebook\", \"kyobo\")"
      ],
      "metadata": {
        "colab": {
          "base_uri": "https://localhost:8080/"
        },
        "id": "5jdCSDk9aqX-",
        "outputId": "c7048ed9-4739-4c06-b786-34e00c84612e"
      },
      "execution_count": null,
      "outputs": [
        {
          "output_type": "execute_result",
          "data": {
            "text/plain": [
              "('PYTHON JUPYTER NOTEBOOK',\n",
              " 'python jupyter notebook',\n",
              " 4,\n",
              " 'Python jupyter kyobo')"
            ]
          },
          "metadata": {},
          "execution_count": 57
        }
      ]
    },
    {
      "cell_type": "code",
      "source": [
        "data2 = [3, 1, 2]\n",
        "data2.append(4), data2.sort()\n",
        "print(data2)\n",
        "data2.pop(), data2.pop(), data2"
      ],
      "metadata": {
        "colab": {
          "base_uri": "https://localhost:8080/"
        },
        "id": "shFnid49aqUI",
        "outputId": "0e178a7e-0873-4e88-9e3f-13e153d53f8a"
      },
      "execution_count": null,
      "outputs": [
        {
          "output_type": "stream",
          "name": "stdout",
          "text": [
            "[1, 2, 3, 4]\n"
          ]
        },
        {
          "output_type": "execute_result",
          "data": {
            "text/plain": [
              "(4, 3, [1, 2])"
            ]
          },
          "metadata": {},
          "execution_count": 59
        }
      ]
    },
    {
      "cell_type": "code",
      "source": [
        "data2 = [3, 1, 2]\n",
        "while data2:\n",
        "    print(data2, data2.pop())"
      ],
      "metadata": {
        "colab": {
          "base_uri": "https://localhost:8080/"
        },
        "id": "X2lBICHgmaQM",
        "outputId": "aa0c0a00-ed89-45b0-8aad-6decd9975856"
      },
      "execution_count": null,
      "outputs": [
        {
          "output_type": "stream",
          "name": "stdout",
          "text": [
            "[3, 1] 2\n",
            "[3] 1\n",
            "[] 3\n"
          ]
        }
      ]
    },
    {
      "cell_type": "code",
      "source": [
        "# dict\n",
        "data3 = {\"one\": 1, \"two\": 2}\n",
        "data3.keys(), data3.values(), data3.items()"
      ],
      "metadata": {
        "colab": {
          "base_uri": "https://localhost:8080/"
        },
        "id": "Rd3PTu6qmdFO",
        "outputId": "e0d4116a-555e-4295-aeb8-c6d216fba2b8"
      },
      "execution_count": null,
      "outputs": [
        {
          "output_type": "execute_result",
          "data": {
            "text/plain": [
              "(dict_keys(['one', 'two']),\n",
              " dict_values([1, 2]),\n",
              " dict_items([('one', 1), ('two', 2)]))"
            ]
          },
          "metadata": {},
          "execution_count": 61
        }
      ]
    },
    {
      "cell_type": "code",
      "source": [
        "# d1, d2 = 'one', 1\n",
        "for d1, d2 in data3.items():\n",
        "    print(d1, d2)\n",
        "    data3[d1] = d2**2\n",
        "data3"
      ],
      "metadata": {
        "colab": {
          "base_uri": "https://localhost:8080/"
        },
        "id": "blKRGT7iaqOW",
        "outputId": "5082b49d-b22c-4163-c76c-04391ab807de"
      },
      "execution_count": null,
      "outputs": [
        {
          "output_type": "stream",
          "name": "stdout",
          "text": [
            "one 1\n",
            "two 2\n"
          ]
        },
        {
          "output_type": "execute_result",
          "data": {
            "text/plain": [
              "{'one': 1, 'two': 4}"
            ]
          },
          "metadata": {},
          "execution_count": 64
        }
      ]
    },
    {
      "cell_type": "code",
      "source": [
        "# 스페셜 메서드\n",
        "# 클래스의 앞뒤로 __가 있는 메서드"
      ],
      "metadata": {
        "id": "HnjiaxhpnohM"
      },
      "execution_count": null,
      "outputs": []
    },
    {
      "cell_type": "code",
      "source": [
        "# 데이터 타입에 따라서 같은 연산자를 사용해서 다르게 기능이 수행\n",
        "1 + int(\"2\"), str(1) + \"2\""
      ],
      "metadata": {
        "colab": {
          "base_uri": "https://localhost:8080/"
        },
        "id": "AKZ-Tn7-nobC",
        "outputId": "f7c1878f-bb60-41ef-e0e5-18a4f777efb8"
      },
      "execution_count": null,
      "outputs": [
        {
          "output_type": "execute_result",
          "data": {
            "text/plain": [
              "(3, '12')"
            ]
          },
          "metadata": {},
          "execution_count": 137
        }
      ]
    },
    {
      "cell_type": "code",
      "source": [
        "data1, data2, data3, data4 = 1, 2, \"3\", \"4\""
      ],
      "metadata": {
        "id": "mgtN-kXWnoW0"
      },
      "execution_count": null,
      "outputs": []
    },
    {
      "cell_type": "code",
      "source": [
        "# __add__ : + 연산을 구현해 놓은 메서드\n",
        "# data1 객체는 int 클래스로 만들어진 객체\n",
        "dir(data1)\n",
        "# int 클래스에는 __add__ 스페셜 메서드에 + 연산자에 대한 기능 정의\n",
        "data1 + data2, data1.__add__(data2)"
      ],
      "metadata": {
        "colab": {
          "base_uri": "https://localhost:8080/"
        },
        "outputId": "5841cfb8-fcef-4917-c59e-32f04a4fbdf6",
        "id": "vcMmbb_ZqLnj"
      },
      "execution_count": null,
      "outputs": [
        {
          "output_type": "execute_result",
          "data": {
            "text/plain": [
              "(3, 3)"
            ]
          },
          "metadata": {},
          "execution_count": 73
        }
      ]
    },
    {
      "cell_type": "code",
      "source": [
        "# 같은 __add__ 메서드 이지만 정의되어 있는 클래스가 다름\n",
        "# 그래서 동작되는 기능이 다름\n",
        "data3 + data4, data3.__add__(data4)"
      ],
      "metadata": {
        "colab": {
          "base_uri": "https://localhost:8080/"
        },
        "id": "un0mnm6QnoOg",
        "outputId": "c86a82a7-55d5-4722-bb17-f451720220c6"
      },
      "execution_count": null,
      "outputs": [
        {
          "output_type": "execute_result",
          "data": {
            "text/plain": [
              "('34', '34')"
            ]
          },
          "metadata": {},
          "execution_count": 74
        }
      ]
    },
    {
      "cell_type": "code",
      "source": [
        "class Number:\n",
        "    def __init__(self, num):\n",
        "        self.num = num\n",
        "    def __add__(self, number_object):\n",
        "        return self.num - number_object.num"
      ],
      "metadata": {
        "id": "-K5DsyhwnoKa"
      },
      "execution_count": null,
      "outputs": []
    },
    {
      "cell_type": "code",
      "source": [
        "n1 = Number(3)\n",
        "n2 = Number(2)\n",
        "n1 + n2"
      ],
      "metadata": {
        "colab": {
          "base_uri": "https://localhost:8080/"
        },
        "id": "lKj8DUWNqcpv",
        "outputId": "31cfd7a8-36e3-4971-c9be-40b4898b4cf7"
      },
      "execution_count": null,
      "outputs": [
        {
          "output_type": "execute_result",
          "data": {
            "text/plain": [
              "1"
            ]
          },
          "metadata": {},
          "execution_count": 78
        }
      ]
    },
    {
      "cell_type": "code",
      "source": [
        "n1, n2 # 타입과 주소값이 나옴"
      ],
      "metadata": {
        "colab": {
          "base_uri": "https://localhost:8080/"
        },
        "id": "qScgVcwdteGC",
        "outputId": "2bb40390-e0da-44f3-8d05-eccf4fe33b79"
      },
      "execution_count": null,
      "outputs": [
        {
          "output_type": "execute_result",
          "data": {
            "text/plain": [
              "(<__main__.Number at 0x7f73e5e7b850>, <__main__.Number at 0x7f73e5e7bc90>)"
            ]
          },
          "metadata": {},
          "execution_count": 83
        }
      ]
    },
    {
      "cell_type": "code",
      "source": [
        "# __str__, __repr__ : 객체의 정보를 출력해주는 메서드\n",
        "class Number:\n",
        "    def __init__(self, num):\n",
        "        self.num = num\n",
        "    def __add__(self, number_object):\n",
        "        return self.num - number_object.num\n",
        "    def __str__(self): # print 함수 실행\n",
        "        return str(self.num)\n",
        "    def __repr__(self): # 개발자가 객체의 상세 정보를 출력\n",
        "        return f\"<Number num:{str(self.num)}>\""
      ],
      "metadata": {
        "id": "0HCbWhQstwHE"
      },
      "execution_count": null,
      "outputs": []
    },
    {
      "cell_type": "code",
      "source": [
        "n1 = Number(3)\n",
        "n2 = Number(2)\n",
        "print(n1, n2)"
      ],
      "metadata": {
        "colab": {
          "base_uri": "https://localhost:8080/"
        },
        "id": "mq1Y00jEuWR-",
        "outputId": "543d68b1-bb8e-4718-e559-d2a0fb2ec946"
      },
      "execution_count": null,
      "outputs": [
        {
          "output_type": "stream",
          "name": "stdout",
          "text": [
            "3 2\n"
          ]
        }
      ]
    },
    {
      "cell_type": "code",
      "source": [
        "print(n1)\n",
        "n1, n2"
      ],
      "metadata": {
        "colab": {
          "base_uri": "https://localhost:8080/"
        },
        "id": "kbdGSO7vvs5F",
        "outputId": "55d55dd6-04ae-4520-bf32-9aa419ca7f25"
      },
      "execution_count": null,
      "outputs": [
        {
          "output_type": "stream",
          "name": "stdout",
          "text": [
            "3\n"
          ]
        },
        {
          "output_type": "execute_result",
          "data": {
            "text/plain": [
              "(<Number num:3>, <Number num:2>)"
            ]
          },
          "metadata": {},
          "execution_count": 96
        }
      ]
    },
    {
      "cell_type": "code",
      "source": [
        "# summary class\n",
        "# 변수, 함수를 묶어서 사용하는 문법\n",
        "# 객체지향을 구현한 문법\n",
        "# 객체지향 : 실제세계를 모델링해서 코드를 작성하는 방법\n",
        "# 사용법 : 클래스 선언(코드작성) > 객체생성(자원사용) > 메서드실행(코드실행)\n",
        "#   - 클래스 선언(설계도작성) > 객체생성(제품생성) > 메서드실행(기능사용)\n",
        "# class, self(객체자신)\n",
        "# 생성자 메서드 : __init__ : 객체를 생성할 때 메서드 호출 : 변수 초기화\n",
        "#   -> 그래서 변수가 주어지지 않으면 에러나서 객체를 생성하지 않도록함\n",
        "# 데이터 타입의 이해\n",
        "#   - 클래스는 사용자 정의 데이터 타입\n",
        "#   - 클래스로부터 만들어진 객체는 클래스에 따라서 사용할 수 있는 메서드가 다르다.\n",
        "#   - dir() : 객체에 있는 변수 출력\n",
        "# 스페셜 메서드\n",
        "#   - int.__add__(), str.__add__() : 메서드 이름은 같지만 다른 기능 수행"
      ],
      "metadata": {
        "id": "vNXBSUjSwCIt"
      },
      "execution_count": null,
      "outputs": []
    },
    {
      "cell_type": "markdown",
      "source": [
        "##8. 모듈, 패키지"
      ],
      "metadata": {
        "id": "1kxJn7aOxgdg"
      }
    },
    {
      "cell_type": "code",
      "source": [
        "# 변수, 함수, 클래스를 하나의 파일(.py)로 묶어서 사용하는 문법\n",
        "# 모듈 : 변수, 함수, 클래스를 하나의 파일(.py)로 묶어서 사용하는 방법\n",
        "# 패키지 : 여러개의 모듈을 디렉토리로 묶어서 사용하는 방법\n",
        "# import, from, as"
      ],
      "metadata": {
        "id": "kGJBbnFFnh9f"
      },
      "execution_count": null,
      "outputs": []
    },
    {
      "cell_type": "code",
      "source": [
        "%%writefile kyobo.py\n",
        "number = 10\n",
        "\n",
        "def echo(msg):\n",
        "    print(\"kyobo\", msg)\n",
        "\n",
        "class Show:\n",
        "    def disp(self):\n",
        "        print(\"Show kyobo!\")"
      ],
      "metadata": {
        "colab": {
          "base_uri": "https://localhost:8080/"
        },
        "id": "Qmbf14Uhnh30",
        "outputId": "e4d9eab4-44f1-434f-9805-a69a4fd4bbab"
      },
      "execution_count": null,
      "outputs": [
        {
          "output_type": "stream",
          "name": "stdout",
          "text": [
            "Writing kyobo.py\n"
          ]
        }
      ]
    },
    {
      "cell_type": "code",
      "source": [
        "%ls"
      ],
      "metadata": {
        "colab": {
          "base_uri": "https://localhost:8080/"
        },
        "id": "znGrxtPny1qz",
        "outputId": "a022d91a-9782-4ceb-8bbe-8fbdb081969a"
      },
      "execution_count": null,
      "outputs": [
        {
          "output_type": "stream",
          "name": "stdout",
          "text": [
            "kyobo.py  \u001b[0m\u001b[01;34msample_data\u001b[0m/\n"
          ]
        }
      ]
    },
    {
      "cell_type": "code",
      "source": [
        "%cat kyobo.py"
      ],
      "metadata": {
        "colab": {
          "base_uri": "https://localhost:8080/"
        },
        "id": "TNgZti8ZzHtB",
        "outputId": "a441b78f-afb7-4fd6-cb57-8785b7097cbe"
      },
      "execution_count": null,
      "outputs": [
        {
          "output_type": "stream",
          "name": "stdout",
          "text": [
            "number = 10\n",
            "\n",
            "def echo(msg):\n",
            "    print(\"kyobo\", msg)\n",
            "\n",
            "class Show:\n",
            "    def disp(self):\n",
            "        print(\"Show kyobo!\")"
          ]
        }
      ]
    },
    {
      "cell_type": "code",
      "source": [
        "import kyobo as kb\n",
        "type(kyobo)"
      ],
      "metadata": {
        "colab": {
          "base_uri": "https://localhost:8080/"
        },
        "id": "fF4hN3cXz2kW",
        "outputId": "bccab7dc-2e0b-4ccd-a437-a5e73bf8ccb8"
      },
      "execution_count": null,
      "outputs": [
        {
          "output_type": "execute_result",
          "data": {
            "text/plain": [
              "module"
            ]
          },
          "metadata": {},
          "execution_count": 123
        }
      ]
    },
    {
      "cell_type": "code",
      "source": [
        "kyobo.number, kyobo.Echo(\"py\"), kb.number"
      ],
      "metadata": {
        "colab": {
          "base_uri": "https://localhost:8080/"
        },
        "id": "00qC6QEd0UiE",
        "outputId": "8fcf3a31-2303-48f6-88d3-fefcd21a4088"
      },
      "execution_count": null,
      "outputs": [
        {
          "output_type": "stream",
          "name": "stdout",
          "text": [
            "kyobo py\n"
          ]
        },
        {
          "output_type": "execute_result",
          "data": {
            "text/plain": [
              "(10, None, 10)"
            ]
          },
          "metadata": {},
          "execution_count": 125
        }
      ]
    },
    {
      "cell_type": "code",
      "source": [
        "# import : 모듈, 패키지 코드를 가져와서 사용하는 방법\n",
        "# from import : 특정 모듈이나 변수를 가져와서 사용\n",
        "# as : 모듈이름을 줄여서 사용하는 방법"
      ],
      "metadata": {
        "id": "nnTlR5-N0QFT"
      },
      "execution_count": null,
      "outputs": []
    },
    {
      "cell_type": "code",
      "source": [
        "!pip install geohash2"
      ],
      "metadata": {
        "id": "LjpiTORC2ahg"
      },
      "execution_count": null,
      "outputs": []
    },
    {
      "cell_type": "code",
      "source": [
        "import zigbang as zb"
      ],
      "metadata": {
        "id": "H-5R2-KC0QCF"
      },
      "execution_count": null,
      "outputs": []
    },
    {
      "cell_type": "code",
      "source": [
        "df = zb.oneroom(\"망원동\")"
      ],
      "metadata": {
        "id": "Z03yk83i0P3N"
      },
      "execution_count": null,
      "outputs": []
    },
    {
      "cell_type": "code",
      "source": [
        "df[(df[\"deposit\"] <= 3000) & (df[\"rent\"] <= 50)]"
      ],
      "metadata": {
        "colab": {
          "base_uri": "https://localhost:8080/",
          "height": 1000
        },
        "id": "qmqOQf5Bxe9g",
        "outputId": "8e2ead8e-5a4f-4fdc-f95d-e3915fa9cfdd"
      },
      "execution_count": null,
      "outputs": [
        {
          "output_type": "execute_result",
          "data": {
            "text/plain": [
              "      item_id sales_type  deposit  rent  size_m2 building_floor floor  \\\n",
              "8    31508810         월세     3000    50    36.36              3   반지하   \n",
              "14   31356418         월세     2000    40    14.88              5     3   \n",
              "15   31380821         월세     2000    45    16.53              5     3   \n",
              "16   31392712         월세     2000    40    16.53              5     3   \n",
              "17   31501459         월세     1000    45    14.57              5     3   \n",
              "40   31483882         월세     2000    50    36.36              3     3   \n",
              "62   31389325         월세     1000    50    45.00              3   반지하   \n",
              "63   31416430         월세     1000    50    39.67              3   반지하   \n",
              "64   31150340         월세     1000    50    39.67              2   반지하   \n",
              "69   31191513         월세     1000    35    26.45              3   반지하   \n",
              "73   31190623         월세      500    40    23.14              3   옥탑방   \n",
              "83   31315200         월세     1000    40    26.45              4   옥탑방   \n",
              "84   31327147         월세     1000    40    23.14              2   옥탑방   \n",
              "85   31435830         월세     1000    40    23.14              4   옥탑방   \n",
              "103  31472580         월세     1000    35    13.22              4     3   \n",
              "135  31426597         월세     3000    40    16.53              4     4   \n",
              "\n",
              "                             title service_type     address1 manage_cost  \\\n",
              "8     💥주차가능+반려묘가능+올리모델링 투룸(보증금조절O)           빌라  서울시 마포구 망원동           3   \n",
              "14   💘[망원동 대로변+남향 채광굳]🚘주차무료+엘베👍가성비           원룸  서울시 마포구 망원동           5   \n",
              "15             🌈공과금포함🌈주차0🌈엘베0🌈망리단길           원룸  서울시 마포구 망원동           0   \n",
              "16               🎉망원동 풀옵 이런 원룸없어요🎉           원룸  서울시 마포구 망원동           5   \n",
              "17                👍무조건깔끔한곳은여기가짱이쥬❗           원룸  서울시 마포구 망원동           3   \n",
              "40              망원동 한강변 조용한 주택가 투룸           빌라  서울시 마포구 망원동           1   \n",
              "62           🟥🟨🟩 망원동 깔끔한 가성비 지층 투룸           빌라  서울시 마포구 망원동         1.5   \n",
              "63                   🎉망원동 깔끔  투룸🎉🎉           빌라  서울시 마포구 망원동         1.5   \n",
              "64                   망리단길 근처 투룸 월세           빌라  서울시 마포구 망원동           2   \n",
              "69              🎉망원동 깔끔 분리형 1.5룸🎉🎉           원룸  서울시 마포구 망원동           1   \n",
              "73                  🎉망원동 분리형 옥탑방🎉🎉           원룸  서울시 마포구 망원동           0   \n",
              "83           ⭐⭐망원역5분 ⭐옥탑방⭐저렴한 금액⭐⭐           원룸  서울시 마포구 망원동           3   \n",
              "84                👘망원역2분 분리형 옥탑낭만👘           원룸  서울시 마포구 망원동           3   \n",
              "85              ✔망원역✔옥탑단독사용✔깔끔풀옵션✔           원룸  서울시 마포구 망원동           3   \n",
              "103               망원역, 망원시장 인근 원룸.           원룸  서울시 마포구 망원동           3   \n",
              "135                    🧵신축급 여성 안심🧵           원룸  서울시 마포구 망원동           5   \n",
              "\n",
              "     is_new  \n",
              "8      True  \n",
              "14     True  \n",
              "15    False  \n",
              "16    False  \n",
              "17     True  \n",
              "40     True  \n",
              "62    False  \n",
              "63     True  \n",
              "64    False  \n",
              "69    False  \n",
              "73    False  \n",
              "83    False  \n",
              "84    False  \n",
              "85    False  \n",
              "103    True  \n",
              "135   False  "
            ],
            "text/html": [
              "\n",
              "  <div id=\"df-9cc83b28-b70a-4b3e-a5dc-600c070f6e8a\">\n",
              "    <div class=\"colab-df-container\">\n",
              "      <div>\n",
              "<style scoped>\n",
              "    .dataframe tbody tr th:only-of-type {\n",
              "        vertical-align: middle;\n",
              "    }\n",
              "\n",
              "    .dataframe tbody tr th {\n",
              "        vertical-align: top;\n",
              "    }\n",
              "\n",
              "    .dataframe thead th {\n",
              "        text-align: right;\n",
              "    }\n",
              "</style>\n",
              "<table border=\"1\" class=\"dataframe\">\n",
              "  <thead>\n",
              "    <tr style=\"text-align: right;\">\n",
              "      <th></th>\n",
              "      <th>item_id</th>\n",
              "      <th>sales_type</th>\n",
              "      <th>deposit</th>\n",
              "      <th>rent</th>\n",
              "      <th>size_m2</th>\n",
              "      <th>building_floor</th>\n",
              "      <th>floor</th>\n",
              "      <th>title</th>\n",
              "      <th>service_type</th>\n",
              "      <th>address1</th>\n",
              "      <th>manage_cost</th>\n",
              "      <th>is_new</th>\n",
              "    </tr>\n",
              "  </thead>\n",
              "  <tbody>\n",
              "    <tr>\n",
              "      <th>8</th>\n",
              "      <td>31508810</td>\n",
              "      <td>월세</td>\n",
              "      <td>3000</td>\n",
              "      <td>50</td>\n",
              "      <td>36.36</td>\n",
              "      <td>3</td>\n",
              "      <td>반지하</td>\n",
              "      <td>💥주차가능+반려묘가능+올리모델링 투룸(보증금조절O)</td>\n",
              "      <td>빌라</td>\n",
              "      <td>서울시 마포구 망원동</td>\n",
              "      <td>3</td>\n",
              "      <td>True</td>\n",
              "    </tr>\n",
              "    <tr>\n",
              "      <th>14</th>\n",
              "      <td>31356418</td>\n",
              "      <td>월세</td>\n",
              "      <td>2000</td>\n",
              "      <td>40</td>\n",
              "      <td>14.88</td>\n",
              "      <td>5</td>\n",
              "      <td>3</td>\n",
              "      <td>💘[망원동 대로변+남향 채광굳]🚘주차무료+엘베👍가성비</td>\n",
              "      <td>원룸</td>\n",
              "      <td>서울시 마포구 망원동</td>\n",
              "      <td>5</td>\n",
              "      <td>True</td>\n",
              "    </tr>\n",
              "    <tr>\n",
              "      <th>15</th>\n",
              "      <td>31380821</td>\n",
              "      <td>월세</td>\n",
              "      <td>2000</td>\n",
              "      <td>45</td>\n",
              "      <td>16.53</td>\n",
              "      <td>5</td>\n",
              "      <td>3</td>\n",
              "      <td>🌈공과금포함🌈주차0🌈엘베0🌈망리단길</td>\n",
              "      <td>원룸</td>\n",
              "      <td>서울시 마포구 망원동</td>\n",
              "      <td>0</td>\n",
              "      <td>False</td>\n",
              "    </tr>\n",
              "    <tr>\n",
              "      <th>16</th>\n",
              "      <td>31392712</td>\n",
              "      <td>월세</td>\n",
              "      <td>2000</td>\n",
              "      <td>40</td>\n",
              "      <td>16.53</td>\n",
              "      <td>5</td>\n",
              "      <td>3</td>\n",
              "      <td>🎉망원동 풀옵 이런 원룸없어요🎉</td>\n",
              "      <td>원룸</td>\n",
              "      <td>서울시 마포구 망원동</td>\n",
              "      <td>5</td>\n",
              "      <td>False</td>\n",
              "    </tr>\n",
              "    <tr>\n",
              "      <th>17</th>\n",
              "      <td>31501459</td>\n",
              "      <td>월세</td>\n",
              "      <td>1000</td>\n",
              "      <td>45</td>\n",
              "      <td>14.57</td>\n",
              "      <td>5</td>\n",
              "      <td>3</td>\n",
              "      <td>👍무조건깔끔한곳은여기가짱이쥬❗</td>\n",
              "      <td>원룸</td>\n",
              "      <td>서울시 마포구 망원동</td>\n",
              "      <td>3</td>\n",
              "      <td>True</td>\n",
              "    </tr>\n",
              "    <tr>\n",
              "      <th>40</th>\n",
              "      <td>31483882</td>\n",
              "      <td>월세</td>\n",
              "      <td>2000</td>\n",
              "      <td>50</td>\n",
              "      <td>36.36</td>\n",
              "      <td>3</td>\n",
              "      <td>3</td>\n",
              "      <td>망원동 한강변 조용한 주택가 투룸</td>\n",
              "      <td>빌라</td>\n",
              "      <td>서울시 마포구 망원동</td>\n",
              "      <td>1</td>\n",
              "      <td>True</td>\n",
              "    </tr>\n",
              "    <tr>\n",
              "      <th>62</th>\n",
              "      <td>31389325</td>\n",
              "      <td>월세</td>\n",
              "      <td>1000</td>\n",
              "      <td>50</td>\n",
              "      <td>45.00</td>\n",
              "      <td>3</td>\n",
              "      <td>반지하</td>\n",
              "      <td>🟥🟨🟩 망원동 깔끔한 가성비 지층 투룸</td>\n",
              "      <td>빌라</td>\n",
              "      <td>서울시 마포구 망원동</td>\n",
              "      <td>1.5</td>\n",
              "      <td>False</td>\n",
              "    </tr>\n",
              "    <tr>\n",
              "      <th>63</th>\n",
              "      <td>31416430</td>\n",
              "      <td>월세</td>\n",
              "      <td>1000</td>\n",
              "      <td>50</td>\n",
              "      <td>39.67</td>\n",
              "      <td>3</td>\n",
              "      <td>반지하</td>\n",
              "      <td>🎉망원동 깔끔  투룸🎉🎉</td>\n",
              "      <td>빌라</td>\n",
              "      <td>서울시 마포구 망원동</td>\n",
              "      <td>1.5</td>\n",
              "      <td>True</td>\n",
              "    </tr>\n",
              "    <tr>\n",
              "      <th>64</th>\n",
              "      <td>31150340</td>\n",
              "      <td>월세</td>\n",
              "      <td>1000</td>\n",
              "      <td>50</td>\n",
              "      <td>39.67</td>\n",
              "      <td>2</td>\n",
              "      <td>반지하</td>\n",
              "      <td>망리단길 근처 투룸 월세</td>\n",
              "      <td>빌라</td>\n",
              "      <td>서울시 마포구 망원동</td>\n",
              "      <td>2</td>\n",
              "      <td>False</td>\n",
              "    </tr>\n",
              "    <tr>\n",
              "      <th>69</th>\n",
              "      <td>31191513</td>\n",
              "      <td>월세</td>\n",
              "      <td>1000</td>\n",
              "      <td>35</td>\n",
              "      <td>26.45</td>\n",
              "      <td>3</td>\n",
              "      <td>반지하</td>\n",
              "      <td>🎉망원동 깔끔 분리형 1.5룸🎉🎉</td>\n",
              "      <td>원룸</td>\n",
              "      <td>서울시 마포구 망원동</td>\n",
              "      <td>1</td>\n",
              "      <td>False</td>\n",
              "    </tr>\n",
              "    <tr>\n",
              "      <th>73</th>\n",
              "      <td>31190623</td>\n",
              "      <td>월세</td>\n",
              "      <td>500</td>\n",
              "      <td>40</td>\n",
              "      <td>23.14</td>\n",
              "      <td>3</td>\n",
              "      <td>옥탑방</td>\n",
              "      <td>🎉망원동 분리형 옥탑방🎉🎉</td>\n",
              "      <td>원룸</td>\n",
              "      <td>서울시 마포구 망원동</td>\n",
              "      <td>0</td>\n",
              "      <td>False</td>\n",
              "    </tr>\n",
              "    <tr>\n",
              "      <th>83</th>\n",
              "      <td>31315200</td>\n",
              "      <td>월세</td>\n",
              "      <td>1000</td>\n",
              "      <td>40</td>\n",
              "      <td>26.45</td>\n",
              "      <td>4</td>\n",
              "      <td>옥탑방</td>\n",
              "      <td>⭐⭐망원역5분 ⭐옥탑방⭐저렴한 금액⭐⭐</td>\n",
              "      <td>원룸</td>\n",
              "      <td>서울시 마포구 망원동</td>\n",
              "      <td>3</td>\n",
              "      <td>False</td>\n",
              "    </tr>\n",
              "    <tr>\n",
              "      <th>84</th>\n",
              "      <td>31327147</td>\n",
              "      <td>월세</td>\n",
              "      <td>1000</td>\n",
              "      <td>40</td>\n",
              "      <td>23.14</td>\n",
              "      <td>2</td>\n",
              "      <td>옥탑방</td>\n",
              "      <td>👘망원역2분 분리형 옥탑낭만👘</td>\n",
              "      <td>원룸</td>\n",
              "      <td>서울시 마포구 망원동</td>\n",
              "      <td>3</td>\n",
              "      <td>False</td>\n",
              "    </tr>\n",
              "    <tr>\n",
              "      <th>85</th>\n",
              "      <td>31435830</td>\n",
              "      <td>월세</td>\n",
              "      <td>1000</td>\n",
              "      <td>40</td>\n",
              "      <td>23.14</td>\n",
              "      <td>4</td>\n",
              "      <td>옥탑방</td>\n",
              "      <td>✔망원역✔옥탑단독사용✔깔끔풀옵션✔</td>\n",
              "      <td>원룸</td>\n",
              "      <td>서울시 마포구 망원동</td>\n",
              "      <td>3</td>\n",
              "      <td>False</td>\n",
              "    </tr>\n",
              "    <tr>\n",
              "      <th>103</th>\n",
              "      <td>31472580</td>\n",
              "      <td>월세</td>\n",
              "      <td>1000</td>\n",
              "      <td>35</td>\n",
              "      <td>13.22</td>\n",
              "      <td>4</td>\n",
              "      <td>3</td>\n",
              "      <td>망원역, 망원시장 인근 원룸.</td>\n",
              "      <td>원룸</td>\n",
              "      <td>서울시 마포구 망원동</td>\n",
              "      <td>3</td>\n",
              "      <td>True</td>\n",
              "    </tr>\n",
              "    <tr>\n",
              "      <th>135</th>\n",
              "      <td>31426597</td>\n",
              "      <td>월세</td>\n",
              "      <td>3000</td>\n",
              "      <td>40</td>\n",
              "      <td>16.53</td>\n",
              "      <td>4</td>\n",
              "      <td>4</td>\n",
              "      <td>🧵신축급 여성 안심🧵</td>\n",
              "      <td>원룸</td>\n",
              "      <td>서울시 마포구 망원동</td>\n",
              "      <td>5</td>\n",
              "      <td>False</td>\n",
              "    </tr>\n",
              "  </tbody>\n",
              "</table>\n",
              "</div>\n",
              "      <button class=\"colab-df-convert\" onclick=\"convertToInteractive('df-9cc83b28-b70a-4b3e-a5dc-600c070f6e8a')\"\n",
              "              title=\"Convert this dataframe to an interactive table.\"\n",
              "              style=\"display:none;\">\n",
              "        \n",
              "  <svg xmlns=\"http://www.w3.org/2000/svg\" height=\"24px\"viewBox=\"0 0 24 24\"\n",
              "       width=\"24px\">\n",
              "    <path d=\"M0 0h24v24H0V0z\" fill=\"none\"/>\n",
              "    <path d=\"M18.56 5.44l.94 2.06.94-2.06 2.06-.94-2.06-.94-.94-2.06-.94 2.06-2.06.94zm-11 1L8.5 8.5l.94-2.06 2.06-.94-2.06-.94L8.5 2.5l-.94 2.06-2.06.94zm10 10l.94 2.06.94-2.06 2.06-.94-2.06-.94-.94-2.06-.94 2.06-2.06.94z\"/><path d=\"M17.41 7.96l-1.37-1.37c-.4-.4-.92-.59-1.43-.59-.52 0-1.04.2-1.43.59L10.3 9.45l-7.72 7.72c-.78.78-.78 2.05 0 2.83L4 21.41c.39.39.9.59 1.41.59.51 0 1.02-.2 1.41-.59l7.78-7.78 2.81-2.81c.8-.78.8-2.07 0-2.86zM5.41 20L4 18.59l7.72-7.72 1.47 1.35L5.41 20z\"/>\n",
              "  </svg>\n",
              "      </button>\n",
              "      \n",
              "  <style>\n",
              "    .colab-df-container {\n",
              "      display:flex;\n",
              "      flex-wrap:wrap;\n",
              "      gap: 12px;\n",
              "    }\n",
              "\n",
              "    .colab-df-convert {\n",
              "      background-color: #E8F0FE;\n",
              "      border: none;\n",
              "      border-radius: 50%;\n",
              "      cursor: pointer;\n",
              "      display: none;\n",
              "      fill: #1967D2;\n",
              "      height: 32px;\n",
              "      padding: 0 0 0 0;\n",
              "      width: 32px;\n",
              "    }\n",
              "\n",
              "    .colab-df-convert:hover {\n",
              "      background-color: #E2EBFA;\n",
              "      box-shadow: 0px 1px 2px rgba(60, 64, 67, 0.3), 0px 1px 3px 1px rgba(60, 64, 67, 0.15);\n",
              "      fill: #174EA6;\n",
              "    }\n",
              "\n",
              "    [theme=dark] .colab-df-convert {\n",
              "      background-color: #3B4455;\n",
              "      fill: #D2E3FC;\n",
              "    }\n",
              "\n",
              "    [theme=dark] .colab-df-convert:hover {\n",
              "      background-color: #434B5C;\n",
              "      box-shadow: 0px 1px 3px 1px rgba(0, 0, 0, 0.15);\n",
              "      filter: drop-shadow(0px 1px 2px rgba(0, 0, 0, 0.3));\n",
              "      fill: #FFFFFF;\n",
              "    }\n",
              "  </style>\n",
              "\n",
              "      <script>\n",
              "        const buttonEl =\n",
              "          document.querySelector('#df-9cc83b28-b70a-4b3e-a5dc-600c070f6e8a button.colab-df-convert');\n",
              "        buttonEl.style.display =\n",
              "          google.colab.kernel.accessAllowed ? 'block' : 'none';\n",
              "\n",
              "        async function convertToInteractive(key) {\n",
              "          const element = document.querySelector('#df-9cc83b28-b70a-4b3e-a5dc-600c070f6e8a');\n",
              "          const dataTable =\n",
              "            await google.colab.kernel.invokeFunction('convertToInteractive',\n",
              "                                                     [key], {});\n",
              "          if (!dataTable) return;\n",
              "\n",
              "          const docLinkHtml = 'Like what you see? Visit the ' +\n",
              "            '<a target=\"_blank\" href=https://colab.research.google.com/notebooks/data_table.ipynb>data table notebook</a>'\n",
              "            + ' to learn more about interactive tables.';\n",
              "          element.innerHTML = '';\n",
              "          dataTable['output_type'] = 'display_data';\n",
              "          await google.colab.output.renderOutput(dataTable, element);\n",
              "          const docLink = document.createElement('div');\n",
              "          docLink.innerHTML = docLinkHtml;\n",
              "          element.appendChild(docLink);\n",
              "        }\n",
              "      </script>\n",
              "    </div>\n",
              "  </div>\n",
              "  "
            ]
          },
          "metadata": {},
          "execution_count": 24
        }
      ]
    },
    {
      "cell_type": "code",
      "source": [
        "import time\n",
        "for data in range(3):\n",
        "  print(data)\n",
        "  time.sleep(2) # time.sleep(60*60*24) 요렇게 쓰면 하루에 한번 실행하게 할 수 있지."
      ],
      "metadata": {
        "colab": {
          "base_uri": "https://localhost:8080/"
        },
        "id": "eYgSifcl7fR8",
        "outputId": "f89f1d92-c18f-49e6-a99c-fa8b66c02b8f"
      },
      "execution_count": null,
      "outputs": [
        {
          "output_type": "stream",
          "name": "stdout",
          "text": [
            "0\n",
            "1\n",
            "2\n"
          ]
        }
      ]
    },
    {
      "cell_type": "markdown",
      "source": [
        "## 9. 입출력"
      ],
      "metadata": {
        "id": "Qb_HdyVvv7Fp"
      }
    },
    {
      "cell_type": "code",
      "source": [
        "# io : input output\n",
        "# 메모리에 있는 객체를 HDD 또는 SSD에 저장 및 로드 : RAM > SSD, SSD > RAM\n",
        "# pickle : 입출력 속도가 빠르고 사용이 간편"
      ],
      "metadata": {
        "id": "xc5RNkLif-0t"
      },
      "execution_count": null,
      "outputs": []
    },
    {
      "cell_type": "code",
      "source": [
        "import pickle"
      ],
      "metadata": {
        "id": "825MbX2mgxUq"
      },
      "execution_count": null,
      "outputs": []
    },
    {
      "cell_type": "code",
      "source": [
        "class Echo:\n",
        "    def __init__(self, data):\n",
        "        self.data = data\n",
        "    def disp(self):\n",
        "        print(self.data)\n",
        "echo = Echo(\"kyobo\")\n",
        "echo.disp()"
      ],
      "metadata": {
        "colab": {
          "base_uri": "https://localhost:8080/"
        },
        "id": "mnhwCkrUf-wS",
        "outputId": "a86b5548-cfb2-4209-c469-3a98d26a1a06"
      },
      "execution_count": null,
      "outputs": [
        {
          "output_type": "stream",
          "name": "stdout",
          "text": [
            "kyobo\n"
          ]
        }
      ]
    },
    {
      "cell_type": "code",
      "source": [
        "# RAM > HDD(SSD)\n",
        "with open(\"kecho.pkl\", \"wb\") as file: # write binary 2진형태로 쓰겠다\n",
        "    pickle.dump(echo, file)"
      ],
      "metadata": {
        "id": "PBzNwfp-f-sc"
      },
      "execution_count": null,
      "outputs": []
    },
    {
      "cell_type": "code",
      "source": [
        "# HDD(SSD) > RAM\n",
        "with open(\"kecho.pkl\", \"rb\") as file:\n",
        "    load_obj = pickle.load(file)"
      ],
      "metadata": {
        "id": "qqzPCE6Bf-Xi"
      },
      "execution_count": null,
      "outputs": []
    },
    {
      "cell_type": "code",
      "source": [
        "echo.disp()\n",
        "load_obj.disp()"
      ],
      "metadata": {
        "colab": {
          "base_uri": "https://localhost:8080/"
        },
        "id": "vnwDJdD6YbIA",
        "outputId": "fb703a23-daa8-49d5-c966-981e7d0a095a"
      },
      "execution_count": null,
      "outputs": [
        {
          "output_type": "stream",
          "name": "stdout",
          "text": [
            "kyobo\n",
            "kyobo\n"
          ]
        }
      ]
    },
    {
      "cell_type": "code",
      "source": [
        "# AI 객체 : 문장 > 카테고리 분류 : model.pkl 저장"
      ],
      "metadata": {
        "id": "Dvc1k3jCiswP"
      },
      "execution_count": null,
      "outputs": []
    },
    {
      "cell_type": "code",
      "source": [
        "# 100:\"정치\", 101:\"경제\", 102:\"사회\",\n",
        "# 103:\"생활/문화\", 104:\"세계\", 105:\"IT/과학\""
      ],
      "metadata": {
        "id": "_n9-2mUhisgA"
      },
      "execution_count": null,
      "outputs": []
    },
    {
      "cell_type": "code",
      "source": [
        "# HDD > RAM\n",
        "with open(\"model.pkl\", \"rb\") as file:\n",
        "    model = pickle.load(file)"
      ],
      "metadata": {
        "id": "xsdNsAviisrB"
      },
      "execution_count": null,
      "outputs": []
    },
    {
      "cell_type": "code",
      "source": [
        "text = \"요즘 주식 환율 예칙 불가능\"\n",
        "model.predict([text])"
      ],
      "metadata": {
        "colab": {
          "base_uri": "https://localhost:8080/"
        },
        "id": "4R-k4CQKo92P",
        "outputId": "463407f0-fdbd-4d92-b7e7-127529a00b57"
      },
      "execution_count": null,
      "outputs": [
        {
          "output_type": "execute_result",
          "data": {
            "text/plain": [
              "array([101])"
            ]
          },
          "metadata": {},
          "execution_count": 221
        }
      ]
    },
    {
      "cell_type": "code",
      "source": [
        "text = \"요즘 주식 환율 예측 불가능합니다.\"\n",
        "model.predict([text])[0],\\\n",
        "model.predict_proba([text])[0]"
      ],
      "metadata": {
        "colab": {
          "base_uri": "https://localhost:8080/"
        },
        "id": "Fps20Ge6isjt",
        "outputId": "ba3a1e90-4185-4574-ddd3-27dd2b3ee92f"
      },
      "execution_count": null,
      "outputs": [
        {
          "output_type": "execute_result",
          "data": {
            "text/plain": [
              "(101, array([0.02314564, 0.8712127 , 0.00155211, 0.00649604, 0.0047405 ,\n",
              "        0.092853  ]))"
            ]
          },
          "metadata": {},
          "execution_count": 222
        }
      ]
    },
    {
      "cell_type": "markdown",
      "source": [
        "## 10. 예외처리"
      ],
      "metadata": {
        "id": "hESzdInC-o2f"
      }
    },
    {
      "cell_type": "code",
      "source": [
        "# try, except, finally\n",
        "# 코드 실행중 에러가 발생했는때 처리하는 문법"
      ],
      "metadata": {
        "id": "xr1eAn2qsdsz"
      },
      "execution_count": null,
      "outputs": []
    },
    {
      "cell_type": "code",
      "source": [
        "try:\n",
        "  print(1/0)\n",
        "except Exception as e:\n",
        "  print(\"Error:\",e)\n",
        "finally: # try에서 error 발생하든 안하든 실행됨\n",
        "  print(\"disconnect!!!\")\n",
        "print(\"Done!!!\")"
      ],
      "metadata": {
        "colab": {
          "base_uri": "https://localhost:8080/"
        },
        "id": "GjtiF0U0sfBv",
        "outputId": "14e8d2aa-eb8c-41eb-c0f1-42869560efbc"
      },
      "execution_count": null,
      "outputs": [
        {
          "output_type": "stream",
          "name": "stdout",
          "text": [
            "Error: division by zero\n",
            "disconnect!!!\n",
            "Done!!!\n"
          ]
        }
      ]
    },
    {
      "cell_type": "code",
      "source": [
        "# raise : 강제로 에러를 발생\n",
        "# 함수를 호출할 때 아규먼트로 10이하의 숫자를 설정하면 LowNumber 에러 발생"
      ],
      "metadata": {
        "id": "SxVe_pEpDlfo"
      },
      "execution_count": null,
      "outputs": []
    },
    {
      "cell_type": "code",
      "source": [
        "# Err 만들어보기\n",
        "class LowNumber(Exception): #Exception 넣어준건 상속인데 안배웠다 이번에..\n",
        "  def __str__(self):\n",
        "    return \"Number grater than 10!\" #에러메시지"
      ],
      "metadata": {
        "id": "CRJ72tw0EFSP"
      },
      "execution_count": null,
      "outputs": []
    },
    {
      "cell_type": "code",
      "source": [
        "def input_number(number):\n",
        "  if number <= 10:\n",
        "    raise LowNumber()\n",
        "  print(number)"
      ],
      "metadata": {
        "id": "KCgvGKKYEdAV"
      },
      "execution_count": null,
      "outputs": []
    },
    {
      "cell_type": "code",
      "source": [
        "# 에러발생\n",
        "input_number(1)"
      ],
      "metadata": {
        "colab": {
          "base_uri": "https://localhost:8080/",
          "height": 270
        },
        "id": "l1hkDi62EtpB",
        "outputId": "444ba580-bdb3-4c02-e844-1fc683cd402a"
      },
      "execution_count": null,
      "outputs": [
        {
          "output_type": "error",
          "ename": "LowNumber",
          "evalue": "ignored",
          "traceback": [
            "\u001b[0;31m---------------------------------------------------------------------------\u001b[0m",
            "\u001b[0;31mLowNumber\u001b[0m                                 Traceback (most recent call last)",
            "\u001b[0;32m<ipython-input-143-160461472be6>\u001b[0m in \u001b[0;36m<module>\u001b[0;34m()\u001b[0m\n\u001b[0;32m----> 1\u001b[0;31m \u001b[0minput_number\u001b[0m\u001b[0;34m(\u001b[0m\u001b[0;36m1\u001b[0m\u001b[0;34m)\u001b[0m\u001b[0;34m\u001b[0m\u001b[0;34m\u001b[0m\u001b[0m\n\u001b[0m",
            "\u001b[0;32m<ipython-input-142-f03df575ee19>\u001b[0m in \u001b[0;36minput_number\u001b[0;34m(number)\u001b[0m\n\u001b[1;32m      1\u001b[0m \u001b[0;32mdef\u001b[0m \u001b[0minput_number\u001b[0m\u001b[0;34m(\u001b[0m\u001b[0mnumber\u001b[0m\u001b[0;34m)\u001b[0m\u001b[0;34m:\u001b[0m\u001b[0;34m\u001b[0m\u001b[0;34m\u001b[0m\u001b[0m\n\u001b[1;32m      2\u001b[0m   \u001b[0;32mif\u001b[0m \u001b[0mnumber\u001b[0m \u001b[0;34m<=\u001b[0m \u001b[0;36m10\u001b[0m\u001b[0;34m:\u001b[0m\u001b[0;34m\u001b[0m\u001b[0;34m\u001b[0m\u001b[0m\n\u001b[0;32m----> 3\u001b[0;31m     \u001b[0;32mraise\u001b[0m \u001b[0mLowNumber\u001b[0m\u001b[0;34m(\u001b[0m\u001b[0;34m)\u001b[0m\u001b[0;34m\u001b[0m\u001b[0;34m\u001b[0m\u001b[0m\n\u001b[0m\u001b[1;32m      4\u001b[0m   \u001b[0mprint\u001b[0m\u001b[0;34m(\u001b[0m\u001b[0mnumber\u001b[0m\u001b[0;34m)\u001b[0m\u001b[0;34m\u001b[0m\u001b[0;34m\u001b[0m\u001b[0m\n",
            "\u001b[0;31mLowNumber\u001b[0m: Number grater than 10!"
          ]
        }
      ]
    },
    {
      "cell_type": "markdown",
      "source": [
        "-----\n",
        "## Python Summary"
      ],
      "metadata": {
        "id": "GYtwMI2uwXcu"
      }
    },
    {
      "cell_type": "code",
      "source": [
        "# 1. 변수선언 : 식별자규칙\n",
        "# 2. 데이터타입 : int, float, bool, str, list, tuple, dict, set\n",
        "#   - masking : [] : [idx], [start:end], [start:end:stride]\n",
        "# 3. 연산자 : 산술, 할당, 비교, 논리, 멤버\n",
        "# 4. 조건문 : if, elif, else\n",
        "# 5. 반복문 : while, for in, break, continue, range()\n",
        "# 6. 함수 : def, return, lambda\n",
        "# 7. 클래스 : class, self\n",
        "# 8. 모듈, 패키지 : import, from, as\n",
        "# 9. 입출력 : pickle\n",
        "# 10. 예외처리 : try, excelt, finally, raise"
      ],
      "metadata": {
        "id": "CSc72-ocwrIT"
      },
      "execution_count": null,
      "outputs": []
    }
  ]
}