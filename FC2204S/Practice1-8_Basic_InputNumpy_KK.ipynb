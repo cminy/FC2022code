{
 "cells": [
  {
   "cell_type": "markdown",
   "metadata": {},
   "source": [
    "# **파이썬 데이터분석 특화 데이터 형태: [Numpy](https://numpy.org/doc/stable/index.html)**\n",
    "\n",
    "[![Open in Colab](http://colab.research.google.com/assets/colab-badge.svg)](https://colab.research.google.com/github/cheonbi/ProgrammingPython/blob/main/Practice1-8_Basic_InputNumpy_KK.ipynb)\n",
    "\n",
    "- **Numpy:** Numerical Python의 약자로 수치를 다루는 분야를 위한 파이썬 패키지\n",
    "\n",
    "> - 데이터분석 패키지 중 하나로 **고차원 데이터 연산(선형대수학)**과 **컴퓨팅 연산(자료구조)**에 특화\n",
    ">> - 대표적으로 사용되는 표준 수학 함수기능 지원\n",
    ">> - 저차원 및 고차원 데이터 입출력 및 산술연산\n",
    ">>> - Array 또는 Matrix와 같은 자료구조 수치를 다루는 Python 데이터형태\n",
    ">>> - **Array:** numpy.array함수로 변환된 다차원의 데이터 형태(모든 값은 같은 자료형)\n"
   ]
  },
  {
   "cell_type": "markdown",
   "metadata": {},
   "source": [
    "## 설치 및 호출"
   ]
  },
  {
   "cell_type": "code",
   "execution_count": 1,
   "metadata": {
    "ExecuteTime": {
     "end_time": "2021-11-18T05:09:52.717986Z",
     "start_time": "2021-11-18T05:09:50.260532Z"
    }
   },
   "outputs": [
    {
     "name": "stdout",
     "output_type": "stream",
     "text": [
      "Requirement already satisfied: numpy in /Library/Frameworks/Python.framework/Versions/3.7/lib/python3.7/site-packages (1.21.5)\n",
      "\u001b[33mWARNING: You are using pip version 22.0.3; however, version 22.0.4 is available.\n",
      "You should consider upgrading via the '/Library/Frameworks/Python.framework/Versions/3.7/bin/python3 -m pip install --upgrade pip' command.\u001b[0m\u001b[33m\n",
      "\u001b[0m"
     ]
    }
   ],
   "source": [
    "# 주피터 노트북에서 Numpy 설치\n",
    "# Anaconda 설치하면 기 설치되어 있어서 진행할 필요 없음\n",
    "!pip install numpy"
   ]
  },
  {
   "cell_type": "code",
   "execution_count": 2,
   "metadata": {
    "ExecuteTime": {
     "end_time": "2021-11-18T05:09:52.822679Z",
     "start_time": "2021-11-18T05:09:52.718957Z"
    }
   },
   "outputs": [],
   "source": [
    "# Numpy 사용을 위해 패키지 불러오기\n",
    "# import 패키지명 as 닉네임\n",
    "# 관례적으로 np라는 약자를 많이 사용\n",
    "import numpy as np"
   ]
  },
  {
   "cell_type": "markdown",
   "metadata": {},
   "source": [
    "## List vs Array\n",
    "\n",
    "- **List를 사용해서 다차원 데이터를 구현할 수 있는데 Numpy ndarray로 다차원을 다루는 이유는?**\n",
    "\n",
    "> - **유사점:** List의 다차원이나 Numpy ndarray의 다차원 데이터의 출력은 (거의)같음"
   ]
  },
  {
   "cell_type": "code",
   "execution_count": 3,
   "metadata": {
    "ExecuteTime": {
     "end_time": "2021-11-18T05:09:52.837638Z",
     "start_time": "2021-11-18T05:09:52.823677Z"
    }
   },
   "outputs": [],
   "source": [
    "import numpy as np\n",
    "a = [1,2,3,4,5]\n",
    "b = np.array(a)"
   ]
  },
  {
   "cell_type": "code",
   "execution_count": 4,
   "metadata": {
    "ExecuteTime": {
     "end_time": "2021-11-18T05:09:52.852599Z",
     "start_time": "2021-11-18T05:09:52.838636Z"
    }
   },
   "outputs": [
    {
     "name": "stdout",
     "output_type": "stream",
     "text": [
      "[1, 2, 3, 4, 5] [1 2 3 4 5]\n"
     ]
    }
   ],
   "source": [
    "print(a, b)"
   ]
  },
  {
   "cell_type": "code",
   "execution_count": 5,
   "metadata": {
    "ExecuteTime": {
     "end_time": "2021-11-18T05:09:52.867559Z",
     "start_time": "2021-11-18T05:09:52.853596Z"
    }
   },
   "outputs": [
    {
     "data": {
      "text/plain": [
       "[1, 2, 3, 4, 5]"
      ]
     },
     "execution_count": 5,
     "metadata": {},
     "output_type": "execute_result"
    }
   ],
   "source": [
    "a"
   ]
  },
  {
   "cell_type": "code",
   "execution_count": 6,
   "metadata": {
    "ExecuteTime": {
     "end_time": "2021-11-18T05:09:52.882519Z",
     "start_time": "2021-11-18T05:09:52.868557Z"
    }
   },
   "outputs": [
    {
     "data": {
      "text/plain": [
       "array([1, 2, 3, 4, 5])"
      ]
     },
     "execution_count": 6,
     "metadata": {},
     "output_type": "execute_result"
    }
   ],
   "source": [
    "b"
   ]
  },
  {
   "cell_type": "code",
   "execution_count": 7,
   "metadata": {
    "ExecuteTime": {
     "end_time": "2021-11-18T05:09:52.897479Z",
     "start_time": "2021-11-18T05:09:52.884520Z"
    }
   },
   "outputs": [
    {
     "name": "stdout",
     "output_type": "stream",
     "text": [
      "<class 'list'> <class 'numpy.ndarray'>\n"
     ]
    }
   ],
   "source": [
    "print(type(a), type(b))"
   ]
  },
  {
   "cell_type": "markdown",
   "metadata": {},
   "source": [
    "> - **차이점:** 고차원이거나 빅데이터의 경우 Numpy array 데이터로 저장된 경우 연산에 유리함\n",
    "| List | Array |\n",
    "|:---:|:---:|\n",
    "| 여러 Type의 값을 가질 수 있음 | 동일한 Type의 값만 가질 수 있음 |\n",
    "| 메모리를 많이 점유하고 계산 속도가 느림 | 메모리를 최적으로 쓰고 계산 속도 향상 |\n",
    "| 각 값마다 연산 필요 -> 반복문 필요 | 벡터화(값의 묶음)로 연산 가능 -> 반복문 불필요 |\n",
    ">>\n",
    ">>\n",
    ">> - array를 사용하면 list에서 사용하지 못했던 콤마(,)기반으로 인덱싱과 슬라이싱 가능\n",
    ">> - array를 사용하면 정수 또는 불리언 형식으로 값을 선택가능\n"
   ]
  },
  {
   "cell_type": "code",
   "execution_count": 8,
   "metadata": {
    "ExecuteTime": {
     "end_time": "2021-11-18T05:09:52.912439Z",
     "start_time": "2021-11-18T05:09:52.898477Z"
    }
   },
   "outputs": [
    {
     "data": {
      "text/plain": [
       "[0, 1, 2, 3, 4, 5, 6, 7, 8, 9, 0, 1, 2, 3, 4, 5, 6, 7, 8, 9]"
      ]
     },
     "execution_count": 8,
     "metadata": {},
     "output_type": "execute_result"
    }
   ],
   "source": [
    "# List 예시\n",
    "a = [0, 1, 2, 3, 4, 5, 6, 7, 8, 9]*2\n",
    "a"
   ]
  },
  {
   "cell_type": "code",
   "execution_count": 9,
   "metadata": {
    "ExecuteTime": {
     "end_time": "2021-11-18T05:09:52.927399Z",
     "start_time": "2021-11-18T05:09:52.913437Z"
    }
   },
   "outputs": [
    {
     "data": {
      "text/plain": [
       "array([ 0,  2,  4,  6,  8, 10, 12, 14, 16, 18])"
      ]
     },
     "execution_count": 9,
     "metadata": {},
     "output_type": "execute_result"
    }
   ],
   "source": [
    "# Array 예시\n",
    "a = np.array([0, 1, 2, 3, 4, 5, 6, 7, 8, 9])*2\n",
    "a"
   ]
  },
  {
   "cell_type": "code",
   "execution_count": 10,
   "metadata": {
    "ExecuteTime": {
     "end_time": "2021-11-18T05:09:52.942359Z",
     "start_time": "2021-11-18T05:09:52.928397Z"
    }
   },
   "outputs": [
    {
     "data": {
      "text/plain": [
       "([0, 1, 2], '/', [[0, 1, 2], [3, 4, 5]], '/', [1, 2])"
      ]
     },
     "execution_count": 10,
     "metadata": {},
     "output_type": "execute_result"
    }
   ],
   "source": [
    "# List 예시\n",
    "a = [[0, 1, 2], [3, 4, 5]]\n",
    "a[0], \"/\", a[0:], \"/\", a[0][1:]"
   ]
  },
  {
   "cell_type": "code",
   "execution_count": 11,
   "metadata": {
    "ExecuteTime": {
     "end_time": "2021-11-18T05:09:52.957319Z",
     "start_time": "2021-11-18T05:09:52.943358Z"
    }
   },
   "outputs": [
    {
     "data": {
      "text/plain": [
       "array([1, 2])"
      ]
     },
     "execution_count": 11,
     "metadata": {},
     "output_type": "execute_result"
    }
   ],
   "source": [
    "# Array 예시\n",
    "a = np.array([[0, 1, 2], [3, 4, 5]])\n",
    "a[0,1:]"
   ]
  },
  {
   "cell_type": "code",
   "execution_count": 248,
   "metadata": {
    "ExecuteTime": {
     "end_time": "2021-11-18T05:09:52.972279Z",
     "start_time": "2021-11-18T05:09:52.958316Z"
    }
   },
   "outputs": [
    {
     "data": {
      "text/plain": [
       "1"
      ]
     },
     "execution_count": 248,
     "metadata": {},
     "output_type": "execute_result"
    }
   ],
   "source": [
    "# List 예시\n",
    "a = [0, 1, 2, 3, 4, 5, 6, 7, 8, 9]\n",
    "a[True]"
   ]
  },
  {
   "cell_type": "code",
   "execution_count": 249,
   "metadata": {
    "ExecuteTime": {
     "end_time": "2021-11-18T05:09:52.987238Z",
     "start_time": "2021-11-18T05:09:52.973276Z"
    }
   },
   "outputs": [
    {
     "data": {
      "text/plain": [
       "(array([[0, 1, 2, 3, 4, 5, 6, 7, 8, 9]]),\n",
       " array([[[0, 1, 2],\n",
       "         [3, 4, 5]]]))"
      ]
     },
     "execution_count": 249,
     "metadata": {},
     "output_type": "execute_result"
    }
   ],
   "source": [
    "# Array 예시\n",
    "a = np.array([0, 1, 2, 3, 4, 5, 6, 7, 8, 9])\n",
    "b = np.array([[0, 1, 2], [3, 4, 5]])\n",
    "a[True], b[True]"
   ]
  },
  {
   "cell_type": "code",
   "execution_count": 14,
   "metadata": {
    "ExecuteTime": {
     "end_time": "2021-11-18T05:09:53.002200Z",
     "start_time": "2021-11-18T05:09:52.988236Z"
    }
   },
   "outputs": [],
   "source": [
    "# # List 예시\n",
    "# a = [0, 1, 2, 3, 4, 5, 6, 7, 8, 9]\n",
    "# a[[True, False, True, False, True, False, True, False, True, False]]"
   ]
  },
  {
   "cell_type": "markdown",
   "metadata": {},
   "source": [
    "```python\n",
    "---------------------------------------------------------------------------\n",
    "TypeError                                 Traceback (most recent call last)\n",
    "<ipython-input-45-a0b1051558de> in <module>\n",
    "----> 1 a[[True, False, True, False, True, False, True, False, True, False]]\n",
    "\n",
    "TypeError: list indices must be integers or slices, not list\n",
    "```"
   ]
  },
  {
   "cell_type": "code",
   "execution_count": 15,
   "metadata": {
    "ExecuteTime": {
     "end_time": "2021-11-18T05:09:53.017159Z",
     "start_time": "2021-11-18T05:09:53.004194Z"
    }
   },
   "outputs": [
    {
     "data": {
      "text/plain": [
       "array([0, 2, 4, 6, 8])"
      ]
     },
     "execution_count": 15,
     "metadata": {},
     "output_type": "execute_result"
    }
   ],
   "source": [
    "# Array 예시\n",
    "a = np.array([0, 1, 2, 3, 4, 5, 6, 7, 8, 9])\n",
    "a[[True, False, True, False, True, False, True, False, True, False]]"
   ]
  },
  {
   "cell_type": "markdown",
   "metadata": {},
   "source": [
    "- **정리:**\n",
    "> - 브로드캐스팅 기능으로 형태가 다른 저차원과 고차원간 연산 가능\n",
    "> - 행렬(저차원 및 고차원)을 다루는 선형대수 및 변환기능 지원\n",
    "> - 빅데이터 연산에 효율성이 높음\n",
    "> - 다른 프로그래밍 언어에서 존재하지 않음"
   ]
  },
  {
   "cell_type": "markdown",
   "metadata": {},
   "source": [
    "## Numpy Array(입출력)"
   ]
  },
  {
   "cell_type": "markdown",
   "metadata": {},
   "source": [
    "### Array 값 생성하기\n",
    "\n",
    "> - numpy 연산의 기본이 되는 데이터 구조로 Array 또는 배열이라고 함     \n",
    "> - 리스트보다 간편하게 만들 수 있으며 연산이 빠른 장점  \n",
    "> - 같은 type의 데이터만 저장 가능\n",
    "> - 다른 차원간 연산인 브로드캐스팅 연산 지원  \n",
    "> - array 또한 numpy의 기본 함수로서 생성 가능\n",
    "> - **사용법:**\n",
    ">> **`np.array(배열변환 대상 데이터)`** # 리스트와 같은 순서가 있는 데이터를 받아 Numpy 배열 데이터 생성\n",
    ">> **`np.arange(start, end, step_forward)`**    \n",
    ">> **`np.linspace(start, end, number)`**    "
   ]
  },
  {
   "cell_type": "code",
   "execution_count": 16,
   "metadata": {
    "ExecuteTime": {
     "end_time": "2021-11-18T05:09:53.032119Z",
     "start_time": "2021-11-18T05:09:53.018158Z"
    },
    "slideshow": {
     "slide_type": "subslide"
    }
   },
   "outputs": [],
   "source": [
    "# 기존 리스트 데이터 구조를 array로 변환\n",
    "test_list = [1,2,3,4]\n",
    "test_array = np.array(test_list)"
   ]
  },
  {
   "cell_type": "code",
   "execution_count": 17,
   "metadata": {
    "ExecuteTime": {
     "end_time": "2021-11-18T05:09:53.047079Z",
     "start_time": "2021-11-18T05:09:53.033117Z"
    }
   },
   "outputs": [
    {
     "data": {
      "text/plain": [
       "array([1, 2, 3, 4])"
      ]
     },
     "execution_count": 17,
     "metadata": {},
     "output_type": "execute_result"
    }
   ],
   "source": [
    "# array 생성 확인\n",
    "test_array"
   ]
  },
  {
   "cell_type": "code",
   "execution_count": 18,
   "metadata": {
    "ExecuteTime": {
     "end_time": "2021-11-18T05:09:53.062038Z",
     "start_time": "2021-11-18T05:09:53.048076Z"
    }
   },
   "outputs": [],
   "source": [
    "# 같은 타입의 데이터만 들어가는지 확인\n",
    "# 문자열이 들어가면 가장 큰 범주의 데이터타입으로 저장\n",
    "test_list = [1, 2, 3.14]"
   ]
  },
  {
   "cell_type": "code",
   "execution_count": 19,
   "metadata": {
    "ExecuteTime": {
     "end_time": "2021-11-18T05:09:53.076999Z",
     "start_time": "2021-11-18T05:09:53.063037Z"
    }
   },
   "outputs": [
    {
     "data": {
      "text/plain": [
       "array([1.  , 2.  , 3.14])"
      ]
     },
     "execution_count": 19,
     "metadata": {},
     "output_type": "execute_result"
    }
   ],
   "source": [
    "np.array(test_list)"
   ]
  },
  {
   "cell_type": "code",
   "execution_count": 20,
   "metadata": {
    "ExecuteTime": {
     "end_time": "2021-11-18T05:09:53.091958Z",
     "start_time": "2021-11-18T05:09:53.077996Z"
    },
    "slideshow": {
     "slide_type": "subslide"
    }
   },
   "outputs": [
    {
     "data": {
      "text/plain": [
       "array([ 1,  2,  3,  4,  5,  6,  7,  8,  9, 10])"
      ]
     },
     "execution_count": 20,
     "metadata": {},
     "output_type": "execute_result"
    }
   ],
   "source": [
    "# np.arange 함수로 생성\n",
    "np.arange(1, 11)"
   ]
  },
  {
   "cell_type": "code",
   "execution_count": 21,
   "metadata": {
    "ExecuteTime": {
     "end_time": "2021-11-18T05:09:53.106919Z",
     "start_time": "2021-11-18T05:09:53.092958Z"
    }
   },
   "outputs": [
    {
     "data": {
      "text/plain": [
       "array([ 1, 11, 21, 31, 41, 51, 61, 71, 81, 91])"
      ]
     },
     "execution_count": 21,
     "metadata": {},
     "output_type": "execute_result"
    }
   ],
   "source": [
    "# 범위설정\n",
    "# (시작포인트, 마지막포인트 + 1, 스텝)\n",
    "# range() 함수와 동일하게 작동함\n",
    "# for i in range(1, 100, 10):\n",
    "#     print(i)\n",
    "np.arange(1, 100, 10)"
   ]
  },
  {
   "cell_type": "code",
   "execution_count": 22,
   "metadata": {
    "ExecuteTime": {
     "end_time": "2021-11-18T05:09:53.121879Z",
     "start_time": "2021-11-18T05:09:53.109912Z"
    }
   },
   "outputs": [
    {
     "data": {
      "text/plain": [
       "array([ 0.        ,  0.20408163,  0.40816327,  0.6122449 ,  0.81632653,\n",
       "        1.02040816,  1.2244898 ,  1.42857143,  1.63265306,  1.83673469,\n",
       "        2.04081633,  2.24489796,  2.44897959,  2.65306122,  2.85714286,\n",
       "        3.06122449,  3.26530612,  3.46938776,  3.67346939,  3.87755102,\n",
       "        4.08163265,  4.28571429,  4.48979592,  4.69387755,  4.89795918,\n",
       "        5.10204082,  5.30612245,  5.51020408,  5.71428571,  5.91836735,\n",
       "        6.12244898,  6.32653061,  6.53061224,  6.73469388,  6.93877551,\n",
       "        7.14285714,  7.34693878,  7.55102041,  7.75510204,  7.95918367,\n",
       "        8.16326531,  8.36734694,  8.57142857,  8.7755102 ,  8.97959184,\n",
       "        9.18367347,  9.3877551 ,  9.59183673,  9.79591837, 10.        ])"
      ]
     },
     "execution_count": 22,
     "metadata": {},
     "output_type": "execute_result"
    }
   ],
   "source": [
    "# 범위 데이터 생성 (시작포인트, 마지막포인트, 데이터갯수)\n",
    "np.linspace(0, 10, 50)"
   ]
  },
  {
   "cell_type": "markdown",
   "metadata": {},
   "source": [
    "- 특수한 형태의 array도 numpy로 생성 가능\n",
    "- 입력 데이터는 정수, 리스트, 튜플만 입력 가능\n",
    "- **ndarray:** n-dimensional array\n",
    "\n",
    "| 함수 | 내용 |\n",
    "|------------|-----------------------------------------------------------------------------------------------------|\n",
    "| np.array(데이터) | 입력된 데이터를 ndarray로 변환. dtype을 명시하면 자료형을 설정할 수 있다 |\n",
    "| np.asarray(데이터) | 입력 데이터를 ndarray로 변환하나 이미 ndarray일 경우에는 새로 메모리에 ndarray가 생성되지는 않는다 |\n",
    "| np.arange(데이터) | range 함수와 유사하나 ndarray를 반환 |\n",
    "| np.ones(데이터) | 전달인자로 전달한 dtype과 모양(행,렬)으로 배열을 생성하고 모든 내용을 1로 초기화하여 ndarray를 반환 |\n",
    "| np.zeros(데이터) | ones와 같으나 초기값이 0이다 |\n",
    "| np.empty(데이터) | ones와 zeros와 비슷하나 값을 초기화하지는 않는다 |\n"
   ]
  },
  {
   "cell_type": "code",
   "execution_count": 23,
   "metadata": {
    "ExecuteTime": {
     "end_time": "2021-11-18T05:09:53.136839Z",
     "start_time": "2021-11-18T05:09:53.123874Z"
    }
   },
   "outputs": [
    {
     "data": {
      "text/plain": [
       "array([1, 2, 3])"
      ]
     },
     "execution_count": 23,
     "metadata": {},
     "output_type": "execute_result"
    }
   ],
   "source": [
    "# 벡터 생성\n",
    "import numpy as np\n",
    "\n",
    "a1d = np.array([1,2,3])\n",
    "a1d"
   ]
  },
  {
   "cell_type": "code",
   "execution_count": 24,
   "metadata": {
    "ExecuteTime": {
     "end_time": "2021-11-18T05:09:53.151800Z",
     "start_time": "2021-11-18T05:09:53.137837Z"
    }
   },
   "outputs": [
    {
     "data": {
      "text/plain": [
       "numpy.ndarray"
      ]
     },
     "execution_count": 24,
     "metadata": {},
     "output_type": "execute_result"
    }
   ],
   "source": [
    "# 배열 형태 확인\n",
    "type(a1d)"
   ]
  },
  {
   "cell_type": "code",
   "execution_count": 25,
   "metadata": {
    "ExecuteTime": {
     "end_time": "2021-11-18T05:09:53.167757Z",
     "start_time": "2021-11-18T05:09:53.152799Z"
    }
   },
   "outputs": [
    {
     "data": {
      "text/plain": [
       "dtype('int64')"
      ]
     },
     "execution_count": 25,
     "metadata": {},
     "output_type": "execute_result"
    }
   ],
   "source": [
    "# 배열 내부 값들의 형태 확인\n",
    "a1d.dtype"
   ]
  },
  {
   "cell_type": "code",
   "execution_count": 26,
   "metadata": {
    "ExecuteTime": {
     "end_time": "2021-11-18T05:09:53.182716Z",
     "start_time": "2021-11-18T05:09:53.168754Z"
    }
   },
   "outputs": [
    {
     "data": {
      "text/plain": [
       "array([[1, 2, 3],\n",
       "       [4, 5, 6]])"
      ]
     },
     "execution_count": 26,
     "metadata": {},
     "output_type": "execute_result"
    }
   ],
   "source": [
    "# 2차원 배열(행렬) 생성\n",
    "b2d = np.array([[1,2,3], [4,5,6]]) # 각 배열의 길이는 동일해야 함\n",
    "b2d"
   ]
  },
  {
   "cell_type": "code",
   "execution_count": 27,
   "metadata": {
    "ExecuteTime": {
     "end_time": "2021-11-18T05:09:53.197676Z",
     "start_time": "2021-11-18T05:09:53.183714Z"
    }
   },
   "outputs": [
    {
     "data": {
      "text/plain": [
       "numpy.ndarray"
      ]
     },
     "execution_count": 27,
     "metadata": {},
     "output_type": "execute_result"
    }
   ],
   "source": [
    "# 배열 형태 확인\n",
    "type(b2d)"
   ]
  },
  {
   "cell_type": "code",
   "execution_count": 28,
   "metadata": {
    "ExecuteTime": {
     "end_time": "2021-11-18T05:09:53.212636Z",
     "start_time": "2021-11-18T05:09:53.198674Z"
    }
   },
   "outputs": [
    {
     "data": {
      "text/plain": [
       "(2, 3)"
      ]
     },
     "execution_count": 28,
     "metadata": {},
     "output_type": "execute_result"
    }
   ],
   "source": [
    "# 구조 확인\n",
    "b2d.shape"
   ]
  },
  {
   "cell_type": "code",
   "execution_count": 29,
   "metadata": {
    "ExecuteTime": {
     "end_time": "2021-11-18T05:09:53.227596Z",
     "start_time": "2021-11-18T05:09:53.213634Z"
    }
   },
   "outputs": [
    {
     "data": {
      "text/plain": [
       "array([[[1, 2, 3],\n",
       "        [4, 5, 6]]])"
      ]
     },
     "execution_count": 29,
     "metadata": {},
     "output_type": "execute_result"
    }
   ],
   "source": [
    "c3d = np.array([[[1,2,3], [4,5,6]]])\n",
    "c3d"
   ]
  },
  {
   "cell_type": "code",
   "execution_count": 30,
   "metadata": {
    "ExecuteTime": {
     "end_time": "2021-11-18T05:09:53.242556Z",
     "start_time": "2021-11-18T05:09:53.228594Z"
    }
   },
   "outputs": [
    {
     "data": {
      "text/plain": [
       "(1, 2, 3)"
      ]
     },
     "execution_count": 30,
     "metadata": {},
     "output_type": "execute_result"
    }
   ],
   "source": [
    "# 구조 확인\n",
    "c3d.shape"
   ]
  },
  {
   "cell_type": "code",
   "execution_count": 31,
   "metadata": {
    "ExecuteTime": {
     "end_time": "2021-11-18T05:09:53.257516Z",
     "start_time": "2021-11-18T05:09:53.243554Z"
    }
   },
   "outputs": [
    {
     "data": {
      "text/plain": [
       "array([[[ 1,  2,  3],\n",
       "        [ 4,  5,  6]],\n",
       "\n",
       "       [[10, 20, 30],\n",
       "        [40, 50, 60]]])"
      ]
     },
     "execution_count": 31,
     "metadata": {},
     "output_type": "execute_result"
    }
   ],
   "source": [
    "c3d = np.array([[[1,2,3], [4,5,6]],\n",
    "                [[10,20,30], [40,50,60]]])\n",
    "c3d"
   ]
  },
  {
   "cell_type": "code",
   "execution_count": 32,
   "metadata": {
    "ExecuteTime": {
     "end_time": "2021-11-18T05:09:53.272476Z",
     "start_time": "2021-11-18T05:09:53.258515Z"
    }
   },
   "outputs": [
    {
     "data": {
      "text/plain": [
       "(2, 2, 3)"
      ]
     },
     "execution_count": 32,
     "metadata": {},
     "output_type": "execute_result"
    }
   ],
   "source": [
    "# 구조 확인\n",
    "c3d.shape"
   ]
  },
  {
   "cell_type": "code",
   "execution_count": 33,
   "metadata": {
    "ExecuteTime": {
     "end_time": "2021-11-18T05:09:53.287436Z",
     "start_time": "2021-11-18T05:09:53.273474Z"
    }
   },
   "outputs": [
    {
     "data": {
      "text/plain": [
       "(2, 2, 3)"
      ]
     },
     "execution_count": 33,
     "metadata": {},
     "output_type": "execute_result"
    }
   ],
   "source": [
    "# 함수 사용해서 구조(모양)확인\n",
    "np.shape(c3d)"
   ]
  },
  {
   "cell_type": "code",
   "execution_count": 34,
   "metadata": {
    "ExecuteTime": {
     "end_time": "2021-11-18T05:09:53.302396Z",
     "start_time": "2021-11-18T05:09:53.288433Z"
    }
   },
   "outputs": [
    {
     "data": {
      "text/plain": [
       "12"
      ]
     },
     "execution_count": 34,
     "metadata": {},
     "output_type": "execute_result"
    }
   ],
   "source": [
    "# 고유값 확인\n",
    "# len 씌워주시면 고유값 갯수까지\n",
    "len(np.unique(c3d))"
   ]
  },
  {
   "cell_type": "code",
   "execution_count": 35,
   "metadata": {
    "ExecuteTime": {
     "end_time": "2021-11-18T05:09:53.317357Z",
     "start_time": "2021-11-18T05:09:53.303394Z"
    }
   },
   "outputs": [
    {
     "data": {
      "text/plain": [
       "list"
      ]
     },
     "execution_count": 35,
     "metadata": {},
     "output_type": "execute_result"
    }
   ],
   "source": [
    "# 타입변환\n",
    "test = [10,20,30]\n",
    "type(test)"
   ]
  },
  {
   "cell_type": "code",
   "execution_count": 36,
   "metadata": {
    "ExecuteTime": {
     "end_time": "2021-11-18T05:09:53.332316Z",
     "start_time": "2021-11-18T05:09:53.318354Z"
    }
   },
   "outputs": [
    {
     "data": {
      "text/plain": [
       "numpy.ndarray"
      ]
     },
     "execution_count": 36,
     "metadata": {},
     "output_type": "execute_result"
    }
   ],
   "source": [
    "test2 = np.asarray(test)\n",
    "type(test2)"
   ]
  },
  {
   "cell_type": "code",
   "execution_count": 37,
   "metadata": {
    "ExecuteTime": {
     "end_time": "2021-11-18T05:09:53.347276Z",
     "start_time": "2021-11-18T05:09:53.333314Z"
    }
   },
   "outputs": [
    {
     "name": "stdout",
     "output_type": "stream",
     "text": [
      "[10, 20, 30] [10 20 30]\n"
     ]
    }
   ],
   "source": [
    "print(test, test2)"
   ]
  },
  {
   "cell_type": "code",
   "execution_count": 38,
   "metadata": {
    "ExecuteTime": {
     "end_time": "2021-11-18T05:09:53.362236Z",
     "start_time": "2021-11-18T05:09:53.348274Z"
    }
   },
   "outputs": [
    {
     "data": {
      "text/plain": [
       "array([ 1,  2,  3,  4,  5,  6,  7,  8,  9, 10, 11, 12, 13, 14, 15, 16, 17,\n",
       "       18, 19])"
      ]
     },
     "execution_count": 38,
     "metadata": {},
     "output_type": "execute_result"
    }
   ],
   "source": [
    "# 연속적인 시퀀스(Sequence) 배열 생성\n",
    "np.arange(1,20)"
   ]
  },
  {
   "cell_type": "code",
   "execution_count": 39,
   "metadata": {
    "ExecuteTime": {
     "end_time": "2021-11-18T05:09:53.377196Z",
     "start_time": "2021-11-18T05:09:53.363234Z"
    }
   },
   "outputs": [
    {
     "data": {
      "text/plain": [
       "array([[0., 0., 0.],\n",
       "       [0., 0., 0.],\n",
       "       [0., 0., 0.]])"
      ]
     },
     "execution_count": 39,
     "metadata": {},
     "output_type": "execute_result"
    }
   ],
   "source": [
    "# 0인 값만 보유한 행렬 생성\n",
    "a2d = np.zeros((3,3))\n",
    "a2d"
   ]
  },
  {
   "cell_type": "code",
   "execution_count": 40,
   "metadata": {
    "ExecuteTime": {
     "end_time": "2021-11-18T05:09:53.392156Z",
     "start_time": "2021-11-18T05:09:53.378194Z"
    }
   },
   "outputs": [
    {
     "data": {
      "text/plain": [
       "array([[1., 1., 1.],\n",
       "       [1., 1., 1.]])"
      ]
     },
     "execution_count": 40,
     "metadata": {},
     "output_type": "execute_result"
    }
   ],
   "source": [
    "# 1인 값만 보유한 행렬 생성\n",
    "b2d = np.ones((2,3))\n",
    "b2d"
   ]
  },
  {
   "cell_type": "code",
   "execution_count": 41,
   "metadata": {
    "ExecuteTime": {
     "end_time": "2021-11-18T05:09:53.407116Z",
     "start_time": "2021-11-18T05:09:53.393154Z"
    }
   },
   "outputs": [
    {
     "data": {
      "text/plain": [
       "array([[7, 7, 7],\n",
       "       [7, 7, 7],\n",
       "       [7, 7, 7]])"
      ]
     },
     "execution_count": 41,
     "metadata": {},
     "output_type": "execute_result"
    }
   ],
   "source": [
    "# 특정 값만 보유한 행렬 생성\n",
    "c2d = np.full((3,3), 7)\n",
    "c2d"
   ]
  },
  {
   "cell_type": "code",
   "execution_count": 42,
   "metadata": {
    "ExecuteTime": {
     "end_time": "2021-11-18T05:09:53.422076Z",
     "start_time": "2021-11-18T05:09:53.408114Z"
    }
   },
   "outputs": [
    {
     "data": {
      "text/plain": [
       "array([[1., 0., 0.],\n",
       "       [0., 1., 0.],\n",
       "       [0., 0., 1.]])"
      ]
     },
     "execution_count": 42,
     "metadata": {},
     "output_type": "execute_result"
    }
   ],
   "source": [
    "# 대각행렬이라고도 하는데 대각선으로 1인 값만 존재\n",
    "d2d = np.eye(3)\n",
    "d2d"
   ]
  },
  {
   "cell_type": "code",
   "execution_count": 43,
   "metadata": {
    "ExecuteTime": {
     "end_time": "2021-11-18T05:09:53.437036Z",
     "start_time": "2021-11-18T05:09:53.423073Z"
    }
   },
   "outputs": [
    {
     "data": {
      "text/plain": [
       "array([[0.22859937, 0.56936857],\n",
       "       [0.7343358 , 0.19586143]])"
      ]
     },
     "execution_count": 43,
     "metadata": {},
     "output_type": "execute_result"
    }
   ],
   "source": [
    "# 임의의 값으로 행렬을 생성\n",
    "e2d = np.random.random((2,2))\n",
    "e2d"
   ]
  },
  {
   "cell_type": "code",
   "execution_count": 44,
   "metadata": {
    "ExecuteTime": {
     "end_time": "2021-11-18T05:09:53.451997Z",
     "start_time": "2021-11-18T05:09:53.438034Z"
    }
   },
   "outputs": [
    {
     "data": {
      "text/plain": [
       "array([[8070450532247928832, 8070450532247928832,                  18,\n",
       "                          0,                   0],\n",
       "       [                  0,                   0,                   0,\n",
       "                          0,                   0],\n",
       "       [                  0,                   0,                   0,\n",
       "                          0,                   0],\n",
       "       [7881702260482471202, 8070450532247928832, 8070450532247928832,\n",
       "                         10,                   0]])"
      ]
     },
     "execution_count": 44,
     "metadata": {},
     "output_type": "execute_result"
    }
   ],
   "source": [
    "# 임의의 값으로 행렬을 생성하는데 값이 고정된 경우\n",
    "f2d = np.empty((4, 5), dtype=int)\n",
    "f2d"
   ]
  },
  {
   "cell_type": "code",
   "execution_count": 45,
   "metadata": {
    "ExecuteTime": {
     "end_time": "2021-11-18T05:09:53.466956Z",
     "start_time": "2021-11-18T05:09:53.452996Z"
    }
   },
   "outputs": [
    {
     "data": {
      "text/plain": [
       "array([[0.99124373, 0.83503226],\n",
       "       [0.60560332, 0.38306288]])"
      ]
     },
     "execution_count": 45,
     "metadata": {},
     "output_type": "execute_result"
    }
   ],
   "source": [
    "# 세부 값의 type 변환\n",
    "np.array(np.random.random((2,2)), dtype=np.float64)"
   ]
  },
  {
   "cell_type": "code",
   "execution_count": 46,
   "metadata": {
    "ExecuteTime": {
     "end_time": "2021-11-18T05:09:53.481916Z",
     "start_time": "2021-11-18T05:09:53.467954Z"
    }
   },
   "outputs": [
    {
     "name": "stderr",
     "output_type": "stream",
     "text": [
      "/Library/Frameworks/Python.framework/Versions/3.7/lib/python3.7/site-packages/ipykernel_launcher.py:2: DeprecationWarning: `np.complex` is a deprecated alias for the builtin `complex`. To silence this warning, use `complex` by itself. Doing this will not modify any behavior and is safe. If you specifically wanted the numpy scalar type, use `np.complex128` here.\n",
      "Deprecated in NumPy 1.20; for more details and guidance: https://numpy.org/devdocs/release/1.20.0-notes.html#deprecations\n",
      "  \n"
     ]
    },
    {
     "data": {
      "text/plain": [
       "array([[0.46103512+0.j, 0.22307212+0.j],\n",
       "       [0.21885233+0.j, 0.3326774 +0.j]])"
      ]
     },
     "execution_count": 46,
     "metadata": {},
     "output_type": "execute_result"
    }
   ],
   "source": [
    "# 세부 값의 type 변환\n",
    "np.array(np.random.random((2,2)), dtype=np.complex)"
   ]
  },
  {
   "cell_type": "code",
   "execution_count": 47,
   "metadata": {
    "ExecuteTime": {
     "end_time": "2021-11-18T05:09:53.496876Z",
     "start_time": "2021-11-18T05:09:53.482914Z"
    }
   },
   "outputs": [
    {
     "name": "stderr",
     "output_type": "stream",
     "text": [
      "/Library/Frameworks/Python.framework/Versions/3.7/lib/python3.7/site-packages/ipykernel_launcher.py:2: DeprecationWarning: `np.int` is a deprecated alias for the builtin `int`. To silence this warning, use `int` by itself. Doing this will not modify any behavior and is safe. When replacing `np.int`, you may wish to use e.g. `np.int64` or `np.int32` to specify the precision. If you wish to review your current use, check the release note link for additional information.\n",
      "Deprecated in NumPy 1.20; for more details and guidance: https://numpy.org/devdocs/release/1.20.0-notes.html#deprecations\n",
      "  \n"
     ]
    },
    {
     "data": {
      "text/plain": [
       "array([[0, 0],\n",
       "       [0, 0]])"
      ]
     },
     "execution_count": 47,
     "metadata": {},
     "output_type": "execute_result"
    }
   ],
   "source": [
    "# 세부 값의 type 변환\n",
    "np.array(np.random.random((2,2)), dtype=np.int)"
   ]
  },
  {
   "cell_type": "code",
   "execution_count": 48,
   "metadata": {
    "ExecuteTime": {
     "end_time": "2021-11-18T05:09:53.511837Z",
     "start_time": "2021-11-18T05:09:53.497876Z"
    }
   },
   "outputs": [
    {
     "name": "stderr",
     "output_type": "stream",
     "text": [
      "/Library/Frameworks/Python.framework/Versions/3.7/lib/python3.7/site-packages/ipykernel_launcher.py:2: DeprecationWarning: `np.bool` is a deprecated alias for the builtin `bool`. To silence this warning, use `bool` by itself. Doing this will not modify any behavior and is safe. If you specifically wanted the numpy scalar type, use `np.bool_` here.\n",
      "Deprecated in NumPy 1.20; for more details and guidance: https://numpy.org/devdocs/release/1.20.0-notes.html#deprecations\n",
      "  \n"
     ]
    },
    {
     "data": {
      "text/plain": [
       "array([[ True,  True],\n",
       "       [ True,  True]])"
      ]
     },
     "execution_count": 48,
     "metadata": {},
     "output_type": "execute_result"
    }
   ],
   "source": [
    "# 세부 값의 type 변환\n",
    "np.array(np.random.random((2,2)), dtype=np.bool)"
   ]
  },
  {
   "cell_type": "code",
   "execution_count": 49,
   "metadata": {
    "ExecuteTime": {
     "end_time": "2021-11-18T05:09:53.526796Z",
     "start_time": "2021-11-18T05:09:53.512833Z"
    }
   },
   "outputs": [
    {
     "name": "stderr",
     "output_type": "stream",
     "text": [
      "/Library/Frameworks/Python.framework/Versions/3.7/lib/python3.7/site-packages/ipykernel_launcher.py:2: DeprecationWarning: `np.object` is a deprecated alias for the builtin `object`. To silence this warning, use `object` by itself. Doing this will not modify any behavior and is safe. \n",
      "Deprecated in NumPy 1.20; for more details and guidance: https://numpy.org/devdocs/release/1.20.0-notes.html#deprecations\n",
      "  \n"
     ]
    },
    {
     "data": {
      "text/plain": [
       "array([[0.5173768665084897, 0.07325765409287077],\n",
       "       [0.45152906932839254, 0.010533871250350213]], dtype=object)"
      ]
     },
     "execution_count": 49,
     "metadata": {},
     "output_type": "execute_result"
    }
   ],
   "source": [
    "# 세부 값의 type 변환\n",
    "np.array(np.random.random((2,2)), dtype=np.object)"
   ]
  },
  {
   "cell_type": "markdown",
   "metadata": {},
   "source": [
    "### Array 값 다루기\n",
    "\n",
    "> **\"데이터 분석을 하다보면 데이터 각각의 값들에 접근해야 하는 경우 종종 발생\"**\n",
    "> - **인덱싱(Indexing):** 데이터 값 하나에 접근하는 방법으로 인덱스는 값의 순번\n",
    "> - **슬라이싱(Slicing):** 인덱싱과 유사하며 데이터 값을 여러가지 방식으로 접근할 수 있는 유니버셜 방법\n",
    ">> - 다차원 데이터의 경우 배열의 각 차원에 대해 슬라이싱 사용\n",
    ">> - 슬라이싱으로 값을 선택하면 결과의 차원은 원래의 차원보다 같거나 작음\n"
   ]
  },
  {
   "cell_type": "code",
   "execution_count": 50,
   "metadata": {
    "ExecuteTime": {
     "end_time": "2021-11-18T05:09:53.541756Z",
     "start_time": "2021-11-18T05:09:53.527794Z"
    }
   },
   "outputs": [
    {
     "data": {
      "text/plain": [
       "array([0, 1, 2, 3, 4, 5, 6, 7, 8, 9])"
      ]
     },
     "execution_count": 50,
     "metadata": {},
     "output_type": "execute_result"
    }
   ],
   "source": [
    "# 시퀀스 '백터' 생성\n",
    "a = np.arange(10)\n",
    "a"
   ]
  },
  {
   "cell_type": "code",
   "execution_count": 51,
   "metadata": {
    "ExecuteTime": {
     "end_time": "2021-11-18T05:09:53.556717Z",
     "start_time": "2021-11-18T05:09:53.542755Z"
    }
   },
   "outputs": [
    {
     "data": {
      "text/plain": [
       "5"
      ]
     },
     "execution_count": 51,
     "metadata": {},
     "output_type": "execute_result"
    }
   ],
   "source": [
    "# 5번째 값을 반환(0부터 시작해서 5번째)\n",
    "a[5]"
   ]
  },
  {
   "cell_type": "code",
   "execution_count": 52,
   "metadata": {
    "ExecuteTime": {
     "end_time": "2021-11-18T05:09:53.571676Z",
     "start_time": "2021-11-18T05:09:53.557715Z"
    }
   },
   "outputs": [
    {
     "data": {
      "text/plain": [
       "array([5, 6, 7])"
      ]
     },
     "execution_count": 52,
     "metadata": {},
     "output_type": "execute_result"
    }
   ],
   "source": [
    "# 변수[시작인덱스 이상:끝인덱스 미만:간격]\n",
    "a[5:8]"
   ]
  },
  {
   "cell_type": "code",
   "execution_count": 53,
   "metadata": {
    "ExecuteTime": {
     "end_time": "2021-11-18T05:09:53.586637Z",
     "start_time": "2021-11-18T05:09:53.572674Z"
    }
   },
   "outputs": [
    {
     "data": {
      "text/plain": [
       "array([0, 1, 2, 3])"
      ]
     },
     "execution_count": 53,
     "metadata": {},
     "output_type": "execute_result"
    }
   ],
   "source": [
    "# 시작인덱스 생략시 처음부터 지정\n",
    "a[:4]"
   ]
  },
  {
   "cell_type": "code",
   "execution_count": 54,
   "metadata": {
    "ExecuteTime": {
     "end_time": "2021-11-18T05:09:53.601597Z",
     "start_time": "2021-11-18T05:09:53.587634Z"
    }
   },
   "outputs": [
    {
     "data": {
      "text/plain": [
       "array([4, 5, 6, 7, 8, 9])"
      ]
     },
     "execution_count": 54,
     "metadata": {},
     "output_type": "execute_result"
    }
   ],
   "source": [
    "# 끝인덱스 생략시 마지막까지 지정\n",
    "a[4:]"
   ]
  },
  {
   "cell_type": "code",
   "execution_count": 55,
   "metadata": {
    "ExecuteTime": {
     "end_time": "2021-11-18T05:09:53.616556Z",
     "start_time": "2021-11-18T05:09:53.603593Z"
    }
   },
   "outputs": [
    {
     "data": {
      "text/plain": [
       "array([0, 1, 2, 3, 4, 5, 6, 7, 8, 9])"
      ]
     },
     "execution_count": 55,
     "metadata": {},
     "output_type": "execute_result"
    }
   ],
   "source": [
    "# 시작인덱스와 끝인덱스 생략시 자동으로 처음과 마지막을 지정\n",
    "# 간격은 생략시 자동으로 1입력\n",
    "a[::1]"
   ]
  },
  {
   "cell_type": "code",
   "execution_count": 56,
   "metadata": {
    "ExecuteTime": {
     "end_time": "2021-11-18T05:09:53.631516Z",
     "start_time": "2021-11-18T05:09:53.617554Z"
    }
   },
   "outputs": [
    {
     "data": {
      "text/plain": [
       "array([0, 3, 6, 9])"
      ]
     },
     "execution_count": 56,
     "metadata": {},
     "output_type": "execute_result"
    }
   ],
   "source": [
    "a[::3]"
   ]
  },
  {
   "cell_type": "code",
   "execution_count": 57,
   "metadata": {
    "ExecuteTime": {
     "end_time": "2021-11-18T05:09:53.647473Z",
     "start_time": "2021-11-18T05:09:53.632513Z"
    }
   },
   "outputs": [
    {
     "data": {
      "text/plain": [
       "array([9, 6, 3, 0])"
      ]
     },
     "execution_count": 57,
     "metadata": {},
     "output_type": "execute_result"
    }
   ],
   "source": [
    "# 간격을 음수를 취하면 뒤에서부터 출발\n",
    "a[::-3]"
   ]
  },
  {
   "cell_type": "code",
   "execution_count": 58,
   "metadata": {
    "ExecuteTime": {
     "end_time": "2021-11-18T05:09:53.662434Z",
     "start_time": "2021-11-18T05:09:53.648471Z"
    }
   },
   "outputs": [
    {
     "data": {
      "text/plain": [
       "array([6, 7, 8, 9])"
      ]
     },
     "execution_count": 58,
     "metadata": {},
     "output_type": "execute_result"
    }
   ],
   "source": [
    "# 시작인덱스가 음수이면 뒤에서부터 출발\n",
    "# a[0, 1, 2, 3]\n",
    "# a[-4, -3, -2, -1]\n",
    "a[-4:]"
   ]
  },
  {
   "cell_type": "code",
   "execution_count": 59,
   "metadata": {
    "ExecuteTime": {
     "end_time": "2021-11-18T05:09:53.677393Z",
     "start_time": "2021-11-18T05:09:53.663432Z"
    }
   },
   "outputs": [
    {
     "data": {
      "text/plain": [
       "array([6, 8])"
      ]
     },
     "execution_count": 59,
     "metadata": {},
     "output_type": "execute_result"
    }
   ],
   "source": [
    "# 뒤에서 4번째 값부터 2간격으로\n",
    "a[-4::2]"
   ]
  },
  {
   "cell_type": "code",
   "execution_count": 60,
   "metadata": {
    "ExecuteTime": {
     "end_time": "2021-11-18T05:09:53.692353Z",
     "start_time": "2021-11-18T05:09:53.678391Z"
    }
   },
   "outputs": [
    {
     "data": {
      "text/plain": [
       "array([[ 1,  2,  3,  4],\n",
       "       [ 5,  6,  7,  8],\n",
       "       [ 9, 10, 11, 12]])"
      ]
     },
     "execution_count": 60,
     "metadata": {},
     "output_type": "execute_result"
    }
   ],
   "source": [
    "a = np.array([[ 1,  2,  3,  4], [ 5,  6,  7,  8], [ 9, 10, 11, 12]])\n",
    "a"
   ]
  },
  {
   "cell_type": "code",
   "execution_count": 61,
   "metadata": {
    "ExecuteTime": {
     "end_time": "2021-11-18T05:09:53.707313Z",
     "start_time": "2021-11-18T05:09:53.693351Z"
    }
   },
   "outputs": [
    {
     "data": {
      "text/plain": [
       "array([ 1,  2,  3,  4,  5,  6,  7,  8,  9, 10, 11, 12])"
      ]
     },
     "execution_count": 61,
     "metadata": {},
     "output_type": "execute_result"
    }
   ],
   "source": [
    "np.array(range(1,13))"
   ]
  },
  {
   "cell_type": "code",
   "execution_count": 62,
   "metadata": {
    "ExecuteTime": {
     "end_time": "2021-11-18T05:09:53.722273Z",
     "start_time": "2021-11-18T05:09:53.708311Z"
    }
   },
   "outputs": [
    {
     "data": {
      "text/plain": [
       "array([[ 1,  2,  3,  4],\n",
       "       [ 5,  6,  7,  8],\n",
       "       [ 9, 10, 11, 12]])"
      ]
     },
     "execution_count": 62,
     "metadata": {},
     "output_type": "execute_result"
    }
   ],
   "source": [
    "# reshape을 사용해서 데이터 생성 가능\n",
    "a = np.array(range(1,13)).reshape(3,4)\n",
    "a"
   ]
  },
  {
   "cell_type": "code",
   "execution_count": 63,
   "metadata": {
    "ExecuteTime": {
     "end_time": "2021-11-18T05:09:53.737233Z",
     "start_time": "2021-11-18T05:09:53.723271Z"
    }
   },
   "outputs": [
    {
     "data": {
      "text/plain": [
       "array([5, 6, 7, 8])"
      ]
     },
     "execution_count": 63,
     "metadata": {},
     "output_type": "execute_result"
    }
   ],
   "source": [
    "# 백터의 경우와 달리 행과 열 각각의 인덱싱 시행\n",
    "# 1번째 행과 전체 열 출력\n",
    "a[1,:]"
   ]
  },
  {
   "cell_type": "code",
   "execution_count": 64,
   "metadata": {
    "ExecuteTime": {
     "end_time": "2021-11-18T05:09:53.752193Z",
     "start_time": "2021-11-18T05:09:53.738231Z"
    }
   },
   "outputs": [
    {
     "data": {
      "text/plain": [
       "array([[5, 6, 7, 8]])"
      ]
     },
     "execution_count": 64,
     "metadata": {},
     "output_type": "execute_result"
    }
   ],
   "source": [
    "# 1번째 이상 2번째 미만 행과 전체 열 출력\n",
    "a[1:2,:]"
   ]
  },
  {
   "cell_type": "code",
   "execution_count": 65,
   "metadata": {
    "ExecuteTime": {
     "end_time": "2021-11-18T05:09:53.767153Z",
     "start_time": "2021-11-18T05:09:53.753191Z"
    }
   },
   "outputs": [
    {
     "data": {
      "text/plain": [
       "array([[ 5,  6,  7,  8],\n",
       "       [ 9, 10, 11, 12]])"
      ]
     },
     "execution_count": 65,
     "metadata": {},
     "output_type": "execute_result"
    }
   ],
   "source": [
    "# 1번째 이상 3번째 미만 행과 전체 열 출력\n",
    "a[1:3,:]"
   ]
  },
  {
   "cell_type": "code",
   "execution_count": 66,
   "metadata": {
    "ExecuteTime": {
     "end_time": "2021-11-18T05:09:53.782113Z",
     "start_time": "2021-11-18T05:09:53.768150Z"
    }
   },
   "outputs": [
    {
     "data": {
      "text/plain": [
       "array([[ 2,  3],\n",
       "       [ 6,  7],\n",
       "       [10, 11]])"
      ]
     },
     "execution_count": 66,
     "metadata": {},
     "output_type": "execute_result"
    }
   ],
   "source": [
    "# 전체 행과 1번째 이상 3번째 미만 열 출력\n",
    "a[:,1:3]"
   ]
  },
  {
   "cell_type": "markdown",
   "metadata": {},
   "source": [
    "> - **정수 배열 인덱싱(Int Array Indexing):**  배열의 특정 위치에 있는 값으로 구성할 수 있음\n",
    "> - **부울 배열 인덱싱(Boolean Array indexing):** 배열의 특정 값만 선택할 수 있으며, 일부 조건이 참인 경우의 값을 선택하는데 사용"
   ]
  },
  {
   "cell_type": "code",
   "execution_count": 67,
   "metadata": {
    "ExecuteTime": {
     "end_time": "2021-11-18T05:09:53.797073Z",
     "start_time": "2021-11-18T05:09:53.789094Z"
    }
   },
   "outputs": [
    {
     "data": {
      "text/plain": [
       "array([[1, 2],\n",
       "       [3, 4],\n",
       "       [5, 6]])"
      ]
     },
     "execution_count": 67,
     "metadata": {},
     "output_type": "execute_result"
    }
   ],
   "source": [
    "a = np.array([[1,2], [3, 4], [5, 6]])\n",
    "a"
   ]
  },
  {
   "cell_type": "code",
   "execution_count": 68,
   "metadata": {
    "ExecuteTime": {
     "end_time": "2021-11-18T05:09:53.812034Z",
     "start_time": "2021-11-18T05:09:53.800067Z"
    }
   },
   "outputs": [
    {
     "data": {
      "text/plain": [
       "array([1, 4, 5])"
      ]
     },
     "execution_count": 68,
     "metadata": {},
     "output_type": "execute_result"
    }
   ],
   "source": [
    "# 인덱스를 직접 입력해서 값 출력 가능\n",
    "# (0,0), (1,1), (2,0) 값 출력\n",
    "np.array([a[0, 0], a[1, 1], a[2, 0]])"
   ]
  },
  {
   "cell_type": "code",
   "execution_count": 69,
   "metadata": {
    "ExecuteTime": {
     "end_time": "2021-11-18T05:09:53.826993Z",
     "start_time": "2021-11-18T05:09:53.813031Z"
    }
   },
   "outputs": [
    {
     "data": {
      "text/plain": [
       "array([1, 4, 5])"
      ]
     },
     "execution_count": 69,
     "metadata": {},
     "output_type": "execute_result"
    }
   ],
   "source": [
    "# (0,1,2)번째 행에서 (0,1,0)번째 열의 값 출력\n",
    "a[[0, 1, 2], [0, 1, 0]]"
   ]
  },
  {
   "cell_type": "code",
   "execution_count": 70,
   "metadata": {
    "ExecuteTime": {
     "end_time": "2021-11-18T05:09:53.841952Z",
     "start_time": "2021-11-18T05:09:53.827991Z"
    }
   },
   "outputs": [
    {
     "data": {
      "text/plain": [
       "array([[ 1,  2,  3],\n",
       "       [ 4,  5,  6],\n",
       "       [ 7,  8,  9],\n",
       "       [10, 11, 12]])"
      ]
     },
     "execution_count": 70,
     "metadata": {},
     "output_type": "execute_result"
    }
   ],
   "source": [
    "a = np.array([[1,2,3], [4,5,6], [7,8,9], [10, 11, 12]])\n",
    "a"
   ]
  },
  {
   "cell_type": "code",
   "execution_count": 71,
   "metadata": {
    "ExecuteTime": {
     "end_time": "2021-11-18T05:09:53.857910Z",
     "start_time": "2021-11-18T05:09:53.842951Z"
    }
   },
   "outputs": [
    {
     "data": {
      "text/plain": [
       "array([0, 2, 0, 1])"
      ]
     },
     "execution_count": 71,
     "metadata": {},
     "output_type": "execute_result"
    }
   ],
   "source": [
    "b = np.array([0, 2, 0, 1])\n",
    "b"
   ]
  },
  {
   "cell_type": "code",
   "execution_count": 72,
   "metadata": {
    "ExecuteTime": {
     "end_time": "2021-11-18T05:09:53.872870Z",
     "start_time": "2021-11-18T05:09:53.858909Z"
    }
   },
   "outputs": [
    {
     "data": {
      "text/plain": [
       "array([ 1,  6,  7, 11])"
      ]
     },
     "execution_count": 72,
     "metadata": {},
     "output_type": "execute_result"
    }
   ],
   "source": [
    "# 0~3까지의 행에서, b의 값위치 열값 추출\n",
    "a[np.arange(4), b]"
   ]
  },
  {
   "cell_type": "code",
   "execution_count": 73,
   "metadata": {
    "ExecuteTime": {
     "end_time": "2021-11-18T05:09:53.887831Z",
     "start_time": "2021-11-18T05:09:53.873875Z"
    }
   },
   "outputs": [
    {
     "data": {
      "text/plain": [
       "array([11, 16, 17, 21])"
      ]
     },
     "execution_count": 73,
     "metadata": {},
     "output_type": "execute_result"
    }
   ],
   "source": [
    "# 0~3까지의 행에서, b의 값위치 열값에 모두 10을 더해 출력\n",
    "a[np.arange(4), b] + 10"
   ]
  },
  {
   "cell_type": "code",
   "execution_count": 74,
   "metadata": {
    "ExecuteTime": {
     "end_time": "2021-11-18T05:09:53.902790Z",
     "start_time": "2021-11-18T05:09:53.888828Z"
    }
   },
   "outputs": [
    {
     "data": {
      "text/plain": [
       "array([[1, 2],\n",
       "       [3, 4],\n",
       "       [5, 6]])"
      ]
     },
     "execution_count": 74,
     "metadata": {},
     "output_type": "execute_result"
    }
   ],
   "source": [
    "a = np.array([[1,2], [3, 4], [5, 6]])\n",
    "a"
   ]
  },
  {
   "cell_type": "code",
   "execution_count": 75,
   "metadata": {
    "ExecuteTime": {
     "end_time": "2021-11-18T05:09:53.917751Z",
     "start_time": "2021-11-18T05:09:53.903790Z"
    }
   },
   "outputs": [
    {
     "data": {
      "text/plain": [
       "array([[False, False],\n",
       "       [ True,  True],\n",
       "       [ True,  True]])"
      ]
     },
     "execution_count": 75,
     "metadata": {},
     "output_type": "execute_result"
    }
   ],
   "source": [
    "# 각 값들이 2보다 큰지 논리값 반환\n",
    "a>2"
   ]
  },
  {
   "cell_type": "code",
   "execution_count": 76,
   "metadata": {
    "ExecuteTime": {
     "end_time": "2021-11-18T05:09:53.932710Z",
     "start_time": "2021-11-18T05:09:53.918749Z"
    }
   },
   "outputs": [
    {
     "data": {
      "text/plain": [
       "array([3, 4, 5, 6])"
      ]
     },
     "execution_count": 76,
     "metadata": {},
     "output_type": "execute_result"
    }
   ],
   "source": [
    "# 각 값들이 2보다 큰지 논리값에서 True인 위치의 행렬값 출력\n",
    "a[a>2]"
   ]
  },
  {
   "cell_type": "code",
   "execution_count": 77,
   "metadata": {
    "ExecuteTime": {
     "end_time": "2021-11-18T05:09:53.947670Z",
     "start_time": "2021-11-18T05:09:53.933707Z"
    }
   },
   "outputs": [
    {
     "data": {
      "text/plain": [
       "array([0, 1, 2, 3, 4, 5, 6, 7, 8, 9])"
      ]
     },
     "execution_count": 77,
     "metadata": {},
     "output_type": "execute_result"
    }
   ],
   "source": [
    "a = np.arange(10)\n",
    "a"
   ]
  },
  {
   "cell_type": "code",
   "execution_count": 78,
   "metadata": {
    "ExecuteTime": {
     "end_time": "2021-11-18T05:09:53.962630Z",
     "start_time": "2021-11-18T05:09:53.948670Z"
    }
   },
   "outputs": [
    {
     "data": {
      "text/plain": [
       "array([  0,   1,   2,   3,   4, 100, 100, 100,   8,   9])"
      ]
     },
     "execution_count": 78,
     "metadata": {},
     "output_type": "execute_result"
    }
   ],
   "source": [
    "# 5~7번째 값을 100으로 치환\n",
    "a[5:8] = 100\n",
    "a"
   ]
  },
  {
   "cell_type": "code",
   "execution_count": 79,
   "metadata": {
    "ExecuteTime": {
     "end_time": "2021-11-18T05:09:53.977591Z",
     "start_time": "2021-11-18T05:09:53.963627Z"
    }
   },
   "outputs": [
    {
     "data": {
      "text/plain": [
       "[0, 1, 2, 3, 4, 5, 6, 7, 8, 9]"
      ]
     },
     "execution_count": 79,
     "metadata": {},
     "output_type": "execute_result"
    }
   ],
   "source": [
    "b = list(range(10))\n",
    "b"
   ]
  },
  {
   "cell_type": "code",
   "execution_count": 80,
   "metadata": {
    "ExecuteTime": {
     "end_time": "2021-11-18T05:09:53.992551Z",
     "start_time": "2021-11-18T05:09:53.978587Z"
    }
   },
   "outputs": [],
   "source": [
    "# list에서는 동일하게 작동되지 않음\n",
    "# 바꾸려는 값의 갯수만큼 치환할 값을 할당해야 가능\n",
    "# b[5:8] = 100\n",
    "# b"
   ]
  },
  {
   "cell_type": "markdown",
   "metadata": {},
   "source": [
    "```python\n",
    "---------------------------------------------------------------------------\n",
    "TypeError                                 Traceback (most recent call last)\n",
    "<ipython-input-2-74d77b409a34> in <module>\n",
    "      1 b = list(range(10))\n",
    "----> 2 b[5:8] = 100\n",
    "      3 b\n",
    "\n",
    "TypeError: can only assign an iterable\n",
    "```"
   ]
  },
  {
   "cell_type": "code",
   "execution_count": 81,
   "metadata": {
    "ExecuteTime": {
     "end_time": "2021-11-18T05:09:54.007510Z",
     "start_time": "2021-11-18T05:09:53.993547Z"
    }
   },
   "outputs": [
    {
     "data": {
      "text/plain": [
       "array(['철수', '영희', '말자', '숙자'], dtype='<U2')"
      ]
     },
     "execution_count": 81,
     "metadata": {},
     "output_type": "execute_result"
    }
   ],
   "source": [
    "names = np.array(['철수', '영희', '말자', '숙자'])\n",
    "names"
   ]
  },
  {
   "cell_type": "code",
   "execution_count": 82,
   "metadata": {
    "ExecuteTime": {
     "end_time": "2021-11-18T05:09:54.022470Z",
     "start_time": "2021-11-18T05:09:54.008507Z"
    }
   },
   "outputs": [
    {
     "data": {
      "text/plain": [
       "array([ True, False, False, False])"
      ]
     },
     "execution_count": 82,
     "metadata": {},
     "output_type": "execute_result"
    }
   ],
   "source": [
    "# 각 값이 철수인지 논리값 반환\n",
    "names == '철수'"
   ]
  },
  {
   "cell_type": "code",
   "execution_count": 83,
   "metadata": {
    "ExecuteTime": {
     "end_time": "2021-11-18T05:09:54.037430Z",
     "start_time": "2021-11-18T05:09:54.023469Z"
    }
   },
   "outputs": [
    {
     "data": {
      "text/plain": [
       "array(['철수'], dtype='<U2')"
      ]
     },
     "execution_count": 83,
     "metadata": {},
     "output_type": "execute_result"
    }
   ],
   "source": [
    "# 각 값이 철수인지 논리값 기준 True인 값 반환\n",
    "names[names == '철수']"
   ]
  },
  {
   "cell_type": "code",
   "execution_count": 84,
   "metadata": {
    "ExecuteTime": {
     "end_time": "2021-11-18T05:09:54.052390Z",
     "start_time": "2021-11-18T05:09:54.038428Z"
    }
   },
   "outputs": [
    {
     "data": {
      "text/plain": [
       "array([[ 0.96948701,  1.18684879, -0.95463632, -2.14098254],\n",
       "       [-1.23421699,  0.16297326,  0.86894451,  1.93029479],\n",
       "       [-0.57891682, -1.44833616,  2.02005499, -0.34070828],\n",
       "       [-1.15778676,  0.70738233,  1.16160655, -1.42074951]])"
      ]
     },
     "execution_count": 84,
     "metadata": {},
     "output_type": "execute_result"
    }
   ],
   "source": [
    "data = np.random.randn(4,4)\n",
    "data"
   ]
  },
  {
   "cell_type": "code",
   "execution_count": 85,
   "metadata": {
    "ExecuteTime": {
     "end_time": "2021-11-18T05:09:54.067350Z",
     "start_time": "2021-11-18T05:09:54.053388Z"
    }
   },
   "outputs": [
    {
     "data": {
      "text/plain": [
       "array([[0.96948701, 1.18684879, 0.        , 0.        ],\n",
       "       [0.        , 0.16297326, 0.86894451, 1.93029479],\n",
       "       [0.        , 0.        , 2.02005499, 0.        ],\n",
       "       [0.        , 0.70738233, 1.16160655, 0.        ]])"
      ]
     },
     "execution_count": 85,
     "metadata": {},
     "output_type": "execute_result"
    }
   ],
   "source": [
    "# 데이터가 0보다 작은지 논리값 기준 True인 값을 0으로 치환\n",
    "data[data<0] = 0\n",
    "data"
   ]
  },
  {
   "cell_type": "code",
   "execution_count": 86,
   "metadata": {
    "ExecuteTime": {
     "end_time": "2021-11-18T05:09:54.082313Z",
     "start_time": "2021-11-18T05:09:54.068348Z"
    }
   },
   "outputs": [
    {
     "data": {
      "text/plain": [
       "array([ True, False, False, False])"
      ]
     },
     "execution_count": 86,
     "metadata": {},
     "output_type": "execute_result"
    }
   ],
   "source": [
    "names == '철수'"
   ]
  },
  {
   "cell_type": "code",
   "execution_count": 87,
   "metadata": {
    "ExecuteTime": {
     "end_time": "2021-11-18T05:09:54.097270Z",
     "start_time": "2021-11-18T05:09:54.083308Z"
    }
   },
   "outputs": [
    {
     "data": {
      "text/plain": [
       "array([[0.96948701, 1.18684879, 0.        , 0.        ]])"
      ]
     },
     "execution_count": 87,
     "metadata": {},
     "output_type": "execute_result"
    }
   ],
   "source": [
    "# names가 철수인지 논리값 기준 True인 값의 data값을 반환\n",
    "data[names == '철수']"
   ]
  },
  {
   "cell_type": "code",
   "execution_count": 88,
   "metadata": {
    "ExecuteTime": {
     "end_time": "2021-11-18T05:09:54.112230Z",
     "start_time": "2021-11-18T05:09:54.098268Z"
    }
   },
   "outputs": [
    {
     "data": {
      "text/plain": [
       "array(['개', '고양이', '고양이', '햄스터', '개', '햄스터'], dtype='<U3')"
      ]
     },
     "metadata": {},
     "output_type": "display_data"
    },
    {
     "data": {
      "text/plain": [
       "array([1, 2, 3, 4, 5, 6])"
      ]
     },
     "metadata": {},
     "output_type": "display_data"
    },
    {
     "data": {
      "text/plain": [
       "array([[ 0,  1,  2,  3,  4,  5],\n",
       "       [ 6,  7,  8,  9, 10, 11],\n",
       "       [12, 13, 14, 15, 16, 17],\n",
       "       [18, 19, 20, 21, 22, 23],\n",
       "       [24, 25, 26, 27, 28, 29],\n",
       "       [30, 31, 32, 33, 34, 35]])"
      ]
     },
     "metadata": {},
     "output_type": "display_data"
    }
   ],
   "source": [
    "# 테스트 array 생성\n",
    "pet = np.array(['개', '고양이', '고양이', '햄스터', '개', '햄스터'])\n",
    "num = np.array([1, 2, 3, 4, 5, 6])\n",
    "indexing_test = np.arange(36).reshape(6, 6) # 샘플데이터\n",
    "display(pet, num, indexing_test)"
   ]
  },
  {
   "cell_type": "code",
   "execution_count": 89,
   "metadata": {
    "ExecuteTime": {
     "end_time": "2021-11-18T05:09:54.127190Z",
     "start_time": "2021-11-18T05:09:54.113229Z"
    }
   },
   "outputs": [
    {
     "data": {
      "text/plain": [
       "array([False, False, False,  True,  True,  True])"
      ]
     },
     "execution_count": 89,
     "metadata": {},
     "output_type": "execute_result"
    }
   ],
   "source": [
    "# num이 3보다 큰지 논리값 출력\n",
    "num > 3"
   ]
  },
  {
   "cell_type": "code",
   "execution_count": 90,
   "metadata": {
    "ExecuteTime": {
     "end_time": "2021-11-18T05:09:54.142150Z",
     "start_time": "2021-11-18T05:09:54.128189Z"
    }
   },
   "outputs": [
    {
     "data": {
      "text/plain": [
       "array([[18, 19, 20, 21, 22, 23],\n",
       "       [24, 25, 26, 27, 28, 29],\n",
       "       [30, 31, 32, 33, 34, 35]])"
      ]
     },
     "execution_count": 90,
     "metadata": {},
     "output_type": "execute_result"
    }
   ],
   "source": [
    "indexing_test[num > 3]"
   ]
  },
  {
   "cell_type": "code",
   "execution_count": 91,
   "metadata": {
    "ExecuteTime": {
     "end_time": "2021-11-18T05:09:54.157110Z",
     "start_time": "2021-11-18T05:09:54.143147Z"
    }
   },
   "outputs": [
    {
     "data": {
      "text/plain": [
       "array([ True, False, False, False,  True, False])"
      ]
     },
     "execution_count": 91,
     "metadata": {},
     "output_type": "execute_result"
    }
   ],
   "source": [
    "# pet가 개인지 논리값 출력\n",
    "pet == '개'"
   ]
  },
  {
   "cell_type": "code",
   "execution_count": 92,
   "metadata": {
    "ExecuteTime": {
     "end_time": "2021-11-18T05:09:54.172071Z",
     "start_time": "2021-11-18T05:09:54.158108Z"
    }
   },
   "outputs": [
    {
     "data": {
      "text/plain": [
       "array([[ 0,  1,  2,  3,  4,  5],\n",
       "       [24, 25, 26, 27, 28, 29]])"
      ]
     },
     "execution_count": 92,
     "metadata": {},
     "output_type": "execute_result"
    }
   ],
   "source": [
    "indexing_test[pet == '개']"
   ]
  },
  {
   "cell_type": "code",
   "execution_count": 93,
   "metadata": {
    "ExecuteTime": {
     "end_time": "2021-11-18T05:09:54.187030Z",
     "start_time": "2021-11-18T05:09:54.173069Z"
    }
   },
   "outputs": [
    {
     "data": {
      "text/plain": [
       "array([ True, False, False,  True,  True,  True])"
      ]
     },
     "execution_count": 93,
     "metadata": {},
     "output_type": "execute_result"
    }
   ],
   "source": [
    "(pet == '개') | (pet == '햄스터')"
   ]
  },
  {
   "cell_type": "code",
   "execution_count": 94,
   "metadata": {
    "ExecuteTime": {
     "end_time": "2021-11-18T05:09:54.201990Z",
     "start_time": "2021-11-18T05:09:54.188028Z"
    }
   },
   "outputs": [
    {
     "data": {
      "text/plain": [
       "array([[ 3,  4,  5],\n",
       "       [21, 22, 23],\n",
       "       [27, 28, 29],\n",
       "       [33, 34, 35]])"
      ]
     },
     "execution_count": 94,
     "metadata": {},
     "output_type": "execute_result"
    }
   ],
   "source": [
    "# 펫 array 기준으로 햄스터와 개 데이터를 indexing_test에서 인덱싱해보기\n",
    "indexing_test[(pet == '개') | (pet == '햄스터'), 3:]"
   ]
  },
  {
   "cell_type": "code",
   "execution_count": 95,
   "metadata": {
    "ExecuteTime": {
     "end_time": "2021-11-18T05:09:54.216951Z",
     "start_time": "2021-11-18T05:09:54.202990Z"
    }
   },
   "outputs": [
    {
     "data": {
      "text/plain": [
       "2"
      ]
     },
     "execution_count": 95,
     "metadata": {},
     "output_type": "execute_result"
    }
   ],
   "source": [
    "# 불리언(True/False) 값을 숫자로 판단할 시 True=1, False=0으로 계산\n",
    "(pet == '개').sum()"
   ]
  },
  {
   "cell_type": "code",
   "execution_count": 96,
   "metadata": {
    "ExecuteTime": {
     "end_time": "2021-11-18T05:09:54.231910Z",
     "start_time": "2021-11-18T05:09:54.217948Z"
    }
   },
   "outputs": [
    {
     "data": {
      "text/plain": [
       "True"
      ]
     },
     "execution_count": 96,
     "metadata": {},
     "output_type": "execute_result"
    }
   ],
   "source": [
    "# 하나라도 참이면 참\n",
    "(pet == '개').any()"
   ]
  },
  {
   "cell_type": "code",
   "execution_count": 97,
   "metadata": {
    "ExecuteTime": {
     "end_time": "2021-11-18T05:09:54.246871Z",
     "start_time": "2021-11-18T05:09:54.232907Z"
    }
   },
   "outputs": [
    {
     "data": {
      "text/plain": [
       "False"
      ]
     },
     "execution_count": 97,
     "metadata": {},
     "output_type": "execute_result"
    }
   ],
   "source": [
    "# 전체데이터가 참이여야 참\n",
    "(pet == '개').all()"
   ]
  },
  {
   "cell_type": "markdown",
   "metadata": {},
   "source": [
    "## [Numpy Function(처리)](https://numpy.org/doc/stable/reference/routines.math.html)"
   ]
  },
  {
   "cell_type": "markdown",
   "metadata": {},
   "source": [
    "### Array 기본 연산\n",
    "\n",
    "- 기본 수학 함수는 배열에서 값마다 계산되며 numpy 내장 함수 모두 사용 가능\n",
    "- 값연산 이외에 벡터와 다차원 연산이 가능하기 때문에 반복문(for, while) 사용없이 직관적 연산 가능\n",
    "- (고급) 크기가 다른 배열간의 연산도 브로드캐스팅(Broadcasting) 방식으로 연산 가능\n",
    "\n",
    "**1) 단일 배열에 사용하는 함수**\n",
    "\n",
    "| 함수 | 설명 |\n",
    "|------------------------|--------------------------------------------------------------------------|\n",
    "| abs, fabs | 각 원소의 절대값을 구한다. 복소수가 아닌 경우에는 fabs로 빠르게 연산가능 |\n",
    "| sqrt | 제곱근을 계산 arr ** 0.5와 동일 |\n",
    "| square | 제곱을 계산 arr ** 2와 동일 |\n",
    "| Exp | 각 원소에 지수 ex를 계산 |\n",
    "| Log, log10, log2, logp | 각각 자연로그, 로그10, 로그2, 로그(1+x) |\n",
    "| sign | 각 원소의 부호를 계산 |\n",
    "| ceil | 각 원소의 소수자리 올림 |\n",
    "| floor | 각 원소의 소수자리 버림 |\n",
    "| rint | 각 원소의 소수자리 반올림. dtype 유지 |\n",
    "| modf | 원소의 몫과 나머지를 각각 배열로 반환 |\n",
    "| isnan | 각 원소가 숫자인지 아닌지 NaN으로 나타내는 불리언 배열 |\n",
    "| isfinite, isinf | 배열의 각 원소가 유한한지 무한한지 나타내는 불리언 배열 |\n",
    "| cos, cosh, sin, sinh, tan, tanh | 일반 삼각함수와 쌍곡삼각 함수 |\n",
    "| logical_not | 각 원소의 논리 부정(not) 값 계산 |\n",
    "\n",
    "**2) 서로 다른 배열에 사용하는 함수**\n",
    "\n",
    "| 함수 | 설명 |\n",
    "|------------------------------------------------------------|----------------------------------------------------------------------|\n",
    "| add | 두 배열에서 같은 위치의 원소끼리 덧셈 |\n",
    "| subtract | 첫번째 배열 원소 - 두번째 배열 원소 |\n",
    "| multiply | 배열의 원소끼리 곱셈 |\n",
    "| divide | 첫번째 배열의 원소에서 두번째 배열의 원소를 나눗셈 |\n",
    "| power | 첫번째 배열의 원소에 두번째 배열의 원소만큼 제곱 |\n",
    "| maximum, fmax | 두 원소 중 큰 값을 반환. fmax는 NaN 무시 |\n",
    "| minimum, fmin | 두 원소 중 작은 값 반환. fmin는 NaN 무시 |\n",
    "| mod | 첫번째 배열의 원소에 두번째 배열의 원소를 나눈 나머지 |\n",
    "| greater, greater_equal, less, less_equal, equal, not_equal | 두 원소 간의 >, >=, <, <=, ==, != 비교연산 결과를 불리언 배열로 반환 |\n",
    "| logical_and, logical_or, logical_xor | 각각 두 원소 간의 논리연산 결과를 반환 |"
   ]
  },
  {
   "cell_type": "code",
   "execution_count": 98,
   "metadata": {
    "ExecuteTime": {
     "end_time": "2021-11-18T05:09:54.261831Z",
     "start_time": "2021-11-18T05:09:54.247868Z"
    }
   },
   "outputs": [
    {
     "data": {
      "text/plain": [
       "array([[1., 2.],\n",
       "       [3., 4.]])"
      ]
     },
     "metadata": {},
     "output_type": "display_data"
    },
    {
     "data": {
      "text/plain": [
       "array([[5., 6.],\n",
       "       [7., 8.]])"
      ]
     },
     "metadata": {},
     "output_type": "display_data"
    }
   ],
   "source": [
    "a2d = np.array([[1,2],[3,4]], dtype=np.float64)\n",
    "b2d = np.array([[5,6],[7,8]], dtype=np.float64)\n",
    "display(a2d, b2d)"
   ]
  },
  {
   "cell_type": "code",
   "execution_count": 99,
   "metadata": {
    "ExecuteTime": {
     "end_time": "2021-11-18T05:09:54.276791Z",
     "start_time": "2021-11-18T05:09:54.262828Z"
    }
   },
   "outputs": [
    {
     "data": {
      "text/plain": [
       "array([[ 6.,  8.],\n",
       "       [10., 12.]])"
      ]
     },
     "execution_count": 99,
     "metadata": {},
     "output_type": "execute_result"
    }
   ],
   "source": [
    "# 요소별 합산\n",
    "a2d + b2d"
   ]
  },
  {
   "cell_type": "code",
   "execution_count": 100,
   "metadata": {
    "ExecuteTime": {
     "end_time": "2021-11-18T05:09:54.291750Z",
     "start_time": "2021-11-18T05:09:54.277787Z"
    }
   },
   "outputs": [
    {
     "data": {
      "text/plain": [
       "array([[ 6.,  8.],\n",
       "       [10., 12.]])"
      ]
     },
     "execution_count": 100,
     "metadata": {},
     "output_type": "execute_result"
    }
   ],
   "source": [
    "# 요소별 합산\n",
    "np.add(a2d, b2d)"
   ]
  },
  {
   "cell_type": "code",
   "execution_count": 101,
   "metadata": {
    "ExecuteTime": {
     "end_time": "2021-11-18T05:09:54.306710Z",
     "start_time": "2021-11-18T05:09:54.292748Z"
    }
   },
   "outputs": [
    {
     "data": {
      "text/plain": [
       "array([[-4., -4.],\n",
       "       [-4., -4.]])"
      ]
     },
     "execution_count": 101,
     "metadata": {},
     "output_type": "execute_result"
    }
   ],
   "source": [
    "# 요소별 빼기\n",
    "a2d - b2d"
   ]
  },
  {
   "cell_type": "code",
   "execution_count": 102,
   "metadata": {
    "ExecuteTime": {
     "end_time": "2021-11-18T05:09:54.321670Z",
     "start_time": "2021-11-18T05:09:54.307709Z"
    }
   },
   "outputs": [
    {
     "data": {
      "text/plain": [
       "array([[-4., -4.],\n",
       "       [-4., -4.]])"
      ]
     },
     "execution_count": 102,
     "metadata": {},
     "output_type": "execute_result"
    }
   ],
   "source": [
    "# 요소별 빼기\n",
    "np.subtract(a2d, b2d)"
   ]
  },
  {
   "cell_type": "code",
   "execution_count": 103,
   "metadata": {
    "ExecuteTime": {
     "end_time": "2021-11-18T05:09:54.336630Z",
     "start_time": "2021-11-18T05:09:54.322669Z"
    }
   },
   "outputs": [
    {
     "data": {
      "text/plain": [
       "array([[ 5., 12.],\n",
       "       [21., 32.]])"
      ]
     },
     "execution_count": 103,
     "metadata": {},
     "output_type": "execute_result"
    }
   ],
   "source": [
    "# 요소별 곱셈\n",
    "a2d * b2d"
   ]
  },
  {
   "cell_type": "code",
   "execution_count": 104,
   "metadata": {
    "ExecuteTime": {
     "end_time": "2021-11-18T05:09:54.351591Z",
     "start_time": "2021-11-18T05:09:54.337627Z"
    }
   },
   "outputs": [
    {
     "data": {
      "text/plain": [
       "array([[ 5., 12.],\n",
       "       [21., 32.]])"
      ]
     },
     "execution_count": 104,
     "metadata": {},
     "output_type": "execute_result"
    }
   ],
   "source": [
    "# 요소별 곱셈\n",
    "np.multiply(a2d, b2d)"
   ]
  },
  {
   "cell_type": "code",
   "execution_count": 105,
   "metadata": {
    "ExecuteTime": {
     "end_time": "2021-11-18T05:09:54.366550Z",
     "start_time": "2021-11-18T05:09:54.352589Z"
    }
   },
   "outputs": [
    {
     "data": {
      "text/plain": [
       "array([[0.2       , 0.33333333],\n",
       "       [0.42857143, 0.5       ]])"
      ]
     },
     "execution_count": 105,
     "metadata": {},
     "output_type": "execute_result"
    }
   ],
   "source": [
    "# 요소별 나누기\n",
    "a2d / b2d"
   ]
  },
  {
   "cell_type": "code",
   "execution_count": 106,
   "metadata": {
    "ExecuteTime": {
     "end_time": "2021-11-18T05:09:54.381510Z",
     "start_time": "2021-11-18T05:09:54.367548Z"
    }
   },
   "outputs": [
    {
     "data": {
      "text/plain": [
       "array([[0.2       , 0.33333333],\n",
       "       [0.42857143, 0.5       ]])"
      ]
     },
     "execution_count": 106,
     "metadata": {},
     "output_type": "execute_result"
    }
   ],
   "source": [
    "# 요소별 나누기\n",
    "np.divide(a2d, b2d)"
   ]
  },
  {
   "cell_type": "code",
   "execution_count": 107,
   "metadata": {
    "ExecuteTime": {
     "end_time": "2021-11-18T05:09:54.396471Z",
     "start_time": "2021-11-18T05:09:54.382508Z"
    }
   },
   "outputs": [
    {
     "data": {
      "text/plain": [
       "array([[1.        , 1.41421356],\n",
       "       [1.73205081, 2.        ]])"
      ]
     },
     "execution_count": 107,
     "metadata": {},
     "output_type": "execute_result"
    }
   ],
   "source": [
    "# 요소별 square root\n",
    "np.sqrt(a2d)"
   ]
  },
  {
   "cell_type": "code",
   "execution_count": 108,
   "metadata": {
    "ExecuteTime": {
     "end_time": "2021-11-18T05:09:54.411430Z",
     "start_time": "2021-11-18T05:09:54.397468Z"
    }
   },
   "outputs": [
    {
     "data": {
      "text/plain": [
       "array([[-1. ,  2. ,  3. ],\n",
       "       [-4. ,  5. ,  6. ],\n",
       "       [ 7.1,  8.4, -9.7]])"
      ]
     },
     "execution_count": 108,
     "metadata": {},
     "output_type": "execute_result"
    }
   ],
   "source": [
    "a2d = np.array([[-1,2,3],[-4,5,6],[7.1,8.4,-9.7]])\n",
    "a2d"
   ]
  },
  {
   "cell_type": "code",
   "execution_count": 109,
   "metadata": {
    "ExecuteTime": {
     "end_time": "2021-11-18T05:09:54.426390Z",
     "start_time": "2021-11-18T05:09:54.412429Z"
    }
   },
   "outputs": [
    {
     "data": {
      "text/plain": [
       "array([[1. , 2. , 3. ],\n",
       "       [4. , 5. , 6. ],\n",
       "       [7.1, 8.4, 9.7]])"
      ]
     },
     "execution_count": 109,
     "metadata": {},
     "output_type": "execute_result"
    }
   ],
   "source": [
    "# 절대값 변환\n",
    "np.abs(a2d)"
   ]
  },
  {
   "cell_type": "code",
   "execution_count": 110,
   "metadata": {
    "ExecuteTime": {
     "end_time": "2021-11-18T05:09:54.441350Z",
     "start_time": "2021-11-18T05:09:54.427387Z"
    }
   },
   "outputs": [
    {
     "name": "stderr",
     "output_type": "stream",
     "text": [
      "/Library/Frameworks/Python.framework/Versions/3.7/lib/python3.7/site-packages/ipykernel_launcher.py:2: RuntimeWarning: invalid value encountered in sqrt\n",
      "  \n"
     ]
    },
    {
     "data": {
      "text/plain": [
       "array([[       nan, 1.41421356, 1.73205081],\n",
       "       [       nan, 2.23606798, 2.44948974],\n",
       "       [2.66458252, 2.89827535,        nan]])"
      ]
     },
     "execution_count": 110,
     "metadata": {},
     "output_type": "execute_result"
    }
   ],
   "source": [
    "# square root\n",
    "np.sqrt(a2d)"
   ]
  },
  {
   "cell_type": "code",
   "execution_count": 111,
   "metadata": {
    "ExecuteTime": {
     "end_time": "2021-11-18T05:09:54.456310Z",
     "start_time": "2021-11-18T05:09:54.442348Z"
    }
   },
   "outputs": [
    {
     "name": "stderr",
     "output_type": "stream",
     "text": [
      "/Library/Frameworks/Python.framework/Versions/3.7/lib/python3.7/site-packages/ipykernel_launcher.py:2: RuntimeWarning: invalid value encountered in sqrt\n",
      "  \n"
     ]
    },
    {
     "data": {
      "text/plain": [
       "array([[       nan, 1.41421356, 1.73205081],\n",
       "       [       nan, 2.23606798, 2.44948974],\n",
       "       [2.66458252, 2.89827535,        nan]])"
      ]
     },
     "execution_count": 111,
     "metadata": {},
     "output_type": "execute_result"
    }
   ],
   "source": [
    "# is same as\n",
    "a2d**0.5"
   ]
  },
  {
   "cell_type": "code",
   "execution_count": 112,
   "metadata": {
    "ExecuteTime": {
     "end_time": "2021-11-18T05:09:54.471269Z",
     "start_time": "2021-11-18T05:09:54.457308Z"
    }
   },
   "outputs": [
    {
     "data": {
      "text/plain": [
       "array([[ 1.  ,  4.  ,  9.  ],\n",
       "       [16.  , 25.  , 36.  ],\n",
       "       [50.41, 70.56, 94.09]])"
      ]
     },
     "execution_count": 112,
     "metadata": {},
     "output_type": "execute_result"
    }
   ],
   "source": [
    "# 제곱 반환\n",
    "np.square(a2d)"
   ]
  },
  {
   "cell_type": "code",
   "execution_count": 113,
   "metadata": {
    "ExecuteTime": {
     "end_time": "2021-11-18T05:09:54.486229Z",
     "start_time": "2021-11-18T05:09:54.472268Z"
    }
   },
   "outputs": [
    {
     "data": {
      "text/plain": [
       "array([[3.67879441e-01, 7.38905610e+00, 2.00855369e+01],\n",
       "       [1.83156389e-02, 1.48413159e+02, 4.03428793e+02],\n",
       "       [1.21196707e+03, 4.44706675e+03, 6.12834951e-05]])"
      ]
     },
     "execution_count": 113,
     "metadata": {},
     "output_type": "execute_result"
    }
   ],
   "source": [
    "# exp\n",
    "np.exp(a2d)"
   ]
  },
  {
   "cell_type": "code",
   "execution_count": 114,
   "metadata": {
    "ExecuteTime": {
     "end_time": "2021-11-18T05:09:54.501189Z",
     "start_time": "2021-11-18T05:09:54.487227Z"
    }
   },
   "outputs": [
    {
     "data": {
      "text/plain": [
       "array([[-1. ,  2. ,  3. ],\n",
       "       [-4. ,  5. ,  6. ],\n",
       "       [ 7.1,  8.4, -9.7]])"
      ]
     },
     "execution_count": 114,
     "metadata": {},
     "output_type": "execute_result"
    }
   ],
   "source": [
    "# log\n",
    "# log + exp는 원래대로 반환\n",
    "np.log(np.exp(a2d))"
   ]
  },
  {
   "cell_type": "code",
   "execution_count": 115,
   "metadata": {
    "ExecuteTime": {
     "end_time": "2021-11-18T05:09:54.516177Z",
     "start_time": "2021-11-18T05:09:54.502188Z"
    }
   },
   "outputs": [
    {
     "data": {
      "text/plain": [
       "array([[-1.,  1.,  1.],\n",
       "       [-1.,  1.,  1.],\n",
       "       [ 1.,  1., -1.]])"
      ]
     },
     "execution_count": 115,
     "metadata": {},
     "output_type": "execute_result"
    }
   ],
   "source": [
    "# 부호반환\n",
    "np.sign(a2d)"
   ]
  },
  {
   "cell_type": "code",
   "execution_count": 116,
   "metadata": {
    "ExecuteTime": {
     "end_time": "2021-11-18T05:09:54.531110Z",
     "start_time": "2021-11-18T05:09:54.517147Z"
    }
   },
   "outputs": [
    {
     "data": {
      "text/plain": [
       "array([[-1.,  2.,  3.],\n",
       "       [-4.,  5.,  6.],\n",
       "       [ 8.,  9., -9.]])"
      ]
     },
     "execution_count": 116,
     "metadata": {},
     "output_type": "execute_result"
    }
   ],
   "source": [
    "# 올림값\n",
    "np.ceil(a2d)"
   ]
  },
  {
   "cell_type": "code",
   "execution_count": 117,
   "metadata": {
    "ExecuteTime": {
     "end_time": "2021-11-18T05:09:54.546070Z",
     "start_time": "2021-11-18T05:09:54.532108Z"
    }
   },
   "outputs": [
    {
     "data": {
      "text/plain": [
       "array([[False, False, False],\n",
       "       [False, False, False],\n",
       "       [False, False, False]])"
      ]
     },
     "execution_count": 117,
     "metadata": {},
     "output_type": "execute_result"
    }
   ],
   "source": [
    "# 값이 nan인지 여부\n",
    "np.isnan(a2d)"
   ]
  },
  {
   "cell_type": "code",
   "execution_count": 118,
   "metadata": {
    "ExecuteTime": {
     "end_time": "2021-11-18T05:09:54.561061Z",
     "start_time": "2021-11-18T05:09:54.547068Z"
    }
   },
   "outputs": [
    {
     "data": {
      "text/plain": [
       "array([[False, False, False],\n",
       "       [False, False, False],\n",
       "       [False, False, False]])"
      ]
     },
     "execution_count": 118,
     "metadata": {},
     "output_type": "execute_result"
    }
   ],
   "source": [
    "# 값이 infinite인지 여부\n",
    "np.isinf(a2d)"
   ]
  },
  {
   "cell_type": "code",
   "execution_count": 119,
   "metadata": {
    "ExecuteTime": {
     "end_time": "2021-11-18T05:09:54.576018Z",
     "start_time": "2021-11-18T05:09:54.562028Z"
    }
   },
   "outputs": [
    {
     "data": {
      "text/plain": [
       "array([[ True,  True,  True],\n",
       "       [ True,  True,  True],\n",
       "       [ True,  True,  True]])"
      ]
     },
     "execution_count": 119,
     "metadata": {},
     "output_type": "execute_result"
    }
   ],
   "source": [
    "# 값이 유한값인지 여부\n",
    "np.isfinite(a2d)"
   ]
  },
  {
   "cell_type": "code",
   "execution_count": 120,
   "metadata": {
    "ExecuteTime": {
     "end_time": "2021-11-18T05:09:54.590978Z",
     "start_time": "2021-11-18T05:09:54.576987Z"
    }
   },
   "outputs": [
    {
     "data": {
      "text/plain": [
       "array([[ 0.54030231, -0.41614684, -0.9899925 ],\n",
       "       [-0.65364362,  0.28366219,  0.96017029],\n",
       "       [ 0.68454667, -0.51928865, -0.96236488]])"
      ]
     },
     "execution_count": 120,
     "metadata": {},
     "output_type": "execute_result"
    }
   ],
   "source": [
    "# cosine\n",
    "np.cos(a2d)"
   ]
  },
  {
   "cell_type": "code",
   "execution_count": 121,
   "metadata": {
    "ExecuteTime": {
     "end_time": "2021-11-18T05:09:54.605937Z",
     "start_time": "2021-11-18T05:09:54.591949Z"
    }
   },
   "outputs": [
    {
     "data": {
      "text/plain": [
       "array([[-1.55740772, -2.18503986, -0.14254654],\n",
       "       [-1.15782128, -3.38051501, -0.29100619],\n",
       "       [ 1.06489313, -1.64571073, -0.28238835]])"
      ]
     },
     "execution_count": 121,
     "metadata": {},
     "output_type": "execute_result"
    }
   ],
   "source": [
    "# tangent\n",
    "np.tan(a2d)"
   ]
  },
  {
   "cell_type": "code",
   "execution_count": 122,
   "metadata": {
    "ExecuteTime": {
     "end_time": "2021-11-18T05:09:54.620898Z",
     "start_time": "2021-11-18T05:09:54.606908Z"
    }
   },
   "outputs": [
    {
     "data": {
      "text/plain": [
       "array([[-1. ,  2. ,  3. ],\n",
       "       [-4. ,  5. ,  6. ],\n",
       "       [ 7.1,  8.4, -9.7]])"
      ]
     },
     "metadata": {},
     "output_type": "display_data"
    },
    {
     "data": {
      "text/plain": [
       "array([[1, 2, 3],\n",
       "       [4, 5, 6],\n",
       "       [7, 8, 9]])"
      ]
     },
     "metadata": {},
     "output_type": "display_data"
    }
   ],
   "source": [
    "b2d = np.array([[1,2,3],[4,5,6],[7,8,9]])\n",
    "display(a2d, b2d)"
   ]
  },
  {
   "cell_type": "code",
   "execution_count": 123,
   "metadata": {
    "ExecuteTime": {
     "end_time": "2021-11-18T05:09:54.635857Z",
     "start_time": "2021-11-18T05:09:54.621867Z"
    }
   },
   "outputs": [
    {
     "data": {
      "text/plain": [
       "array([[ 0. ,  4. ,  6. ],\n",
       "       [ 0. , 10. , 12. ],\n",
       "       [14.1, 16.4, -0.7]])"
      ]
     },
     "execution_count": 123,
     "metadata": {},
     "output_type": "execute_result"
    }
   ],
   "source": [
    "# 2개의 행렬 더하기\n",
    "np.add(a2d, b2d)"
   ]
  },
  {
   "cell_type": "code",
   "execution_count": 124,
   "metadata": {
    "ExecuteTime": {
     "end_time": "2021-11-18T05:09:54.650817Z",
     "start_time": "2021-11-18T05:09:54.636827Z"
    }
   },
   "outputs": [
    {
     "data": {
      "text/plain": [
       "array([[ -1. ,   4. ,   9. ],\n",
       "       [-16. ,  25. ,  36. ],\n",
       "       [ 49.7,  67.2, -87.3]])"
      ]
     },
     "execution_count": 124,
     "metadata": {},
     "output_type": "execute_result"
    }
   ],
   "source": [
    "# 2개의 행렬 곱하기\n",
    "np.multiply(a2d, b2d)"
   ]
  },
  {
   "cell_type": "code",
   "execution_count": 125,
   "metadata": {
    "ExecuteTime": {
     "end_time": "2021-11-18T05:09:54.665783Z",
     "start_time": "2021-11-18T05:09:54.651787Z"
    }
   },
   "outputs": [
    {
     "data": {
      "text/plain": [
       "array([[-1.00000000e+00,  4.00000000e+00,  2.70000000e+01],\n",
       "       [ 2.56000000e+02,  3.12500000e+03,  4.66560000e+04],\n",
       "       [ 9.09512016e+05,  2.47875891e+07, -7.60231059e+08]])"
      ]
     },
     "execution_count": 125,
     "metadata": {},
     "output_type": "execute_result"
    }
   ],
   "source": [
    "# 2개의 행렬 제곱\n",
    "np.power(a2d, b2d)"
   ]
  },
  {
   "cell_type": "code",
   "execution_count": 126,
   "metadata": {
    "ExecuteTime": {
     "end_time": "2021-11-18T05:09:54.680737Z",
     "start_time": "2021-11-18T05:09:54.666748Z"
    }
   },
   "outputs": [
    {
     "data": {
      "text/plain": [
       "array([[ True, False, False],\n",
       "       [ True, False, False],\n",
       "       [False, False,  True]])"
      ]
     },
     "execution_count": 126,
     "metadata": {},
     "output_type": "execute_result"
    }
   ],
   "source": [
    "# 2개의 행렬 요소별 비교\n",
    "np.greater(b2d, a2d)"
   ]
  },
  {
   "cell_type": "markdown",
   "metadata": {
    "ExecuteTime": {
     "end_time": "2019-02-22T08:46:44.847002Z",
     "start_time": "2019-02-22T08:46:44.843004Z"
    }
   },
   "source": [
    "### Array 통계 연산"
   ]
  },
  {
   "cell_type": "code",
   "execution_count": 127,
   "metadata": {
    "ExecuteTime": {
     "end_time": "2021-11-18T05:09:54.695670Z",
     "start_time": "2021-11-18T05:09:54.681709Z"
    }
   },
   "outputs": [
    {
     "data": {
      "text/plain": [
       "array([[-1,  2,  3],\n",
       "       [-4,  5,  6],\n",
       "       [ 7,  8, -9]])"
      ]
     },
     "execution_count": 127,
     "metadata": {},
     "output_type": "execute_result"
    }
   ],
   "source": [
    "a2d = np.array([[-1,2,3],[-4,5,6],[7,8,-9]])\n",
    "a2d"
   ]
  },
  {
   "cell_type": "code",
   "execution_count": 128,
   "metadata": {
    "ExecuteTime": {
     "end_time": "2021-11-18T05:09:54.710657Z",
     "start_time": "2021-11-18T05:09:54.696669Z"
    }
   },
   "outputs": [
    {
     "data": {
      "text/plain": [
       "array([[ 1,  4,  5],\n",
       "       [-2,  7,  8],\n",
       "       [ 9, 10, -7]])"
      ]
     },
     "execution_count": 128,
     "metadata": {},
     "output_type": "execute_result"
    }
   ],
   "source": [
    "# 요소별 더하기\n",
    "a2d + 2"
   ]
  },
  {
   "cell_type": "code",
   "execution_count": 129,
   "metadata": {
    "ExecuteTime": {
     "end_time": "2021-11-18T05:09:54.725590Z",
     "start_time": "2021-11-18T05:09:54.711628Z"
    }
   },
   "outputs": [
    {
     "data": {
      "text/plain": [
       "array([[ -2,   4,   6],\n",
       "       [ -8,  10,  12],\n",
       "       [ 14,  16, -18]])"
      ]
     },
     "execution_count": 129,
     "metadata": {},
     "output_type": "execute_result"
    }
   ],
   "source": [
    "# 요소별 곱하기\n",
    "a2d * 2"
   ]
  },
  {
   "cell_type": "code",
   "execution_count": 130,
   "metadata": {
    "ExecuteTime": {
     "end_time": "2021-11-18T05:09:54.740549Z",
     "start_time": "2021-11-18T05:09:54.726587Z"
    }
   },
   "outputs": [
    {
     "data": {
      "text/plain": [
       "dtype('int64')"
      ]
     },
     "execution_count": 130,
     "metadata": {},
     "output_type": "execute_result"
    }
   ],
   "source": [
    "# 값의 형태 확인\n",
    "a2d.dtype"
   ]
  },
  {
   "cell_type": "code",
   "execution_count": 131,
   "metadata": {
    "ExecuteTime": {
     "end_time": "2021-11-18T05:09:54.755537Z",
     "start_time": "2021-11-18T05:09:54.741549Z"
    }
   },
   "outputs": [
    {
     "data": {
      "text/plain": [
       "(3, 3)"
      ]
     },
     "execution_count": 131,
     "metadata": {},
     "output_type": "execute_result"
    }
   ],
   "source": [
    "# 행렬의 크기 확인\n",
    "a2d.shape"
   ]
  },
  {
   "cell_type": "code",
   "execution_count": 132,
   "metadata": {
    "ExecuteTime": {
     "end_time": "2021-11-18T05:09:54.770469Z",
     "start_time": "2021-11-18T05:09:54.756508Z"
    }
   },
   "outputs": [
    {
     "data": {
      "text/plain": [
       "2"
      ]
     },
     "execution_count": 132,
     "metadata": {},
     "output_type": "execute_result"
    }
   ],
   "source": [
    "# 행렬(데이터) 차원 확인\n",
    "# 데이터가 존재하는 축방향이 늘어나면 차원수도 늘어남\n",
    "a2d.ndim"
   ]
  },
  {
   "cell_type": "code",
   "execution_count": 133,
   "metadata": {
    "ExecuteTime": {
     "end_time": "2021-11-18T05:09:54.785430Z",
     "start_time": "2021-11-18T05:09:54.771469Z"
    }
   },
   "outputs": [
    {
     "data": {
      "text/plain": [
       "2"
      ]
     },
     "execution_count": 133,
     "metadata": {},
     "output_type": "execute_result"
    }
   ],
   "source": [
    "# 행렬 차원 확인\n",
    "# 함수사용하여 확인 가능\n",
    "np.ndim(a2d)"
   ]
  },
  {
   "cell_type": "code",
   "execution_count": 134,
   "metadata": {
    "ExecuteTime": {
     "end_time": "2021-11-18T05:09:54.800389Z",
     "start_time": "2021-11-18T05:09:54.786427Z"
    }
   },
   "outputs": [
    {
     "data": {
      "text/plain": [
       "array([[-1, -4,  7],\n",
       "       [ 2,  5,  8],\n",
       "       [ 3,  6, -9]])"
      ]
     },
     "execution_count": 134,
     "metadata": {},
     "output_type": "execute_result"
    }
   ],
   "source": [
    "# 전치행렬: 대각선 기준 회전\n",
    "a2d.T"
   ]
  },
  {
   "cell_type": "code",
   "execution_count": 135,
   "metadata": {
    "ExecuteTime": {
     "end_time": "2021-11-18T05:09:54.815349Z",
     "start_time": "2021-11-18T05:09:54.801389Z"
    }
   },
   "outputs": [
    {
     "data": {
      "text/plain": [
       "array([[-1, -4,  7],\n",
       "       [ 2,  5,  8],\n",
       "       [ 3,  6, -9]])"
      ]
     },
     "execution_count": 135,
     "metadata": {},
     "output_type": "execute_result"
    }
   ],
   "source": [
    "# 전치행렬: 대각선 기준 회전\n",
    "# 함수사용 변환가능\n",
    "np.transpose(a2d)"
   ]
  },
  {
   "cell_type": "code",
   "execution_count": 136,
   "metadata": {
    "ExecuteTime": {
     "end_time": "2021-11-18T05:09:54.830309Z",
     "start_time": "2021-11-18T05:09:54.816348Z"
    }
   },
   "outputs": [
    {
     "data": {
      "text/plain": [
       "array([ 2, 15,  0])"
      ]
     },
     "execution_count": 136,
     "metadata": {},
     "output_type": "execute_result"
    }
   ],
   "source": [
    "# 세로로 더하기\n",
    "np.sum(a2d, axis=0)"
   ]
  },
  {
   "cell_type": "code",
   "execution_count": 137,
   "metadata": {
    "ExecuteTime": {
     "end_time": "2021-11-18T05:09:54.845269Z",
     "start_time": "2021-11-18T05:09:54.831308Z"
    }
   },
   "outputs": [
    {
     "data": {
      "text/plain": [
       "array([4, 7, 6])"
      ]
     },
     "execution_count": 137,
     "metadata": {},
     "output_type": "execute_result"
    }
   ],
   "source": [
    "# 가로로 더하기\n",
    "np.sum(a2d, axis=1)"
   ]
  },
  {
   "cell_type": "code",
   "execution_count": 138,
   "metadata": {
    "ExecuteTime": {
     "end_time": "2021-11-18T05:09:54.860229Z",
     "start_time": "2021-11-18T05:09:54.846268Z"
    }
   },
   "outputs": [
    {
     "data": {
      "text/plain": [
       "17"
      ]
     },
     "execution_count": 138,
     "metadata": {},
     "output_type": "execute_result"
    }
   ],
   "source": [
    "# 전체 더하기\n",
    "np.sum(a2d)"
   ]
  },
  {
   "cell_type": "code",
   "execution_count": 139,
   "metadata": {
    "ExecuteTime": {
     "end_time": "2021-11-18T05:09:54.875189Z",
     "start_time": "2021-11-18T05:09:54.861228Z"
    }
   },
   "outputs": [
    {
     "data": {
      "text/plain": [
       "array([[-1,  2,  3],\n",
       "       [-4,  5,  6],\n",
       "       [ 7,  8, -9]])"
      ]
     },
     "execution_count": 139,
     "metadata": {},
     "output_type": "execute_result"
    }
   ],
   "source": [
    "a2d"
   ]
  },
  {
   "cell_type": "code",
   "execution_count": 140,
   "metadata": {
    "ExecuteTime": {
     "end_time": "2021-11-18T05:09:54.890149Z",
     "start_time": "2021-11-18T05:09:54.876188Z"
    }
   },
   "outputs": [
    {
     "data": {
      "text/plain": [
       "array([-1,  1,  4,  0,  5, 11, 18, 26, 17])"
      ]
     },
     "execution_count": 140,
     "metadata": {},
     "output_type": "execute_result"
    }
   ],
   "source": [
    "# 누적합\n",
    "np.cumsum(a2d)"
   ]
  },
  {
   "cell_type": "code",
   "execution_count": 141,
   "metadata": {
    "ExecuteTime": {
     "end_time": "2021-11-18T05:09:54.905109Z",
     "start_time": "2021-11-18T05:09:54.891147Z"
    }
   },
   "outputs": [
    {
     "data": {
      "text/plain": [
       "-362880"
      ]
     },
     "execution_count": 141,
     "metadata": {},
     "output_type": "execute_result"
    }
   ],
   "source": [
    "# 곱하기\n",
    "np.prod(a2d)"
   ]
  },
  {
   "cell_type": "code",
   "execution_count": 142,
   "metadata": {
    "ExecuteTime": {
     "end_time": "2021-11-18T05:09:54.920069Z",
     "start_time": "2021-11-18T05:09:54.906107Z"
    }
   },
   "outputs": [
    {
     "data": {
      "text/plain": [
       "array([  28,   80, -162])"
      ]
     },
     "execution_count": 142,
     "metadata": {},
     "output_type": "execute_result"
    }
   ],
   "source": [
    "# 세로로 곱하기\n",
    "np.prod(a2d, axis=0)"
   ]
  },
  {
   "cell_type": "code",
   "execution_count": 143,
   "metadata": {
    "ExecuteTime": {
     "end_time": "2021-11-18T05:09:54.935029Z",
     "start_time": "2021-11-18T05:09:54.921068Z"
    }
   },
   "outputs": [
    {
     "data": {
      "text/plain": [
       "array([  -6, -120, -504])"
      ]
     },
     "execution_count": 143,
     "metadata": {},
     "output_type": "execute_result"
    }
   ],
   "source": [
    "# 가로로 곱하기\n",
    "np.prod(a2d, axis=1)"
   ]
  },
  {
   "cell_type": "code",
   "execution_count": 144,
   "metadata": {
    "ExecuteTime": {
     "end_time": "2021-11-18T05:09:54.949989Z",
     "start_time": "2021-11-18T05:09:54.936029Z"
    }
   },
   "outputs": [
    {
     "data": {
      "text/plain": [
       "array([     -1,      -2,      -6,      24,     120,     720,    5040,\n",
       "         40320, -362880])"
      ]
     },
     "execution_count": 144,
     "metadata": {},
     "output_type": "execute_result"
    }
   ],
   "source": [
    "# 누적 곱하기\n",
    "np.cumprod(a2d)"
   ]
  },
  {
   "cell_type": "code",
   "execution_count": 145,
   "metadata": {
    "ExecuteTime": {
     "end_time": "2021-11-18T05:09:54.964949Z",
     "start_time": "2021-11-18T05:09:54.950987Z"
    }
   },
   "outputs": [
    {
     "data": {
      "text/plain": [
       "array([[  -1,    2,    3],\n",
       "       [   4,   10,   18],\n",
       "       [  28,   80, -162]])"
      ]
     },
     "execution_count": 145,
     "metadata": {},
     "output_type": "execute_result"
    }
   ],
   "source": [
    "# 세로로 누적 곱하기\n",
    "np.cumprod(a2d, axis=0)"
   ]
  },
  {
   "cell_type": "code",
   "execution_count": 146,
   "metadata": {
    "ExecuteTime": {
     "end_time": "2021-11-18T05:09:54.979909Z",
     "start_time": "2021-11-18T05:09:54.965947Z"
    }
   },
   "outputs": [
    {
     "data": {
      "text/plain": [
       "array([[  -1,   -2,   -6],\n",
       "       [  -4,  -20, -120],\n",
       "       [   7,   56, -504]])"
      ]
     },
     "execution_count": 146,
     "metadata": {},
     "output_type": "execute_result"
    }
   ],
   "source": [
    "# 가로로 누적 곱하기\n",
    "np.cumprod(a2d, axis=1)"
   ]
  },
  {
   "cell_type": "code",
   "execution_count": 147,
   "metadata": {
    "ExecuteTime": {
     "end_time": "2021-11-18T05:09:54.994869Z",
     "start_time": "2021-11-18T05:09:54.980908Z"
    }
   },
   "outputs": [
    {
     "data": {
      "text/plain": [
       "array([0.66666667, 5.        , 0.        ])"
      ]
     },
     "execution_count": 147,
     "metadata": {},
     "output_type": "execute_result"
    }
   ],
   "source": [
    "# 세로로 평균\n",
    "np.mean(a2d, axis=0)"
   ]
  },
  {
   "cell_type": "code",
   "execution_count": 148,
   "metadata": {
    "ExecuteTime": {
     "end_time": "2021-11-18T05:09:55.009829Z",
     "start_time": "2021-11-18T05:09:54.995869Z"
    }
   },
   "outputs": [
    {
     "data": {
      "text/plain": [
       "1.8888888888888888"
      ]
     },
     "execution_count": 148,
     "metadata": {},
     "output_type": "execute_result"
    }
   ],
   "source": [
    "# 전체 평균\n",
    "np.mean(a2d)"
   ]
  },
  {
   "cell_type": "code",
   "execution_count": 149,
   "metadata": {
    "ExecuteTime": {
     "end_time": "2021-11-18T05:09:55.024789Z",
     "start_time": "2021-11-18T05:09:55.010827Z"
    }
   },
   "outputs": [
    {
     "data": {
      "text/plain": [
       "array([4.64279609, 2.44948974, 6.4807407 ])"
      ]
     },
     "execution_count": 149,
     "metadata": {},
     "output_type": "execute_result"
    }
   ],
   "source": [
    "# 세로로 표준편차\n",
    "np.std(a2d, axis=0)"
   ]
  },
  {
   "cell_type": "code",
   "execution_count": 150,
   "metadata": {
    "ExecuteTime": {
     "end_time": "2021-11-18T05:09:55.039749Z",
     "start_time": "2021-11-18T05:09:55.025788Z"
    }
   },
   "outputs": [
    {
     "data": {
      "text/plain": [
       "5.30082686305625"
      ]
     },
     "execution_count": 150,
     "metadata": {},
     "output_type": "execute_result"
    }
   ],
   "source": [
    "# 전체 표준편차\n",
    "np.std(a2d)"
   ]
  },
  {
   "cell_type": "code",
   "execution_count": 151,
   "metadata": {
    "ExecuteTime": {
     "end_time": "2021-11-18T05:09:55.054709Z",
     "start_time": "2021-11-18T05:09:55.040748Z"
    }
   },
   "outputs": [
    {
     "data": {
      "text/plain": [
       "array([21.55555556,  6.        , 42.        ])"
      ]
     },
     "execution_count": 151,
     "metadata": {},
     "output_type": "execute_result"
    }
   ],
   "source": [
    "# 세로로 분산\n",
    "np.var(a2d, axis=0)"
   ]
  },
  {
   "cell_type": "code",
   "execution_count": 152,
   "metadata": {
    "ExecuteTime": {
     "end_time": "2021-11-18T05:09:55.069669Z",
     "start_time": "2021-11-18T05:09:55.055707Z"
    }
   },
   "outputs": [
    {
     "data": {
      "text/plain": [
       "array([-4,  2, -9])"
      ]
     },
     "execution_count": 152,
     "metadata": {},
     "output_type": "execute_result"
    }
   ],
   "source": [
    "# 세로로 최소값\n",
    "# 실제로 많이 사용\n",
    "np.min(a2d, axis=0)"
   ]
  },
  {
   "cell_type": "code",
   "execution_count": 153,
   "metadata": {
    "ExecuteTime": {
     "end_time": "2021-11-18T05:09:55.084657Z",
     "start_time": "2021-11-18T05:09:55.070667Z"
    }
   },
   "outputs": [
    {
     "data": {
      "text/plain": [
       "array([7, 8, 6])"
      ]
     },
     "execution_count": 153,
     "metadata": {},
     "output_type": "execute_result"
    }
   ],
   "source": [
    "# 세로로 최대값\n",
    "# 실제로 많이 사용\n",
    "np.max(a2d, axis=0)"
   ]
  },
  {
   "cell_type": "code",
   "execution_count": 154,
   "metadata": {
    "ExecuteTime": {
     "end_time": "2021-11-18T05:09:55.099617Z",
     "start_time": "2021-11-18T05:09:55.085628Z"
    }
   },
   "outputs": [
    {
     "data": {
      "text/plain": [
       "(-9, 8)"
      ]
     },
     "execution_count": 154,
     "metadata": {},
     "output_type": "execute_result"
    }
   ],
   "source": [
    "# 전체의 최소값과 최대값\n",
    "np.min(a2d), np.max(a2d)"
   ]
  },
  {
   "cell_type": "code",
   "execution_count": 155,
   "metadata": {
    "ExecuteTime": {
     "end_time": "2021-11-18T05:09:55.114578Z",
     "start_time": "2021-11-18T05:09:55.100587Z"
    }
   },
   "outputs": [
    {
     "data": {
      "text/plain": [
       "array([1, 0, 2])"
      ]
     },
     "execution_count": 155,
     "metadata": {},
     "output_type": "execute_result"
    }
   ],
   "source": [
    "# 최소값 인덱스\n",
    "# argmax보다는 덜 쓰이지만 자주 보임\n",
    "# 세로로 가장작은 값의 위치(인덱스)\n",
    "np.argmin(a2d, axis=0)"
   ]
  },
  {
   "cell_type": "code",
   "execution_count": 156,
   "metadata": {
    "ExecuteTime": {
     "end_time": "2021-11-18T05:09:55.129540Z",
     "start_time": "2021-11-18T05:09:55.115547Z"
    }
   },
   "outputs": [
    {
     "data": {
      "text/plain": [
       "array([2, 2, 1])"
      ]
     },
     "execution_count": 156,
     "metadata": {},
     "output_type": "execute_result"
    }
   ],
   "source": [
    "# 자주 사용합니다.\n",
    "# 최대값 존재하고 있는 인덱스 넘버를 리턴\n",
    "# 출력값이 인덱스\n",
    "# 세로로 가장큰 값의 위치(인덱스)\n",
    "np.argmax(a2d, axis=0)"
   ]
  },
  {
   "cell_type": "code",
   "execution_count": 157,
   "metadata": {
    "ExecuteTime": {
     "end_time": "2021-11-18T05:09:55.144469Z",
     "start_time": "2021-11-18T05:09:55.130507Z"
    }
   },
   "outputs": [
    {
     "data": {
      "text/plain": [
       "array([[-1,  2,  3],\n",
       "       [-5,  7,  9],\n",
       "       [ 2, 15,  0]])"
      ]
     },
     "execution_count": 157,
     "metadata": {},
     "output_type": "execute_result"
    }
   ],
   "source": [
    "# 세로로 누적합\n",
    "np.cumsum(a2d, axis=0)"
   ]
  },
  {
   "cell_type": "code",
   "execution_count": 158,
   "metadata": {
    "ExecuteTime": {
     "end_time": "2021-11-18T05:09:55.159457Z",
     "start_time": "2021-11-18T05:09:55.145467Z"
    }
   },
   "outputs": [
    {
     "data": {
      "text/plain": [
       "array([[  -1,    2,    3],\n",
       "       [   4,   10,   18],\n",
       "       [  28,   80, -162]])"
      ]
     },
     "execution_count": 158,
     "metadata": {},
     "output_type": "execute_result"
    }
   ],
   "source": [
    "# 세로로 누적곱\n",
    "np.cumprod(a2d, axis=0)"
   ]
  },
  {
   "cell_type": "code",
   "execution_count": 159,
   "metadata": {
    "ExecuteTime": {
     "end_time": "2021-11-18T05:09:55.174418Z",
     "start_time": "2021-11-18T05:09:55.160426Z"
    }
   },
   "outputs": [
    {
     "data": {
      "text/plain": [
       "array([[-1,  2,  3],\n",
       "       [-4,  5,  6],\n",
       "       [ 7,  8, -9]])"
      ]
     },
     "metadata": {},
     "output_type": "display_data"
    },
    {
     "data": {
      "text/plain": [
       "array([[1, 2, 3],\n",
       "       [4, 5, 6],\n",
       "       [7, 8, 9]])"
      ]
     },
     "metadata": {},
     "output_type": "display_data"
    }
   ],
   "source": [
    "a2d = np.array([[-1,2,3],[-4,5,6],[7,8,-9]])\n",
    "b2d = np.array([[1,2,3],[4,5,6],[7,8,9]])\n",
    "display(a2d, b2d)"
   ]
  },
  {
   "cell_type": "code",
   "execution_count": 160,
   "metadata": {
    "ExecuteTime": {
     "end_time": "2021-11-18T05:09:55.189350Z",
     "start_time": "2021-11-18T05:09:55.175388Z"
    }
   },
   "outputs": [
    {
     "data": {
      "text/plain": [
       "array([[-1,  2,  3],\n",
       "       [-4,  5,  6],\n",
       "       [ 7,  8, -9],\n",
       "       [ 1,  2,  3],\n",
       "       [ 4,  5,  6],\n",
       "       [ 7,  8,  9]])"
      ]
     },
     "execution_count": 160,
     "metadata": {},
     "output_type": "execute_result"
    }
   ],
   "source": [
    "# 세로로 붙이기\n",
    "c2d = np.concatenate((a2d, b2d), axis=0)\n",
    "c2d"
   ]
  },
  {
   "cell_type": "code",
   "execution_count": 161,
   "metadata": {
    "ExecuteTime": {
     "end_time": "2021-11-18T05:09:55.205334Z",
     "start_time": "2021-11-18T05:09:55.190347Z"
    }
   },
   "outputs": [
    {
     "data": {
      "text/plain": [
       "array([[-1,  2,  3,  1,  2,  3],\n",
       "       [-4,  5,  6,  4,  5,  6],\n",
       "       [ 7,  8, -9,  7,  8,  9]])"
      ]
     },
     "execution_count": 161,
     "metadata": {},
     "output_type": "execute_result"
    }
   ],
   "source": [
    "# 가로로 붙이기\n",
    "c2d = np.concatenate((a2d, b2d), axis=1)\n",
    "c2d"
   ]
  },
  {
   "cell_type": "code",
   "execution_count": 162,
   "metadata": {
    "ExecuteTime": {
     "end_time": "2021-11-18T05:09:55.220299Z",
     "start_time": "2021-11-18T05:09:55.206305Z"
    }
   },
   "outputs": [
    {
     "data": {
      "text/plain": [
       "array([[-1,  2],\n",
       "       [ 3,  1],\n",
       "       [ 2,  3],\n",
       "       [-4,  5],\n",
       "       [ 6,  4],\n",
       "       [ 5,  6],\n",
       "       [ 7,  8],\n",
       "       [-9,  7],\n",
       "       [ 8,  9]])"
      ]
     },
     "execution_count": 162,
     "metadata": {},
     "output_type": "execute_result"
    }
   ],
   "source": [
    "# 크기/형태 변경\n",
    "c2d.reshape((9,2))"
   ]
  },
  {
   "cell_type": "code",
   "execution_count": 163,
   "metadata": {
    "ExecuteTime": {
     "end_time": "2021-11-18T05:09:55.235227Z",
     "start_time": "2021-11-18T05:09:55.221264Z"
    }
   },
   "outputs": [
    {
     "data": {
      "text/plain": [
       "array([[-1,  2],\n",
       "       [ 3,  1],\n",
       "       [ 2,  3],\n",
       "       [-4,  5],\n",
       "       [ 6,  4],\n",
       "       [ 5,  6],\n",
       "       [ 7,  8],\n",
       "       [-9,  7],\n",
       "       [ 8,  9]])"
      ]
     },
     "execution_count": 163,
     "metadata": {},
     "output_type": "execute_result"
    }
   ],
   "source": [
    "# 크기/형태 변경\n",
    "# 함수 사용해서 변경 가능\n",
    "# 어떤 조건에서 reshape가능한가? 데이터 내부에 존재하는 속성 갯수가 같아야 함.\n",
    "np.reshape(c2d, (9,2))"
   ]
  },
  {
   "cell_type": "code",
   "execution_count": 164,
   "metadata": {
    "ExecuteTime": {
     "end_time": "2021-11-18T05:09:55.250186Z",
     "start_time": "2021-11-18T05:09:55.236224Z"
    }
   },
   "outputs": [
    {
     "data": {
      "text/plain": [
       "array([[ 1,  2,  3,  4],\n",
       "       [ 5,  6,  7,  8],\n",
       "       [ 9, 10, 11, 12],\n",
       "       [13, 14, 15, 16]])"
      ]
     },
     "execution_count": 164,
     "metadata": {},
     "output_type": "execute_result"
    }
   ],
   "source": [
    "a2d = np.array([[1, 2, 3, 4], [5, 6, 7, 8], [9, 10, 11, 12], [13 ,14 ,15, 16]])\n",
    "a2d"
   ]
  },
  {
   "cell_type": "code",
   "execution_count": 165,
   "metadata": {
    "ExecuteTime": {
     "end_time": "2021-11-18T05:09:55.265149Z",
     "start_time": "2021-11-18T05:09:55.251185Z"
    }
   },
   "outputs": [
    {
     "data": {
      "text/plain": [
       "[array([[1, 2, 3, 4],\n",
       "        [5, 6, 7, 8]]),\n",
       " array([[ 9, 10, 11, 12],\n",
       "        [13, 14, 15, 16]])]"
      ]
     },
     "execution_count": 165,
     "metadata": {},
     "output_type": "execute_result"
    }
   ],
   "source": [
    "# 세로로 배열 분리하기\n",
    "np.split(a2d, 2, axis=0)"
   ]
  },
  {
   "cell_type": "code",
   "execution_count": 166,
   "metadata": {
    "ExecuteTime": {
     "end_time": "2021-11-18T05:09:55.280107Z",
     "start_time": "2021-11-18T05:09:55.266146Z"
    }
   },
   "outputs": [
    {
     "data": {
      "text/plain": [
       "[array([[ 1,  2],\n",
       "        [ 5,  6],\n",
       "        [ 9, 10],\n",
       "        [13, 14]]),\n",
       " array([[ 3,  4],\n",
       "        [ 7,  8],\n",
       "        [11, 12],\n",
       "        [15, 16]])]"
      ]
     },
     "execution_count": 166,
     "metadata": {},
     "output_type": "execute_result"
    }
   ],
   "source": [
    "# 가로로 배열 분리하기\n",
    "np.split(a2d, 2, axis=1)"
   ]
  },
  {
   "cell_type": "markdown",
   "metadata": {},
   "source": [
    "## Questions"
   ]
  },
  {
   "cell_type": "markdown",
   "metadata": {},
   "source": [
    "- **데이터 정보**\n",
    "\n",
    "> - **파일명:** Industry_MonthlyElectricUsage.txt\n",
    "> - **파일위치:** r'.\\Data\\Energy\\Industry_MonthlyElectricUsage.txt'\n",
    "> - **포함정보:** 아래와 같이 5개의 열(컬럼,변수)이 차례대로 포함\n",
    ">> (1) 년월    \n",
    ">> (2) 가구수    \n",
    ">> (3) 사용량    \n",
    ">> (4) 전기요금    \n",
    ">> (5) 평균판매단가    "
   ]
  },
  {
   "cell_type": "code",
   "execution_count": 256,
   "metadata": {
    "ExecuteTime": {
     "end_time": "2021-12-01T01:21:12.443020Z",
     "start_time": "2021-12-01T01:21:11.853356Z"
    },
    "scrolled": true
   },
   "outputs": [
    {
     "data": {
      "text/plain": [
       "array([[2.02001000e+05, 1.30000000e+01, 1.11140000e+04, 1.70977500e+06,\n",
       "        1.54000000e+02],\n",
       "       [2.02001000e+05, 5.05200000e+03, 1.66106290e+07, 2.29918341e+09,\n",
       "        1.38000000e+02],\n",
       "       [2.02001000e+05, 5.57000000e+03, 6.51106010e+07, 8.23555475e+09,\n",
       "        1.27000000e+02],\n",
       "       ...,\n",
       "       [2.02012000e+05, 9.00000000e+00, 0.00000000e+00, 0.00000000e+00,\n",
       "        0.00000000e+00],\n",
       "       [2.02012000e+05, 4.00000000e+00, 0.00000000e+00, 0.00000000e+00,\n",
       "        0.00000000e+00],\n",
       "       [2.02012000e+05, 1.30000000e+01, 0.00000000e+00, 0.00000000e+00,\n",
       "        0.00000000e+00]])"
      ]
     },
     "execution_count": 256,
     "metadata": {},
     "output_type": "execute_result"
    }
   ],
   "source": [
    "# 데이터 불러오기 실행\n",
    "import numpy as np\n",
    "### raw = np.loadtxt(r'/Users/suuup/Desktop/newminy/FC2022code/FC2204soil/Data/Energy/Industry_MonthlyElectricUsage.txt', delimiter='\\t')\n",
    "### 경로찾는법 \"./\" 입력한 상태에서 탭 눌러서 찾아다니기\n",
    "### float말고 int 로 보이려면 dtype=np.int 추가하면됨\n",
    "raw = np.loadtxt(r'./Data/Energy/Industry_MonthlyElectricUsage.txt', delimiter='\\t')\n",
    "raw"
   ]
  },
  {
   "cell_type": "code",
   "execution_count": 182,
   "metadata": {
    "ExecuteTime": {
     "end_time": "2021-11-18T05:09:55.339946Z",
     "start_time": "2021-11-18T05:09:55.325984Z"
    }
   },
   "outputs": [
    {
     "data": {
      "text/plain": [
       "(4473, 5)"
      ]
     },
     "execution_count": 182,
     "metadata": {},
     "output_type": "execute_result"
    }
   ],
   "source": [
    "# 데이터의 크기 확인하여 행과 열의 갯수 출력\n",
    "raw.shape"
   ]
  },
  {
   "cell_type": "code",
   "execution_count": 184,
   "metadata": {
    "ExecuteTime": {
     "end_time": "2021-11-18T05:09:55.354906Z",
     "start_time": "2021-11-18T05:09:55.340944Z"
    }
   },
   "outputs": [
    {
     "data": {
      "text/plain": [
       "0"
      ]
     },
     "execution_count": 184,
     "metadata": {},
     "output_type": "execute_result"
    }
   ],
   "source": [
    "# 결측값의 갯수를 출력\n",
    "np.isnan(raw).sum()"
   ]
  },
  {
   "cell_type": "code",
   "execution_count": 216,
   "metadata": {},
   "outputs": [
    {
     "name": "stderr",
     "output_type": "stream",
     "text": [
      "/Library/Frameworks/Python.framework/Versions/3.7/lib/python3.7/site-packages/ipykernel_launcher.py:3: DeprecationWarning: `np.int` is a deprecated alias for the builtin `int`. To silence this warning, use `int` by itself. Doing this will not modify any behavior and is safe. When replacing `np.int`, you may wish to use e.g. `np.int64` or `np.int32` to specify the precision. If you wish to review your current use, check the release note link for additional information.\n",
      "Deprecated in NumPy 1.20; for more details and guidance: https://numpy.org/devdocs/release/1.20.0-notes.html#deprecations\n",
      "  This is separate from the ipykernel package so we can avoid doing imports until\n"
     ]
    },
    {
     "data": {
      "text/plain": [
       "array([[    202001,         13,      11114,    1709775,        154],\n",
       "       [    202001,       5052,   16610629, 2299183410,        138],\n",
       "       [    202001,       5570,   65110601, 8235554751,        127],\n",
       "       ...,\n",
       "       [    202012,          9,          0,          0,          0],\n",
       "       [    202012,          4,          0,          0,          0],\n",
       "       [    202012,         13,          0,          0,          0]])"
      ]
     },
     "execution_count": 216,
     "metadata": {},
     "output_type": "execute_result"
    }
   ],
   "source": [
    "# ### 타입 변환시킴\n",
    "# raw.dtype\n",
    "# raw = np.array(raw, dtype=np.int)\n",
    "# raw"
   ]
  },
  {
   "cell_type": "code",
   "execution_count": 311,
   "metadata": {
    "ExecuteTime": {
     "end_time": "2021-11-18T05:09:55.369866Z",
     "start_time": "2021-11-18T05:09:55.355904Z"
    }
   },
   "outputs": [
    {
     "data": {
      "text/plain": [
       "array([202001., 202002., 202003., 202004., 202005., 202006., 202007.,\n",
       "       202008., 202009., 202010., 202011., 202012.])"
      ]
     },
     "execution_count": 311,
     "metadata": {},
     "output_type": "execute_result"
    }
   ],
   "source": [
    "# 1) 중복되지 않은 년월 값들 출력\n",
    "### date_arr = np.split(raw,5,axis=1)\n",
    "date_arr = np.unique(np.split(raw,5,axis=1)[0])\n",
    "date_arr"
   ]
  },
  {
   "cell_type": "code",
   "execution_count": 389,
   "metadata": {},
   "outputs": [
    {
     "data": {
      "text/plain": [
       "array([202001., 202002., 202003., 202004., 202005., 202006., 202007.,\n",
       "       202008., 202009., 202010., 202011., 202012.])"
      ]
     },
     "execution_count": 389,
     "metadata": {},
     "output_type": "execute_result"
    }
   ],
   "source": [
    "### 전치행렬사용해보기\n",
    "np.unique(raw.T[0,:])"
   ]
  },
  {
   "cell_type": "code",
   "execution_count": 283,
   "metadata": {},
   "outputs": [
    {
     "data": {
      "text/plain": [
       "12"
      ]
     },
     "execution_count": 283,
     "metadata": {},
     "output_type": "execute_result"
    }
   ],
   "source": [
    "# 2) 1)의 출력값 갯수 출력\n",
    "# date_arr.shape[0]\n",
    "# np.shape(date_arr)[0]\n",
    "len(date_arr)"
   ]
  },
  {
   "cell_type": "code",
   "execution_count": 258,
   "metadata": {
    "ExecuteTime": {
     "end_time": "2021-11-18T05:09:55.384826Z",
     "start_time": "2021-11-18T05:09:55.370864Z"
    }
   },
   "outputs": [
    {
     "name": "stdout",
     "output_type": "stream",
     "text": [
      "가구수 평균: 30198.262\\ 사용량 평균: 185754100.524\n"
     ]
    }
   ],
   "source": [
    "# 전체 기간의 가구수 평균과 사용량 평균 출력\n",
    "# 0(1) 년월\n",
    "# 1(2) 가구수\n",
    "# 2(3) 사용량\n",
    "# 3(4) 전기요금\n",
    "# 4(5) 평균판매단가\n",
    "a = np.mean(np.split(raw,5,axis=1)[1])\n",
    "b = np.mean(np.split(raw,5,axis=1)[2])\n",
    "print(\"가구수 평균: {}\\ 사용량 평균: {}\".format(round(a,3),round(b,3)))"
   ]
  },
  {
   "cell_type": "code",
   "execution_count": 263,
   "metadata": {
    "ExecuteTime": {
     "end_time": "2021-11-18T05:09:55.399788Z",
     "start_time": "2021-11-18T05:09:55.385825Z"
    }
   },
   "outputs": [
    {
     "data": {
      "text/plain": [
       "(-17844180.0, 9193268214.0)"
      ]
     },
     "execution_count": 263,
     "metadata": {},
     "output_type": "execute_result"
    }
   ],
   "source": [
    "# 사용량 최대값과 최소값 출력\n",
    "np.min(np.split(raw,5,axis=1)[2]),\\\n",
    "np.max(np.split(raw,5,axis=1)[2])"
   ]
  },
  {
   "cell_type": "code",
   "execution_count": 219,
   "metadata": {
    "ExecuteTime": {
     "end_time": "2021-11-18T05:09:55.414746Z",
     "start_time": "2021-11-18T05:09:55.400786Z"
    }
   },
   "outputs": [],
   "source": [
    "# 1) raw에서 사용량이 음수인 행 출력\n",
    "# 2) raw에서 사용량이 음수인 행을 모두 양수로 바꾸어 출력(raw에 저장이 아닌 오로지 출력만!)\n",
    "# 3) (2)의 결과를 raw에 저장하지 않고 음수 행이 존재하는)raw에서, \n",
    "# 4) raw_filter의 데이터 크기 확인하여 행과 열의 갯수 출력(raw의 행과 열 갯수와 다름)"
   ]
  },
  {
   "cell_type": "code",
   "execution_count": 265,
   "metadata": {
    "ExecuteTime": {
     "end_time": "2021-11-18T05:09:55.414746Z",
     "start_time": "2021-11-18T05:09:55.400786Z"
    }
   },
   "outputs": [
    {
     "data": {
      "text/plain": [
       "array([[ 2.02011000e+05,  6.43300000e+03, -1.78441800e+07,\n",
       "         1.56945295e+09, -8.80000000e+01]])"
      ]
     },
     "execution_count": 265,
     "metadata": {},
     "output_type": "execute_result"
    }
   ],
   "source": [
    "# 1) raw에서 사용량이 음수인 행 출력\n",
    "filter = raw[:,2] < 0\n",
    "raw[filter]"
   ]
  },
  {
   "cell_type": "code",
   "execution_count": 266,
   "metadata": {},
   "outputs": [
    {
     "data": {
      "text/plain": [
       "array([[2.02011000e+05, 6.43300000e+03, 1.78441800e+07, 1.56945295e+09,\n",
       "        8.80000000e+01]])"
      ]
     },
     "execution_count": 266,
     "metadata": {},
     "output_type": "execute_result"
    }
   ],
   "source": [
    "# 2) raw에서 사용량이 음수인 행을 모두 양수로 바꾸어 출력(raw에 저장이 아닌 오로지 출력만!)\n",
    "np.abs(raw[filter])\n",
    "# raw[raw<0]*(-1)"
   ]
  },
  {
   "cell_type": "code",
   "execution_count": 288,
   "metadata": {},
   "outputs": [
    {
     "data": {
      "text/plain": [
       "array([[2.02001000e+05, 1.30000000e+01, 1.11140000e+04, 1.70977500e+06,\n",
       "        1.54000000e+02],\n",
       "       [2.02001000e+05, 5.05200000e+03, 1.66106290e+07, 2.29918341e+09,\n",
       "        1.38000000e+02],\n",
       "       [2.02001000e+05, 5.57000000e+03, 6.51106010e+07, 8.23555475e+09,\n",
       "        1.27000000e+02],\n",
       "       ...,\n",
       "       [2.02012000e+05, 9.00000000e+00, 0.00000000e+00, 0.00000000e+00,\n",
       "        0.00000000e+00],\n",
       "       [2.02012000e+05, 4.00000000e+00, 0.00000000e+00, 0.00000000e+00,\n",
       "        0.00000000e+00],\n",
       "       [2.02012000e+05, 1.30000000e+01, 0.00000000e+00, 0.00000000e+00,\n",
       "        0.00000000e+00]])"
      ]
     },
     "execution_count": 288,
     "metadata": {},
     "output_type": "execute_result"
    }
   ],
   "source": [
    "# 3) (2)의 결과를 raw에 저장하지 않고 음수 행이 존재하는)raw에서, \n",
    "#    사용량이 음수인 행을 필터/삭제하고 나머지를 새로운 raw_filter 이름으로 저장\n",
    "mask = (raw[:,2]<0)\n",
    "mask\n",
    "raw_filter = raw[~mask]\n",
    "raw_filter"
   ]
  },
  {
   "cell_type": "code",
   "execution_count": 289,
   "metadata": {},
   "outputs": [
    {
     "data": {
      "text/plain": [
       "(4472, 5)"
      ]
     },
     "execution_count": 289,
     "metadata": {},
     "output_type": "execute_result"
    }
   ],
   "source": [
    "# 4) raw_filter의 데이터 크기 확인하여 행과 열의 갯수 출력(raw의 행과 열 갯수와 다름)\n",
    "raw_filter.shape"
   ]
  },
  {
   "cell_type": "code",
   "execution_count": 291,
   "metadata": {
    "ExecuteTime": {
     "end_time": "2021-11-18T05:09:55.429706Z",
     "start_time": "2021-11-18T05:09:55.415744Z"
    }
   },
   "outputs": [
    {
     "data": {
      "text/plain": [
       "(0.0, 1103271084397.0)"
      ]
     },
     "execution_count": 291,
     "metadata": {},
     "output_type": "execute_result"
    }
   ],
   "source": [
    "# raw_filter의 전기요금 최대값과 최소값 출력\n",
    "# 0(1) 년월\n",
    "# 1(2) 가구수\n",
    "# 2(3) 사용량\n",
    "# 3(4) 전기요금\n",
    "# 4(5) 평균판매단가\n",
    "np.min(np.split(raw_filter,5,axis=1)[3]),\\\n",
    "np.max(np.split(raw_filter,5,axis=1)[3])"
   ]
  },
  {
   "cell_type": "code",
   "execution_count": 350,
   "metadata": {
    "ExecuteTime": {
     "end_time": "2021-11-18T05:09:55.444666Z",
     "start_time": "2021-11-18T05:09:55.430705Z"
    }
   },
   "outputs": [
    {
     "data": {
      "text/plain": [
       "array([[1047085],\n",
       "       [1048124],\n",
       "       [1058508],\n",
       "       [1061014],\n",
       "       [1083600]])"
      ]
     },
     "execution_count": 350,
     "metadata": {},
     "output_type": "execute_result"
    }
   ],
   "source": [
    "# raw_filter에서 전기요금으로 1조가 넘는 비용을 지불한 년월 출력\n",
    "# 1) raw_filter에서 전기요금으로 1조가 넘는 비용을 지불한 년월의 가구수 출력\n",
    "mask = (raw_filter[:,3]>10000*10000*10000)\n",
    "arr_a = np.array(np.split(raw_filter[mask],5,axis=1)[1], dtype=int)\n",
    "arr_a"
   ]
  },
  {
   "cell_type": "code",
   "execution_count": 413,
   "metadata": {
    "ExecuteTime": {
     "end_time": "2021-11-18T05:09:55.459626Z",
     "start_time": "2021-11-18T05:09:55.445664Z"
    }
   },
   "outputs": [
    {
     "data": {
      "text/plain": [
       "('인덱스: ', array([4143.]), '가구수 최대값: ', array([1083600.]))"
      ]
     },
     "execution_count": 413,
     "metadata": {},
     "output_type": "execute_result"
    }
   ],
   "source": [
    "# 2) 1)에서 구한 가구수들 중 최대값과 최대값의 인덱스(순번) 출력\n",
    "### https://stackoverflow.com/questions/65745624/python-adding-index-as-new-column-to-2d-array\n",
    "new = np.array(range(1,len(raw_filter)+1))[...,None] # reshape\n",
    "new\n",
    "new_raw = np.append(new, raw_filter, axis=1)\n",
    "mask1 = (new_raw[:,2]==np.max(arr_a))\n",
    "# elec_max = np.split(new_raw[mask1],6,axis=1)\n",
    "# # np.max(elec_max[2])\n",
    "# elec_max[0], elec_max[2]\n",
    "\"인덱스: \", new_raw[mask1,0], \"가구수 최대값: \",new_raw[mask1,2]"
   ]
  },
  {
   "cell_type": "code",
   "execution_count": 405,
   "metadata": {},
   "outputs": [
    {
     "data": {
      "text/plain": [
       "array([4, 4, 4, 4, 2])"
      ]
     },
     "execution_count": 405,
     "metadata": {},
     "output_type": "execute_result"
    }
   ],
   "source": [
    "### 최대값인덱스 함수 쓰는건가본데?\n",
    "# raw_filter[raw_filter[:,3]>(10000*10000*10000)]\n",
    "np.argmax(raw_filter[raw_filter[:,3]>(10000*10000*10000)],axis=0) "
   ]
  },
  {
   "cell_type": "code",
   "execution_count": 412,
   "metadata": {},
   "outputs": [
    {
     "data": {
      "text/plain": [
       "array([2.02012000e+05, 1.08360000e+06, 9.19326821e+09, 1.10327108e+12,\n",
       "       1.20000000e+02])"
      ]
     },
     "execution_count": 412,
     "metadata": {},
     "output_type": "execute_result"
    }
   ],
   "source": [
    "raw_filter[raw_filter[:,3]>(10000*10000*10000)][4,:]"
   ]
  },
  {
   "cell_type": "code",
   "execution_count": 408,
   "metadata": {},
   "outputs": [
    {
     "data": {
      "text/plain": [
       "(202012.0, array([202012.]), 202012.0)"
      ]
     },
     "execution_count": 408,
     "metadata": {},
     "output_type": "execute_result"
    }
   ],
   "source": [
    "# 3) 2)에서 구한 최대값에 해당되는 년월 출력\n",
    "# elec_max[1]\n",
    "raw_filter[4143,0], new_raw[mask1,1], raw_filter[raw_filter[:,3]>(10000*10000*10000)][4,0]"
   ]
  },
  {
   "cell_type": "code",
   "execution_count": 386,
   "metadata": {},
   "outputs": [
    {
     "data": {
      "text/plain": [
       "('2020', '년 ', '12.', '월')"
      ]
     },
     "execution_count": 386,
     "metadata": {},
     "output_type": "execute_result"
    }
   ],
   "source": [
    "### slice : https://note.nkmk.me/en/python-slice-usage/\n",
    "ans = list(new_raw[mask1,1])\n",
    "date_ans = str(ans[0])\n",
    "date_ans[0:4],\"년 \",date_ans[4:7],\"월\""
   ]
  },
  {
   "cell_type": "code",
   "execution_count": 178,
   "metadata": {
    "ExecuteTime": {
     "end_time": "2021-11-18T05:09:55.474586Z",
     "start_time": "2021-11-18T05:09:55.460624Z"
    }
   },
   "outputs": [],
   "source": [
    "# raw_filter 데이터에서,\n",
    "# 각 년월별, 아래 출력결과의 형식과 동일하게 년월 + 전기요금 최대값 + 전기요금 최소값 출력\n",
    "# 년월은 정수로 출력하고 나머지는 실수로 출력\n",
    "# 출력결과: '년월: 202001 , 전기요금최대값: 100000 , 전기요금최소값: 0'\n",
    "#           '년월: 202002 , 전기요금최대값: 110000 , 전기요금최소값: 100'\n",
    "#             ...\n"
   ]
  },
  {
   "cell_type": "code",
   "execution_count": null,
   "metadata": {},
   "outputs": [],
   "source": []
  }
 ],
 "metadata": {
  "hide_input": false,
  "kernelspec": {
   "display_name": "Python 3 (ipykernel)",
   "language": "python",
   "name": "python3"
  },
  "language_info": {
   "codemirror_mode": {
    "name": "ipython",
    "version": 3
   },
   "file_extension": ".py",
   "mimetype": "text/x-python",
   "name": "python",
   "nbconvert_exporter": "python",
   "pygments_lexer": "ipython3",
   "version": "3.7.3"
  },
  "toc": {
   "base_numbering": 1,
   "nav_menu": {},
   "number_sections": true,
   "sideBar": true,
   "skip_h1_title": false,
   "title_cell": "Table of Contents",
   "title_sidebar": "Contents",
   "toc_cell": false,
   "toc_position": {
    "height": "calc(100% - 180px)",
    "left": "10px",
    "top": "150px",
    "width": "178.945px"
   },
   "toc_section_display": true,
   "toc_window_display": true
  },
  "toc-autonumbering": true,
  "toc-showmarkdowntxt": false,
  "varInspector": {
   "cols": {
    "lenName": 16,
    "lenType": 16,
    "lenVar": 40
   },
   "kernels_config": {
    "python": {
     "delete_cmd_postfix": "",
     "delete_cmd_prefix": "del ",
     "library": "var_list.py",
     "varRefreshCmd": "print(var_dic_list())"
    },
    "r": {
     "delete_cmd_postfix": ") ",
     "delete_cmd_prefix": "rm(",
     "library": "var_list.r",
     "varRefreshCmd": "cat(var_dic_list()) "
    }
   },
   "types_to_exclude": [
    "module",
    "function",
    "builtin_function_or_method",
    "instance",
    "_Feature"
   ],
   "window_display": false
  }
 },
 "nbformat": 4,
 "nbformat_minor": 4
}
