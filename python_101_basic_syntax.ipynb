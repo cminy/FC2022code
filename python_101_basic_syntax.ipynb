{
  "cells": [
    {
      "cell_type": "markdown",
      "metadata": {
        "id": "view-in-github",
        "colab_type": "text"
      },
      "source": [
        "<a href=\"https://colab.research.google.com/github/cminy/FC2022code/blob/main/python_101_basic_syntax.ipynb\" target=\"_parent\"><img src=\"https://colab.research.google.com/assets/colab-badge.svg\" alt=\"Open In Colab\"/></a>"
      ]
    },
    {
      "cell_type": "markdown",
      "metadata": {
        "id": "KPUO2ogpAVEH"
      },
      "source": [
        "# jupyter notebook\n",
        "- cell 단위로 python 코드를 실행\n",
        "- mode\n",
        "    - 명령모드(esc) : 셀을 수정\n",
        "    - 편집모드(enter) : 셀의 내용을 수정\n",
        "- style\n",
        "    - markdown : 간단한 문자열 출력 문법 : 설명글\n",
        "    - code : python 코드를 실행\n",
        "- shortcut : 단축키\n",
        "    - shift + enter : 코드 실행\n",
        "    - esc + a, b : 셀 생성\n",
        "    - ctrl + space : 자동완성, 함수 설명 보기\n",
        "    - esc + z : 셀 삭제\n",
        "    - cmd(ctrl) + / : 주석 설정\n",
        "- special command : %< command >, %% < comamnd >\n",
        "    - 파일리스트 보기, 파일 내용보기, 파일쓰기 등"
      ]
    },
    {
      "cell_type": "markdown",
      "source": [
        "# Python\n",
        "cpu, ram, hdd(ssd)를 사용하기 위해 작성되는 프로그래밍 코드의 종류\n",
        "\n",
        "1. 변수선언 : ram에 저장공간을 만들어 데이터를 저장하는 방법\n",
        "2. 데이터타입 : ram을 효율적으로 사용할수 있도록 하는 방법\n",
        "  - int, float, bool, str, list, tuple, dict, set\n",
        "3. 연산자 : cpu 자원을 사용하기 위한 방법\n",
        "  - 산술, 할당, 비교, 논리, 멤버\n",
        "4. 조건문 : 조건에 따라서 다른 코드를 실행하는 방법 : 코드를 효율적으로 작성\n",
        "  - if, elif, else\n",
        "5. 반복문 : 특정 코드를 반복적으로 실행하는 방법 : 코드를 효율적으로 작성\n",
        "  - while, for in, break, continue, range()\n",
        "6. 함수 : 중복되는 코드를 묶어서 사용하는 방법\n",
        "  - def, return, lambda\n",
        "7. 클래스 : 변수, 함수를 묶어서 사용하는 방법\n",
        "  - class, self\n",
        "8. 모듈 : 변수, 함수, 클래스를 하나의 파일(.py)로 묶어서 사용하는 방법\n",
        "9. 패키지 : 모듈을 디렉토리로 묶어서 사용하는 방법\n",
        "  - import, from, as\n",
        "10. 입출력 : ram > hdd(ssd), hdd(ssd) > ram\n",
        "  - pickle\n",
        "11. 예외처리 : 코드 실행중 에러가 발행했을때 처리하는 문법\n",
        "  - try, except, finally"
      ],
      "metadata": {
        "id": "xYqG4-ZtQurz"
      }
    },
    {
      "cell_type": "markdown",
      "source": [
        "###1.   변수선언\n",
        "\n",
        "- 식별자 : 저장공간을 구분하는 문자열\n",
        "- 대소문자, 숫자, 로우대쉬 문자만 사용가능\n",
        "- 가장 앞에 숫자가 올 수 없습니다.\n",
        "- 명령어(예약어) 사용 X\n",
        "- 합성어 사용시 snake_case 사용 : (camelCase, PascalCase)\n"
      ],
      "metadata": {
        "id": "S5PB1NfIRwOM"
      }
    },
    {
      "cell_type": "code",
      "source": [
        " data1 = 1\n",
        " data2 = 2"
      ],
      "metadata": {
        "id": "axYZrE1PSB1V"
      },
      "execution_count": null,
      "outputs": []
    },
    {
      "cell_type": "code",
      "source": [
        "data1, data2 = 1, 2"
      ],
      "metadata": {
        "id": "pFg18bfJSS6r"
      },
      "execution_count": null,
      "outputs": []
    },
    {
      "cell_type": "code",
      "source": [
        "data1 = data2 = 3"
      ],
      "metadata": {
        "id": "NoZMa1snSWmh"
      },
      "execution_count": null,
      "outputs": []
    },
    {
      "cell_type": "code",
      "source": [
        "# 변수 안에 있는 값 출력 : print\n",
        "print(data1, data2)"
      ],
      "metadata": {
        "colab": {
          "base_uri": "https://localhost:8080/"
        },
        "id": "u7aV5ORzSkfI",
        "outputId": "fbe405ef-6e97-4869-e2ff-1732550343fd"
      },
      "execution_count": null,
      "outputs": [
        {
          "output_type": "stream",
          "name": "stdout",
          "text": [
            "3 3\n"
          ]
        }
      ]
    },
    {
      "cell_type": "markdown",
      "source": [
        "###2. 데이터 타입\n",
        "- 기본 데이터 타입 : int, float, bool, str\n",
        "  - 식별자 하나(저장공간 하나)에 데이터 하나만 저장\n",
        "- 컬렉션 데이터 타입 : list, tuple, dict, set\n",
        "  - 식별자 하나에 여러개의 데이터가 저장"
      ],
      "metadata": {
        "id": "fRh5-ouBT7pm"
      }
    },
    {
      "cell_type": "markdown",
      "source": [
        "- 동적타이핑 : 변수를 선언할때 자동으로 데이터 타입을 지정 \n",
        "  - (인터프리터언어특징) 파이썬의 특징으로 타입 지정해주지 않았는데 동적타이핑 기능이 있어서 type이 자동으로 지정됨.\n",
        "  - 다른 언어(컴파일러언어)의 변수선언 예) int data1 = 10"
      ],
      "metadata": {
        "id": "mGVVs1NuonHT"
      }
    },
    {
      "cell_type": "code",
      "source": [
        "# type() : 데이터 타입 확인\n",
        "data1, data2, data3, data4 = -2, 4.3, True, \"python\"\n",
        "type(data1),type(data2),type(data3),type(data4)"
      ],
      "metadata": {
        "colab": {
          "base_uri": "https://localhost:8080/"
        },
        "id": "ChuOKBSvT8Gp",
        "outputId": "b4bd8626-1768-43bb-881c-21f23e75b423"
      },
      "execution_count": null,
      "outputs": [
        {
          "output_type": "execute_result",
          "data": {
            "text/plain": [
              "(int, float, bool, str)"
            ]
          },
          "metadata": {},
          "execution_count": 1
        }
      ]
    },
    {
      "cell_type": "markdown",
      "source": [
        "> 컬렉션 데이터 타입\n",
        "  - list [ ] : 순서가 있고 수정이 가능한 데이터 타입\n",
        "  - tuple ( ) : 순서가 있고 수정이 불가능한 데이터 타입\n",
        "  - dict { } : 순서가 없고 수정이 가능한 데이터 타입\n",
        "  - set() : 중복을 허용하지 않는 데이터 타입\n",
        "\n",
        "- list, tuple 는 idx가 있어 순서가 있다(iterable). 둘의 차이는 수정 가능/불가능\n",
        "- tuple을 사용하는 이유 : list와 같은 데이터를 저장하면 저장공간을 더 적게 사용"
      ],
      "metadata": {
        "id": "ZwcyH7ZQVCmm"
      }
    },
    {
      "cell_type": "code",
      "source": [
        "# list [] : 순서가 있고(iterable),수정 가능\n",
        "data1 = [1, 2, \"A\", \"B\", \"C\"] # int, string 타입의 데이터를 넣어줌\n",
        "type(data1), data1"
      ],
      "metadata": {
        "colab": {
          "base_uri": "https://localhost:8080/"
        },
        "id": "LbJHO3gfUo4f",
        "outputId": "ee949304-0997-4b0f-857a-8bbde6f290c0"
      },
      "execution_count": null,
      "outputs": [
        {
          "output_type": "execute_result",
          "data": {
            "text/plain": [
              "(list, [1, 2, 'A', 'B', 'C'])"
            ]
          },
          "metadata": {},
          "execution_count": 3
        }
      ]
    },
    {
      "cell_type": "code",
      "source": [
        "# tuple () : 순서가 있고, 수정 불가능\n",
        "data2 = (1, 2, \"A\", \"B\", \"C\")\n",
        "type(data2), data2"
      ],
      "metadata": {
        "colab": {
          "base_uri": "https://localhost:8080/"
        },
        "id": "wEiVLayJaCXl",
        "outputId": "fb696615-2d43-4051-9d34-8a94c42ebc99"
      },
      "execution_count": null,
      "outputs": [
        {
          "output_type": "execute_result",
          "data": {
            "text/plain": [
              "(tuple, (1, 2, 'A', 'B', 'C'))"
            ]
          },
          "metadata": {},
          "execution_count": 6
        }
      ]
    },
    {
      "cell_type": "code",
      "source": [
        "# 데이터 선택 : masking : [] : 특정 위치에 있는 데이터 꺼내오기\n",
        "# data[index], data[start(포함O):end(포함x)], data[start:end:stride] #stride 몇칸씩 점프한다."
      ],
      "metadata": {
        "id": "UbWtpEe9ds9e"
      },
      "execution_count": null,
      "outputs": []
    },
    {
      "cell_type": "code",
      "source": [
        "print(data1)\n",
        "data1[2], data1[1:3], data1[1:4:2]"
      ],
      "metadata": {
        "colab": {
          "base_uri": "https://localhost:8080/"
        },
        "id": "F3lu51Msd5Vc",
        "outputId": "aac6cca7-8e76-4dad-b0f3-e07228d1b607"
      },
      "execution_count": null,
      "outputs": [
        {
          "output_type": "stream",
          "name": "stdout",
          "text": [
            "[1, 2, 'A', 'B', 'C']\n"
          ]
        },
        {
          "output_type": "execute_result",
          "data": {
            "text/plain": [
              "('A', [2, 'A'], [2, 'B'])"
            ]
          },
          "metadata": {},
          "execution_count": 12
        }
      ]
    },
    {
      "cell_type": "code",
      "source": [
        "data1[-2], data1[-3:-1],data1[:3], data1[2:], data1[::1], data1[::-1], data1[::-2]"
      ],
      "metadata": {
        "colab": {
          "base_uri": "https://localhost:8080/"
        },
        "id": "texWwwV5eI47",
        "outputId": "d93b5c1c-a8b6-4aa9-f10c-d30e3130936a"
      },
      "execution_count": null,
      "outputs": [
        {
          "output_type": "execute_result",
          "data": {
            "text/plain": [
              "('B',\n",
              " ['A', 'B'],\n",
              " [1, 2, 'A'],\n",
              " ['A', 'B', 'C'],\n",
              " [1, 2, 'A', 'B', 'C'],\n",
              " ['C', 'B', 'A', 2, 1],\n",
              " ['C', 'A', 1])"
            ]
          },
          "metadata": {},
          "execution_count": 5
        }
      ]
    },
    {
      "cell_type": "code",
      "source": [
        "data2[-2], data2[-3:-1],data2[:3], data2[2:], data2[::1], data2[::-1], data2[::-2]"
      ],
      "metadata": {
        "colab": {
          "base_uri": "https://localhost:8080/"
        },
        "id": "aPXc0gcswAR0",
        "outputId": "fd6047e2-ec75-4b53-f97b-c073feb52d02"
      },
      "execution_count": null,
      "outputs": [
        {
          "output_type": "execute_result",
          "data": {
            "text/plain": [
              "('B',\n",
              " ('A', 'B'),\n",
              " (1, 2, 'A'),\n",
              " ('A', 'B', 'C'),\n",
              " (1, 2, 'A', 'B', 'C'),\n",
              " ('C', 'B', 'A', 2, 1),\n",
              " ('C', 'A', 1))"
            ]
          },
          "metadata": {},
          "execution_count": 7
        }
      ]
    },
    {
      "cell_type": "code",
      "source": [
        "data = \"jupyter notebook\"\n",
        "# note만 출력\n",
        "findstr = \"note\"\n",
        "data[data.find(\"note\"):data.find(\"note\")+len(findstr)]"
      ],
      "metadata": {
        "colab": {
          "base_uri": "https://localhost:8080/",
          "height": 36
        },
        "id": "QcoqiHGlwV3K",
        "outputId": "ca33eb2b-d979-41ff-d580-3c246e53f2bf"
      },
      "execution_count": null,
      "outputs": [
        {
          "output_type": "execute_result",
          "data": {
            "text/plain": [
              "'note'"
            ],
            "application/vnd.google.colaboratory.intrinsic+json": {
              "type": "string"
            }
          },
          "metadata": {},
          "execution_count": 11
        }
      ]
    },
    {
      "cell_type": "code",
      "source": [
        "data = \"kyobo(2020)\"\n",
        "data = \"kyobo_stock(2021)\"\n",
        "data[-5:-1]"
      ],
      "metadata": {
        "colab": {
          "base_uri": "https://localhost:8080/",
          "height": 36
        },
        "id": "e7_uXN5nw-3O",
        "outputId": "c15b87e8-cf1f-49af-b5d3-ee84eccdbe36"
      },
      "execution_count": null,
      "outputs": [
        {
          "output_type": "execute_result",
          "data": {
            "text/plain": [
              "'2021'"
            ],
            "application/vnd.google.colaboratory.intrinsic+json": {
              "type": "string"
            }
          },
          "metadata": {},
          "execution_count": 12
        }
      ]
    },
    {
      "cell_type": "code",
      "source": [
        "# 데이터 수정 : 데이터 선택 = 수정할 데이터\n",
        "# print(data1)\n",
        "data1[2] # 데이터 선택\n",
        "data1[2] = \"D\" # 데이터 수정"
      ],
      "metadata": {
        "colab": {
          "base_uri": "https://localhost:8080/"
        },
        "id": "gi4i9LADdb2U",
        "outputId": "c4b1b941-bf5c-4b87-b3ff-f862a1dde23b"
      },
      "execution_count": null,
      "outputs": [
        {
          "output_type": "stream",
          "name": "stdout",
          "text": [
            "[1, 2, 'D', 'B', 'C']\n"
          ]
        }
      ]
    },
    {
      "cell_type": "markdown",
      "source": [
        "tuple 데이터 수정 불가\n",
        "<br>`data2[2] = \"D\"` # TypeError: 'tuple' object does not support item assignment"
      ],
      "metadata": {
        "id": "IHEUy6Wrfvgo"
      }
    },
    {
      "cell_type": "code",
      "source": [
        "# tuple은 저장공간을 더 적게 사용한다.\n",
        "import sys\n",
        "d1, d2 = [1, 2, 3], (1, 2, 3)\n",
        "sys.getsizeof(d1), sys.getsizeof(d2)"
      ],
      "metadata": {
        "colab": {
          "base_uri": "https://localhost:8080/"
        },
        "id": "0OFnmBq3enSk",
        "outputId": "110b5a36-1e09-4540-a553-485c758f1c06"
      },
      "execution_count": null,
      "outputs": [
        {
          "output_type": "execute_result",
          "data": {
            "text/plain": [
              "(96, 80)"
            ]
          },
          "metadata": {},
          "execution_count": 14
        }
      ]
    },
    {
      "cell_type": "code",
      "source": [
        "# 데이터 삭제 방법\n",
        "d3 = data1[::2]\n",
        "d3"
      ],
      "metadata": {
        "colab": {
          "base_uri": "https://localhost:8080/"
        },
        "id": "FnWxqIxoytEY",
        "outputId": "a07b289b-2f40-43ba-92c6-5dd4e2e8a09d"
      },
      "execution_count": null,
      "outputs": [
        {
          "output_type": "execute_result",
          "data": {
            "text/plain": [
              "[1, 'A', 'C']"
            ]
          },
          "metadata": {},
          "execution_count": 15
        }
      ]
    },
    {
      "cell_type": "code",
      "source": [
        "# dict {} : 순서가 없고, 수정 가능\n",
        "# list, tuple에서 index값 대신 key값(int, str 타입) 사용\n",
        "# key값을 사용하면 value값에 정보를 담을 수 있다.\n",
        "data3 = {\"one\": 1, \"two\": 2, 1:\"A\", 2:\"B\"}\n",
        "type(data3), data3"
      ],
      "metadata": {
        "colab": {
          "base_uri": "https://localhost:8080/"
        },
        "id": "NnZUp7SgfP38",
        "outputId": "3c0a2ed7-07b2-4895-8c84-3f34b89de1ac"
      },
      "execution_count": null,
      "outputs": [
        {
          "output_type": "execute_result",
          "data": {
            "text/plain": [
              "(dict, {1: 'A', 2: 'B', 'one': 1, 'two': 2})"
            ]
          },
          "metadata": {},
          "execution_count": 17
        }
      ]
    },
    {
      "cell_type": "code",
      "source": [
        "# 데이터 선택 : masking : [key]\n",
        "data3[\"two\"]"
      ],
      "metadata": {
        "colab": {
          "base_uri": "https://localhost:8080/"
        },
        "id": "p13hSsFugkyH",
        "outputId": "7188533d-3386-40ad-8e07-940b812dda50"
      },
      "execution_count": null,
      "outputs": [
        {
          "output_type": "execute_result",
          "data": {
            "text/plain": [
              "2"
            ]
          },
          "metadata": {},
          "execution_count": 18
        }
      ]
    },
    {
      "cell_type": "code",
      "source": [
        "# 데이터 삭제 : del\n",
        "del data3[\"two\"]\n",
        "data3"
      ],
      "metadata": {
        "colab": {
          "base_uri": "https://localhost:8080/"
        },
        "id": "T_HVKOGF0ttP",
        "outputId": "a49aec6e-8925-4206-ef54-46e6b81152ec"
      },
      "execution_count": null,
      "outputs": [
        {
          "output_type": "execute_result",
          "data": {
            "text/plain": [
              "{1: 'A', 2: 'B', 'one': 1}"
            ]
          },
          "metadata": {},
          "execution_count": 19
        }
      ]
    },
    {
      "cell_type": "code",
      "source": [
        "# --- Quiz\n",
        "# 메시 10골, 호날두 12골, 손흥민 20골\n",
        "# list(변수2개)와 dict(변수1개)로 표현\n",
        "\n",
        "# list\n",
        "players = [\"메시\", \"호날두\", \"손흥민\"]\n",
        "goals = [10, 12, 20]\n",
        "# dict\n",
        "info = {\"메시\": 10, \"호날두\": 12, \"손흥민\": 20}\n",
        "\n",
        "players, goals, info"
      ],
      "metadata": {
        "colab": {
          "base_uri": "https://localhost:8080/"
        },
        "id": "hxKEwwSygsrm",
        "outputId": "28f16fa8-f642-4781-ceda-d540f1576150"
      },
      "execution_count": null,
      "outputs": [
        {
          "output_type": "execute_result",
          "data": {
            "text/plain": [
              "(['메시', '호날두', '손흥민'], [10, 12, 20], {'메시': 10, '손흥민': 20, '호날두': 12})"
            ]
          },
          "metadata": {},
          "execution_count": 23
        }
      ]
    },
    {
      "cell_type": "code",
      "source": [
        "  goals_str = goals.copy()\n",
        "  for i in range(len(players)):\n",
        "    goals_str[i] = str(goals[i])\n",
        "    print(players[i]+\": \"+goals_str[i])"
      ],
      "metadata": {
        "colab": {
          "base_uri": "https://localhost:8080/"
        },
        "id": "AC0Brv2Uy7bk",
        "outputId": "26f2d48e-f07b-4f1a-f2b7-c5f27bd354d8"
      },
      "execution_count": null,
      "outputs": [
        {
          "output_type": "stream",
          "name": "stdout",
          "text": [
            "메시: 10\n",
            "호날두: 12\n",
            "손흥민: 20\n"
          ]
        }
      ]
    },
    {
      "cell_type": "code",
      "source": [
        "# set : set(iterable)\n",
        "# 중복 데이터 허용 X\n",
        "data4 = set([1,2,1,\"a\",\"b\",\"a\"])\n",
        "type(data4),data4 # 데이터의 중복이 제거가 되어 출력됨"
      ],
      "metadata": {
        "colab": {
          "base_uri": "https://localhost:8080/"
        },
        "id": "2nLjt3rmfgjq",
        "outputId": "be445937-61bb-4be2-93ae-9dc437dd2e6e"
      },
      "execution_count": null,
      "outputs": [
        {
          "output_type": "execute_result",
          "data": {
            "text/plain": [
              "(set, {1, 2, 'a', 'b'})"
            ]
          },
          "metadata": {},
          "execution_count": 26
        }
      ]
    },
    {
      "cell_type": "code",
      "source": [
        "data5 = set([1, 2, 3, 2, 4])\n",
        "data6 = set([3, 4, 5, 6])\n",
        "data5, data6"
      ],
      "metadata": {
        "colab": {
          "base_uri": "https://localhost:8080/"
        },
        "id": "GIVL9K4NJxTC",
        "outputId": "b1df26fe-d0be-49bd-a754-0c38210b8401"
      },
      "execution_count": null,
      "outputs": [
        {
          "output_type": "execute_result",
          "data": {
            "text/plain": [
              "({1, 2, 3, 4}, {3, 4, 5, 6})"
            ]
          },
          "metadata": {},
          "execution_count": 27
        }
      ]
    },
    {
      "cell_type": "code",
      "source": [
        "# 집합(set)연산 : 교집합(&), 합집합(|), 차집합(-)\n",
        "data5 & data6, data5 | data6, data5 - data6"
      ],
      "metadata": {
        "id": "D6zx421XFOFF",
        "colab": {
          "base_uri": "https://localhost:8080/"
        },
        "outputId": "a813fc3e-d11b-4267-f5ad-16321deefdaa"
      },
      "execution_count": null,
      "outputs": [
        {
          "output_type": "execute_result",
          "data": {
            "text/plain": [
              "({3, 4}, {1, 2, 3, 4, 5, 6}, {1, 2})"
            ]
          },
          "metadata": {},
          "execution_count": 28
        }
      ]
    },
    {
      "cell_type": "markdown",
      "source": [
        "###3. 연산자\n",
        "\n",
        "- 산술 : +, -, \\*, /, //(몫), %(나머지), \\**(제곱)\n",
        "- 할당 : 누적해서 연산할때 사용 : data<산술>= 10\n",
        "- 비교 : 결과(True, False) : ==, !=, >=, <=, >, <\n",
        "- 논리 : 결과(True, False) : or, and, not\n",
        "- 멤버 : 결과(True, False) : in, not in\n",
        "  - 컬렉션 데이터 안에 특정 데이터가 포함되는지 확인"
      ],
      "metadata": {
        "id": "wRBT6ba0hsM0"
      }
    },
    {
      "cell_type": "code",
      "source": [
        "# 산술 : +, -, *, /, //(몫), %(나머지), **(제곱)\n",
        "data1, data2 = 10, 3\n",
        "data1 / data2, data1 // data2, data1 % data2, 3 ** 4"
      ],
      "metadata": {
        "colab": {
          "base_uri": "https://localhost:8080/"
        },
        "id": "Hxa4svXX2RRX",
        "outputId": "aca796f4-2dfa-4984-b8a1-887d360ac6cd"
      },
      "execution_count": null,
      "outputs": [
        {
          "output_type": "execute_result",
          "data": {
            "text/plain": [
              "(3.3333333333333335, 3, 1, 81)"
            ]
          },
          "metadata": {},
          "execution_count": 29
        }
      ]
    },
    {
      "cell_type": "code",
      "source": [
        "# 부동소수점 문제 : 소수점 연산시 발생\n",
        "data1, data2 = 0.1, 0.2\n",
        "print(data1 + data2)\n",
        "(data1 + data2) == 0.3"
      ],
      "metadata": {
        "colab": {
          "base_uri": "https://localhost:8080/"
        },
        "id": "6U_vJctS2TlQ",
        "outputId": "bb629189-32a0-4e6a-c453-22acfb2a664e"
      },
      "execution_count": null,
      "outputs": [
        {
          "output_type": "stream",
          "name": "stdout",
          "text": [
            "0.30000000000000004\n"
          ]
        },
        {
          "output_type": "execute_result",
          "data": {
            "text/plain": [
              "False"
            ]
          },
          "metadata": {},
          "execution_count": 30
        }
      ]
    },
    {
      "cell_type": "code",
      "source": [
        "# 해결책 1 : 반올림 : round() -> 소수점 몇번째 자리까지인지 지정해주어야함.\n",
        "print(round(data1 + data2, 1))\n",
        "round(data1 + data2, 1) == 0.3"
      ],
      "metadata": {
        "colab": {
          "base_uri": "https://localhost:8080/"
        },
        "id": "fH4oNuNr3cZz",
        "outputId": "f0474a44-c721-4db8-d20f-bf403a08be18"
      },
      "execution_count": null,
      "outputs": [
        {
          "output_type": "stream",
          "name": "stdout",
          "text": [
            "0.3\n"
          ]
        },
        {
          "output_type": "execute_result",
          "data": {
            "text/plain": [
              "True"
            ]
          },
          "metadata": {},
          "execution_count": 31
        }
      ]
    },
    {
      "cell_type": "code",
      "source": [
        "# 해결책 2 : 고정소수점 연산으로 변환\n",
        "from decimal import Decimal\n",
        "print(Decimal('0.1') + Decimal('0.2')) # 문자열로 써야한다.\n",
        "float(Decimal('0.1') + Decimal('0.2')) == 0.3"
      ],
      "metadata": {
        "colab": {
          "base_uri": "https://localhost:8080/"
        },
        "id": "jiMV9sZc3cWV",
        "outputId": "05bdbb19-f2fe-42cd-ace0-1d0dcf222abf"
      },
      "execution_count": null,
      "outputs": [
        {
          "output_type": "stream",
          "name": "stdout",
          "text": [
            "0.3\n"
          ]
        },
        {
          "output_type": "execute_result",
          "data": {
            "text/plain": [
              "True"
            ]
          },
          "metadata": {},
          "execution_count": 34
        }
      ]
    },
    {
      "cell_type": "code",
      "source": [
        "type(Decimal('0.1'))"
      ],
      "metadata": {
        "colab": {
          "base_uri": "https://localhost:8080/"
        },
        "id": "edkZY-GEMevd",
        "outputId": "a56a3846-edbc-49b9-cd30-14a808b79c39"
      },
      "execution_count": null,
      "outputs": [
        {
          "output_type": "execute_result",
          "data": {
            "text/plain": [
              "decimal.Decimal"
            ]
          },
          "metadata": {},
          "execution_count": 35
        }
      ]
    },
    {
      "cell_type": "code",
      "source": [
        "# 문자열로 쓰는 대신 형변환 해볼까?\n",
        "Decimal(str(data1)) + Decimal(str(data2)),\\\n",
        "Decimal(str(data1)) + Decimal(str(data2)) == 0.3\n",
        "# 여러줄로 코드 작성할 때 \\쓰는데 \\뒤에 빈칸 있으면 에러남"
      ],
      "metadata": {
        "colab": {
          "base_uri": "https://localhost:8080/"
        },
        "id": "gyjZdJp-MviW",
        "outputId": "4ce8cdff-dc4c-46d9-f3a0-9861271ce694"
      },
      "execution_count": null,
      "outputs": [
        {
          "output_type": "execute_result",
          "data": {
            "text/plain": [
              "(Decimal('0.3'), False)"
            ]
          },
          "metadata": {},
          "execution_count": 42
        }
      ]
    },
    {
      "cell_type": "code",
      "source": [
        "# 데이터 타입별 산술연산 수행 : 데이터 타입 변환\n",
        "da1, da2, da3, da4 = 1, 2, \"3\", \"4\""
      ],
      "metadata": {
        "id": "j68FnYnzNdgK"
      },
      "execution_count": null,
      "outputs": []
    },
    {
      "cell_type": "code",
      "source": [
        "# 같은 연산자를 사용하여 연산을 수행해도 데이터 타입에 따라서 다르게 연산 수행\n",
        "da1+da2, da3+da4"
      ],
      "metadata": {
        "colab": {
          "base_uri": "https://localhost:8080/"
        },
        "id": "Ug5OR0R_OL_q",
        "outputId": "11253bcc-f5fa-4caa-8c3e-8b2e30d9249f"
      },
      "execution_count": null,
      "outputs": [
        {
          "output_type": "execute_result",
          "data": {
            "text/plain": [
              "(3, '34')"
            ]
          },
          "metadata": {},
          "execution_count": 45
        }
      ]
    },
    {
      "cell_type": "code",
      "source": [
        "# da1 + da3\n",
        "# TypeError: unsupported operand type(s) for +: 'int' and 'str'\n",
        "# 형변환해주기\n",
        "da1 + int(da3), str(da2)+da4"
      ],
      "metadata": {
        "colab": {
          "base_uri": "https://localhost:8080/"
        },
        "id": "IrRxlJU2OdWE",
        "outputId": "1d30ae2c-b947-4e3c-a096-d95462602c78"
      },
      "execution_count": null,
      "outputs": [
        {
          "output_type": "execute_result",
          "data": {
            "text/plain": [
              "(4, '24')"
            ]
          },
          "metadata": {},
          "execution_count": 50
        }
      ]
    },
    {
      "cell_type": "code",
      "source": [
        "# 할당연산자\n",
        "# 변수에 값을 누적시켜 연산할때 사용"
      ],
      "metadata": {
        "id": "0AbDKEYP43Fd"
      },
      "execution_count": null,
      "outputs": []
    },
    {
      "cell_type": "code",
      "source": [
        "data1 = 10\n",
        "# data1 = data1 + 10 을 좀 더 간결하게 적기\n",
        "data1 += 10\n",
        "data1"
      ],
      "metadata": {
        "colab": {
          "base_uri": "https://localhost:8080/"
        },
        "id": "h1CornD143Bx",
        "outputId": "241e5cc3-37eb-4ef9-d19a-4220919a47be"
      },
      "execution_count": null,
      "outputs": [
        {
          "output_type": "execute_result",
          "data": {
            "text/plain": [
              "20"
            ]
          },
          "metadata": {},
          "execution_count": 70
        }
      ]
    },
    {
      "cell_type": "code",
      "source": [
        "# 비교연산자\n",
        "# ==, !=, >, <, >=, <=\n",
        "# 결과 : bool"
      ],
      "metadata": {
        "id": "IMEVtzsu42-g"
      },
      "execution_count": null,
      "outputs": []
    },
    {
      "cell_type": "code",
      "source": [
        "data1, data2 = 2, 3\n",
        "data1 == data2, data1 != data2"
      ],
      "metadata": {
        "colab": {
          "base_uri": "https://localhost:8080/"
        },
        "id": "ixK9omsZ3cS9",
        "outputId": "c3221240-2bbf-446f-f0c5-e7c2dd1270aa"
      },
      "execution_count": null,
      "outputs": [
        {
          "output_type": "execute_result",
          "data": {
            "text/plain": [
              "(False, True)"
            ]
          },
          "metadata": {},
          "execution_count": 51
        }
      ]
    },
    {
      "cell_type": "code",
      "source": [
        "# 논리연산자\n",
        "# 논리값 비교 : or, and, not"
      ],
      "metadata": {
        "id": "rc6Lyvh43cPc"
      },
      "execution_count": null,
      "outputs": []
    },
    {
      "cell_type": "code",
      "source": [
        "not True, True or False, True and False"
      ],
      "metadata": {
        "colab": {
          "base_uri": "https://localhost:8080/"
        },
        "id": "yl69vPFG20mM",
        "outputId": "81934b55-5c5e-4cbb-de15-4eb35605d423"
      },
      "execution_count": null,
      "outputs": [
        {
          "output_type": "execute_result",
          "data": {
            "text/plain": [
              "(False, True, False)"
            ]
          },
          "metadata": {},
          "execution_count": 54
        }
      ]
    },
    {
      "cell_type": "code",
      "source": [
        "# 비교연산자와 같이 써보기\n",
        "not data1 != data2, True or (1 > 2)"
      ],
      "metadata": {
        "colab": {
          "base_uri": "https://localhost:8080/"
        },
        "id": "0SKGRfGiPwUR",
        "outputId": "e18ecc51-44d9-4f04-a43c-5da2708d7eba"
      },
      "execution_count": null,
      "outputs": [
        {
          "output_type": "execute_result",
          "data": {
            "text/plain": [
              "(False, True)"
            ]
          },
          "metadata": {},
          "execution_count": 53
        }
      ]
    },
    {
      "cell_type": "code",
      "source": [
        "# 멤버연산자 : in, not in\n",
        "# 컬렉션 데이터 안에 특정 값이 있는지 확인\n",
        "# 결과 : bool"
      ],
      "metadata": {
        "id": "CDVHhfiQ6QmX"
      },
      "execution_count": null,
      "outputs": []
    },
    {
      "cell_type": "code",
      "source": [
        "years = [1992, 1994, 1997, 2000, 2003, 2009, 2020, 2022]\n",
        "1994 in years, 1989 in years"
      ],
      "metadata": {
        "colab": {
          "base_uri": "https://localhost:8080/"
        },
        "id": "L-nauMotQPFo",
        "outputId": "69436609-1aae-4c01-d018-edcfb936ee10"
      },
      "execution_count": null,
      "outputs": [
        {
          "output_type": "execute_result",
          "data": {
            "text/plain": [
              "(True, False)"
            ]
          },
          "metadata": {},
          "execution_count": 55
        }
      ]
    },
    {
      "cell_type": "code",
      "source": [
        "data1 = [1, 2, 3]\n",
        "2 in data1, 2 not in data1"
      ],
      "metadata": {
        "colab": {
          "base_uri": "https://localhost:8080/"
        },
        "id": "fHMY0kXK6p33",
        "outputId": "b958bcf4-0d9d-456d-af9a-2b6549773042"
      },
      "execution_count": null,
      "outputs": [
        {
          "output_type": "execute_result",
          "data": {
            "text/plain": [
              "(True, False)"
            ]
          },
          "metadata": {},
          "execution_count": 80
        }
      ]
    },
    {
      "cell_type": "code",
      "source": [
        "# Quiz. 산술연산자 : +, -, *, /, //, %, **\n",
        "# 입력된 변수에서 연령대를 출력하도록 코드 작성\n",
        "age = 27\n",
        "age // 10 * 10"
      ],
      "metadata": {
        "colab": {
          "base_uri": "https://localhost:8080/"
        },
        "id": "NUKqXRs96p6q",
        "outputId": "f436fdd6-204c-40ed-8a5f-72ecc4b30025"
      },
      "execution_count": null,
      "outputs": [
        {
          "output_type": "execute_result",
          "data": {
            "text/plain": [
              "20"
            ]
          },
          "metadata": {},
          "execution_count": 57
        }
      ]
    },
    {
      "cell_type": "code",
      "source": [
        "# Quiz. 산술, 비교, 논리\n",
        "# 윤년구하기 : 윤년이면 True, 윤년이 아니면 False\n",
        "# 1. 4년에 한번씩 윤년 : 4의 배수는 윤년 : 4의 배수 > 4로 나눈 나머지가 0\n",
        "# 2. 100년에 한번씩 윤년X : 100으로 나눈 나머지가 0이 아님\n",
        "# 3. 400년에 한번씩 윤년"
      ],
      "metadata": {
        "id": "810YfSSM6p9v"
      },
      "execution_count": null,
      "outputs": []
    },
    {
      "cell_type": "code",
      "source": [
        "year = 800\n",
        "(year % 4 == 0) and (year % 100 != 0) or (year % 400 == 0)"
      ],
      "metadata": {
        "colab": {
          "base_uri": "https://localhost:8080/"
        },
        "id": "P4ULLcXI8ueP",
        "outputId": "8b460cdc-266b-4bb9-8335-9b5149b5fab4"
      },
      "execution_count": null,
      "outputs": [
        {
          "output_type": "execute_result",
          "data": {
            "text/plain": [
              "True"
            ]
          },
          "metadata": {},
          "execution_count": 58
        }
      ]
    },
    {
      "cell_type": "code",
      "source": [
        "# 연산자 사이에서 우선순위\n",
        "# 산술 > 비교 > 논리(and > or)\n",
        "year % 4 == 0 and year % 100 != 0 or year % 400 == 0"
      ],
      "metadata": {
        "id": "E5Wd--Y38uYp",
        "colab": {
          "base_uri": "https://localhost:8080/"
        },
        "outputId": "89803d4a-1e6f-4d37-accc-f6d39a4644f4"
      },
      "execution_count": null,
      "outputs": [
        {
          "output_type": "execute_result",
          "data": {
            "text/plain": [
              "True"
            ]
          },
          "metadata": {},
          "execution_count": 60
        }
      ]
    },
    {
      "cell_type": "code",
      "source": [
        "# 입력함수 : input() : 항상 str 데이터 타입으로 데이터를 받습니다.\n",
        "year = int(input(\"Insert Year : \"))\n",
        "(year % 4 == 0) and (year % 100 != 0) or (year % 400 == 0) #윤년인지 알아보기"
      ],
      "metadata": {
        "colab": {
          "base_uri": "https://localhost:8080/"
        },
        "id": "yeGSO8SJKY9p",
        "outputId": "6eef2ddc-6ef2-4218-be0b-fb5c44278955"
      },
      "execution_count": null,
      "outputs": [
        {
          "name": "stdout",
          "output_type": "stream",
          "text": [
            "insert year : 2022\n"
          ]
        },
        {
          "output_type": "execute_result",
          "data": {
            "text/plain": [
              "False"
            ]
          },
          "metadata": {},
          "execution_count": 61
        }
      ]
    },
    {
      "cell_type": "markdown",
      "source": [
        "###4. 조건문"
      ],
      "metadata": {
        "id": "Ghqbt0j2h54o"
      }
    },
    {
      "cell_type": "code",
      "source": [
        "# 4. 조건문\n",
        "# if, elif, else\n",
        "# 특정 조건에 따라서 코드를 실행"
      ],
      "metadata": {
        "id": "zo90fwVgLaXd"
      },
      "execution_count": null,
      "outputs": []
    },
    {
      "cell_type": "code",
      "source": [
        "# Q: 지갑에 돈이 5천원 이상 있으면 택시, 2000원 이상 있으면, 버스를 탄다.\n",
        "# 2000원 미만으로 있으면 걸어간다.\n",
        "\n",
        "money = int(input(\"insert your money: \"))\n",
        "if money >= 5000:\n",
        "  print(\"택시를 타자\")\n",
        "elif money >= 2000:\n",
        "  print(\"버스를 타세요.\")\n",
        "else:\n",
        "  print(\"걸어가세요.\")"
      ],
      "metadata": {
        "colab": {
          "base_uri": "https://localhost:8080/"
        },
        "id": "SOxnEyBILelL",
        "outputId": "ec57effd-9423-4cc3-a924-15d6d75c1e21"
      },
      "execution_count": null,
      "outputs": [
        {
          "output_type": "stream",
          "name": "stdout",
          "text": [
            "insert your money: 6000\n",
            "택시를 타자\n"
          ]
        }
      ]
    },
    {
      "cell_type": "code",
      "source": [
        "# 점수(point)에 따라서 학점을 출력하는 코드작성\n",
        "# 90 >= A, 80 >= B, 70 >= C, 60 >= D, 60 < F\n",
        "point = 89\n",
        "if point >= 90:\n",
        "    print(\"A\")\n",
        "elif point >= 80:\n",
        "    print(\"B\")\n",
        "elif point >= 70:\n",
        "    print(\"C\")\n",
        "elif point >= 60:\n",
        "    print(\"D\")\n",
        "else:\n",
        "    print(\"F\")"
      ],
      "metadata": {
        "colab": {
          "base_uri": "https://localhost:8080/"
        },
        "id": "fj6xHXgGUBbN",
        "outputId": "b4005c21-650e-4482-cada-337f65dff4ad"
      },
      "execution_count": null,
      "outputs": [
        {
          "output_type": "stream",
          "name": "stdout",
          "text": [
            "B\n"
          ]
        }
      ]
    },
    {
      "cell_type": "code",
      "source": [
        "# Quiz\n",
        "draw_money = int(input(\"인출금액: \"))\n",
        "account = 100000\n",
        "if draw_money > account:\n",
        "  print(\"잔액이 부족합니다.\\n현재잔액 :\", account,\"원\\n\",draw_money-account,\"원이 부족합니다.\")\n",
        "else:\n",
        "  account -= draw_money\n",
        "  print(\"계좌에서 \",draw_money,\"원 을 인출하였습니다.\\n잔액은\",account,\"입니다.\")\n",
        "#account"
      ],
      "metadata": {
        "colab": {
          "base_uri": "https://localhost:8080/"
        },
        "id": "39r4AVzodzWm",
        "outputId": "eb0afa2f-d570-48aa-b809-231a9eeaf72b"
      },
      "execution_count": null,
      "outputs": [
        {
          "output_type": "stream",
          "name": "stdout",
          "text": [
            "인출금액: 10000\n",
            "계좌에서  10000 원 을 인출하였습니다.\n",
            "잔액은 90000 입니다.\n"
          ]
        }
      ]
    },
    {
      "cell_type": "markdown",
      "source": [
        "# summary\n",
        "\n",
        "1. 변수선언 : ram 사용하는 문법 : 변수선언하는 3가지 방법, 식별자 규칙\n",
        "2. 데이터타입\n",
        "  - 기본(int, float, bool, str), 컬렉션(list, tuple, dict, set)\n",
        "  - masking : [index], [start:end], [start:end:stride]\n",
        "3. 연산자 : 산술, 할당, 비교, 논리(not, and, or), 멤버(in, not in)\n",
        "  - 부동소수점문제 : 반올림, 고정소수점연산 으로 해결\n",
        "  - 데이터 형변환 : 데이터 타입에 따라서 연산이 수행될수도 안될수도 있다.\n",
        "4. 조건문 : if, elif, else"
      ],
      "metadata": {
        "id": "PcIXDvSxlMGr"
      }
    },
    {
      "cell_type": "markdown",
      "source": [
        "##5. 반복문"
      ],
      "metadata": {
        "id": "Vsfjoh9DiDG0"
      }
    },
    {
      "cell_type": "code",
      "source": [
        "# 5. 반복문\n",
        "# 명령어 : while, for in, break, continue\n",
        "# 함수 : range(), enumerate(), zip()"
      ],
      "metadata": {
        "id": "mzgIu64UUXJU"
      },
      "execution_count": null,
      "outputs": []
    },
    {
      "cell_type": "code",
      "source": [
        "print(\"python\")\n",
        "print(\"python\")\n",
        "print(\"python\")"
      ],
      "metadata": {
        "colab": {
          "base_uri": "https://localhost:8080/"
        },
        "id": "15J76s6rWCMZ",
        "outputId": "497a29f6-6afa-4c50-ebfa-1fb6bca1eb2a"
      },
      "execution_count": null,
      "outputs": [
        {
          "output_type": "stream",
          "name": "stdout",
          "text": [
            "python\n",
            "python\n",
            "python\n"
          ]
        }
      ]
    },
    {
      "cell_type": "code",
      "source": [
        "# while은 무한루프에 빠지기 쉬움\n",
        "# 무한루프에 빠지게 되면 : [런타임 > 실행중단] 실행\n",
        "count = 3\n",
        "while count > 0:\n",
        "    print(\"python\")\n",
        "    count -= 1"
      ],
      "metadata": {
        "colab": {
          "base_uri": "https://localhost:8080/"
        },
        "id": "bjy2OUGLWEWI",
        "outputId": "c36afd2d-7b58-47e6-d869-f638a86134f5"
      },
      "execution_count": null,
      "outputs": [
        {
          "output_type": "stream",
          "name": "stdout",
          "text": [
            "python\n",
            "python\n",
            "python\n"
          ]
        }
      ]
    },
    {
      "cell_type": "code",
      "source": [
        "# 조건부에 논리값이 아니면 강제로 bool() 형변환해서 판단\n",
        "count = 3\n",
        "while count:\n",
        "    print(\"python\")\n",
        "    count -= 1"
      ],
      "metadata": {
        "colab": {
          "base_uri": "https://localhost:8080/"
        },
        "id": "anUZ6Dr4WrC0",
        "outputId": "4e59150a-1ac1-4f6d-c723-c441297224f4"
      },
      "execution_count": null,
      "outputs": [
        {
          "output_type": "stream",
          "name": "stdout",
          "text": [
            "python\n",
            "python\n",
            "python\n"
          ]
        }
      ]
    },
    {
      "cell_type": "code",
      "source": [
        "bool(3), bool(0), bool(1), bool(-1)"
      ],
      "metadata": {
        "colab": {
          "base_uri": "https://localhost:8080/"
        },
        "id": "EN1WydE2Xdzw",
        "outputId": "d0e58dd8-8d68-44e8-fb01-15cc25ae5527"
      },
      "execution_count": null,
      "outputs": [
        {
          "output_type": "execute_result",
          "data": {
            "text/plain": [
              "(True, False, True, True)"
            ]
          },
          "metadata": {},
          "execution_count": 84
        }
      ]
    },
    {
      "cell_type": "code",
      "source": [
        "bool(1), bool(0), bool(0.0), bool(\"\"), bool([]), bool(()), bool({})"
      ],
      "metadata": {
        "colab": {
          "base_uri": "https://localhost:8080/"
        },
        "id": "7VSMxE9XpDEM",
        "outputId": "0e075c14-5418-47b1-afcb-7fb43ce1c738"
      },
      "execution_count": null,
      "outputs": [
        {
          "output_type": "execute_result",
          "data": {
            "text/plain": [
              "(True, False, False, False, False, False, False)"
            ]
          },
          "metadata": {},
          "execution_count": 87
        }
      ]
    },
    {
      "cell_type": "code",
      "source": [
        "# for : 코드를 반복적으로 실행\n",
        "# for data in <iterable>:\n",
        "#   code"
      ],
      "metadata": {
        "id": "1cthPcJQYCDf"
      },
      "execution_count": null,
      "outputs": []
    },
    {
      "cell_type": "code",
      "source": [
        "for data in [0,1,2]: # 꼭 iterable 아니여도 컬렉션 데이터면 다 실행 되긴함\n",
        "  print(\"jupyter\")"
      ],
      "metadata": {
        "colab": {
          "base_uri": "https://localhost:8080/"
        },
        "id": "jHNYk0AwYSd0",
        "outputId": "acb77b99-b0fd-4107-b8d5-dbb43e323bfa"
      },
      "execution_count": null,
      "outputs": [
        {
          "output_type": "stream",
          "name": "stdout",
          "text": [
            "jupyter\n",
            "jupyter\n",
            "jupyter\n"
          ]
        }
      ]
    },
    {
      "cell_type": "code",
      "source": [
        "# dict 테스트해봐야징\n",
        "for data2 in info:\n",
        "  print(info[\"손흥민\"])"
      ],
      "metadata": {
        "colab": {
          "base_uri": "https://localhost:8080/"
        },
        "id": "E86phOSHpkmJ",
        "outputId": "2c6448fd-004c-4bad-f4ea-414210f5c9d2"
      },
      "execution_count": null,
      "outputs": [
        {
          "output_type": "stream",
          "name": "stdout",
          "text": [
            "20\n",
            "20\n",
            "20\n"
          ]
        }
      ]
    },
    {
      "cell_type": "code",
      "source": [
        "# range() : list 데이터를 생성해주는 함수\n",
        "# range(end), range(start 포함O, end 포함X), range(start, end, stride)"
      ],
      "metadata": {
        "id": "44dHt01YZCLY"
      },
      "execution_count": null,
      "outputs": []
    },
    {
      "cell_type": "code",
      "source": [
        "range(5)"
      ],
      "metadata": {
        "colab": {
          "base_uri": "https://localhost:8080/"
        },
        "id": "de8SKhoXZWcc",
        "outputId": "267b65fe-5242-4812-8a01-455adcd534e6"
      },
      "execution_count": null,
      "outputs": [
        {
          "output_type": "execute_result",
          "data": {
            "text/plain": [
              "range(0, 5)"
            ]
          },
          "metadata": {},
          "execution_count": 72
        }
      ]
    },
    {
      "cell_type": "code",
      "source": [
        "list(range(5)), list(range(5,10))"
      ],
      "metadata": {
        "colab": {
          "base_uri": "https://localhost:8080/"
        },
        "id": "XDRc7ZLNZZjp",
        "outputId": "88956614-f272-453d-90d7-bb18cf71d613"
      },
      "execution_count": null,
      "outputs": [
        {
          "output_type": "execute_result",
          "data": {
            "text/plain": [
              "([0, 1, 2, 3, 4], [5, 6, 7, 8, 9])"
            ]
          },
          "metadata": {},
          "execution_count": 95
        }
      ]
    },
    {
      "cell_type": "code",
      "source": [
        "list(range(0,5))"
      ],
      "metadata": {
        "colab": {
          "base_uri": "https://localhost:8080/"
        },
        "id": "hlzVgO_Jqzh9",
        "outputId": "50cb0d52-adf4-41f7-d7ac-3f89f1de32e6"
      },
      "execution_count": null,
      "outputs": [
        {
          "output_type": "execute_result",
          "data": {
            "text/plain": [
              "[0, 1, 2, 3, 4]"
            ]
          },
          "metadata": {},
          "execution_count": 91
        }
      ]
    },
    {
      "cell_type": "code",
      "source": [
        "list(range(0,5,2))"
      ],
      "metadata": {
        "colab": {
          "base_uri": "https://localhost:8080/"
        },
        "id": "s62SGduXZ2pB",
        "outputId": "1ad58d55-0c8c-482e-d607-db0181f4ec57"
      },
      "execution_count": null,
      "outputs": [
        {
          "output_type": "execute_result",
          "data": {
            "text/plain": [
              "[0, 2, 4]"
            ]
          },
          "metadata": {},
          "execution_count": 76
        }
      ]
    },
    {
      "cell_type": "code",
      "source": [
        "for i in range(0,3):\n",
        "  print(\"jupyter\")"
      ],
      "metadata": {
        "colab": {
          "base_uri": "https://localhost:8080/"
        },
        "id": "YK-Lak1dZgXn",
        "outputId": "f0d75b40-e747-4125-c8be-ca6737a06cd5"
      },
      "execution_count": null,
      "outputs": [
        {
          "output_type": "stream",
          "name": "stdout",
          "text": [
            "jupyter\n",
            "jupyter\n",
            "jupyter\n"
          ]
        }
      ]
    },
    {
      "cell_type": "code",
      "source": [
        "# 사용이 되지 않는 변수의 식별자는 _ 사용\n",
        "for _ in range(3):\n",
        "    print(\"notebook\")"
      ],
      "metadata": {
        "colab": {
          "base_uri": "https://localhost:8080/"
        },
        "id": "R8Q1bd-iifYU",
        "outputId": "3e4d7f70-8e18-4e60-9d42-961034a43a80"
      },
      "execution_count": null,
      "outputs": [
        {
          "output_type": "stream",
          "name": "stdout",
          "text": [
            "notebook\n",
            "notebook\n",
            "notebook\n"
          ]
        }
      ]
    },
    {
      "cell_type": "code",
      "source": [
        "# break : 강제로 반복문을 중단\n",
        "# continue : 강제로 반복문 코드부분으로 올라가서 코드를 실행"
      ],
      "metadata": {
        "id": "vJWYJ50LkcBh"
      },
      "execution_count": null,
      "outputs": []
    },
    {
      "cell_type": "code",
      "source": [
        "for number in range(10):\n",
        "  if number % 2: # 0 이면 false 1 이면 true\n",
        "    continue # 홀수일때 동작됨\n",
        "  print(number)\n",
        "  if number >= 7:\n",
        "    break"
      ],
      "metadata": {
        "colab": {
          "base_uri": "https://localhost:8080/"
        },
        "id": "asbFMn8EkgEl",
        "outputId": "2ea0cf9f-8adb-4b98-d173-7fbfdd84ffc8"
      },
      "execution_count": null,
      "outputs": [
        {
          "output_type": "stream",
          "name": "stdout",
          "text": [
            "0\n",
            "2\n",
            "4\n",
            "6\n",
            "8\n"
          ]
        }
      ]
    },
    {
      "cell_type": "code",
      "source": [
        "# ---- Quiz : 로또번호 출력하기"
      ],
      "metadata": {
        "id": "F7BHBwtbrDDe"
      },
      "execution_count": null,
      "outputs": []
    },
    {
      "cell_type": "code",
      "source": [
        "# 랜덤 숫자 출력\n",
        "import random\n",
        "random.randint(0,3) # 0에서 3 사이에 랜덤한 숫자 출력됨 (0, 3 모두포함)"
      ],
      "metadata": {
        "colab": {
          "base_uri": "https://localhost:8080/"
        },
        "id": "SLWQ7k5VrM-l",
        "outputId": "64281bdf-6206-49ab-9260-4f10205b5d1a"
      },
      "execution_count": null,
      "outputs": [
        {
          "output_type": "execute_result",
          "data": {
            "text/plain": [
              "0"
            ]
          },
          "metadata": {},
          "execution_count": 103
        }
      ]
    },
    {
      "cell_type": "code",
      "source": [
        "# 리스트 데이터 개수 출력 : len()\n",
        "data = [1,3,2]\n",
        "len(data)"
      ],
      "metadata": {
        "colab": {
          "base_uri": "https://localhost:8080/"
        },
        "id": "RrC-dqrarf2P",
        "outputId": "b98fbf0d-a56d-4cc0-b17a-7a66bf7b9fdf"
      },
      "execution_count": null,
      "outputs": [
        {
          "output_type": "execute_result",
          "data": {
            "text/plain": [
              "3"
            ]
          },
          "metadata": {},
          "execution_count": 104
        }
      ]
    },
    {
      "cell_type": "code",
      "source": [
        "# 리스트에 데이터 추가 : list.append(number)\n",
        "data.append(4)\n",
        "data"
      ],
      "metadata": {
        "colab": {
          "base_uri": "https://localhost:8080/"
        },
        "id": "KNB0eUdpryMz",
        "outputId": "f1609f78-2738-4587-a90a-13fffe9ee71f"
      },
      "execution_count": null,
      "outputs": [
        {
          "output_type": "execute_result",
          "data": {
            "text/plain": [
              "[1, 2, 3, 4]"
            ]
          },
          "metadata": {},
          "execution_count": 106
        }
      ]
    },
    {
      "cell_type": "code",
      "source": [
        "# sort()\n",
        "data.sort()\n",
        "data"
      ],
      "metadata": {
        "colab": {
          "base_uri": "https://localhost:8080/"
        },
        "id": "_yBrD8f_sB3D",
        "outputId": "e9bad62b-20e5-4268-d0c1-66a9982500b1"
      },
      "execution_count": null,
      "outputs": [
        {
          "output_type": "execute_result",
          "data": {
            "text/plain": [
              "[1, 2, 3, 4]"
            ]
          },
          "metadata": {},
          "execution_count": 107
        }
      ]
    },
    {
      "cell_type": "code",
      "source": [
        "# 내림차순 정렬\n",
        "# data.sort() 한후\n",
        "data[::-1]"
      ],
      "metadata": {
        "colab": {
          "base_uri": "https://localhost:8080/"
        },
        "id": "0J6tou67yvoU",
        "outputId": "9dac1980-54c8-440f-d038-037b8a4a8fb6"
      },
      "execution_count": null,
      "outputs": [
        {
          "output_type": "execute_result",
          "data": {
            "text/plain": [
              "[4, 3, 2, 1]"
            ]
          },
          "metadata": {},
          "execution_count": 109
        }
      ]
    },
    {
      "cell_type": "code",
      "source": [
        "# 로또번호 출력하기\n",
        "# 1~45 사이의 랜덤한 숫자 6개 출력\n",
        "# 중복되는 데이터가 들어가지 않도록\n",
        "lotto = []\n",
        "while len(lotto) < 6: # 0 ~ 5\n",
        "  rannum = random.randint(1,45)\n",
        "  if rannum not in lotto:\n",
        "    lotto.append(rannum)\n",
        "lotto.sort()\n",
        "lotto"
      ],
      "metadata": {
        "colab": {
          "base_uri": "https://localhost:8080/"
        },
        "id": "2eDPpMzPr4_9",
        "outputId": "86b4d9f6-9da6-4a79-f8aa-9dc26339063f"
      },
      "execution_count": null,
      "outputs": [
        {
          "output_type": "execute_result",
          "data": {
            "text/plain": [
              "[2, 5, 11, 25, 33, 38]"
            ]
          },
          "metadata": {},
          "execution_count": 111
        }
      ]
    },
    {
      "cell_type": "code",
      "source": [
        "# if 두번쓰기\n",
        "lotto = []\n",
        "while True:\n",
        "  rannum = random.randint(1,45)\n",
        "  if rannum not in lotto:\n",
        "    lotto.append(rannum)\n",
        "  if len(lotto) >= 6:\n",
        "    break\n",
        "lotto.sort()\n",
        "lotto"
      ],
      "metadata": {
        "colab": {
          "base_uri": "https://localhost:8080/"
        },
        "id": "iamd7hlhxiWV",
        "outputId": "6c2458a1-68c0-49db-c3d8-b1cc4816deaf"
      },
      "execution_count": null,
      "outputs": [
        {
          "output_type": "execute_result",
          "data": {
            "text/plain": [
              "[3, 6, 9, 28, 36, 38]"
            ]
          },
          "metadata": {},
          "execution_count": 112
        }
      ]
    },
    {
      "cell_type": "code",
      "source": [
        "# # --- 나의 일주일\n",
        "# week = list(\"월화수목금토일\")\n",
        "# for today in week:\n",
        "#   if (today == \"토\") or (today == \"일\"):\n",
        "#     print(\"주말\", \"나이스\")\n",
        "#   else:\n",
        "#     print(\"평일\", \"달리자\")"
      ],
      "metadata": {
        "colab": {
          "base_uri": "https://localhost:8080/"
        },
        "id": "3EnHyxLr5AI5",
        "outputId": "386bfa15-250c-487f-cfaf-2faf8c9b1696"
      },
      "execution_count": null,
      "outputs": [
        {
          "output_type": "stream",
          "name": "stdout",
          "text": [
            "평일 달리자\n",
            "평일 달리자\n",
            "평일 달리자\n",
            "평일 달리자\n",
            "평일 달리자\n",
            "주말 나이스\n",
            "주말 나이스\n"
          ]
        }
      ]
    },
    {
      "cell_type": "code",
      "source": [
        "# list comprehension\n",
        "# 간단하게 for in, if로 만들어진 리스트를 출력하는\n",
        "# 코드를 간결하게 작성할 수 있도록 도와주는 문법"
      ],
      "metadata": {
        "id": "wp8ThTRe6I-b"
      },
      "execution_count": null,
      "outputs": []
    },
    {
      "cell_type": "code",
      "source": [
        "numbers = []\n",
        "for number in range(10):\n",
        "    if number % 2:\n",
        "        numbers.append(number**2)\n",
        "numbers"
      ],
      "metadata": {
        "colab": {
          "base_uri": "https://localhost:8080/"
        },
        "id": "cArw8scmppza",
        "outputId": "0a0a112d-d305-4839-d805-ac41484d77e7"
      },
      "execution_count": null,
      "outputs": [
        {
          "output_type": "execute_result",
          "data": {
            "text/plain": [
              "[1, 9, 25, 49, 81]"
            ]
          },
          "metadata": {},
          "execution_count": 118
        }
      ]
    },
    {
      "cell_type": "code",
      "source": [
        "numbers = [number**2 for number in range(10) if number % 2]\n",
        "numbers"
      ],
      "metadata": {
        "colab": {
          "base_uri": "https://localhost:8080/"
        },
        "id": "4_LA6y_mppv5",
        "outputId": "8cec6c48-1d1c-4b17-b187-99dc26563fa8"
      },
      "execution_count": null,
      "outputs": [
        {
          "output_type": "execute_result",
          "data": {
            "text/plain": [
              "[1, 9, 25, 49, 81]"
            ]
          },
          "metadata": {},
          "execution_count": 117
        }
      ]
    },
    {
      "cell_type": "code",
      "source": [
        "name = \"park qq\"\n",
        "name.split(\" \")[0]"
      ],
      "metadata": {
        "colab": {
          "base_uri": "https://localhost:8080/",
          "height": 36
        },
        "id": "QORj8Swe_mjs",
        "outputId": "bbda4b6f-8683-4e57-b9d6-203e020eb945"
      },
      "execution_count": null,
      "outputs": [
        {
          "output_type": "execute_result",
          "data": {
            "text/plain": [
              "'park'"
            ],
            "application/vnd.google.colaboratory.intrinsic+json": {
              "type": "string"
            }
          },
          "metadata": {},
          "execution_count": 120
        }
      ]
    },
    {
      "cell_type": "code",
      "source": [
        "# --- Quiz\n",
        "# 김씨 성을 가진 사람의 이름만 리스트 변수로 만들어서 출력\n",
        "names = [\"kim as\", \"jang io\", \"park po\", \"kim rt\"]\n",
        "kim_names = [\n",
        "             name.split(\" \")[1]\n",
        "             for name in names\n",
        "             if name.split(\" \")[0] == \"kim\"\n",
        "             ]\n",
        "kim_names"
      ],
      "metadata": {
        "colab": {
          "base_uri": "https://localhost:8080/"
        },
        "id": "H7qQiQDP_2eW",
        "outputId": "0fda7517-71ba-43ae-93a0-f79d1487e55d"
      },
      "execution_count": null,
      "outputs": [
        {
          "output_type": "execute_result",
          "data": {
            "text/plain": [
              "['as', 'rt']"
            ]
          },
          "metadata": {},
          "execution_count": 125
        }
      ]
    },
    {
      "cell_type": "code",
      "source": [
        "# list comprehension 안쓴다면? \n",
        "kims = []\n",
        "for name in names:\n",
        "  if name.split(\" \")[0] == \"kim\":\n",
        "    kims.append(name.split(\" \")[1])\n",
        "kims"
      ],
      "metadata": {
        "colab": {
          "base_uri": "https://localhost:8080/"
        },
        "id": "8V96KHSMBVYP",
        "outputId": "d33887e3-3e0c-4296-cf73-3e7cab03e774"
      },
      "execution_count": null,
      "outputs": [
        {
          "output_type": "execute_result",
          "data": {
            "text/plain": [
              "['as', 'rt']"
            ]
          },
          "metadata": {},
          "execution_count": 127
        }
      ]
    },
    {
      "cell_type": "markdown",
      "source": [
        "##6. 함수\n",
        "\n",
        "- def, return, lambda\n",
        "- 중복되는 코드를 묶어서 사용"
      ],
      "metadata": {
        "id": "1Cb7l96giVyU"
      }
    },
    {
      "cell_type": "code",
      "source": [
        "# ---- Quiz\n",
        "# 로또번호 출력\n",
        "# python 문자열 출력\n",
        "# 로또번호 출력"
      ],
      "metadata": {
        "id": "vfJXCrOHxxza"
      },
      "execution_count": null,
      "outputs": []
    },
    {
      "cell_type": "code",
      "source": [
        "# 함수 사용 안하는 경우\n",
        "lotto = []\n",
        "while len(lotto) <= 6:\n",
        "  rannum = random.randint(1,45)\n",
        "  if rannum not in lotto:\n",
        "    lotto.append(rannum)\n",
        "lotto.sort()\n",
        "print(lotto)\n",
        "print(\"python\")\n",
        "lotto = []\n",
        "while len(lotto) <= 6:\n",
        "  rannum = random.randint(1,45)\n",
        "  if rannum not in lotto:\n",
        "    lotto.append(rannum)\n",
        "lotto.sort()\n",
        "print(lotto)"
      ],
      "metadata": {
        "colab": {
          "base_uri": "https://localhost:8080/"
        },
        "id": "rQ6_jDT0x6nf",
        "outputId": "d0636f00-adb1-4f95-ca57-eb78a8299d54"
      },
      "execution_count": null,
      "outputs": [
        {
          "output_type": "stream",
          "name": "stdout",
          "text": [
            "[4, 5, 9, 17, 26, 31, 40]\n",
            "python\n",
            "[1, 2, 3, 23, 35, 42, 43]\n"
          ]
        }
      ]
    },
    {
      "cell_type": "code",
      "source": [
        "# 사용법 : 함수선언(코드작성) > 함수호출(코드실행)"
      ],
      "metadata": {
        "id": "4mrWYIcny0At"
      },
      "execution_count": null,
      "outputs": []
    },
    {
      "cell_type": "code",
      "source": [
        "# 함수선언(코드작성)\n",
        "def disp_lotto():\n",
        "    lotto = []\n",
        "    while True:\n",
        "        number = random.randint(1, 45)\n",
        "        if number not in lotto:\n",
        "            lotto.append(number)\n",
        "        if len(lotto) >= 6:\n",
        "            break\n",
        "    lotto.sort()\n",
        "    print(lotto)"
      ],
      "metadata": {
        "id": "l6QxmYk2y2dE"
      },
      "execution_count": null,
      "outputs": []
    },
    {
      "cell_type": "code",
      "source": [
        "# 함수 실행(코드실행)\n",
        "disp_lotto()"
      ],
      "metadata": {
        "colab": {
          "base_uri": "https://localhost:8080/"
        },
        "id": "5MLnYoBry3Rb",
        "outputId": "26f64b52-d500-4810-e3bd-a390d604ee43"
      },
      "execution_count": null,
      "outputs": [
        {
          "output_type": "stream",
          "name": "stdout",
          "text": [
            "[5, 11, 18, 29, 38, 44]\n"
          ]
        }
      ]
    },
    {
      "cell_type": "code",
      "source": [
        "# 함수 사용한 코드로 바꾸어 보기\n",
        "disp_lotto()\n",
        "print(\"Python\")\n",
        "disp_lotto()"
      ],
      "metadata": {
        "colab": {
          "base_uri": "https://localhost:8080/"
        },
        "id": "TcIsRfTBzCXv",
        "outputId": "29a8067b-318f-4039-b1c6-888a96e7dace"
      },
      "execution_count": null,
      "outputs": [
        {
          "output_type": "stream",
          "name": "stdout",
          "text": [
            "[3, 4, 18, 21, 22, 25]\n",
            "Python\n",
            "[23, 24, 25, 27, 34, 45]\n"
          ]
        }
      ]
    },
    {
      "cell_type": "code",
      "source": [
        "# 삼항연산자\n",
        "# 간단한 조건문을 한줄의 코드로 작성하는 방법\n",
        "# (True) if (conditon) else"
      ],
      "metadata": {
        "id": "x4ueRnSOFBfv"
      },
      "execution_count": null,
      "outputs": []
    },
    {
      "cell_type": "code",
      "source": [
        "# 변수에 있는 숫자가 짝수이면 even, 홀수이면 odd 출력\n",
        "number = 7\n",
        "if number % 2:\n",
        "  print(\"odd\")\n",
        "else:\n",
        "  print(\"even\")"
      ],
      "metadata": {
        "colab": {
          "base_uri": "https://localhost:8080/"
        },
        "id": "fJHqpt1hFfRF",
        "outputId": "a36ea67c-d39b-49f2-fece-a6b9e49f07e5"
      },
      "execution_count": null,
      "outputs": [
        {
          "output_type": "stream",
          "name": "stdout",
          "text": [
            "odd\n"
          ]
        }
      ]
    },
    {
      "cell_type": "code",
      "source": [
        "result = \"odd\" if number % 2 else \"even\"\n",
        "result"
      ],
      "metadata": {
        "colab": {
          "base_uri": "https://localhost:8080/",
          "height": 36
        },
        "id": "otJvRQF8FpTS",
        "outputId": "c84f999f-cd01-483a-8577-0eacd4f81912"
      },
      "execution_count": null,
      "outputs": [
        {
          "output_type": "execute_result",
          "data": {
            "text/plain": [
              "'odd'"
            ],
            "application/vnd.google.colaboratory.intrinsic+json": {
              "type": "string"
            }
          },
          "metadata": {},
          "execution_count": 129
        }
      ]
    }
  ],
  "metadata": {
    "celltoolbar": "Slideshow",
    "kernelspec": {
      "display_name": "Python 3",
      "language": "python",
      "name": "python3"
    },
    "language_info": {
      "codemirror_mode": {
        "name": "ipython",
        "version": 3
      },
      "file_extension": ".py",
      "mimetype": "text/x-python",
      "name": "python",
      "nbconvert_exporter": "python",
      "pygments_lexer": "ipython3",
      "version": "3.7.6"
    },
    "varInspector": {
      "cols": {
        "lenName": 16,
        "lenType": 16,
        "lenVar": 40
      },
      "kernels_config": {
        "python": {
          "delete_cmd_postfix": "",
          "delete_cmd_prefix": "del ",
          "library": "var_list.py",
          "varRefreshCmd": "print(var_dic_list())"
        },
        "r": {
          "delete_cmd_postfix": ") ",
          "delete_cmd_prefix": "rm(",
          "library": "var_list.r",
          "varRefreshCmd": "cat(var_dic_list()) "
        }
      },
      "types_to_exclude": [
        "module",
        "function",
        "builtin_function_or_method",
        "instance",
        "_Feature"
      ],
      "window_display": false
    },
    "colab": {
      "name": "python_101_basic_syntax.ipynb",
      "provenance": [],
      "collapsed_sections": [],
      "include_colab_link": true
    }
  },
  "nbformat": 4,
  "nbformat_minor": 0
}