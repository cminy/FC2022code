{
  "nbformat": 4,
  "nbformat_minor": 0,
  "metadata": {
    "colab": {
      "provenance": [],
      "authorship_tag": "ABX9TyNHaUzYd1uh9jV6uzZThWVQ",
      "include_colab_link": true
    },
    "kernelspec": {
      "name": "python3",
      "display_name": "Python 3"
    },
    "language_info": {
      "name": "python"
    }
  },
  "cells": [
    {
      "cell_type": "markdown",
      "metadata": {
        "id": "view-in-github",
        "colab_type": "text"
      },
      "source": [
        "<a href=\"https://colab.research.google.com/github/cminy/review_python3_wFC2022/blob/main/ssds_miny_python_programming_basic.ipynb\" target=\"_parent\"><img src=\"https://colab.research.google.com/assets/colab-badge.svg\" alt=\"Open In Colab\"/></a>"
      ]
    },
    {
      "cell_type": "markdown",
      "source": [
        "# 강사1"
      ],
      "metadata": {
        "id": "dqgGixJhJjR5"
      }
    },
    {
      "cell_type": "code",
      "source": [
        "a = 1\n",
        "print(a)"
      ],
      "metadata": {
        "colab": {
          "base_uri": "https://localhost:8080/"
        },
        "id": "YtPYCooGSs5A",
        "outputId": "f07d0476-cd0a-4235-e79c-fe9bed05b9ba"
      },
      "execution_count": 1,
      "outputs": [
        {
          "output_type": "stream",
          "name": "stdout",
          "text": [
            "1\n"
          ]
        }
      ]
    },
    {
      "cell_type": "markdown",
      "source": [
        "## input()\n",
        ": 문자열"
      ],
      "metadata": {
        "id": "PcQTPvxTPxZA"
      }
    },
    {
      "cell_type": "code",
      "execution_count": null,
      "metadata": {
        "colab": {
          "base_uri": "https://localhost:8080/"
        },
        "id": "MupKTmSnN_zH",
        "outputId": "ee326037-10be-4f18-c94b-02fa8c3decac"
      },
      "outputs": [
        {
          "output_type": "stream",
          "name": "stdout",
          "text": [
            "올해는 몇년도 인가요: 2023\n",
            "올해는 몇년인가요 : 2023\n",
            "내년은  2024 년\n",
            "내년은 2024년\n",
            "올해는 2023\n"
          ]
        }
      ],
      "source": [
        "x = input(\"올해는 몇년도 인가요: \")\n",
        "y = int(input(\"올해는 몇년인가요 : \"))\n",
        "print(\"내년은 \",int(x)+1,\"년\")\n",
        "print(\"내년은 {}년\".format(int(x)+1)) #띄어쓰기 없지\n",
        "print(\"올해는\", y)"
      ]
    },
    {
      "cell_type": "markdown",
      "source": [
        "##Q. bmi 계산\n",
        "\n",
        "제한사항\n",
        "- 0 < height <= 2.0\n",
        "- 0 < weight <= 150\n",
        "- bmi = weight / height^2"
      ],
      "metadata": {
        "id": "q8qTvqFKPgwO"
      }
    },
    {
      "cell_type": "code",
      "source": [
        "height = float(input(\"키가 몇 cm인가요? : \"))\n",
        "while height <0 or height > 200 :\n",
        "    height = float(input(\"키는 0 ~ 200cm 사이로 입력할 수 있습니다. 다시 입력해주세요 : \"))\n",
        "\n",
        "weight = float(input(\"몸무게는 몇 kg인가요? : \"))\n",
        "while not(weight > 0 and weight <= 150): \n",
        "    weight = float(input(\"몸무게는 0 ~ 150kg 사이로 입력할 수 있습니다. 다시 입력해주세요 : \"))\n",
        "\n",
        "bmi = weight / (height/100)**2\n",
        "print(\"---------------------------------\")\n",
        "print(f\"키 : {height}, 몸무게 : {weight}\")\n",
        "print(f\"당신의 bmi는 {bmi:.2f}\")\n",
        "print(\"---------------------------------\")"
      ],
      "metadata": {
        "colab": {
          "base_uri": "https://localhost:8080/"
        },
        "id": "t1R94mzHPwz1",
        "outputId": "b6198eb9-6a19-4d3a-df39-24ab57e282dc"
      },
      "execution_count": null,
      "outputs": [
        {
          "output_type": "stream",
          "name": "stdout",
          "text": [
            "키가 몇 cm인가요? : 164\n",
            "몸무게는 몇 kg인가요? : 151\n",
            "몸무게는 0 ~ 150kg 사이로 입력할 수 있습니다. 다시 입력해주세요 : 150\n",
            "---------------------------------\n",
            "키 : 164.0, 몸무게 : 150.0\n",
            "당신의 bmi는 55.77\n",
            "---------------------------------\n"
          ]
        }
      ]
    },
    {
      "cell_type": "markdown",
      "source": [
        "## 조건문"
      ],
      "metadata": {
        "id": "qjEttx6iS1bi"
      }
    },
    {
      "cell_type": "markdown",
      "source": [
        "Q. 회사를 그만두게 된 유진이는 유튜브를 시작하게 되었다. 그리고, 유튜브를 통해 수익창출을 하려고\n",
        "한다. 프로그램 사용자로부터 현재 구독자 수를 입력 받으면, 수익 창출이 가능한지 불가능한지\n",
        "알려주는 프로그램을 작성해보자. (단, 수익창출은 구독자가 1000명 이상일 경우 가능하다)"
      ],
      "metadata": {
        "id": "WG2LOOtnS4F9"
      }
    },
    {
      "cell_type": "code",
      "source": [
        "if int(input(\"현재 구독자 수를 입력하세요: \")) >= 1000 :\n",
        "    print(\"수익 창출이 가능!\")\n",
        "else :\n",
        "    print(\"수익 창출이 불가능합니다!\")"
      ],
      "metadata": {
        "colab": {
          "base_uri": "https://localhost:8080/"
        },
        "id": "3QBcvzevS0cq",
        "outputId": "fe77da95-6c44-4522-9a73-14aeec4ef521"
      },
      "execution_count": null,
      "outputs": [
        {
          "output_type": "stream",
          "name": "stdout",
          "text": [
            "현재 구독자 수를 입력하세요: 800\n",
            "수익 창출이 불가능합니다!\n"
          ]
        }
      ]
    },
    {
      "cell_type": "markdown",
      "source": [
        "Q. 윤행이는 평소 휴대폰을 너무 많이 사용해 공부시간을 다 빼앗기고 있었다. 이렇게 가면 얼마 남지\n",
        "않는 기말고사를 망칠 게 뻔했다. 윤행이가 공부시간을 다 채울 경우에만 휴대폰을 사용할 수 있도록\n",
        "프로그램을 만들어주자.\n",
        "조건) 10시간 이상 : 휴대폰 잠금 해제, 5시간 이상 : 휴대폰 30분 사용가능, 나머지 : 사용불가능"
      ],
      "metadata": {
        "id": "dPPu-YQoTbgz"
      }
    },
    {
      "cell_type": "code",
      "source": [
        "studyhr = int(input(\"공부 시간을 입력하세요(시간) : \"))\n",
        "while studyhr < 0 or studyhr > 24 :\n",
        "    studyhr = int(input(\"잘못 입력하였습니다. 시간으로 입력해주세요. (0~24) : \"))\n",
        "if studyhr >= 10 :\n",
        "    print(\"휴대폰 잠금 해제\")\n",
        "elif studyhr >= 5 :\n",
        "    print(\"휴대폰 30분 사용가능\")\n",
        "else :\n",
        "    print(\"휴대폰 사용 불가\")"
      ],
      "metadata": {
        "colab": {
          "base_uri": "https://localhost:8080/"
        },
        "id": "jhjDUFnHTe3u",
        "outputId": "b5070768-053a-458f-a9e1-c1ee79ebfbf7"
      },
      "execution_count": null,
      "outputs": [
        {
          "output_type": "stream",
          "name": "stdout",
          "text": [
            "공부 시간을 입력하세요(시간) : 30\n",
            "잘못 입력하였습니다. 시간으로 입력해주세요. (0~24) : 1\n",
            "휴대폰 사용 불가\n"
          ]
        }
      ]
    },
    {
      "cell_type": "markdown",
      "source": [
        "Q. 현동이는 강의를 8시간 동안 들으니, 배가 너무 고파 저녁을 먹기로 하였다. 현동이가 현재 가진\n",
        "금액을 통해 최대로 먹을 수 있는 음식을 출력해 주는 프로그램을 작성해 보자.\n",
        "조건 ) 20000원 이상 : 치킨, 10000원 이상 : 떡볶이, 2000원 이상 : 편의점 김밥"
      ],
      "metadata": {
        "id": "_8DHL9gVU3Jh"
      }
    },
    {
      "cell_type": "code",
      "source": [
        "hd_money = int(input(\"현재 가진 금액을 입력하세요 (숫자) : \")) \n",
        "if hd_money >= 20000 :\n",
        "    print(\"치킨 가능\")\n",
        "elif hd_money >= 10000 :\n",
        "    print(\"떡볶이 가능\")\n",
        "elif hd_money >= 2000 :\n",
        "    print('편의점 김밥 드세요')\n",
        "else :\n",
        "    print(\"집밥\")    "
      ],
      "metadata": {
        "colab": {
          "base_uri": "https://localhost:8080/"
        },
        "id": "quGy59COU4Ig",
        "outputId": "fb79c1e7-36cb-4ecb-81aa-2e8fee7291fa"
      },
      "execution_count": null,
      "outputs": [
        {
          "output_type": "stream",
          "name": "stdout",
          "text": [
            "현재 가진 금액을 입력하세요 (숫자) : 2000\n",
            "편의점 김밥 드세요\n"
          ]
        }
      ]
    },
    {
      "cell_type": "markdown",
      "source": [
        "## 반복문"
      ],
      "metadata": {
        "id": "A0Rda0y-VeM5"
      }
    },
    {
      "cell_type": "markdown",
      "source": [
        "Q. 프로그램 사용자로부터 자연수 n를 입력 받으면, 1부터 n까지 합계를 계산해주는 프로그램을\n",
        "작성해보자."
      ],
      "metadata": {
        "id": "tFtEONc1Vf_J"
      }
    },
    {
      "cell_type": "code",
      "source": [
        "x = int(input(\"자연수 입력해주세요 : \"))\n",
        "x_sum = 0\n",
        "for n in range(1,x+1):\n",
        "    x_sum += n\n",
        "print(f\"1부터 {x}까지의 합은 {x_sum}\")"
      ],
      "metadata": {
        "colab": {
          "base_uri": "https://localhost:8080/"
        },
        "id": "LHnsccx6VhFM",
        "outputId": "18c98270-9dee-4e34-c944-035e1a81911f"
      },
      "execution_count": null,
      "outputs": [
        {
          "output_type": "stream",
          "name": "stdout",
          "text": [
            "자연수 입력해주세요 : 10\n",
            "1부터 10까지의 합은 55\n"
          ]
        }
      ]
    },
    {
      "cell_type": "markdown",
      "source": [
        "Q. 프로그램 사용자로부터 자연수 n, m를 입력 받으면, n부터 m까지 합계를 계산해주는 프로그램을\n",
        "작성해보자."
      ],
      "metadata": {
        "id": "x2eM9rELWMy1"
      }
    },
    {
      "cell_type": "code",
      "source": [
        "n, m = int(input(\"자연수 n: \")), int(input(\"자연수 m: \"))\n",
        "for i in range(n+1,m+1):\n",
        "    n += i\n",
        "print(f'합은 {n}')"
      ],
      "metadata": {
        "colab": {
          "base_uri": "https://localhost:8080/"
        },
        "id": "A0-hZOHgWMCt",
        "outputId": "7e69c96d-112b-4e9a-f451-03be00822bc9"
      },
      "execution_count": null,
      "outputs": [
        {
          "output_type": "stream",
          "name": "stdout",
          "text": [
            "자연수 n: 50\n",
            "자연수 m: 53\n",
            "합은 206\n"
          ]
        }
      ]
    },
    {
      "cell_type": "code",
      "source": [
        "## 콤마로 구분하기\n",
        "nm = input(\"자연수 두개를 입력해주세요 (콤마로 구분) : \")\n",
        "n = int(nm.split(',')[0])\n",
        "m = int(nm.split(',')[1])\n",
        "nm_sum = 0\n",
        "\n",
        "for i in range(n, m+1):\n",
        "    nm_sum += i\n",
        "\n",
        "print(f'{n}부터 {m}까지의 합은 {nm_sum}')"
      ],
      "metadata": {
        "colab": {
          "base_uri": "https://localhost:8080/"
        },
        "id": "vpi_u3PpWugX",
        "outputId": "61a7f349-5913-4df8-ecc8-4d112b84d352"
      },
      "execution_count": null,
      "outputs": [
        {
          "output_type": "stream",
          "name": "stdout",
          "text": [
            "자연수 두개를 입력해주세요 (콤마로 구분) : 50, 53\n",
            "50부터 53까지의 합은 206\n"
          ]
        }
      ]
    },
    {
      "cell_type": "markdown",
      "source": [
        "Q. 구구단 출력"
      ],
      "metadata": {
        "id": "ZHCXpH_EXzdd"
      }
    },
    {
      "cell_type": "code",
      "source": [
        "x = int(input(\"몇단을 출력할까요 : \"))\n",
        "i = 1\n",
        "print(f\"------------- {x}단 출력 -------------\")\n",
        "while i < 10 :\n",
        "    print(f'{x}x{i}={x*i}')\n",
        "    i += 1\n"
      ],
      "metadata": {
        "colab": {
          "base_uri": "https://localhost:8080/"
        },
        "id": "c09HbijyX1G1",
        "outputId": "606efaf3-4961-4cff-f5c5-f4a94f928126"
      },
      "execution_count": null,
      "outputs": [
        {
          "output_type": "stream",
          "name": "stdout",
          "text": [
            "몇단을 출력할까요 : 7\n",
            "------------- 7단 출력 -------------\n",
            "7x1=7\n",
            "7x2=14\n",
            "7x3=21\n",
            "7x4=28\n",
            "7x5=35\n",
            "7x6=42\n",
            "7x7=49\n",
            "7x8=56\n",
            "7x9=63\n"
          ]
        }
      ]
    },
    {
      "cell_type": "markdown",
      "source": [
        "## 논리연산"
      ],
      "metadata": {
        "id": "NkilqjWcY1ne"
      }
    },
    {
      "cell_type": "markdown",
      "source": [
        "Q. 유진이는 유튜브를 통해 수익창출을 하려고 한다. 기존에는 구독자가 1000명만 넘으면 수익창출이\n",
        "가능했는데, 시청시간 4000시간까지 넘어야지 수익창출이 가능해졌다. 프로그램 사용자로부터 현재\n",
        "구독자수와 시청시간을 입력 받으면, 수익창출이 가능한지 불가능한지 알려주는 프로그램을 작성해\n",
        "보자. (수익창출은 구독자 1000명이상, 시청시간 4000시간 이상 가능)"
      ],
      "metadata": {
        "id": "ZqeDr2m_Y3TY"
      }
    },
    {
      "cell_type": "code",
      "source": [
        "n_subscriber = int(input(\"현재 구독자 : \"))\n",
        "watch_hr = int(input(\"시청 시간 : \"))\n",
        "\n",
        "if n_subscriber >= 1000 and watch_hr >= 4000 :\n",
        "    print(\"수익 창출 가능\")\n",
        "else :\n",
        "    print(\"수익 창출 불가능\")"
      ],
      "metadata": {
        "colab": {
          "base_uri": "https://localhost:8080/"
        },
        "id": "SyZJzJK7Y4Rz",
        "outputId": "846a21a0-765b-4cb3-b820-58c059466d23"
      },
      "execution_count": null,
      "outputs": [
        {
          "output_type": "stream",
          "name": "stdout",
          "text": [
            "현재 구독자 : 1200\n",
            "시청 시간 : 4500\n",
            "수익 창출 가능\n"
          ]
        }
      ]
    },
    {
      "cell_type": "markdown",
      "source": [
        "Q. 스타트코딩학교에서 체력검정을 실시한다. 종목은 팔굽혀펴기, 윗몸일으키기, 턱걸이 3가지이다.\n",
        "3가지를 모두 측정하는데 그 중 1가지라도 합격권에 들면 pass이다. 3가지 종목이 입력으로 주어 질\n",
        "때, pass 인지 fail인지 알려주는 프로그램을 작성해보자. (팔굽혀펴기는 30개 이상, 윗몸일으키기는\n",
        "35개 이상, 턱걸이는 5개 이상 합격권)"
      ],
      "metadata": {
        "id": "ek6oW4-lZg4h"
      }
    },
    {
      "cell_type": "code",
      "source": [
        "x = int(input(\"팔굽혀펴기 : \"))\n",
        "y = int(input(\"윗몸일으키기 : \"))\n",
        "z = int(input(\"턱걸이 : \"))\n",
        "\n",
        "if x >= 30 and y >= 35 and z >= 5:\n",
        "    print(\"pass\")\n",
        "else : \n",
        "    print('fail')"
      ],
      "metadata": {
        "colab": {
          "base_uri": "https://localhost:8080/"
        },
        "id": "4ZyP_PAaZiHs",
        "outputId": "2e77f630-f008-4b06-a8dc-f482f51b64ed"
      },
      "execution_count": null,
      "outputs": [
        {
          "output_type": "stream",
          "name": "stdout",
          "text": [
            "팔굽혀펴기 : 20\n",
            "윗몸일으키기 : 40\n",
            "턱걸이 : 3\n",
            "fail\n"
          ]
        }
      ]
    },
    {
      "cell_type": "markdown",
      "source": [
        "## 다중조건문/다중반복문"
      ],
      "metadata": {
        "id": "1HwtyRLHaEBd"
      }
    },
    {
      "cell_type": "markdown",
      "source": [
        "Q. 대현이는 S사 공개채용에 지원했다. 공개채용 과정은 필기시험을 80점 이상 받아야, 면접을 볼 수\n",
        "있다. 그리고 면접에서 pass를 할경우 최종합격된다. 프로그램 사용자로부터 필기시험 점수를 먼저\n",
        "입력받고 80점 이상인 경우 면접 결과를 입력 받는다. (80점 미만일 경우 바로 불합격을 출력) 면접\n",
        "결과가 pass인 경우 최종합격을 출력한다. fail인 경우 불합격을 출력한다."
      ],
      "metadata": {
        "id": "fGbh9wyUaFv5"
      }
    },
    {
      "cell_type": "code",
      "source": [
        "if int(input(\"필기시험 점수를 입력하세요 : \")) < 80:\n",
        "    print(\"불합격\")\n",
        "else:\n",
        "    if input(\"면접 결과를 입력하세요 (P/F) : \").upper() == \"P\":\n",
        "        print(\"최종합격\")\n",
        "    else :\n",
        "        print(\"불합격\")"
      ],
      "metadata": {
        "colab": {
          "base_uri": "https://localhost:8080/"
        },
        "id": "5fHYiII1aGuL",
        "outputId": "91c8b86a-ecfd-41f0-885b-803931276116"
      },
      "execution_count": null,
      "outputs": [
        {
          "output_type": "stream",
          "name": "stdout",
          "text": [
            "필기시험 점수를 입력하세요 : 80\n",
            "면접 결과를 입력하세요 (P/F) : p\n",
            "최종합격\n"
          ]
        }
      ]
    },
    {
      "cell_type": "markdown",
      "source": [
        "Q. 별 출력"
      ],
      "metadata": {
        "id": "e7Ld_0PxbiRe"
      }
    },
    {
      "cell_type": "code",
      "source": [
        "i=0\n",
        "while i < 6:\n",
        "    print('*'*i)\n",
        "    i += 1"
      ],
      "metadata": {
        "colab": {
          "base_uri": "https://localhost:8080/"
        },
        "id": "CnxvEITWbhrb",
        "outputId": "b7eb0104-6753-4fc8-ae2e-8fc21b71b000"
      },
      "execution_count": null,
      "outputs": [
        {
          "output_type": "stream",
          "name": "stdout",
          "text": [
            "\n",
            "*\n",
            "**\n",
            "***\n",
            "****\n",
            "*****\n"
          ]
        }
      ]
    },
    {
      "cell_type": "markdown",
      "source": [
        "Q. 별 출력2"
      ],
      "metadata": {
        "id": "En25FtLWbzXm"
      }
    },
    {
      "cell_type": "code",
      "source": [
        "for n in range(5,0,-1):\n",
        "    print('*'*n)"
      ],
      "metadata": {
        "colab": {
          "base_uri": "https://localhost:8080/"
        },
        "outputId": "fdd65c54-e48d-459e-dcba-42d9aa46289d",
        "id": "2vN7I8TjbzYF"
      },
      "execution_count": null,
      "outputs": [
        {
          "output_type": "stream",
          "name": "stdout",
          "text": [
            "*****\n",
            "****\n",
            "***\n",
            "**\n",
            "*\n"
          ]
        }
      ]
    },
    {
      "cell_type": "markdown",
      "source": [
        "Q. 트리모양 출력"
      ],
      "metadata": {
        "id": "F315x4IXdSpI"
      }
    },
    {
      "cell_type": "code",
      "source": [
        "num = int(input(\"몇단트리? : \"))\n",
        "for i in range(1,num+1):\n",
        "    print(\" \"*(num-i), end=\"\")\n",
        "    for j in range(i*2-1):\n",
        "        print(\"*\", end=\"\")\n",
        "    print(\"\")"
      ],
      "metadata": {
        "colab": {
          "base_uri": "https://localhost:8080/"
        },
        "id": "ugMeLy8AdUVO",
        "outputId": "8c8f53be-83f6-4bc1-eec2-dae0d2ccb864"
      },
      "execution_count": null,
      "outputs": [
        {
          "output_type": "stream",
          "name": "stdout",
          "text": [
            "몇단트리? : 5\n",
            "    *\n",
            "   ***\n",
            "  *****\n",
            " *******\n",
            "*********\n"
          ]
        }
      ]
    },
    {
      "cell_type": "markdown",
      "source": [
        "## 조건문과 반복문"
      ],
      "metadata": {
        "id": "BqfzE4lT80oH"
      }
    },
    {
      "cell_type": "markdown",
      "source": [
        "Q. 스타트게임즈에 인턴으로 근무하게 된 종현. 사수에게 과제로 게임 메뉴 만들기를 받았다. 과제 내용은 다음과 같았다.\n",
        "<br>-과제-</br>\n",
        "* 숫자 1 입력 : \"게임을 시작합니다\" 출력\n",
        "* 숫자 2 입력 : \"실시간 랭킹\" 출력\n",
        "* 숫자 3 입력 : \"게임을 종료합니다\" 출력 후 프로그램 종료\n",
        "* (단, 3을 입력할 때까지 프로그램은 계속 실행된다. 1~3외 다른 숫자를 입력한 경우 \"다시 입력해 주세요\" 를 출력)\n"
      ],
      "metadata": {
        "id": "dbhex9P782mb"
      }
    },
    {
      "cell_type": "code",
      "source": [
        "while True:\n",
        "    print(\"[메뉴를 입력하세요]\")\n",
        "    startgames = int(input(\"1. 게임시작 2. 랭킹보기 3. 게임종료 >>> \"))\n",
        "    if startgames == 1:\n",
        "        print(\"-> 게임을 시작합니다.\")\n",
        "    elif startgames == 2:\n",
        "        print(\"-> 실시간 랭킹\")\n",
        "    elif startgames == 3:\n",
        "        print(\"-> 게임을 종료합니다.\")\n",
        "        break\n",
        "    else:\n",
        "        print(\"잘못 입력하였습니다. 다시 입력해 주세요.\")"
      ],
      "metadata": {
        "colab": {
          "base_uri": "https://localhost:8080/"
        },
        "id": "VP0n9v4483nT",
        "outputId": "b7fae2f3-6133-4d8c-ccfe-a61d58a1ec72"
      },
      "execution_count": null,
      "outputs": [
        {
          "output_type": "stream",
          "name": "stdout",
          "text": [
            "[메뉴를 입력하세요]\n",
            "1. 게임시작 2. 랭킹보기 3. 게임종료 >>> 1\n",
            "-> 게임을 시작합니다.\n",
            "[메뉴를 입력하세요]\n",
            "1. 게임시작 2. 랭킹보기 3. 게임종료 >>> 2\n",
            "-> 실시간 랭킹\n",
            "[메뉴를 입력하세요]\n",
            "1. 게임시작 2. 랭킹보기 3. 게임종료 >>> 5\n",
            "잘못 입력하였습니다. 다시 입력해 주세요.\n",
            "[메뉴를 입력하세요]\n",
            "1. 게임시작 2. 랭킹보기 3. 게임종료 >>> 3\n",
            "-> 게임을 종료합니다.\n"
          ]
        }
      ]
    },
    {
      "cell_type": "markdown",
      "source": [
        "Q. up & down 게임을 만들어보자. 프로그램이 시작되면 컴퓨터가 1부터 100까지 중 랜덤으로 하나의\n",
        "번호를 고른다. 사용자는 해당 번호를 맞출 때까지 계속 입력한다. 번호를 맞추면 총시도 횟수를\n",
        "출력해 준다."
      ],
      "metadata": {
        "id": "W0BQZ599_G8M"
      }
    },
    {
      "cell_type": "code",
      "source": [
        "import random"
      ],
      "metadata": {
        "id": "XnZ7L2_s_gGw"
      },
      "execution_count": null,
      "outputs": []
    },
    {
      "cell_type": "code",
      "source": [
        "count = 0\n",
        "print(\"컴퓨터가 숫자를 골랐습니다.\")\n",
        "pronum = random.randint(1,100)\n",
        "while True:\n",
        "    count += 1\n",
        "    yournum = int(input(\"(1~100) 숫자를 맞춰보세요 >>> \"))\n",
        "    if pronum == yournum:\n",
        "        print(\"정답입니다.\", f\"총 시도 횟수 {count}\", sep='\\n')\n",
        "        break\n",
        "    elif pronum > yournum:\n",
        "        print(\"up 입니다\")\n",
        "    elif pronum < yournum :\n",
        "        print(\"down 입니다\")"
      ],
      "metadata": {
        "colab": {
          "base_uri": "https://localhost:8080/"
        },
        "id": "Dbvxv2fw_IHC",
        "outputId": "73ce03aa-47b5-4af9-f4da-de056cdf0697"
      },
      "execution_count": null,
      "outputs": [
        {
          "output_type": "stream",
          "name": "stdout",
          "text": [
            "컴퓨터가 숫자를 골랐습니다.\n",
            "(1~100) 숫자를 맞춰보세요 >>> 50\n",
            "down 입니다\n",
            "(1~100) 숫자를 맞춰보세요 >>> 20\n",
            "up 입니다\n",
            "(1~100) 숫자를 맞춰보세요 >>> 35\n",
            "down 입니다\n",
            "(1~100) 숫자를 맞춰보세요 >>> 33\n",
            "down 입니다\n",
            "(1~100) 숫자를 맞춰보세요 >>> 28\n",
            "down 입니다\n",
            "(1~100) 숫자를 맞춰보세요 >>> 26\n",
            "down 입니다\n",
            "(1~100) 숫자를 맞춰보세요 >>> 23\n",
            "up 입니다\n",
            "(1~100) 숫자를 맞춰보세요 >>> 24\n",
            "up 입니다\n",
            "(1~100) 숫자를 맞춰보세요 >>> 25\n",
            "정답입니다.\n",
            "총 시도 횟수 9\n"
          ]
        }
      ]
    },
    {
      "cell_type": "markdown",
      "source": [
        "## 리스트"
      ],
      "metadata": {
        "id": "fqAf4ViTAYdo"
      }
    },
    {
      "cell_type": "markdown",
      "source": [
        "Q. 정수들을 담은 nums 리스트가 있다.\n",
        "nums = [5, 15, 2, -8, -12, -29, 43, 1]\n",
        "nums 안의 원소들 중에서 가장 작은 수를 찾는 프로그램을 작성해보자."
      ],
      "metadata": {
        "id": "yz4WRQEZJwFf"
      }
    },
    {
      "cell_type": "code",
      "source": [
        "nums = [5, 15, 2, -8, -12, -29, 43, 1]\n",
        "\n",
        "for num in nums:\n",
        "    pick = []\n",
        "    for n in nums:\n",
        "        if num < n :\n",
        "            pick.append(n)\n",
        "    if len(pick) == len(nums)-1:\n",
        "        print(num)\n"
      ],
      "metadata": {
        "colab": {
          "base_uri": "https://localhost:8080/"
        },
        "id": "JZiZ4hp1AaVa",
        "outputId": "d3b8b150-3efc-4faf-cbc4-0cf6713773a2"
      },
      "execution_count": null,
      "outputs": [
        {
          "output_type": "stream",
          "name": "stdout",
          "text": [
            "-29\n"
          ]
        }
      ]
    },
    {
      "cell_type": "code",
      "source": [
        "## internet source\n",
        "nums = [5, 15, 2, -8, -12, -29, 43, 1]\n",
        "\n",
        "pick = nums[0]\n",
        "for num in nums:\n",
        "    if num < pick:\n",
        "        pick = num\n",
        "print(pick)"
      ],
      "metadata": {
        "colab": {
          "base_uri": "https://localhost:8080/"
        },
        "id": "T7CoWsPPPiHn",
        "outputId": "731305a3-91a4-4027-de83-de701bea1f20"
      },
      "execution_count": null,
      "outputs": [
        {
          "output_type": "stream",
          "name": "stdout",
          "text": [
            "-29\n"
          ]
        }
      ]
    },
    {
      "cell_type": "markdown",
      "source": [
        "Q. 정수들을 담은 nums 리스트가 있다.\n",
        "nums = [5, 15, 2, -8, -12, -29, 43, 1]\n",
        "홀수 번째 원소들의 합계을 구하는 프로그램을 작성해 보세요."
      ],
      "metadata": {
        "id": "oV27JYqXRvMk"
      }
    },
    {
      "cell_type": "code",
      "source": [
        "nums = [5, 15, 2, -8, -12, -29, 43, 1]\n",
        "oddnum = []\n",
        "\n",
        "for i in range(0,len(nums),2):\n",
        "    oddnum.append(nums[i])\n",
        "print(oddnum, sum(oddnum))"
      ],
      "metadata": {
        "colab": {
          "base_uri": "https://localhost:8080/"
        },
        "id": "4jmxPKUZRyAR",
        "outputId": "6e2e5d21-3bdb-4e4c-99c5-6acbf23c288c"
      },
      "execution_count": null,
      "outputs": [
        {
          "output_type": "stream",
          "name": "stdout",
          "text": [
            "[5, 2, -12, 43] 38\n"
          ]
        }
      ]
    },
    {
      "cell_type": "markdown",
      "source": [
        "Q. 로또 번호 추출기를 만들어 보자. 1~45중 6개의 번호를 추출한다. (단, 번호가 중복되면 안된다)<br>\n",
        "힌트) 리스트와 파이썬 멤버십 연산자를 이용해 본다."
      ],
      "metadata": {
        "id": "7Re3mH0xTD7m"
      }
    },
    {
      "cell_type": "code",
      "source": [
        "# cf. 멤버십 연산자 : in , not in\n",
        "# : 멤버 연산자(멤버십 연산자)란 좌측의 피연산자가 우측에 포함되어 있는지의 여부를 확인하는 연산자입니다\n",
        "# 결과는 불린값(True, False)로 반환됩니다\n",
        "\n",
        "lotto = []\n",
        "while True:\n",
        "    num = random.randint(1,45)\n",
        "    if num not in lotto:\n",
        "        lotto.append(num)\n",
        "    if len(lotto) == 6:\n",
        "        lotto.sort()\n",
        "        print(lotto)\n",
        "        break"
      ],
      "metadata": {
        "colab": {
          "base_uri": "https://localhost:8080/"
        },
        "id": "6SAjWod6TGCP",
        "outputId": "07233a24-fb9f-4cd4-b4e2-8505cd42ba37"
      },
      "execution_count": null,
      "outputs": [
        {
          "output_type": "stream",
          "name": "stdout",
          "text": [
            "[2, 25, 26, 36, 40, 44]\n"
          ]
        }
      ]
    },
    {
      "cell_type": "code",
      "source": [
        "# random 한방\n",
        "random.sample(range(1,46),6)"
      ],
      "metadata": {
        "colab": {
          "base_uri": "https://localhost:8080/"
        },
        "id": "b6rRsmI3T9gj",
        "outputId": "701d39c1-c9c5-4516-f245-c6b09b33ade1"
      },
      "execution_count": null,
      "outputs": [
        {
          "output_type": "execute_result",
          "data": {
            "text/plain": [
              "[18, 33, 45, 34, 24, 20]"
            ]
          },
          "metadata": {},
          "execution_count": 35
        }
      ]
    },
    {
      "cell_type": "markdown",
      "source": [
        "## 사용자정의 함수"
      ],
      "metadata": {
        "id": "CBenCJVJYAqp"
      }
    },
    {
      "cell_type": "code",
      "source": [
        "# 홀수번째 원소 합 구하기 함수로 바꿔보기\n",
        "\n",
        "def oddnum_sum(nums):\n",
        "    oddnum = []\n",
        "    for i in range(0,len(nums),2):\n",
        "        oddnum.append(nums[i])\n",
        "    return sum(oddnum)\n",
        "\n",
        "x = [5, 15, 2, -8, -12, -29, 43, 1]\n",
        "oddnum_sum(x)"
      ],
      "metadata": {
        "colab": {
          "base_uri": "https://localhost:8080/"
        },
        "id": "dpELmTOQX_qL",
        "outputId": "662b26cc-d64d-460c-fa85-75f7b25e3a46"
      },
      "execution_count": null,
      "outputs": [
        {
          "output_type": "execute_result",
          "data": {
            "text/plain": [
              "38"
            ]
          },
          "metadata": {},
          "execution_count": 41
        }
      ]
    },
    {
      "cell_type": "markdown",
      "source": [
        "## 문자열 처리\n",
        ": 문자열 함수\n",
        "- count\n",
        "- find\n",
        "- replace\n",
        "- split\n",
        "- join\n",
        "- strip\n",
        "\n"
      ],
      "metadata": {
        "id": "-V6JCZZwZBHA"
      }
    },
    {
      "cell_type": "code",
      "source": [
        "## string도 알파벳이 배열된 list라고 생각할 수 있다!\n",
        "# --> 슬라이싱, len() 가능\n",
        "# but immutable이다. ≒ tuple\n",
        "# => 그래서 인덱싱으로 글자 바꿀 수 없다.\n",
        "# => immutable하니까 concatenate한 string이나 슬라이싱한 것들은 모두 원본이 변경된게 X\n",
        "# 원본을 활용해서 새로운 string이 만들어진것.\n",
        "\n",
        "## 문자열, 문자열 포매팅\n",
        "# : https://m.blog.naver.com/backers10/222910885440\n",
        "# : https://m.blog.naver.com/backers10/222909912506"
      ],
      "metadata": {
        "id": "XZsLIzybOYhs"
      },
      "execution_count": null,
      "outputs": []
    },
    {
      "cell_type": "code",
      "source": [
        "name = \"startcoding\"\n",
        "name.find('t') # 여러개면 첫번째거 알려줌\u001b"
      ],
      "metadata": {
        "colab": {
          "base_uri": "https://localhost:8080/"
        },
        "id": "Hc-tBpBFZDTZ",
        "outputId": "1b728c57-abf6-4d32-954a-96cf175c294f"
      },
      "execution_count": null,
      "outputs": [
        {
          "output_type": "execute_result",
          "data": {
            "text/plain": [
              "1"
            ]
          },
          "metadata": {},
          "execution_count": 42
        }
      ]
    },
    {
      "cell_type": "code",
      "source": [
        "text = \"파이썬 아따 쉽구마잉~!\"\n",
        "text.split()"
      ],
      "metadata": {
        "colab": {
          "base_uri": "https://localhost:8080/"
        },
        "id": "eRAs6pmZZgYY",
        "outputId": "03c261eb-ecb5-4033-f333-541c77b69410"
      },
      "execution_count": null,
      "outputs": [
        {
          "output_type": "execute_result",
          "data": {
            "text/plain": [
              "['파이썬', '아따', '쉽구마잉~!']"
            ]
          },
          "metadata": {},
          "execution_count": 43
        }
      ]
    },
    {
      "cell_type": "code",
      "source": [
        "# strip 공백 문자 자르기\n",
        "text = \" 아따 날씨 좋구마이! \"\n",
        "text.strip()"
      ],
      "metadata": {
        "colab": {
          "base_uri": "https://localhost:8080/",
          "height": 35
        },
        "id": "6p_st04NZlJk",
        "outputId": "9b1fceb7-88b2-4ebf-e6b2-3492e5df66f1"
      },
      "execution_count": null,
      "outputs": [
        {
          "output_type": "execute_result",
          "data": {
            "text/plain": [
              "'아따 날씨 좋구마이!'"
            ],
            "application/vnd.google.colaboratory.intrinsic+json": {
              "type": "string"
            }
          },
          "metadata": {},
          "execution_count": 49
        }
      ]
    },
    {
      "cell_type": "code",
      "source": [
        "text.lstrip()"
      ],
      "metadata": {
        "colab": {
          "base_uri": "https://localhost:8080/",
          "height": 35
        },
        "id": "5zcQ4jEtZnUW",
        "outputId": "f0cb297b-2b42-4e95-acae-3a98928b7612"
      },
      "execution_count": null,
      "outputs": [
        {
          "output_type": "execute_result",
          "data": {
            "text/plain": [
              "'아따 날씨 좋구마이! '"
            ],
            "application/vnd.google.colaboratory.intrinsic+json": {
              "type": "string"
            }
          },
          "metadata": {},
          "execution_count": 46
        }
      ]
    },
    {
      "cell_type": "code",
      "source": [
        "text.rstrip()"
      ],
      "metadata": {
        "colab": {
          "base_uri": "https://localhost:8080/",
          "height": 35
        },
        "id": "6Z8mRrJBZoql",
        "outputId": "5a6d62cd-8c45-400e-8b7d-f509d4796ee8"
      },
      "execution_count": null,
      "outputs": [
        {
          "output_type": "execute_result",
          "data": {
            "text/plain": [
              "' 아따 날씨 좋구마이!'"
            ],
            "application/vnd.google.colaboratory.intrinsic+json": {
              "type": "string"
            }
          },
          "metadata": {},
          "execution_count": 47
        }
      ]
    },
    {
      "cell_type": "markdown",
      "source": [
        "## 파일입출력\n",
        "\n",
        "- w : write 쓰기\n",
        "- a : append 추가\n",
        "- r : read 읽기"
      ],
      "metadata": {
        "id": "kWfhUloraBYg"
      }
    },
    {
      "cell_type": "code",
      "source": [
        "file = open(\"data.txt\", \"w\")\n",
        "file.write(\"1. 스타트코딩과 함께 파이썬 공부\")\n",
        "file.close()"
      ],
      "metadata": {
        "id": "3ptV0WA8aK0h"
      },
      "execution_count": null,
      "outputs": []
    },
    {
      "cell_type": "code",
      "source": [
        "file = open(\"data.txt\", \"a\")\n",
        "file.write(\"2. 비전공자도 정말 쉽게 배울 수 있습니다.\")\n",
        "file.close()"
      ],
      "metadata": {
        "id": "Hv5r9hF4aOLP"
      },
      "execution_count": null,
      "outputs": []
    },
    {
      "cell_type": "code",
      "source": [
        "file = open(\"data.txt\", \"r\")\n",
        "lines = file.readlines()\n",
        "for line in lines:\n",
        "    print(line)\n",
        "file.close()"
      ],
      "metadata": {
        "colab": {
          "base_uri": "https://localhost:8080/"
        },
        "id": "ZDse4E5zaPqo",
        "outputId": "2276d285-ad53-4eed-974b-42d93796e8e0"
      },
      "execution_count": null,
      "outputs": [
        {
          "output_type": "stream",
          "name": "stdout",
          "text": [
            "1. 스타트코딩과 함께 파이썬 공부2. 비전공자도 정말 쉽게 배울 수 있습니다.\n"
          ]
        }
      ]
    },
    {
      "cell_type": "markdown",
      "source": [
        "## 내부라이브러리\n",
        ": 파이썬 설치 시 같이 설치되는 라이브러리\n",
        "- random 난수생성\n",
        "- time 프로그램 동작 멈추기\n",
        "- turtle 터틀 그래픽\n",
        "- os 폴더 및 파일 관리\n",
        "- pyperclip 클립보드 이용"
      ],
      "metadata": {
        "id": "50HvI8Vca2yO"
      }
    },
    {
      "cell_type": "markdown",
      "source": [
        "### pyperclip"
      ],
      "metadata": {
        "id": "RKxJ6cWKbN1m"
      }
    },
    {
      "cell_type": "code",
      "source": [
        "# # colab 지원안됨\n",
        "# !pip install pyperclip\n",
        "# import pyperclip\n",
        "\n",
        "# pyperclip.copy('hellooo')\n",
        "# pyperclip.paste()"
      ],
      "metadata": {
        "id": "sYOI1vdXa9yk"
      },
      "execution_count": 63,
      "outputs": []
    },
    {
      "cell_type": "markdown",
      "source": [
        "## 외부라이브러리\n",
        ": 따로 직접 설치해서 사용해야하는 라이브러리\n",
        "\n",
        "- pyautogui 마우스, 키보드 자동화\n",
        "- gTTS google Text-To-Speach\n",
        "- BeautifulSoup 웹크롤링\n",
        "- selenium 웹사이트 자동화\n",
        "- openpyxl 엑셀 자동화\n",
        "- pandas 데이터 분석"
      ],
      "metadata": {
        "id": "kWXagDC6bDOx"
      }
    },
    {
      "cell_type": "markdown",
      "source": [
        "### gTTS"
      ],
      "metadata": {
        "id": "HqMSFbe2alts"
      }
    },
    {
      "cell_type": "code",
      "source": [
        "!pip install gTTS"
      ],
      "metadata": {
        "id": "Ef3BiORsaoOC",
        "colab": {
          "base_uri": "https://localhost:8080/"
        },
        "outputId": "e5037e88-cbe9-4b4c-f1ca-a844272df9d6"
      },
      "execution_count": 40,
      "outputs": [
        {
          "output_type": "stream",
          "name": "stdout",
          "text": [
            "Looking in indexes: https://pypi.org/simple, https://us-python.pkg.dev/colab-wheels/public/simple/\n",
            "Collecting gTTS\n",
            "  Downloading gTTS-2.3.0-py3-none-any.whl (26 kB)\n",
            "Collecting six~=1.16.0\n",
            "  Downloading six-1.16.0-py2.py3-none-any.whl (11 kB)\n",
            "Collecting click~=8.1.3\n",
            "  Downloading click-8.1.3-py3-none-any.whl (96 kB)\n",
            "\u001b[2K     \u001b[90m━━━━━━━━━━━━━━━━━━━━━━━━━━━━━━━━━━━━━━━━\u001b[0m \u001b[32m96.6/96.6 KB\u001b[0m \u001b[31m5.1 MB/s\u001b[0m eta \u001b[36m0:00:00\u001b[0m\n",
            "\u001b[?25hCollecting requests~=2.28.0\n",
            "  Downloading requests-2.28.2-py3-none-any.whl (62 kB)\n",
            "\u001b[2K     \u001b[90m━━━━━━━━━━━━━━━━━━━━━━━━━━━━━━━━━━━━━━━━\u001b[0m \u001b[32m62.8/62.8 KB\u001b[0m \u001b[31m7.5 MB/s\u001b[0m eta \u001b[36m0:00:00\u001b[0m\n",
            "\u001b[?25hRequirement already satisfied: charset-normalizer<4,>=2 in /usr/local/lib/python3.8/dist-packages (from requests~=2.28.0->gTTS) (2.1.1)\n",
            "Requirement already satisfied: idna<4,>=2.5 in /usr/local/lib/python3.8/dist-packages (from requests~=2.28.0->gTTS) (2.10)\n",
            "Requirement already satisfied: urllib3<1.27,>=1.21.1 in /usr/local/lib/python3.8/dist-packages (from requests~=2.28.0->gTTS) (1.24.3)\n",
            "Requirement already satisfied: certifi>=2017.4.17 in /usr/local/lib/python3.8/dist-packages (from requests~=2.28.0->gTTS) (2022.12.7)\n",
            "Installing collected packages: six, requests, click, gTTS\n",
            "  Attempting uninstall: six\n",
            "    Found existing installation: six 1.15.0\n",
            "    Uninstalling six-1.15.0:\n",
            "      Successfully uninstalled six-1.15.0\n",
            "  Attempting uninstall: requests\n",
            "    Found existing installation: requests 2.25.1\n",
            "    Uninstalling requests-2.25.1:\n",
            "      Successfully uninstalled requests-2.25.1\n",
            "  Attempting uninstall: click\n",
            "    Found existing installation: click 7.1.2\n",
            "    Uninstalling click-7.1.2:\n",
            "      Successfully uninstalled click-7.1.2\n",
            "\u001b[31mERROR: pip's dependency resolver does not currently take into account all the packages that are installed. This behaviour is the source of the following dependency conflicts.\n",
            "ipython 7.9.0 requires jedi>=0.10, which is not installed.\n",
            "flask 1.1.4 requires click<8.0,>=5.1, but you have click 8.1.3 which is incompatible.\u001b[0m\u001b[31m\n",
            "\u001b[0mSuccessfully installed click-8.1.3 gTTS-2.3.0 requests-2.28.2 six-1.16.0\n"
          ]
        }
      ]
    },
    {
      "cell_type": "code",
      "source": [
        "!pip install playsound"
      ],
      "metadata": {
        "colab": {
          "base_uri": "https://localhost:8080/"
        },
        "id": "1MRhI9e8bmoW",
        "outputId": "c741cc00-013f-4ffa-8ddd-d90035ca842f"
      },
      "execution_count": 50,
      "outputs": [
        {
          "output_type": "stream",
          "name": "stdout",
          "text": [
            "Looking in indexes: https://pypi.org/simple, https://us-python.pkg.dev/colab-wheels/public/simple/\n",
            "Collecting playsound\n",
            "  Downloading playsound-1.3.0.tar.gz (7.7 kB)\n",
            "  Preparing metadata (setup.py) ... \u001b[?25l\u001b[?25hdone\n",
            "Building wheels for collected packages: playsound\n",
            "  Building wheel for playsound (setup.py) ... \u001b[?25l\u001b[?25hdone\n",
            "  Created wheel for playsound: filename=playsound-1.3.0-py3-none-any.whl size=7038 sha256=65e76c9b9c1d646099661ce9f6eae2e1d5c99ae57bf0b623b35b6bda441652a3\n",
            "  Stored in directory: /root/.cache/pip/wheels/73/cd/cf/9750b618d54bd81c20e4c34fb24a423a5b095920367cdb3f71\n",
            "Successfully built playsound\n",
            "Installing collected packages: playsound\n",
            "Successfully installed playsound-1.3.0\n"
          ]
        }
      ]
    },
    {
      "cell_type": "code",
      "source": [
        "!pip install pygobject"
      ],
      "metadata": {
        "colab": {
          "base_uri": "https://localhost:8080/"
        },
        "id": "fV-AYq9Tb7xn",
        "outputId": "a012ef0e-5e88-42df-d639-7a9b05910013"
      },
      "execution_count": 54,
      "outputs": [
        {
          "output_type": "stream",
          "name": "stdout",
          "text": [
            "Looking in indexes: https://pypi.org/simple, https://us-python.pkg.dev/colab-wheels/public/simple/\n",
            "Requirement already satisfied: pygobject in /usr/lib/python3/dist-packages (3.26.1)\n"
          ]
        }
      ]
    },
    {
      "cell_type": "code",
      "source": [
        "from gtts import gTTS\n",
        "from playsound import playsound"
      ],
      "metadata": {
        "id": "_pISaKflagQb"
      },
      "execution_count": 55,
      "outputs": []
    },
    {
      "cell_type": "code",
      "source": [
        "sp = gTTS(lang = 'ko', text='안녕하세요', slow=False)\n",
        "sp.save('speech.mp3')\n",
        "# playsound('speech.mp3')"
      ],
      "metadata": {
        "id": "sr8wNnLiaqOK"
      },
      "execution_count": 58,
      "outputs": []
    },
    {
      "cell_type": "code",
      "source": [],
      "metadata": {
        "id": "ihUi029abNpe"
      },
      "execution_count": null,
      "outputs": []
    },
    {
      "cell_type": "markdown",
      "source": [],
      "metadata": {
        "id": "WmwBqNUTWuAa"
      }
    },
    {
      "cell_type": "markdown",
      "source": [
        "# 강사2"
      ],
      "metadata": {
        "id": "UDjRM91XJoqS"
      }
    },
    {
      "cell_type": "markdown",
      "source": [
        "## markdown"
      ],
      "metadata": {
        "id": "D_qFJMs8Jqad"
      }
    },
    {
      "cell_type": "markdown",
      "source": [
        "| This | is |\n",
        "|------|------|\n",
        "| a |table|\n",
        " "
      ],
      "metadata": {
        "id": "hMv_zjAaJtkI"
      }
    },
    {
      "cell_type": "markdown",
      "source": [
        "### Pizza Party ~ !\n",
        "\n",
        "|   | 이름 | 가격 |\n",
        "|----|----|-----|\n",
        "| 1 | 페퍼로니 |15,000원|\n",
        "| 2 | 하와이안 |18,000원|\n",
        "| 3 | 치즈 | 13,000원|\n",
        "| 4| 불고기 | 20,000원|\n",
        "\n",
        "see more: [Pizza Party](https://pji.co.kr/?NaPm=ct%3Dlcpix0zr%7Cci%3Dcheckout%7Ctr%3Dds%7Ctrx%3D%7Chk%3De19a0ad7de11dd25a8198dd5362e8e98577f352a)\n",
        "\n",
        "![파파존스피자](https://image.newsis.com/2022/12/14/NISI20221214_0001152844_web.jpg?rnd=20221214085123)"
      ],
      "metadata": {
        "id": "AI7WO7u6Jyck"
      }
    },
    {
      "cell_type": "markdown",
      "source": [
        "## 프로젝트 검수겸 풀이"
      ],
      "metadata": {
        "id": "lzpuzSUhGzCX"
      }
    },
    {
      "cell_type": "markdown",
      "source": [
        "사용자 인터페이스\n",
        "- 반복문을 이용해서 메뉴를 계속 출력할 수 있도록 만들어 주세요.\n",
        "- 조건문을 이용해 사용자로부터 입력된 메뉴(1~4)를 함수와 연결해 주세요.\n",
        "- 사용자가 5를 입력한 경우에 프로그램이 종료될 수 있도록 만들어 주세요. \t\t\n",
        "\n",
        "1번 메뉴 : TODO 추가\n",
        "- 할 일을 입력하면 TODO 리스트 마지막에 추가되게 만들어 주세요.\n",
        "- 할 일 추가 후, \"추가되었습니다.\" 메시지를 띄워 주세요.\t\t\t\t\n",
        "\n",
        "2번 메뉴 : TODO List\n",
        "- TODO 리스트 원소를 한줄에 하나씩 출력해 주세요.\n",
        "- 1번부터 시작하는 순서번호를 같이 출력해 주세요.(ex. 1. 이메일 보내기, 2. 헬스장 가기)\n",
        "\n",
        "\n",
        "3번 메뉴 : 파일 저장\n",
        "- 텍스트 파일(todo.txt)로 TODO 리스트를 한줄에 하나씩 저장해 주세요.\n",
        "- 저장이 되면 파일을 닫고, \"저장되었습니다.\" 메시지를 띄워 주세요. \t\n",
        "\n",
        "4번 메뉴 : 파일 불러오기\n",
        "- todo.txt 파일을 읽기모드로 불러와서 한줄씩 읽어 주세요.\n",
        "- TODO 리스트에 한줄씩 추가해 줍니다. 완료되면, \"파일 읽기 완료\" 메시지를 띄워 주세요.\t\t\t\t\t\t"
      ],
      "metadata": {
        "id": "ET1oGfG_G17e"
      }
    },
    {
      "cell_type": "code",
      "source": [
        "## 특정 경로에 존재하는 모든 하위 디렉토리를 탐색하며 원하는 파일을 찾고자 하는 때:\n",
        "# os.walk 또는 glob.glob"
      ],
      "metadata": {
        "id": "bAu8XnbnNi5_"
      },
      "execution_count": null,
      "outputs": []
    },
    {
      "cell_type": "code",
      "source": [
        "import glob\n",
        "\n",
        "todo_list = []\n",
        "\n",
        "def add_todo(todo):\n",
        "    # to do 추가\n",
        "    if type(todo) != str:\n",
        "        for v in todo:\n",
        "            todo_list.append(v)\n",
        "    else:\n",
        "        todo_list.append(todo)\n",
        "    while True:\n",
        "        ask_show = input('>>> to do 리스트에 추가 되었습니다. to do 리스트를 보여드릴까요? (Y/N): ')\n",
        "        if ask_show in ['Y','y']:\n",
        "            show_todo(todo_list)\n",
        "            break\n",
        "        elif ask_show in ['N', 'n']:\n",
        "            break\n",
        "        else:\n",
        "            print(\"[!] 입력값이 잘못 되었습니다. 다시 입력해주세요.\")\n",
        "\n",
        "def show_todo(data):\n",
        "    # to do 리스트 보여주기\n",
        "    print('>>> to do 리스트')\n",
        "    for i, v in enumerate(data):\n",
        "        print(f'{i+1}. {v}')\n",
        "    print('{0:-^20}'.format(''))\n",
        "\n",
        "def save_list():\n",
        "    # 리스트 파일로 저장\n",
        "    f = open('todo.txt', 'w')\n",
        "    for v in todo_list:\n",
        "        f.write(v + '\\n')\n",
        "    f.close()\n",
        "    print('>>> todo.txt 파일로 저장되었습니다.')\n",
        "\n",
        "def read_list():\n",
        "    # 파일 리스트로 불러오기\n",
        "    todo_flist = []\n",
        "    check_dupl = []\n",
        "    f = open('todo.txt','r')\n",
        "    print('>>> 파일을 읽었습니다. 리스트를 출력합니다.')\n",
        "    for i, v in enumerate(f.readlines()):\n",
        "        print(f'>>> {i+1}. {v}', end='')\n",
        "        todo_flist.append(v.strip('\\n'))\n",
        "        if v not in todo_list:\n",
        "            check_dupl.append(v.strip('\\n'))\n",
        "    if len(check_dupl) > 0 and (input('''[!] 파일에서 가져온 리스트 중 to do 리스트에 없는 것이 있습니다.\n",
        "    to do 리스트에 추가할까요? (Y/N): ''') in ['Y','y']):\n",
        "        add_todo(check_dupl)\n",
        "\n",
        "def menu_list():\n",
        "    print('\\n{0:=^30}'.format(\"to do list 관리 프로그램\"))\n",
        "    program_menu = ['to do 추가', 'to do 보기', '파일로 저장', '프로그램 종료']\n",
        "    for i, v in enumerate(program_menu):\n",
        "        print('\\n{0}. {1:<10}'.format(i+1, v))\n",
        "        # i : enumerate는 index가 아니라 enumerate안에 있는 리스트에서 몇번쨰인지 출력이었다...ㅇ_ㅇ\n",
        "    print('{0:=^30}\\n'.format(''))\n",
        "\n",
        "while True:\n",
        "    # 프로그램 시작 및 메뉴 출력\n",
        "    menu_list()\n",
        "    menu = int(input('메뉴를 선택해 주세요 (메뉴번호 입력) : '))\n",
        "\n",
        "    if menu == 1: # to do 추가\n",
        "        while True:\n",
        "            submenu = input('''>>> to do 직접 추가는 1, txt파일로 추가는 2,\n",
        "            이전 메뉴로 돌아가려면 0을 눌러주세요: ''')\n",
        "            if submenu == \"1\":\n",
        "                add_todo(input(\">>> to do를 추가해 주세요 : \"))\n",
        "                break\n",
        "            elif submenu == \"2\":\n",
        "                if '/content/todo.txt' in glob.glob('/content/*'):\n",
        "                    read_list()\n",
        "                    break\n",
        "                else:\n",
        "                    print('[!] to do list 파일이 존재하지 않습니다. to do 리스트 생성 후 파일을 저장하여 주세요.')\n",
        "            elif submenu == '0':\n",
        "                break\n",
        "            else : \n",
        "                print(\"[!] 입력값이 잘못되었습니다.\")\n",
        "    elif menu == 2: # to do 보기\n",
        "        if len(todo_list) > 0 :\n",
        "            show_todo(todo_list)\n",
        "        else:\n",
        "            print('[!] to do list가 비어있습니다. to do를 추가해 주세요.')\n",
        "    elif menu ==3: # 파일로 저장\n",
        "        if len(todo_list) > 0 :\n",
        "            save_list()\n",
        "        else:\n",
        "            print('[!] to do list가 비어있습니다. to do 리스트 생성 후 파일을 저장하여 주세요.')\n",
        "    elif menu == 4:\n",
        "        if input('[!] 프로그램 종료 전에 파일로 저장할까요?(Y/N) : ') in ['Y','y']: #lower()\n",
        "            save_list()\n",
        "        print('{0:=^30}'.format('프로그램을 종료합니다.'))\n",
        "        break\n",
        "    else:\n",
        "        print('[!] 잘못 입력하였습니다. 다시 입력해주세요.')"
      ],
      "metadata": {
        "colab": {
          "base_uri": "https://localhost:8080/"
        },
        "id": "cw7aCs5zHYSz",
        "outputId": "c163c8ec-b6a6-4b18-b8ca-f2931a403d53"
      },
      "execution_count": 39,
      "outputs": [
        {
          "output_type": "stream",
          "name": "stdout",
          "text": [
            "\n",
            "======to do list 관리 프로그램======\n",
            "\n",
            "1. to do 추가  \n",
            "\n",
            "2. to do 보기  \n",
            "\n",
            "3. 파일로 저장    \n",
            "\n",
            "4. 프로그램 종료   \n",
            "==================================\n",
            "\n",
            "메뉴를 선택해 주세요 (메뉴번호 입력) : 1\n",
            ">>> to do 직접 추가는 1, txt파일로 추가는 2,\n",
            "            이전 메뉴로 돌아가려면 0을 눌러주세요: 2\n",
            ">>> 파일을 읽었습니다. 리스트를 출력합니다.\n",
            ">>> 1. rkskek\n",
            ">>> 2. dkskek\n",
            "[!] 파일에서 가져온 리스트 중 to do 리스트에 없는 것이 있습니다.\n",
            "    to do 리스트에 추가할까요? (Y/N): y\n",
            ">>> to do 리스트에 추가 되었습니다. to do 리스트를 보여드릴까요? (Y/N): y\n",
            ">>> to do 리스트\n",
            "1. rkskek\n",
            "2. dkskek\n",
            "--------------------\n",
            "\n",
            "======to do list 관리 프로그램======\n",
            "\n",
            "1. to do 추가  \n",
            "\n",
            "2. to do 보기  \n",
            "\n",
            "3. 파일로 저장    \n",
            "\n",
            "4. 프로그램 종료   \n",
            "==================================\n",
            "\n",
            "메뉴를 선택해 주세요 (메뉴번호 입력) : 2\n",
            ">>> to do 리스트\n",
            "1. rkskek\n",
            "2. dkskek\n",
            "--------------------\n",
            "\n",
            "======to do list 관리 프로그램======\n",
            "\n",
            "1. to do 추가  \n",
            "\n",
            "2. to do 보기  \n",
            "\n",
            "3. 파일로 저장    \n",
            "\n",
            "4. 프로그램 종료   \n",
            "==================================\n",
            "\n",
            "메뉴를 선택해 주세요 (메뉴번호 입력) : 1\n",
            ">>> to do 직접 추가는 1, txt파일로 추가는 2,\n",
            "            이전 메뉴로 돌아가려면 0을 눌러주세요: rkskek\n",
            "[!] 입력값이 잘못되었습니다.\n",
            ">>> to do 직접 추가는 1, txt파일로 추가는 2,\n",
            "            이전 메뉴로 돌아가려면 0을 눌러주세요: 1\n",
            ">>> to do를 추가해 주세요 : rkskekkkkkkk\n",
            ">>> to do 리스트에 추가 되었습니다. to do 리스트를 보여드릴까요? (Y/N): y\n",
            ">>> to do 리스트\n",
            "1. rkskek\n",
            "2. dkskek\n",
            "3. rkskekkkkkkk\n",
            "--------------------\n",
            "\n",
            "======to do list 관리 프로그램======\n",
            "\n",
            "1. to do 추가  \n",
            "\n",
            "2. to do 보기  \n",
            "\n",
            "3. 파일로 저장    \n",
            "\n",
            "4. 프로그램 종료   \n",
            "==================================\n",
            "\n",
            "메뉴를 선택해 주세요 (메뉴번호 입력) : 4\n",
            "[!] 프로그램 종료 전에 파일로 저장할까요?(Y/N) : n\n",
            "=========프로그램을 종료합니다.=========\n"
          ]
        }
      ]
    },
    {
      "cell_type": "code",
      "source": [],
      "metadata": {
        "id": "RBKyO7R5U4eZ"
      },
      "execution_count": null,
      "outputs": []
    },
    {
      "cell_type": "markdown",
      "source": [
        "# cf. tuple"
      ],
      "metadata": {
        "id": "MH9ryKGaN9xA"
      }
    },
    {
      "cell_type": "code",
      "source": [
        "tuple1 = (4)\n",
        "print(tuple1)"
      ],
      "metadata": {
        "colab": {
          "base_uri": "https://localhost:8080/"
        },
        "id": "lUIySgSDNmDo",
        "outputId": "3e00fa5d-3ef8-4846-fbbe-59799e8c39ee"
      },
      "execution_count": 4,
      "outputs": [
        {
          "output_type": "stream",
          "name": "stdout",
          "text": [
            "4\n"
          ]
        }
      ]
    },
    {
      "cell_type": "code",
      "source": [
        "type(tuple1)"
      ],
      "metadata": {
        "colab": {
          "base_uri": "https://localhost:8080/"
        },
        "id": "gpzHIXj5N4HF",
        "outputId": "54a510f0-8b59-49c2-9ffd-895ab296501d"
      },
      "execution_count": 5,
      "outputs": [
        {
          "output_type": "execute_result",
          "data": {
            "text/plain": [
              "int"
            ]
          },
          "metadata": {},
          "execution_count": 5
        }
      ]
    },
    {
      "cell_type": "code",
      "source": [
        "tuple2 = (4, )\n",
        "print(tuple2)"
      ],
      "metadata": {
        "colab": {
          "base_uri": "https://localhost:8080/"
        },
        "id": "-3uDZvmBOKCp",
        "outputId": "90b5a501-2413-4df8-9763-fa797e8ed75d"
      },
      "execution_count": 6,
      "outputs": [
        {
          "output_type": "stream",
          "name": "stdout",
          "text": [
            "(4,)\n"
          ]
        }
      ]
    },
    {
      "cell_type": "code",
      "source": [
        "type(tuple2)"
      ],
      "metadata": {
        "colab": {
          "base_uri": "https://localhost:8080/"
        },
        "id": "zPB_yIozOMdq",
        "outputId": "cabcf9a5-8bd0-4b38-e840-bd2008cfcf25"
      },
      "execution_count": 7,
      "outputs": [
        {
          "output_type": "execute_result",
          "data": {
            "text/plain": [
              "tuple"
            ]
          },
          "metadata": {},
          "execution_count": 7
        }
      ]
    },
    {
      "cell_type": "code",
      "source": [],
      "metadata": {
        "id": "5U9sbhQTOOmA"
      },
      "execution_count": null,
      "outputs": []
    }
  ]
}