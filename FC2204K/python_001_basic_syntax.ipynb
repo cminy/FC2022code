{
  "cells": [
    {
      "cell_type": "markdown",
      "metadata": {
        "id": "view-in-github",
        "colab_type": "text"
      },
      "source": [
        "<a href=\"https://colab.research.google.com/github/cminy/FC2022code/blob/main/python_001_basic_syntax.ipynb\" target=\"_parent\"><img src=\"https://colab.research.google.com/assets/colab-badge.svg\" alt=\"Open In Colab\"/></a>"
      ]
    },
    {
      "cell_type": "markdown",
      "metadata": {
        "id": "KPUO2ogpAVEH"
      },
      "source": [
        "# jupyter notebook\n",
        "- cell 단위로 python 코드를 실행\n",
        "- mode\n",
        "    - 명령모드(esc) : 셀을 수정\n",
        "    - 편집모드(enter) : 셀의 내용을 수정\n",
        "- style\n",
        "    - markdown : 간단한 문자열 출력 문법\n",
        "    - code : python 코드를 실행\n",
        "- shortcut : 단축키\n",
        "    - shift + enter : 코드 실행\n",
        "    - esc + a, b : 셀 생성\n",
        "    - ctrl + space : 자동완성, 함수 설명 보기"
      ]
    },
    {
      "cell_type": "markdown",
      "source": [
        "# Python\n",
        "\n",
        "os를 이용하여 CPU, RAM, SSD의 자원을 활용해서 목적에 맞는 연산을 수행\n",
        "\n",
        "1. 변수선언 : RAM 사용 : 저장공간을 만들어서 값을 저장\n",
        "2. 데이터타입 : RAM 효율적으로 사용\n",
        "  - int, float, bool, str, list, tuple, dict, set\n",
        "3. 연산자 : CPU 사용 : 산술, 할당, 비교, 논리, 멤버\n",
        "4. 조건문 : 코드 효율적 : 특정 조건에 따라서 코드를 실행 : if, elif, else\n",
        "5. 반복문 : 코드 효율적 : 특정 코드를 반복적으로 실행\n",
        "  - while, for, break, continue\n",
        "6. 함수 : 반복적인 코드를 묶어서 사용하는 방법\n",
        "  - def, return, lambda\n",
        "7. 클래스 : 객체지향 구현 : 여러개의 변수와 함수를 묶어서 사용하는 방법\n",
        "  - class, self\n",
        "8. 모듈 : 변수, 함수, 클래스를 하나의 파일(.py)로 묶어서 코드를 사용하는 방법\n",
        "9. 패키지 : 여러개의 모듈을 디렉토리 구분해서 코드를 사용하는 방법\n",
        "  - import, from, as\n",
        "10. 입출력 : 하드디스크 사용하는 것 : RAM > HDD, HDD > RAM\n",
        "  - pickle"
      ],
      "metadata": {
        "id": "xYqG4-ZtQurz"
      }
    },
    {
      "cell_type": "markdown",
      "source": [
        "###1.   변수선언\n",
        "\n",
        "- 식별자 : 저장공간을 구분하기 위해서 사용하는 문자열\n",
        "- 대소문자 구분, 가장 앞에 숫자x, 명령어 사용 x, snake_case\n"
      ],
      "metadata": {
        "id": "S5PB1NfIRwOM"
      }
    },
    {
      "cell_type": "code",
      "source": [
        " data1 = 1\n",
        " data2 = 2"
      ],
      "metadata": {
        "id": "axYZrE1PSB1V"
      },
      "execution_count": null,
      "outputs": []
    },
    {
      "cell_type": "code",
      "source": [
        "data1, data2 = 1, 2"
      ],
      "metadata": {
        "id": "pFg18bfJSS6r"
      },
      "execution_count": null,
      "outputs": []
    },
    {
      "cell_type": "code",
      "source": [
        "data1 = data2 = 3"
      ],
      "metadata": {
        "id": "NoZMa1snSWmh"
      },
      "execution_count": null,
      "outputs": []
    },
    {
      "cell_type": "code",
      "source": [
        "# 변수 안에 있는 값 출력 : print\n",
        "print(data1, data2)"
      ],
      "metadata": {
        "colab": {
          "base_uri": "https://localhost:8080/"
        },
        "id": "u7aV5ORzSkfI",
        "outputId": "fbe405ef-6e97-4869-e2ff-1732550343fd"
      },
      "execution_count": null,
      "outputs": [
        {
          "output_type": "stream",
          "name": "stdout",
          "text": [
            "3 3\n"
          ]
        }
      ]
    },
    {
      "cell_type": "markdown",
      "source": [
        "###2. 데이터 타입\n",
        "- 기본 데이터 타입 : int, float, bool, str\n",
        "  - 저장공간에 데이터 하나만 저장\n",
        "- 컬렉션 데이터 타입 : list, uple, dict, set\n",
        "- 동적타이핑 : 변수를 선언할때 자동으로 데이터 타입을 지정\n",
        "  - 파이썬의 특징으로 타입 지정해주지 않았는데 동적타이핑 기능이 있어서 type이 자동으로 지정됨.\n",
        "  - 다른 언어의 변수선언 예) int data1 = 10"
      ],
      "metadata": {
        "id": "fRh5-ouBT7pm"
      }
    },
    {
      "cell_type": "code",
      "source": [
        "# 데이터 타입 출력 : type()\n",
        "data1, data2, data3, data4 = -3, 2.9, True, \"python\"\n",
        "type(data1),type(data2),type(data3),type(data4)"
      ],
      "metadata": {
        "colab": {
          "base_uri": "https://localhost:8080/"
        },
        "id": "ChuOKBSvT8Gp",
        "outputId": "4a5ac177-d842-49b5-d0ae-85568987362f"
      },
      "execution_count": null,
      "outputs": [
        {
          "output_type": "execute_result",
          "data": {
            "text/plain": [
              "(int, float, bool, str)"
            ]
          },
          "metadata": {},
          "execution_count": 6
        }
      ]
    },
    {
      "cell_type": "markdown",
      "source": [
        "> 컬렉션 데이터 타입\n",
        "  - list [ ] : 순서가 있고 수정이 가능한 데이터 타입\n",
        "  - tuple ( ) : 순서가 있고 수정이 불가능한 데이터 타입\n",
        "  - dict { } : 순서가 없고 수정이 가능한 데이터 타입\n",
        "  - set() : 중복을 허용하지 않는 데이터 타입\n",
        "\n",
        "- list, tuple 는 idx가 있어 순서가 있다(iterable). 둘의 차이는 수정 가능/불가능\n",
        "- tuple을 사용하는 이유 : list와 같은 데이터를 저장하면 저장공간을 더 적게 사용"
      ],
      "metadata": {
        "id": "ZwcyH7ZQVCmm"
      }
    },
    {
      "cell_type": "code",
      "source": [
        "# list []\n",
        "data1 = [1, 2, \"A\", \"B\", \"C\"] # int, string 타입의 데이터를 넣어줌\n",
        "type(data1), data1"
      ],
      "metadata": {
        "colab": {
          "base_uri": "https://localhost:8080/"
        },
        "id": "LbJHO3gfUo4f",
        "outputId": "a656bc17-eaa6-4f95-dd25-1689cbc6f0e9"
      },
      "execution_count": null,
      "outputs": [
        {
          "output_type": "execute_result",
          "data": {
            "text/plain": [
              "(list, [1, 2, 'A', 'B', 'C'])"
            ]
          },
          "metadata": {},
          "execution_count": 8
        }
      ]
    },
    {
      "cell_type": "code",
      "source": [
        "# tuple ()\n",
        "data2 = (1, 2, \"A\", \"B\", \"C\")\n",
        "type(data2), data2"
      ],
      "metadata": {
        "colab": {
          "base_uri": "https://localhost:8080/"
        },
        "id": "wEiVLayJaCXl",
        "outputId": "5434d081-d34e-4b9b-e55b-a911b223a421"
      },
      "execution_count": null,
      "outputs": [
        {
          "output_type": "execute_result",
          "data": {
            "text/plain": [
              "(tuple, (1, 2, 'A', 'B', 'C'))"
            ]
          },
          "metadata": {},
          "execution_count": 10
        }
      ]
    },
    {
      "cell_type": "code",
      "source": [
        "# masking : [] : 특정 위치에 있는 데이터 꺼내오기\n",
        "# data[index], data[start(포함O):end(포함x)], data[start:end:stride]"
      ],
      "metadata": {
        "id": "UbWtpEe9ds9e"
      },
      "execution_count": null,
      "outputs": []
    },
    {
      "cell_type": "code",
      "source": [
        "print(data1)\n",
        "data1[2], data1[1:3], data1[1:4:2]"
      ],
      "metadata": {
        "colab": {
          "base_uri": "https://localhost:8080/"
        },
        "id": "F3lu51Msd5Vc",
        "outputId": "aac6cca7-8e76-4dad-b0f3-e07228d1b607"
      },
      "execution_count": null,
      "outputs": [
        {
          "output_type": "stream",
          "name": "stdout",
          "text": [
            "[1, 2, 'A', 'B', 'C']\n"
          ]
        },
        {
          "output_type": "execute_result",
          "data": {
            "text/plain": [
              "('A', [2, 'A'], [2, 'B'])"
            ]
          },
          "metadata": {},
          "execution_count": 12
        }
      ]
    },
    {
      "cell_type": "code",
      "source": [
        "data1[-2], data1[-3:-1],data1[:3], data1[2:], data1[::-1]"
      ],
      "metadata": {
        "colab": {
          "base_uri": "https://localhost:8080/"
        },
        "id": "texWwwV5eI47",
        "outputId": "42151194-959f-4a47-f67b-9070e49fdcc5"
      },
      "execution_count": null,
      "outputs": [
        {
          "output_type": "execute_result",
          "data": {
            "text/plain": [
              "('B', ['A', 'B'], [1, 2, 'A'], ['A', 'B', 'C'], ['C', 'B', 'A', 2, 1])"
            ]
          },
          "metadata": {},
          "execution_count": 13
        }
      ]
    },
    {
      "cell_type": "code",
      "source": [
        "# 데이터 수정 : 데이터 선택 = 수정할 데이터\n",
        "# print(data1)\n",
        "data1[2] # 데이터 선택\n",
        "data1[2] = \"D\" # 데이터 수정"
      ],
      "metadata": {
        "colab": {
          "base_uri": "https://localhost:8080/"
        },
        "id": "gi4i9LADdb2U",
        "outputId": "c4b1b941-bf5c-4b87-b3ff-f862a1dde23b"
      },
      "execution_count": null,
      "outputs": [
        {
          "output_type": "stream",
          "name": "stdout",
          "text": [
            "[1, 2, 'D', 'B', 'C']\n"
          ]
        }
      ]
    },
    {
      "cell_type": "markdown",
      "source": [
        "tuple 데이터 수정 불가\n",
        "<br>`data2[2] = \"D\"` # TypeError: 'tuple' object does not support item assignment"
      ],
      "metadata": {
        "id": "IHEUy6Wrfvgo"
      }
    },
    {
      "cell_type": "code",
      "source": [
        "# tuple은 저장공간을 더 적게 사용한다.\n",
        "import sys\n",
        "d1, d2 = [1, 2, 3], (1, 2, 3)\n",
        "sys.getsizeof(d1), sys.getsizeof(d2)"
      ],
      "metadata": {
        "colab": {
          "base_uri": "https://localhost:8080/"
        },
        "id": "0OFnmBq3enSk",
        "outputId": "7d811698-6653-43ee-9d27-ca664701452a"
      },
      "execution_count": null,
      "outputs": [
        {
          "output_type": "execute_result",
          "data": {
            "text/plain": [
              "(96, 80)"
            ]
          },
          "metadata": {},
          "execution_count": 22
        }
      ]
    },
    {
      "cell_type": "code",
      "source": [
        "# dict {}\n",
        "# list, tuple에서 index값 대신 key값(int, str 타입) 사용\n",
        "# key값을 사용하면 value값에 정보를 담을 수 있다.\n",
        "data3 = {\"one\": 1, \"two\": 2, 1:\"A\", 2:\"B\"}\n",
        "type(data3), data3"
      ],
      "metadata": {
        "colab": {
          "base_uri": "https://localhost:8080/"
        },
        "id": "NnZUp7SgfP38",
        "outputId": "a54a9cf3-da6c-4f86-b6f6-a5ba3449ab7e"
      },
      "execution_count": null,
      "outputs": [
        {
          "output_type": "execute_result",
          "data": {
            "text/plain": [
              "(dict, {1: 'A', 2: 'B', 'one': 1, 'two': 2})"
            ]
          },
          "metadata": {},
          "execution_count": 23
        }
      ]
    },
    {
      "cell_type": "code",
      "source": [
        "# index값 대신 key값으로 데이터를 읽어옴\n",
        "data3[\"two\"]"
      ],
      "metadata": {
        "colab": {
          "base_uri": "https://localhost:8080/"
        },
        "id": "p13hSsFugkyH",
        "outputId": "0e69c7ea-eae0-47b6-dd99-a05bf68d6e6f"
      },
      "execution_count": null,
      "outputs": [
        {
          "output_type": "execute_result",
          "data": {
            "text/plain": [
              "2"
            ]
          },
          "metadata": {},
          "execution_count": 24
        }
      ]
    },
    {
      "cell_type": "code",
      "source": [
        "# --- Quiz\n",
        "# 메시 10골, 호날두 12골, 손흥민 20골\n",
        "# list(변수2개)와 dict(변수1개)로 표현\n",
        "\n",
        "# list\n",
        "players = [\"메시\", \"호날두\", \"손흥민\"]\n",
        "goals = [10, 12, 20]\n",
        "# dict\n",
        "info = {\"메시\": 10, \"호날두\": 12, \"손흥민\": 20}\n",
        "\n",
        "players, goals, info"
      ],
      "metadata": {
        "colab": {
          "base_uri": "https://localhost:8080/"
        },
        "id": "hxKEwwSygsrm",
        "outputId": "1c9e6f40-40ca-4ef2-ed94-73aa8c75a4ec"
      },
      "execution_count": null,
      "outputs": [
        {
          "output_type": "execute_result",
          "data": {
            "text/plain": [
              "(['메시', '호날두', '손흥민'], [10, 12, 20], {'메시': 10, '손흥민': 20, '호날두': 12})"
            ]
          },
          "metadata": {},
          "execution_count": 29
        }
      ]
    },
    {
      "cell_type": "code",
      "source": [
        "for i in range(len(players)):\n",
        "  goals_str = \n",
        "  print(players[i]+\": \")\n",
        "  print(goals[i])\n"
      ],
      "metadata": {
        "colab": {
          "base_uri": "https://localhost:8080/"
        },
        "id": "AC0Brv2Uy7bk",
        "outputId": "76471e59-d5b3-4c58-bb14-4fd159b6b7c9"
      },
      "execution_count": null,
      "outputs": [
        {
          "output_type": "stream",
          "name": "stdout",
          "text": [
            "메시: \n",
            "10\n",
            "호날두: \n",
            "12\n",
            "손흥민: \n",
            "20\n"
          ]
        }
      ]
    },
    {
      "cell_type": "code",
      "source": [
        "# set()\n",
        "data4 = set([1,2,1,\"a\",\"b\",\"a\"])\n",
        "type(data4),data4 # 데이터의 중복이 제거가 되어 출력됨"
      ],
      "metadata": {
        "colab": {
          "base_uri": "https://localhost:8080/"
        },
        "id": "2nLjt3rmfgjq",
        "outputId": "8731c2eb-9e31-400e-f004-b6385b4b9517"
      },
      "execution_count": null,
      "outputs": [
        {
          "output_type": "execute_result",
          "data": {
            "text/plain": [
              "(set, {1, 2, 'a', 'b'})"
            ]
          },
          "metadata": {},
          "execution_count": 31
        }
      ]
    },
    {
      "cell_type": "code",
      "source": [
        ""
      ],
      "metadata": {
        "id": "D6zx421XFOFF"
      },
      "execution_count": null,
      "outputs": []
    },
    {
      "cell_type": "code",
      "source": [
        "# 1. 변수선언\n",
        "# 2. 데이터타입\n",
        "#   - 기본(int, float, bool, str)\n",
        "#   - 컬렉션(list, tuple, dict, set)"
      ],
      "metadata": {
        "id": "AgkDxcyvS6jX"
      },
      "execution_count": null,
      "outputs": []
    },
    {
      "cell_type": "code",
      "source": [
        "# 3. 연산자\n",
        "# 산술 : +, -, *, /, //(몫), %(나머지), **(제곱)\n",
        "# 할당 : data1 <산술>= 10\n",
        "# 비교 : 결과(True, False) : ==, !=, >=, <=, >, <\n",
        "# 논리 : 결과(True, False) : or, and, not\n",
        "# 멤버 : 결과(True, False) : in, not in\n",
        "#   - 컬렉션 데이터 안에 특정 데이터가 포함되는지 확인"
      ],
      "metadata": {
        "id": "QhPaSoRUSjkS"
      },
      "execution_count": null,
      "outputs": []
    },
    {
      "cell_type": "code",
      "source": [
        "# 산술 : +, -, *, /, //(몫), %(나머지), **(제곱)\n",
        "data1, data2 = 10, 3\n",
        "data1 / data2, data1 // data2, data1 % data2, 3 ** 4"
      ],
      "metadata": {
        "colab": {
          "base_uri": "https://localhost:8080/"
        },
        "id": "Hxa4svXX2RRX",
        "outputId": "45dfcf0c-e57f-4b09-ff9a-e450d36ebec1"
      },
      "execution_count": null,
      "outputs": [
        {
          "output_type": "execute_result",
          "data": {
            "text/plain": [
              "(3.3333333333333335, 3, 1, 81)"
            ]
          },
          "metadata": {},
          "execution_count": 56
        }
      ]
    },
    {
      "cell_type": "code",
      "source": [
        "# 부동소수점 문제\n",
        "data1, data2 = 0.1, 0.2\n",
        "print(data1 + data2)\n",
        "(data1 + data2) == 0.3"
      ],
      "metadata": {
        "colab": {
          "base_uri": "https://localhost:8080/"
        },
        "id": "6U_vJctS2TlQ",
        "outputId": "2687227a-ca98-4224-c398-49318c6d3023"
      },
      "execution_count": null,
      "outputs": [
        {
          "output_type": "stream",
          "name": "stdout",
          "text": [
            "0.30000000000000004\n"
          ]
        },
        {
          "output_type": "execute_result",
          "data": {
            "text/plain": [
              "False"
            ]
          },
          "metadata": {},
          "execution_count": 61
        }
      ]
    },
    {
      "cell_type": "code",
      "source": [
        "# 해결책 1 : 반올림 : round()\n",
        "print(round(data1 + data2, 1))\n",
        "round(data1 + data2, 1) == 0.3"
      ],
      "metadata": {
        "colab": {
          "base_uri": "https://localhost:8080/"
        },
        "id": "fH4oNuNr3cZz",
        "outputId": "523821f9-013e-4300-a80c-bfece3fdc18b"
      },
      "execution_count": null,
      "outputs": [
        {
          "output_type": "stream",
          "name": "stdout",
          "text": [
            "0.3\n"
          ]
        },
        {
          "output_type": "execute_result",
          "data": {
            "text/plain": [
              "True"
            ]
          },
          "metadata": {},
          "execution_count": 64
        }
      ]
    },
    {
      "cell_type": "code",
      "source": [
        "# 해결책 2 : 고정소수점 연산으로 변환\n",
        "from decimal import Decimal\n",
        "print(Decimal('0.1') + Decimal('0.2'))\n",
        "float(Decimal('0.1') + Decimal('0.2')) == 0.3"
      ],
      "metadata": {
        "colab": {
          "base_uri": "https://localhost:8080/"
        },
        "id": "jiMV9sZc3cWV",
        "outputId": "9647c8b1-049c-48cd-b028-f98bbacb468c"
      },
      "execution_count": null,
      "outputs": [
        {
          "output_type": "stream",
          "name": "stdout",
          "text": [
            "0.3\n"
          ]
        },
        {
          "output_type": "execute_result",
          "data": {
            "text/plain": [
              "True"
            ]
          },
          "metadata": {},
          "execution_count": 120
        }
      ]
    },
    {
      "cell_type": "code",
      "source": [
        "# 할당연산자\n",
        "# 변수에 값을 누적시켜 연산할때 사용"
      ],
      "metadata": {
        "id": "0AbDKEYP43Fd"
      },
      "execution_count": null,
      "outputs": []
    },
    {
      "cell_type": "code",
      "source": [
        "data1 = 10\n",
        "# data1 = data1 + 10\n",
        "data1 += 10\n",
        "data1"
      ],
      "metadata": {
        "colab": {
          "base_uri": "https://localhost:8080/"
        },
        "id": "h1CornD143Bx",
        "outputId": "241e5cc3-37eb-4ef9-d19a-4220919a47be"
      },
      "execution_count": null,
      "outputs": [
        {
          "output_type": "execute_result",
          "data": {
            "text/plain": [
              "20"
            ]
          },
          "metadata": {},
          "execution_count": 70
        }
      ]
    },
    {
      "cell_type": "code",
      "source": [
        "# 비교연산자\n",
        "# ==, !=, >, <, >=, <=\n",
        "# 결과 : bool"
      ],
      "metadata": {
        "id": "IMEVtzsu42-g"
      },
      "execution_count": null,
      "outputs": []
    },
    {
      "cell_type": "code",
      "source": [
        "data1, data2 = 2, 3\n",
        "data1 == data2, data1 != data2"
      ],
      "metadata": {
        "colab": {
          "base_uri": "https://localhost:8080/"
        },
        "id": "ixK9omsZ3cS9",
        "outputId": "8636dd8f-5a40-4119-ad66-3c20deaecd08"
      },
      "execution_count": null,
      "outputs": [
        {
          "output_type": "execute_result",
          "data": {
            "text/plain": [
              "(False, True)"
            ]
          },
          "metadata": {},
          "execution_count": 72
        }
      ]
    },
    {
      "cell_type": "code",
      "source": [
        "# 논리연산자\n",
        "# 논리값 비교 : or, and, not"
      ],
      "metadata": {
        "id": "rc6Lyvh43cPc"
      },
      "execution_count": null,
      "outputs": []
    },
    {
      "cell_type": "code",
      "source": [
        "not True, True or False, True and False, not data1 != data2"
      ],
      "metadata": {
        "colab": {
          "base_uri": "https://localhost:8080/"
        },
        "id": "yl69vPFG20mM",
        "outputId": "ea0ac827-8104-4392-e0b1-79966dab0e69"
      },
      "execution_count": null,
      "outputs": [
        {
          "output_type": "execute_result",
          "data": {
            "text/plain": [
              "(False, True, False, False)"
            ]
          },
          "metadata": {},
          "execution_count": 77
        }
      ]
    },
    {
      "cell_type": "code",
      "source": [
        "# 멤버연산자 : in, not in\n",
        "# 컬렉션 데이터 안에 특정 값이 있는지 확인\n",
        "# 결과 : bool"
      ],
      "metadata": {
        "id": "CDVHhfiQ6QmX"
      },
      "execution_count": null,
      "outputs": []
    },
    {
      "cell_type": "code",
      "source": [
        "data1 = [1, 2, 3]\n",
        "2 in data1, 2 not in data1"
      ],
      "metadata": {
        "colab": {
          "base_uri": "https://localhost:8080/"
        },
        "id": "fHMY0kXK6p33",
        "outputId": "b958bcf4-0d9d-456d-af9a-2b6549773042"
      },
      "execution_count": null,
      "outputs": [
        {
          "output_type": "execute_result",
          "data": {
            "text/plain": [
              "(True, False)"
            ]
          },
          "metadata": {},
          "execution_count": 80
        }
      ]
    },
    {
      "cell_type": "code",
      "source": [
        "# Quiz. 산술연산자 : +, -, *, /, //, %, **\n",
        "# 입력된 변수에서 연령대를 출력하도록 코드 작성\n",
        "age = 27\n",
        "age // 10 * 10"
      ],
      "metadata": {
        "colab": {
          "base_uri": "https://localhost:8080/"
        },
        "id": "NUKqXRs96p6q",
        "outputId": "e100af62-fee1-47ae-fe51-a7979ef0157c"
      },
      "execution_count": null,
      "outputs": [
        {
          "output_type": "execute_result",
          "data": {
            "text/plain": [
              "20"
            ]
          },
          "metadata": {},
          "execution_count": 83
        }
      ]
    },
    {
      "cell_type": "code",
      "source": [
        "# Quiz. 산술, 비교, 논리\n",
        "# 윤년구하기 : 윤년이면 True, 윤년이 아니면 False\n",
        "# 4년에 한번씩 윤년 입니다.\n",
        "# 100년에 한번씩 윤년이 아닙니다.\n",
        "# 400년에 한번씩 윤년 입니다."
      ],
      "metadata": {
        "id": "810YfSSM6p9v"
      },
      "execution_count": null,
      "outputs": []
    },
    {
      "cell_type": "code",
      "source": [
        "year = 800\n",
        "(year % 4 == 0) and (year % 100 != 0) or (year % 400 == 0)"
      ],
      "metadata": {
        "colab": {
          "base_uri": "https://localhost:8080/"
        },
        "id": "P4ULLcXI8ueP",
        "outputId": "bf0252ae-9cd8-47ac-cec2-87f7367dc547"
      },
      "execution_count": null,
      "outputs": [
        {
          "output_type": "execute_result",
          "data": {
            "text/plain": [
              "True"
            ]
          },
          "metadata": {},
          "execution_count": 94
        }
      ]
    },
    {
      "cell_type": "code",
      "source": [
        "# 연산자 우선순위\n",
        "# 산술 > 비교 > 논리(and > or)"
      ],
      "metadata": {
        "id": "E5Wd--Y38uYp"
      },
      "execution_count": null,
      "outputs": []
    },
    {
      "cell_type": "code",
      "source": [
        "(1 + 2) * 3"
      ],
      "metadata": {
        "colab": {
          "base_uri": "https://localhost:8080/"
        },
        "id": "knT0gzVi8uSa",
        "outputId": "58e86134-cd5f-47c3-f467-68c804f6d37f"
      },
      "execution_count": null,
      "outputs": [
        {
          "output_type": "execute_result",
          "data": {
            "text/plain": [
              "9"
            ]
          },
          "metadata": {},
          "execution_count": 96
        }
      ]
    },
    {
      "cell_type": "code",
      "source": [
        "# 변수선언, 데이터타입, 연산자 : RAM, CPU"
      ],
      "metadata": {
        "id": "J4fMkRoB8uO3"
      },
      "execution_count": null,
      "outputs": []
    },
    {
      "cell_type": "code",
      "source": [
        "# 변수의 복사\n",
        "data1 = [1, 2, 3]\n",
        "data2 = data1 # call by reference : 얕은복사 (주소값만 복사)\n",
        "data3 = data1.copy() # call by value : 깊은복사\n",
        "data1[1] = 4 # call by refernece를 했기 때문에 data2 도 함께 변하게됨 !!주의!!\n",
        "data1, data2, data3"
      ],
      "metadata": {
        "colab": {
          "base_uri": "https://localhost:8080/"
        },
        "id": "FKL2clozFU0e",
        "outputId": "4b1caa10-0b93-40e5-e438-9bffb3a620a1"
      },
      "execution_count": null,
      "outputs": [
        {
          "output_type": "execute_result",
          "data": {
            "text/plain": [
              "([1, 4, 3], [1, 4, 3], [1, 2, 3])"
            ]
          },
          "metadata": {},
          "execution_count": 36
        }
      ]
    },
    {
      "cell_type": "code",
      "source": [
        "# 주소값 확인 : id()\n",
        "id(data1), id(data2), id(data3)"
      ],
      "metadata": {
        "colab": {
          "base_uri": "https://localhost:8080/"
        },
        "id": "OZVjRBXKHnmv",
        "outputId": "d8b862e9-5f28-4ab6-a8e7-75c7058dd435"
      },
      "execution_count": null,
      "outputs": [
        {
          "output_type": "execute_result",
          "data": {
            "text/plain": [
              "(140644545110976, 140644545110976, 140644543869888)"
            ]
          },
          "metadata": {},
          "execution_count": 37
        }
      ]
    },
    {
      "cell_type": "code",
      "source": [
        "# 데이터 타입별로 연산을 수행하는 방법이 다르다.\n",
        "1 + 2, \"A\" + \"B\", [1, 2] + [\"A\", \"B\"]"
      ],
      "metadata": {
        "colab": {
          "base_uri": "https://localhost:8080/"
        },
        "id": "F8M-b9zvHoxi",
        "outputId": "94155d21-7543-4149-e436-cb471ced24f3"
      },
      "execution_count": null,
      "outputs": [
        {
          "output_type": "execute_result",
          "data": {
            "text/plain": [
              "(3, 'AB', [1, 2, 'A', 'B'])"
            ]
          },
          "metadata": {},
          "execution_count": 38
        }
      ]
    },
    {
      "cell_type": "code",
      "source": [
        "# 서로 다른 데이터 타입 연산 : 연산이 수행 될때도 있고 안될때도 있다.\n",
        "# 10 + \"20\" # TypeError: unsupported operand type(s) for +: 'int' and 'str'"
      ],
      "metadata": {
        "id": "r25nJ81xI84U"
      },
      "execution_count": null,
      "outputs": []
    },
    {
      "cell_type": "code",
      "source": [
        "# 형변환해서 연산\n",
        "data1, data2 = 10, \"20\"\n",
        "data1 + int(data2), str(data1) + data2"
      ],
      "metadata": {
        "colab": {
          "base_uri": "https://localhost:8080/"
        },
        "id": "i6vuUfgyJHZe",
        "outputId": "3d67199f-bfc1-498b-a8e6-a5878f9867bf"
      },
      "execution_count": null,
      "outputs": [
        {
          "output_type": "execute_result",
          "data": {
            "text/plain": [
              "(30, '1020')"
            ]
          },
          "metadata": {},
          "execution_count": 44
        }
      ]
    },
    {
      "cell_type": "code",
      "source": [
        "# 서로 다른 데이터 타입의 연산은 될 때도 있고 안 될 떄도 있다.\n",
        "# 데이터 타입을 바꿔서 연산을 수행하면 된다.\n",
        "# 같은 연산자를 이용해서 연산을 하더라도 데이터 타입에 따라 수행하는 방법이 다르다."
      ],
      "metadata": {
        "id": "o66SJyh0JRSK"
      },
      "execution_count": null,
      "outputs": []
    },
    {
      "cell_type": "code",
      "source": [
        "# 데이터 타입의 형변환 함수 : int, float, bool, str, list, tuple, dict, set\n",
        "data=(1,2,3) # tuple\n",
        "data, list(data) # list로 바꿔줌"
      ],
      "metadata": {
        "colab": {
          "base_uri": "https://localhost:8080/"
        },
        "id": "NwJApkNBJjPq",
        "outputId": "a68bea0b-712c-4e29-e10b-13e684e3e9f7"
      },
      "execution_count": null,
      "outputs": [
        {
          "output_type": "execute_result",
          "data": {
            "text/plain": [
              "((1, 2, 3), [1, 2, 3])"
            ]
          },
          "metadata": {},
          "execution_count": 48
        }
      ]
    },
    {
      "cell_type": "code",
      "source": [
        "# 입력함수 : input() : 항상 str 데이터 타입으로 데이터를 받습니다.\n",
        "year = int(input(\"Insert Year : \"))\n",
        "(year % 4 == 0) and (year % 100 != 0) or (year % 400 == 0) #윤년인지 알아보기"
      ],
      "metadata": {
        "colab": {
          "base_uri": "https://localhost:8080/"
        },
        "id": "yeGSO8SJKY9p",
        "outputId": "735f8ebb-3d91-448d-e6a2-f1dda0fb269f"
      },
      "execution_count": null,
      "outputs": [
        {
          "name": "stdout",
          "output_type": "stream",
          "text": [
            "Insert Year : 2022\n"
          ]
        },
        {
          "output_type": "execute_result",
          "data": {
            "text/plain": [
              "False"
            ]
          },
          "metadata": {},
          "execution_count": 55
        }
      ]
    },
    {
      "cell_type": "code",
      "source": [
        "# 4. 조건문\n",
        "# if, elif, else\n",
        "# 특정 조건에 따라서 코드를 실행"
      ],
      "metadata": {
        "id": "zo90fwVgLaXd"
      },
      "execution_count": null,
      "outputs": []
    },
    {
      "cell_type": "code",
      "source": [
        "# Q: 지갑에 돈이 5천원 이상 있으면 택시, 2000원 이상 있으면, 버스를 탄다.\n",
        "# 2000원 미만으로 있으면 걸어간다.\n",
        "\n",
        "money = int(input(\"insert your money: \"))\n",
        "if money >= 5000:\n",
        "  print(\"택시를 타자\")\n",
        "elif money >= 2000:\n",
        "  print(\"버스를 타세요.\")\n",
        "else:\n",
        "  print(\"걸어가세요.\")"
      ],
      "metadata": {
        "colab": {
          "base_uri": "https://localhost:8080/"
        },
        "id": "SOxnEyBILelL",
        "outputId": "ec57effd-9423-4cc3-a924-15d6d75c1e21"
      },
      "execution_count": null,
      "outputs": [
        {
          "output_type": "stream",
          "name": "stdout",
          "text": [
            "insert your money: 6000\n",
            "택시를 타자\n"
          ]
        }
      ]
    },
    {
      "cell_type": "code",
      "source": [
        "# Q: 점수를 입력하면 학점을 출력하는 코드\n",
        "# 90>A, 80>B, 70>C, 60>D, F\n",
        "# point 87\n",
        "\n",
        "point = int(input(\"insert your point: \"))\n",
        "if point > 90:\n",
        "  print(\"A\")\n",
        "elif point > 80:\n",
        "  print(\"B\")\n",
        "elif point > 70:\n",
        "  print(\"C\")\n",
        "elif point > 60:\n",
        "  print(\"D\")\n",
        "else:\n",
        "  print(\"F\")"
      ],
      "metadata": {
        "colab": {
          "base_uri": "https://localhost:8080/"
        },
        "id": "fj6xHXgGUBbN",
        "outputId": "b5048051-2b6d-47b7-8a54-c01d38713f40"
      },
      "execution_count": null,
      "outputs": [
        {
          "output_type": "stream",
          "name": "stdout",
          "text": [
            "insert your point: 87\n",
            "B\n"
          ]
        }
      ]
    },
    {
      "cell_type": "code",
      "source": [
        "# 5. 반복문\n",
        "# 명령어 : while, for in, break, continue\n",
        "# 함수 : range(), enumerate(), zip()"
      ],
      "metadata": {
        "id": "mzgIu64UUXJU"
      },
      "execution_count": null,
      "outputs": []
    },
    {
      "cell_type": "code",
      "source": [
        "# while : while <condition>\n",
        "# 조건이 False가 될때까지 반복적으로 코드를 실행\n",
        "# => 중복되는 코드를 결합해주는거니까 코드의 유지보수가 간편해짐\n",
        "# 단, 코드를 작성할 때 무한루프에 빠지기 쉬움\n",
        "# 무한루프에 빠지게 되면 : [런타임 > 실행중단] 실행\n",
        "print(\"jupyter\")\n",
        "print(\"jupyter\")\n",
        "print(\"jupyter\")"
      ],
      "metadata": {
        "colab": {
          "base_uri": "https://localhost:8080/"
        },
        "id": "15J76s6rWCMZ",
        "outputId": "e18d777a-4f89-4d1b-88e7-e71d8c489945"
      },
      "execution_count": null,
      "outputs": [
        {
          "output_type": "stream",
          "name": "stdout",
          "text": [
            "jupyter\n",
            "jupyter\n",
            "jupyter\n"
          ]
        }
      ]
    },
    {
      "cell_type": "code",
      "source": [
        "count = 3\n",
        "while count > 0:\n",
        "    print(\"jupyter\")\n",
        "    count -= 1"
      ],
      "metadata": {
        "colab": {
          "base_uri": "https://localhost:8080/"
        },
        "id": "bjy2OUGLWEWI",
        "outputId": "c9e76121-dc9f-4afd-d6a8-ece1d14a316c"
      },
      "execution_count": null,
      "outputs": [
        {
          "output_type": "stream",
          "name": "stdout",
          "text": [
            "jupyter\n",
            "jupyter\n",
            "jupyter\n"
          ]
        }
      ]
    },
    {
      "cell_type": "code",
      "source": [
        "count = 3\n",
        "while count: # 위와 같은 결과가 나온다. 왜냐하면 논리값이 아닌 데이터가 조건부에 오면 강제로 bool()로 형변환해서 판단함\n",
        "    print(\"jupyter\")\n",
        "    count -= 1"
      ],
      "metadata": {
        "colab": {
          "base_uri": "https://localhost:8080/"
        },
        "id": "anUZ6Dr4WrC0",
        "outputId": "8f210a25-8829-479e-834e-828b671261ec"
      },
      "execution_count": null,
      "outputs": [
        {
          "output_type": "stream",
          "name": "stdout",
          "text": [
            "jupyter\n",
            "jupyter\n",
            "jupyter\n"
          ]
        }
      ]
    },
    {
      "cell_type": "code",
      "source": [
        "bool(3), bool(0)"
      ],
      "metadata": {
        "colab": {
          "base_uri": "https://localhost:8080/"
        },
        "id": "EN1WydE2Xdzw",
        "outputId": "60fb1237-235f-4466-9c1c-32b6f3f07484"
      },
      "execution_count": null,
      "outputs": [
        {
          "output_type": "execute_result",
          "data": {
            "text/plain": [
              "(True, False)"
            ]
          },
          "metadata": {},
          "execution_count": 68
        }
      ]
    },
    {
      "cell_type": "code",
      "source": [
        "# for : 코드를 반복적으로 실행\n",
        "# for data in <iterable>:\n",
        "#   code"
      ],
      "metadata": {
        "id": "1cthPcJQYCDf"
      },
      "execution_count": null,
      "outputs": []
    },
    {
      "cell_type": "code",
      "source": [
        "for data in [0,1,2]: # 꼭 iterable 아니여도 컬렉션 데이터면 다 실행 되긴함\n",
        "  print(\"jupyter\")"
      ],
      "metadata": {
        "colab": {
          "base_uri": "https://localhost:8080/"
        },
        "id": "jHNYk0AwYSd0",
        "outputId": "acb77b99-b0fd-4107-b8d5-dbb43e323bfa"
      },
      "execution_count": null,
      "outputs": [
        {
          "output_type": "stream",
          "name": "stdout",
          "text": [
            "jupyter\n",
            "jupyter\n",
            "jupyter\n"
          ]
        }
      ]
    },
    {
      "cell_type": "code",
      "source": [
        "# range() : list 데이터를 생성해주는 함수\n",
        "# range(end), range(start 포함O, end 포함X), range(start, end, stride)"
      ],
      "metadata": {
        "colab": {
          "base_uri": "https://localhost:8080/"
        },
        "id": "44dHt01YZCLY",
        "outputId": "7e6beb8c-1adc-435b-ae5e-471284b190d9"
      },
      "execution_count": null,
      "outputs": [
        {
          "output_type": "stream",
          "name": "stdout",
          "text": [
            "jupyter\n",
            "jupyter\n",
            "jupyter\n",
            "jupyter\n",
            "jupyter\n",
            "jupyter\n",
            "jupyter\n",
            "jupyter\n",
            "jupyter\n"
          ]
        }
      ]
    },
    {
      "cell_type": "code",
      "source": [
        "range(5)"
      ],
      "metadata": {
        "colab": {
          "base_uri": "https://localhost:8080/"
        },
        "id": "de8SKhoXZWcc",
        "outputId": "267b65fe-5242-4812-8a01-455adcd534e6"
      },
      "execution_count": null,
      "outputs": [
        {
          "output_type": "execute_result",
          "data": {
            "text/plain": [
              "range(0, 5)"
            ]
          },
          "metadata": {},
          "execution_count": 72
        }
      ]
    },
    {
      "cell_type": "code",
      "source": [
        "list(range(5))"
      ],
      "metadata": {
        "colab": {
          "base_uri": "https://localhost:8080/"
        },
        "id": "XDRc7ZLNZZjp",
        "outputId": "c33b7e1b-8f82-46ca-a81a-bdb32c0f6e48"
      },
      "execution_count": null,
      "outputs": [
        {
          "output_type": "execute_result",
          "data": {
            "text/plain": [
              "[0, 1, 2, 3, 4]"
            ]
          },
          "metadata": {},
          "execution_count": 73
        }
      ]
    },
    {
      "cell_type": "code",
      "source": [
        "list(range(0,5,2))"
      ],
      "metadata": {
        "colab": {
          "base_uri": "https://localhost:8080/"
        },
        "id": "s62SGduXZ2pB",
        "outputId": "1ad58d55-0c8c-482e-d607-db0181f4ec57"
      },
      "execution_count": null,
      "outputs": [
        {
          "output_type": "execute_result",
          "data": {
            "text/plain": [
              "[0, 2, 4]"
            ]
          },
          "metadata": {},
          "execution_count": 76
        }
      ]
    },
    {
      "cell_type": "code",
      "source": [
        "for i in range(0,9):\n",
        "  print(\"jupyter\")"
      ],
      "metadata": {
        "colab": {
          "base_uri": "https://localhost:8080/"
        },
        "id": "YK-Lak1dZgXn",
        "outputId": "b72d7568-631c-42cf-b755-d83c51173a52"
      },
      "execution_count": null,
      "outputs": [
        {
          "output_type": "stream",
          "name": "stdout",
          "text": [
            "jupyter\n",
            "jupyter\n",
            "jupyter\n",
            "jupyter\n",
            "jupyter\n",
            "jupyter\n",
            "jupyter\n",
            "jupyter\n",
            "jupyter\n"
          ]
        }
      ]
    },
    {
      "cell_type": "code",
      "source": [
        "# 식별자규칙 : a-Z, 0-9, _\n",
        "# 변수명 : _ : 실제로 사용되지 않지만 어쩔수 없이 변수로 받아야할때 사용\n",
        "for _ in range(3):\n",
        "    print(\"notebook\")"
      ],
      "metadata": {
        "colab": {
          "base_uri": "https://localhost:8080/"
        },
        "id": "R8Q1bd-iifYU",
        "outputId": "3e4d7f70-8e18-4e60-9d42-961034a43a80"
      },
      "execution_count": null,
      "outputs": [
        {
          "output_type": "stream",
          "name": "stdout",
          "text": [
            "notebook\n",
            "notebook\n",
            "notebook\n"
          ]
        }
      ]
    },
    {
      "cell_type": "code",
      "source": [
        "# enumerate() : (index, value)를 만들어주는 함수\n",
        "# tuple은 여러개의 변수 받을수 있다.\n",
        "datas = [\"jupyter\", \"notebook\", \"python\"]\n",
        "print(list(enumerate(datas)))\n",
        "for idx, data in enumerate(datas):\n",
        "    print(idx, data)\n",
        "    if data == \"notebook\":\n",
        "        datas[idx] = \"mysql\"\n",
        "datas"
      ],
      "metadata": {
        "colab": {
          "base_uri": "https://localhost:8080/"
        },
        "id": "a5Mf_dpaituO",
        "outputId": "24d25033-acc3-446e-bcda-61087c58ad25"
      },
      "execution_count": null,
      "outputs": [
        {
          "output_type": "stream",
          "name": "stdout",
          "text": [
            "[(0, 'jupyter'), (1, 'notebook'), (2, 'python')]\n",
            "0 jupyter\n",
            "1 notebook\n",
            "2 python\n"
          ]
        },
        {
          "output_type": "execute_result",
          "data": {
            "text/plain": [
              "['jupyter', 'mysql', 'python']"
            ]
          },
          "metadata": {},
          "execution_count": 81
        }
      ]
    },
    {
      "cell_type": "code",
      "source": [
        "# tuple은 변수선언시 () 생략 가능\n",
        "# tuple은 여러개의 변수로 받을수 있다.\n",
        "data = 1, 2\n",
        "data1, data2 = 1, 2\n",
        "type(data), data, data1, data2"
      ],
      "metadata": {
        "colab": {
          "base_uri": "https://localhost:8080/"
        },
        "id": "dt5Zjr4biveU",
        "outputId": "8d62ec09-97c1-416e-cc52-b9de3fa3ae24"
      },
      "execution_count": null,
      "outputs": [
        {
          "output_type": "execute_result",
          "data": {
            "text/plain": [
              "(tuple, (1, 2), 1, 2)"
            ]
          },
          "metadata": {},
          "execution_count": 82
        }
      ]
    },
    {
      "cell_type": "code",
      "source": [
        "# zip() : 여러개의 리스트 데이터에서 같은 인덱스의 데이터를 묶어줌\n",
        "player = [\"메시\", \"호날두\", \"손흥민\"]\n",
        "goals = [10, 12, 20]"
      ],
      "metadata": {
        "id": "bLnzwX48iw-t"
      },
      "execution_count": null,
      "outputs": []
    },
    {
      "cell_type": "code",
      "source": [
        "list(zip(player, goals))"
      ],
      "metadata": {
        "colab": {
          "base_uri": "https://localhost:8080/"
        },
        "id": "SvKMtZOdiyan",
        "outputId": "c1d1224c-dbd7-4891-bd30-26e9aa5ee3a4"
      },
      "execution_count": null,
      "outputs": [
        {
          "output_type": "execute_result",
          "data": {
            "text/plain": [
              "[('메시', 10), ('호날두', 12), ('손흥민', 20)]"
            ]
          },
          "metadata": {},
          "execution_count": 112
        }
      ]
    },
    {
      "cell_type": "code",
      "source": [
        "# for문에서 구현\n",
        "for player, goal in zip(player, goals):\n",
        "  print(player, goal)"
      ],
      "metadata": {
        "colab": {
          "base_uri": "https://localhost:8080/"
        },
        "id": "9l1roMgVi5Mp",
        "outputId": "53ea9422-0e64-4f84-8ea5-be1c6ce3273b"
      },
      "execution_count": null,
      "outputs": [
        {
          "output_type": "stream",
          "name": "stdout",
          "text": [
            "손 10\n",
            "흥 12\n",
            "민 20\n"
          ]
        }
      ]
    },
    {
      "cell_type": "code",
      "source": [
        "for player, goal in zip(player, goals):\n",
        "  print(player + \": \" + str(goal))"
      ],
      "metadata": {
        "colab": {
          "base_uri": "https://localhost:8080/"
        },
        "id": "3LWe0nH4jA0t",
        "outputId": "b6830286-c3c9-4c62-e311-e5e5b472d14e"
      },
      "execution_count": null,
      "outputs": [
        {
          "output_type": "stream",
          "name": "stdout",
          "text": [
            "메시: 10\n",
            "호날두: 12\n",
            "손흥민: 20\n"
          ]
        }
      ]
    },
    {
      "cell_type": "code",
      "source": [
        "# 여기서 player 프린트하면 '민'이 나온다."
      ],
      "metadata": {
        "id": "qZtyQis-lGvW"
      },
      "execution_count": null,
      "outputs": []
    },
    {
      "cell_type": "code",
      "source": [
        "# break : 반복문을 강제로 중단할때 사용\n",
        "# continue : 반복문의 조건을 확인하는 코드로 올라가서 코드를 실행"
      ],
      "metadata": {
        "id": "vJWYJ50LkcBh"
      },
      "execution_count": null,
      "outputs": []
    },
    {
      "cell_type": "code",
      "source": [
        "for number in range(10):\n",
        "  if number % 2:\n",
        "    continue\n",
        "  print(number)\n",
        "  if number >= 6:\n",
        "    break"
      ],
      "metadata": {
        "colab": {
          "base_uri": "https://localhost:8080/"
        },
        "id": "asbFMn8EkgEl",
        "outputId": "8d8b188b-2394-4184-c079-3b8d5a94ab62"
      },
      "execution_count": null,
      "outputs": [
        {
          "output_type": "stream",
          "name": "stdout",
          "text": [
            "0\n",
            "2\n",
            "4\n",
            "6\n"
          ]
        }
      ]
    },
    {
      "cell_type": "code",
      "source": [
        "# 1. 변수선언 : RAM 자원을 사용하는 문법 : 3가지방법 : 식별자\n",
        "# 2. 데이터타입 : RAM 자원을 효율적으로 사용하는 문법\n",
        "#   - int, float, bool, str\n",
        "#   - list, tuple, dict, set\n",
        "#       - masking : [] : [index], [start:end], [start:end:stride]\n",
        "#       - update : 데이터선택 = 데이터\n",
        "# 3. 연산자 : CPU 자원을 사용하는 문법\n",
        "#   - 산술(부동소수점문제), 할당, 비교, 논리(or, and, not), 멤버(in, not in)\n",
        "#   - 데이터 복사 : 깊은복사(d1 = d2.copy()), 얕은복사(d1 = d2)\n",
        "#   - 데이터 형변환 : 연산자가 수행될때 데이터타입에 따라서 다른 방식으로 연산자 수행\n",
        "# 4. 조건문 : 코드를 효율적으로 작성 : 특정 조건에 따라 코드 실행 : if, elif, else\n",
        "# 5. 반복문 : 코드를 효율적으로 작성 : 반복적으로 코드를 실행\n",
        "#   - while, for in, break, continue\n",
        "#   - range(), enumerate(), zip()"
      ],
      "metadata": {
        "id": "5BGHBtIqliLK"
      },
      "execution_count": null,
      "outputs": []
    },
    {
      "cell_type": "code",
      "source": [
        "# ---- Quiz : 로또번호 출력하기"
      ],
      "metadata": {
        "id": "F7BHBwtbrDDe"
      },
      "execution_count": null,
      "outputs": []
    },
    {
      "cell_type": "code",
      "source": [
        "# 랜덤 숫자 출력\n",
        "import random\n",
        "random.randint(0,3) # 0에서 3 사이에 랜덤한 숫자 출력됨 (0, 3 모두포함)"
      ],
      "metadata": {
        "colab": {
          "base_uri": "https://localhost:8080/"
        },
        "id": "SLWQ7k5VrM-l",
        "outputId": "14240685-71cd-4681-f872-a6a2738b6d55"
      },
      "execution_count": null,
      "outputs": [
        {
          "output_type": "execute_result",
          "data": {
            "text/plain": [
              "3"
            ]
          },
          "metadata": {},
          "execution_count": 125
        }
      ]
    },
    {
      "cell_type": "code",
      "source": [
        "# 리스트 데이터 개수 출력 : len()\n",
        "data = [1,3,2]\n",
        "len(data)"
      ],
      "metadata": {
        "colab": {
          "base_uri": "https://localhost:8080/"
        },
        "id": "RrC-dqrarf2P",
        "outputId": "7485e305-0030-48c1-f6f0-8823b0d37328"
      },
      "execution_count": null,
      "outputs": [
        {
          "output_type": "execute_result",
          "data": {
            "text/plain": [
              "3"
            ]
          },
          "metadata": {},
          "execution_count": 128
        }
      ]
    },
    {
      "cell_type": "code",
      "source": [
        "# 리스트에 데이터 추가\n",
        "data.append(4)\n",
        "data"
      ],
      "metadata": {
        "colab": {
          "base_uri": "https://localhost:8080/"
        },
        "id": "KNB0eUdpryMz",
        "outputId": "3772549c-b34a-47fc-d841-0273cb1f05fc"
      },
      "execution_count": null,
      "outputs": [
        {
          "output_type": "execute_result",
          "data": {
            "text/plain": [
              "[1, 3, 2, 4]"
            ]
          },
          "metadata": {},
          "execution_count": 129
        }
      ]
    },
    {
      "cell_type": "code",
      "source": [
        "data.sort()\n",
        "data"
      ],
      "metadata": {
        "colab": {
          "base_uri": "https://localhost:8080/"
        },
        "id": "_yBrD8f_sB3D",
        "outputId": "a38a3504-a33d-4d0e-f613-b12246f71353"
      },
      "execution_count": null,
      "outputs": [
        {
          "output_type": "execute_result",
          "data": {
            "text/plain": [
              "[1, 2, 3, 4]"
            ]
          },
          "metadata": {},
          "execution_count": 131
        }
      ]
    },
    {
      "cell_type": "code",
      "source": [
        "# 로또번호 출력하기\n",
        "# 1~45 사이의 랜덤한 숫자 6개 출력\n",
        "# 중복되는 데이터가 들어가지 않도록\n",
        "lotto = []\n",
        "while len(lotto) <= 6:\n",
        "  rannum = random.randint(1,45)\n",
        "  if rannum not in lotto:\n",
        "    lotto.append(rannum)\n",
        "lotto.sort()\n",
        "lotto"
      ],
      "metadata": {
        "colab": {
          "base_uri": "https://localhost:8080/"
        },
        "id": "2eDPpMzPr4_9",
        "outputId": "93b125fd-99fc-484f-eef9-f24ebe4d8fa2"
      },
      "execution_count": null,
      "outputs": [
        {
          "output_type": "execute_result",
          "data": {
            "text/plain": [
              "[1, 7, 11, 21, 30, 44, 45]"
            ]
          },
          "metadata": {},
          "execution_count": 135
        }
      ]
    },
    {
      "cell_type": "code",
      "source": [
        "# if 두번쓰기\n",
        "lotto = []\n",
        "while True:\n",
        "  rannum = random.randint(1,45)\n",
        "  if rannum not in lotto:\n",
        "    lotto.append(rannum)\n",
        "  if len(lotto) >= 6:\n",
        "    break\n",
        "lotto.sort()\n",
        "lotto"
      ],
      "metadata": {
        "colab": {
          "base_uri": "https://localhost:8080/"
        },
        "id": "iamd7hlhxiWV",
        "outputId": "98a90d07-19dc-4bb7-fadd-d2ea4a466546"
      },
      "execution_count": null,
      "outputs": [
        {
          "output_type": "execute_result",
          "data": {
            "text/plain": [
              "[1, 7, 12, 21, 36, 39]"
            ]
          },
          "metadata": {},
          "execution_count": 136
        }
      ]
    },
    {
      "cell_type": "code",
      "source": [
        "# set 써보기\n",
        "lotto = []\n",
        "tmp_lotto = []\n",
        "while True:\n",
        "  rannum = random.randint(1,45)\n",
        "  tmp_lotto.append(rannum)\n",
        "  if lenlotto = set(tmp_lotto)\n",
        "  if len(lotto) >= 6:\n",
        "    break\n",
        "lotto.sort()\n",
        "lotto"
      ],
      "metadata": {
        "colab": {
          "base_uri": "https://localhost:8080/",
          "height": 217
        },
        "id": "jw-0N3-uzTzK",
        "outputId": "565e95f9-edec-4434-fe59-a89a56f8a23e"
      },
      "execution_count": null,
      "outputs": [
        {
          "output_type": "error",
          "ename": "AttributeError",
          "evalue": "ignored",
          "traceback": [
            "\u001b[0;31m---------------------------------------------------------------------------\u001b[0m",
            "\u001b[0;31mAttributeError\u001b[0m                            Traceback (most recent call last)",
            "\u001b[0;32m<ipython-input-146-a6bbfcb0c41b>\u001b[0m in \u001b[0;36m<module>\u001b[0;34m()\u001b[0m\n\u001b[1;32m      8\u001b[0m   \u001b[0;32mif\u001b[0m \u001b[0mlen\u001b[0m\u001b[0;34m(\u001b[0m\u001b[0mlotto\u001b[0m\u001b[0;34m)\u001b[0m \u001b[0;34m>=\u001b[0m \u001b[0;36m6\u001b[0m\u001b[0;34m:\u001b[0m\u001b[0;34m\u001b[0m\u001b[0;34m\u001b[0m\u001b[0m\n\u001b[1;32m      9\u001b[0m     \u001b[0;32mbreak\u001b[0m\u001b[0;34m\u001b[0m\u001b[0;34m\u001b[0m\u001b[0m\n\u001b[0;32m---> 10\u001b[0;31m \u001b[0mlotto\u001b[0m\u001b[0;34m.\u001b[0m\u001b[0msort\u001b[0m\u001b[0;34m(\u001b[0m\u001b[0;34m)\u001b[0m\u001b[0;34m\u001b[0m\u001b[0;34m\u001b[0m\u001b[0m\n\u001b[0m\u001b[1;32m     11\u001b[0m \u001b[0mlotto\u001b[0m\u001b[0;34m\u001b[0m\u001b[0;34m\u001b[0m\u001b[0m\n",
            "\u001b[0;31mAttributeError\u001b[0m: 'set' object has no attribute 'sort'"
          ]
        }
      ]
    },
    {
      "cell_type": "code",
      "source": [
        "# 6. 함수\n",
        "# def, return, lambda\n",
        "# 중복되는 코드를 묶어서 사용"
      ],
      "metadata": {
        "id": "UrDGpCT1xs4U"
      },
      "execution_count": null,
      "outputs": []
    },
    {
      "cell_type": "code",
      "source": [
        "# ---- Quiz\n",
        "# 로또번호 출력\n",
        "# python 문자열 출력\n",
        "# 로또번호 출력"
      ],
      "metadata": {
        "id": "vfJXCrOHxxza"
      },
      "execution_count": null,
      "outputs": []
    },
    {
      "cell_type": "code",
      "source": [
        "# 함수 사용 안하는 경우\n",
        "lotto = []\n",
        "while len(lotto) <= 6:\n",
        "  rannum = random.randint(1,45)\n",
        "  if rannum not in lotto:\n",
        "    lotto.append(rannum)\n",
        "lotto.sort()\n",
        "print(lotto)\n",
        "print(\"python\")\n",
        "lotto = []\n",
        "while len(lotto) <= 6:\n",
        "  rannum = random.randint(1,45)\n",
        "  if rannum not in lotto:\n",
        "    lotto.append(rannum)\n",
        "lotto.sort()\n",
        "print(lotto)"
      ],
      "metadata": {
        "colab": {
          "base_uri": "https://localhost:8080/"
        },
        "id": "rQ6_jDT0x6nf",
        "outputId": "d0636f00-adb1-4f95-ca57-eb78a8299d54"
      },
      "execution_count": null,
      "outputs": [
        {
          "output_type": "stream",
          "name": "stdout",
          "text": [
            "[4, 5, 9, 17, 26, 31, 40]\n",
            "python\n",
            "[1, 2, 3, 23, 35, 42, 43]\n"
          ]
        }
      ]
    },
    {
      "cell_type": "code",
      "source": [
        "# 사용법 : 함수선언(코드작성) > 함수호출(코드실행)"
      ],
      "metadata": {
        "id": "4mrWYIcny0At"
      },
      "execution_count": null,
      "outputs": []
    },
    {
      "cell_type": "code",
      "source": [
        "# 함수선언(코드작성)\n",
        "def disp_lotto():\n",
        "    lotto = []\n",
        "    while True:\n",
        "        number = random.randint(1, 45)\n",
        "        if number not in lotto:\n",
        "            lotto.append(number)\n",
        "        if len(lotto) >= 6:\n",
        "            break\n",
        "    lotto.sort()\n",
        "    print(lotto)"
      ],
      "metadata": {
        "id": "l6QxmYk2y2dE"
      },
      "execution_count": null,
      "outputs": []
    },
    {
      "cell_type": "code",
      "source": [
        "# 함수 실행(코드실행)\n",
        "disp_lotto()"
      ],
      "metadata": {
        "colab": {
          "base_uri": "https://localhost:8080/"
        },
        "id": "5MLnYoBry3Rb",
        "outputId": "26f64b52-d500-4810-e3bd-a390d604ee43"
      },
      "execution_count": null,
      "outputs": [
        {
          "output_type": "stream",
          "name": "stdout",
          "text": [
            "[5, 11, 18, 29, 38, 44]\n"
          ]
        }
      ]
    },
    {
      "cell_type": "code",
      "source": [
        "# 함수 사용한 코드로 바꾸어 보기\n",
        "disp_lotto()\n",
        "print(\"Python\")\n",
        "disp_lotto()"
      ],
      "metadata": {
        "colab": {
          "base_uri": "https://localhost:8080/"
        },
        "id": "TcIsRfTBzCXv",
        "outputId": "29a8067b-318f-4039-b1c6-888a96e7dace"
      },
      "execution_count": null,
      "outputs": [
        {
          "output_type": "stream",
          "name": "stdout",
          "text": [
            "[3, 4, 18, 21, 22, 25]\n",
            "Python\n",
            "[23, 24, 25, 27, 34, 45]\n"
          ]
        }
      ]
    }
  ],
  "metadata": {
    "celltoolbar": "Slideshow",
    "kernelspec": {
      "display_name": "Python 3",
      "language": "python",
      "name": "python3"
    },
    "language_info": {
      "codemirror_mode": {
        "name": "ipython",
        "version": 3
      },
      "file_extension": ".py",
      "mimetype": "text/x-python",
      "name": "python",
      "nbconvert_exporter": "python",
      "pygments_lexer": "ipython3",
      "version": "3.7.6"
    },
    "varInspector": {
      "cols": {
        "lenName": 16,
        "lenType": 16,
        "lenVar": 40
      },
      "kernels_config": {
        "python": {
          "delete_cmd_postfix": "",
          "delete_cmd_prefix": "del ",
          "library": "var_list.py",
          "varRefreshCmd": "print(var_dic_list())"
        },
        "r": {
          "delete_cmd_postfix": ") ",
          "delete_cmd_prefix": "rm(",
          "library": "var_list.r",
          "varRefreshCmd": "cat(var_dic_list()) "
        }
      },
      "types_to_exclude": [
        "module",
        "function",
        "builtin_function_or_method",
        "instance",
        "_Feature"
      ],
      "window_display": false
    },
    "colab": {
      "name": "python_001_basic_syntax.ipynb",
      "provenance": [],
      "collapsed_sections": [],
      "include_colab_link": true
    }
  },
  "nbformat": 4,
  "nbformat_minor": 0
}