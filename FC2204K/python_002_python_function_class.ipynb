{
  "nbformat": 4,
  "nbformat_minor": 0,
  "metadata": {
    "colab": {
      "name": "python_002_python_function_class.ipynb",
      "provenance": [],
      "collapsed_sections": [],
      "authorship_tag": "ABX9TyPsrnirQoFAx92huGq8pI1G",
      "include_colab_link": true
    },
    "kernelspec": {
      "name": "python3",
      "display_name": "Python 3"
    },
    "language_info": {
      "name": "python"
    }
  },
  "cells": [
    {
      "cell_type": "markdown",
      "metadata": {
        "id": "view-in-github",
        "colab_type": "text"
      },
      "source": [
        "<a href=\"https://colab.research.google.com/github/cminy/FC2022code/blob/main/python_002_python_function_class.ipynb\" target=\"_parent\"><img src=\"https://colab.research.google.com/assets/colab-badge.svg\" alt=\"Open In Colab\"/></a>"
      ]
    },
    {
      "cell_type": "code",
      "source": [
        "c = \"miny\"\n",
        "d = [1,2]\n",
        "e = \"678\"\n",
        "list(zip(c,d)), list(zip(d,e))"
      ],
      "metadata": {
        "colab": {
          "base_uri": "https://localhost:8080/"
        },
        "id": "eyJdopQivzW_",
        "outputId": "ac40182a-3157-4580-cf74-5170aa5fd8f5"
      },
      "execution_count": null,
      "outputs": [
        {
          "output_type": "execute_result",
          "data": {
            "text/plain": [
              "([('m', 1), ('i', 2)], [(1, '6'), (2, '7')])"
            ]
          },
          "metadata": {},
          "execution_count": 253
        }
      ]
    },
    {
      "cell_type": "code",
      "execution_count": null,
      "metadata": {
        "colab": {
          "base_uri": "https://localhost:8080/",
          "height": 200
        },
        "id": "hDsn12C2IhYt",
        "outputId": "4aa7404a-87e1-4c25-ca8c-d4d7c7e4d179"
      },
      "outputs": [
        {
          "output_type": "error",
          "ename": "TypeError",
          "evalue": "ignored",
          "traceback": [
            "\u001b[0;31m---------------------------------------------------------------------------\u001b[0m",
            "\u001b[0;31mTypeError\u001b[0m                                 Traceback (most recent call last)",
            "\u001b[0;32m<ipython-input-11-2d15c9628f2a>\u001b[0m in \u001b[0;36m<module>\u001b[0;34m()\u001b[0m\n\u001b[1;32m      1\u001b[0m \u001b[0ma\u001b[0m \u001b[0;34m=\u001b[0m \u001b[0;34m[\u001b[0m\u001b[0;36m1\u001b[0m\u001b[0;34m,\u001b[0m\u001b[0;36m2\u001b[0m\u001b[0;34m,\u001b[0m\u001b[0;36m3\u001b[0m\u001b[0;34m]\u001b[0m\u001b[0;34m\u001b[0m\u001b[0;34m\u001b[0m\u001b[0m\n\u001b[1;32m      2\u001b[0m \u001b[0mb\u001b[0m \u001b[0;34m=\u001b[0m \u001b[0;36m6\u001b[0m\u001b[0;34m\u001b[0m\u001b[0;34m\u001b[0m\u001b[0m\n\u001b[0;32m----> 3\u001b[0;31m \u001b[0mlist\u001b[0m\u001b[0;34m(\u001b[0m\u001b[0mzip\u001b[0m\u001b[0;34m(\u001b[0m\u001b[0ma\u001b[0m\u001b[0;34m,\u001b[0m\u001b[0mb\u001b[0m\u001b[0;34m)\u001b[0m\u001b[0;34m)\u001b[0m\u001b[0;34m\u001b[0m\u001b[0;34m\u001b[0m\u001b[0m\n\u001b[0m",
            "\u001b[0;31mTypeError\u001b[0m: zip argument #2 must support iteration"
          ]
        }
      ],
      "source": [
        "# zip에 대해 알아봐야겠음\n",
        "a = [1,2,3]\n",
        "b = 6\n",
        "list(zip(a,b)) # a와 b의 데이터 타입이 같을 필요는 없지만 둘다 iteration이던가 아니던가"
      ]
    },
    {
      "cell_type": "code",
      "source": [
        "# summary\n",
        "# python\n",
        "# 컴퓨터의 CPU, RAM, HDD를 사용하기 위한 어플케이션을 만드는 도구\n",
        "# 1. 변수선언\n",
        "#   - RAM에 저장공간을 만들어 값을 저장하는 방법\n",
        "#   - data = 1 : data1, data2 = 1, 2 : data1 = data2 = 1\n",
        "#   - 식별자규칙 : 대소문자, 숫자, _ 만 사용 가능 : 가장 앞에 숫자 X : 명령어 사용 X\n",
        "# 2. 데이터타입\n",
        "#   - RAM 저장공간을 효율적으로 사용하기 위한 방법\n",
        "#   - 기본 데이터타입 : int, float, bool, str\n",
        "#   - 컬렉션 데이터타입 : list, tuple, dict, set\n",
        "#       - masking : [index], [start:end], [start:end:stride]\n",
        "#       - list와 tuple의 차이 : tuple은 수정 X, 저장공간은 적게 사용\n",
        "# 3. 연산자\n",
        "#   - CPU 자원을 사용하기 위한 방법\n",
        "#   - 산술, 할당, 비교, 논리(not, or, and), 멤버(in, not in)\n",
        "#   - 연산자 우선순위 : 산술 > 비교 > 논리(and > or)\n",
        "#   - 데이터 타입 형변환 : 데이터 타입에 따라 연산수행이 다름\n",
        "# 4. 조건문\n",
        "#   - 특정한 조건으로 코드를 실행 : 코드를 효율적으로 사용\n",
        "#   - if, elif, else\n",
        "# 5. 반복문\n",
        "#   - 특정 코드를 반복적으로 실행 : 코드를 효율적으로 사용\n",
        "#   - while, for in, break, continue\n",
        "#   - range(), enumerate(), zip()\n",
        "# 6. 함수\n",
        "#   - 중복되는 코드를 묶어서 사용하는 방법 : 코드를 효율적으로 사용\n",
        "#   - def, return, lambda\n",
        "#   - 사용법 : 함수선언(코드작성) > 함수호출(코드실행)"
      ],
      "metadata": {
        "id": "WNoInQKIMXlm"
      },
      "execution_count": null,
      "outputs": []
    },
    {
      "cell_type": "code",
      "source": [
        "# 함수선언\n",
        "# num1 : parameter\n",
        "# num2, num3 : default parameter\n",
        "def plus(num1, num2=10, num3=20): # default값 넣어준거\n",
        "    print(num1 + num2 + num3)"
      ],
      "metadata": {
        "id": "AcluMm9JRGI4"
      },
      "execution_count": null,
      "outputs": []
    },
    {
      "cell_type": "code",
      "source": [
        "# default parameter 알아보기\n",
        "print(\"A\", \"B\")\n",
        "print(\"C\", \"D\") \n",
        "print(\"A\", \"B\", end = \" - \") # default parameter -> docstring을 보면되는데 이따 atom에서 하자\n",
        "print(\"C\", \"D\") \n",
        "print(\"A\", \"C\", sep=\":\") # default parameter"
      ],
      "metadata": {
        "colab": {
          "base_uri": "https://localhost:8080/"
        },
        "id": "PpO7V0LNMYfX",
        "outputId": "fba9ebb6-5699-4c6a-8baa-c1c376136f6e"
      },
      "execution_count": null,
      "outputs": [
        {
          "output_type": "stream",
          "name": "stdout",
          "text": [
            "A B\n",
            "C D\n",
            "A B - C D\n",
            "A:C\n"
          ]
        }
      ]
    },
    {
      "cell_type": "code",
      "source": [
        "# 함수호출\n",
        "# 1, 2 : agument\n",
        "# num3=100 : keyword agument\n",
        "plus(1)\n",
        "plus(1, 2)\n",
        "plus(1, num3=100)"
      ],
      "metadata": {
        "colab": {
          "base_uri": "https://localhost:8080/"
        },
        "id": "hvtkeCzxRJ91",
        "outputId": "5e91f773-4e88-4e09-d0eb-ead0fbdc47fc"
      },
      "execution_count": null,
      "outputs": [
        {
          "output_type": "stream",
          "name": "stdout",
          "text": [
            "31\n",
            "23\n",
            "111\n"
          ]
        }
      ]
    },
    {
      "cell_type": "code",
      "source": [
        "# return\n",
        "# 1) 함수의 코드를 실행한 겨로가를 함수 호출하는 부분으로 보낼때\n",
        "# 2) 함수의 코드 실행을 중단 (하고 싶을 떄 그냥 return을 써버림. none data를 return하고 그 밑에는 실행하지 않는거)"
      ],
      "metadata": {
        "id": "wrWEnCskRgs3"
      },
      "execution_count": null,
      "outputs": []
    },
    {
      "cell_type": "code",
      "source": [
        "# 1) 함수의 코드를 실행한 겨로가를 함수 호출하는 부분으로 보낼때\n",
        "# plus1 : return이 없는 함수\n",
        "def plus1(num1, num2=10, num3=20):\n",
        "  print(num1 + num2 + num3)\n",
        "# plus2 : return이 있는 함수\n",
        "def plus2(num1, num2=10, num3=20):\n",
        "  print(num1 + num2 + num3)\n",
        "  return num1 + num2 + num3"
      ],
      "metadata": {
        "id": "cv-_ZQgSTLFH"
      },
      "execution_count": null,
      "outputs": []
    },
    {
      "cell_type": "code",
      "source": [
        "result1 = plus1(1, 2)\n",
        "result2 = plus2(1, 2)\n",
        "print(\"---\")\n",
        "print(result1, result2)"
      ],
      "metadata": {
        "colab": {
          "base_uri": "https://localhost:8080/"
        },
        "id": "aKgK1M2kR0pG",
        "outputId": "11df6b94-f671-4fb1-d3f9-855e625d0eaf"
      },
      "execution_count": null,
      "outputs": [
        {
          "output_type": "stream",
          "name": "stdout",
          "text": [
            "23\n",
            "23\n",
            "---\n",
            "None 23\n"
          ]
        }
      ]
    },
    {
      "cell_type": "code",
      "source": [
        "# 변수의 값을 변경하지 않지만 코드를 실행한 결과를 리턴\n",
        "# upper()매서드는 return이 있음\n",
        "data = \"python\"\n",
        "result = data.upper()\n",
        "print(result, data) #data는 바뀌지않음"
      ],
      "metadata": {
        "colab": {
          "base_uri": "https://localhost:8080/"
        },
        "id": "yewSFW4xSE-l",
        "outputId": "7421de48-d289-47ad-86cc-02770a572c02"
      },
      "execution_count": null,
      "outputs": [
        {
          "output_type": "stream",
          "name": "stdout",
          "text": [
            "PYTHON python\n"
          ]
        }
      ]
    },
    {
      "cell_type": "code",
      "source": [
        "# 변수의 값을 변경하지만 코드를 실행한 결과를 리턴하지 않음\n",
        "# sort()매서드는 return이 없음\n",
        "data = [3, 1, 2]\n",
        "result = data.sort()\n",
        "print(result, data) #실행한 결과는 없지만 data가 변경됨 / return이 없는 경우는 data를 변경해주는 경우가 많음"
      ],
      "metadata": {
        "colab": {
          "base_uri": "https://localhost:8080/"
        },
        "id": "JwBNL88-SJ4-",
        "outputId": "b861c3e1-94d0-4942-a3eb-a55d1298f589"
      },
      "execution_count": null,
      "outputs": [
        {
          "output_type": "stream",
          "name": "stdout",
          "text": [
            "None [1, 2, 3]\n"
          ]
        }
      ]
    },
    {
      "cell_type": "code",
      "source": [
        "# 2) 함수의 코드 실행을 중단 (하고 싶을 떄 그냥 return을 써버림. none data를 return하고 그 밑에는 실행하지 않는거)\n",
        "def disp():\n",
        "    print(\"python1\")\n",
        "    print(\"python2\")\n",
        "    return\n",
        "    print(\"python3\")"
      ],
      "metadata": {
        "id": "gsREkB7YTP44"
      },
      "execution_count": null,
      "outputs": []
    },
    {
      "cell_type": "code",
      "source": [
        "# 함수\n",
        "# 함수선언(코드작성) : 파라미터 : 함수를 호출할 떄 넘겨주는 데이터를 받아주는 변수\n",
        "# 함수호출(코드실행) : 아규먼트 : 함수를 호출할 때 함수선언부분의 코드로 데이터를 넘겨줌\n",
        "# 파라미터 : 일반 파라미터, 디폴트 파라미터\n",
        "# 아규먼트 : 일반 아규먼트, 키워드 아규먼트"
      ],
      "metadata": {
        "id": "o8gWlVkWXKPW"
      },
      "execution_count": null,
      "outputs": []
    },
    {
      "cell_type": "code",
      "source": [
        "# return\n",
        "# 함수를 호출하는 쪽으로 코드를 실행한 결과를 보내줌\n",
        "# 코드의 실행을 중단"
      ],
      "metadata": {
        "id": "Un1QXxNKYVMI"
      },
      "execution_count": null,
      "outputs": []
    },
    {
      "cell_type": "code",
      "source": [
        "def plus(num1, num2=10, num3=20):\n",
        "  print(num1 + num2 + num3)\n",
        "  return num1 + num2 + num3\n",
        "\n",
        "result = plus(1, num3=100) # 아규먼트 / 여기서 1은 데이터를 넣어주는거니까 일반 아규먼트\n",
        "# 그냥 일반 아규먼트 쓰면 파라미터 순서대로 전달되는데 특정 파라미터의 값을 지정해서 하고 싶으면 키워드 아규먼트 num3=100\n",
        "print(\"result: \",result)"
      ],
      "metadata": {
        "colab": {
          "base_uri": "https://localhost:8080/"
        },
        "id": "45BiORXoXm20",
        "outputId": "1e6b9af9-fb41-4832-c3b2-d3a5dfaea293"
      },
      "execution_count": null,
      "outputs": [
        {
          "output_type": "stream",
          "name": "stdout",
          "text": [
            "111\n",
            "result:  111\n"
          ]
        }
      ]
    },
    {
      "cell_type": "code",
      "source": [
        "# 해결의책\n",
        "import random\n",
        "def solving_book():\n",
        "  answers = [\"아주좋아\", \"오히려좋아\", \"딱좋아\", \"긋긋긋\"]\n",
        "  question = input(\"너의 고민을 이야기 해보아라: \")\n",
        "  idx = random.randint(0, len(answers)-1)\n",
        "  print(answers[idx])"
      ],
      "metadata": {
        "id": "rEbe6bx7ZPPC"
      },
      "execution_count": null,
      "outputs": []
    },
    {
      "cell_type": "code",
      "source": [
        "solving_book()"
      ],
      "metadata": {
        "colab": {
          "base_uri": "https://localhost:8080/"
        },
        "id": "JbExW7N4a9X5",
        "outputId": "85d3507c-6c8a-4f37-c13b-277ab47f55e4"
      },
      "execution_count": null,
      "outputs": [
        {
          "output_type": "stream",
          "name": "stdout",
          "text": [
            "너의 고민을 이야기 해보아라: 미녕이 배고파\n",
            "오히려좋아\n"
          ]
        }
      ]
    },
    {
      "cell_type": "code",
      "source": [
        "# 해결의책\n",
        "# 1. 질문횟수 기능 추가\n",
        "def solving_book1(count): # count라고 변수 이름 정해준거.\n",
        "# 위에 count 대신 count=1 이라고 디폴트값을 주면 solving_book1()해도 에러 안남. 한번만 실행되지.\n",
        "  answers = [\"아주좋아\", \"오히려좋아\", \"딱좋아\", \"긋긋긋\"]\n",
        "  for _ in range(count):\n",
        "    question = input(\"너의 고민을 이야기 해보아라: \")\n",
        "    idx = random.randint(0, len(answers)-1)\n",
        "    print(answers[idx])"
      ],
      "metadata": {
        "id": "9tzUzzlJbm8Z"
      },
      "execution_count": null,
      "outputs": []
    },
    {
      "cell_type": "code",
      "source": [
        "solving_book1(3)"
      ],
      "metadata": {
        "colab": {
          "base_uri": "https://localhost:8080/"
        },
        "id": "xGdyA4hRcGr-",
        "outputId": "17db6d6e-975a-4f34-90df-deb14572d397"
      },
      "execution_count": null,
      "outputs": [
        {
          "output_type": "stream",
          "name": "stdout",
          "text": [
            "너의 고민을 이야기 해보아라: 미녕이 배고파\n",
            "아주좋아\n",
            "너의 고민을 이야기 해보아라: 오늘 날씨 어떠니\n",
            "오히려좋아\n",
            "너의 고민을 이야기 해보아라: 다 좋아?\n",
            "긋긋긋\n"
          ]
        }
      ]
    },
    {
      "cell_type": "code",
      "source": [
        "# 해결의책\n",
        "# 2. 질문과 결과 데이터 저장(dict) 후 리턴\n",
        "def solving_book2(count): # count라고 변수 이름 정해준거\n",
        "  answers = [\"아주좋아\", \"오히려좋아\", \"딱좋아\", \"긋긋긋\"]\n",
        "  datas = {} # 딕셔너리 변수 선언\n",
        "  for _ in range(count):\n",
        "    question = input(\"너의 고민을 이야기 해보아라: \")\n",
        "    idx = random.randint(0, len(answers)-1)\n",
        "    print(answers[idx])\n",
        "    datas[question] = answers[idx] #키는 question이고 value가 answer인거지\n",
        "  return datas"
      ],
      "metadata": {
        "id": "mzyRs0s6ctVt"
      },
      "execution_count": null,
      "outputs": []
    },
    {
      "cell_type": "code",
      "source": [
        "result = solving_book2(2)\n",
        "print(\"---\")\n",
        "print(\"프린트:\", result)\n",
        "result"
      ],
      "metadata": {
        "colab": {
          "base_uri": "https://localhost:8080/"
        },
        "id": "L1QdeYXKc_nj",
        "outputId": "c824ccb7-f496-4c2e-cb8b-78a8f680772e"
      },
      "execution_count": null,
      "outputs": [
        {
          "output_type": "stream",
          "name": "stdout",
          "text": [
            "너의 고민을 이야기 해보아라: 미녕이 배고파\n",
            "긋긋긋\n",
            "너의 고민을 이야기 해보아라: 미녕이 배고파\n",
            "아주좋아\n",
            "---\n",
            "프린트: {'미녕이 배고파': '아주좋아'}\n"
          ]
        },
        {
          "output_type": "execute_result",
          "data": {
            "text/plain": [
              "{'미녕이 배고파': '아주좋아'}"
            ]
          },
          "metadata": {},
          "execution_count": 54
        }
      ]
    },
    {
      "cell_type": "code",
      "source": [
        "# *args 아규스, **kwargs 키워드아규스\n",
        "# 아규먼트와 파라미터의 개수가 지정되지 않을 때 사용\n",
        "# *args는 키워드가 없는 아규먼트를 받아줌\n",
        "# **kwargs는 키워드가 있는 아규먼트를 받아줌"
      ],
      "metadata": {
        "id": "-KMpW6YCfMK-"
      },
      "execution_count": null,
      "outputs": []
    },
    {
      "cell_type": "code",
      "source": [
        "def plus1(*args):\n",
        "    print(type(args), args)\n",
        "    print(\"sum:\", sum(args))\n",
        "\n",
        "plus1(1, 2, 3) # *args라고하면 컬렉션 데이터 타입중에 tuple을 이용해서 여러개의 데이터(아규먼트)를 넣을 수 있음."
      ],
      "metadata": {
        "colab": {
          "base_uri": "https://localhost:8080/"
        },
        "id": "_XkaiTZlf0uT",
        "outputId": "98018702-d151-4e97-aa39-de4debd0630e"
      },
      "execution_count": null,
      "outputs": [
        {
          "output_type": "stream",
          "name": "stdout",
          "text": [
            "<class 'tuple'> (1, 2, 3)\n",
            "sum: 6\n"
          ]
        }
      ]
    },
    {
      "cell_type": "code",
      "source": [
        "def plus2(*args, **kwargs):\n",
        "    print(type(args), args)\n",
        "    print(type(kwargs), kwargs)\n",
        "    print(\"sum:\", sum(args))\n",
        "\n",
        "plus2(1, 2, 3, num1=10, num2=15)\n",
        "# 키워드가 없는 아규먼트는 *args가 받아주고, 있는 아규먼트는 **kwargs가 받아주는거\n",
        "# kwargs는 딕셔너리타입 num1이 key, 10은  value"
      ],
      "metadata": {
        "colab": {
          "base_uri": "https://localhost:8080/"
        },
        "id": "bhspmn_LgmGo",
        "outputId": "550bf958-0ecd-4c9c-cf19-db66f6e80dfc"
      },
      "execution_count": null,
      "outputs": [
        {
          "output_type": "stream",
          "name": "stdout",
          "text": [
            "<class 'tuple'> (1, 2, 3)\n",
            "<class 'dict'> {'num1': 10, 'num2': 15}\n",
            "sum: 6\n"
          ]
        }
      ]
    },
    {
      "cell_type": "code",
      "source": [
        "# docstring\n",
        "# 함수의 설명을 작성하는 방법"
      ],
      "metadata": {
        "id": "S6YkCXBBknnu"
      },
      "execution_count": null,
      "outputs": []
    },
    {
      "cell_type": "code",
      "source": [
        "def disp(msg):\n",
        "  \"\"\"\n",
        "  (docstring은 여기에 적어준다.)\n",
        "  This Function is display message!\n",
        "  ---------------------------------\n",
        "  Parameters\n",
        "  msg : str : print this msg\n",
        "  ---------------------------------\n",
        "  Return\n",
        "  no return\n",
        "  \"\"\"\n",
        "  print(msg)"
      ],
      "metadata": {
        "id": "GL9zk-rPkrck"
      },
      "execution_count": null,
      "outputs": []
    },
    {
      "cell_type": "code",
      "source": [
        "disp(\"안녕하세요\")"
      ],
      "metadata": {
        "colab": {
          "base_uri": "https://localhost:8080/"
        },
        "id": "oaJPkQVrlZy_",
        "outputId": "1200404b-0706-4ce5-d203-9492dd6a9b5c"
      },
      "execution_count": null,
      "outputs": [
        {
          "output_type": "stream",
          "name": "stdout",
          "text": [
            "안녕하세요\n"
          ]
        }
      ]
    },
    {
      "cell_type": "code",
      "source": [
        "# docstring 확인 - 마우스대거나 control+space 누르거나 help()함수활용\n",
        "disp"
      ],
      "metadata": {
        "id": "dryyWWHalh6p"
      },
      "execution_count": null,
      "outputs": []
    },
    {
      "cell_type": "code",
      "source": [
        "help(disp)"
      ],
      "metadata": {
        "colab": {
          "base_uri": "https://localhost:8080/"
        },
        "id": "ozLm8GdelxpK",
        "outputId": "b2484490-68fd-471b-fe8c-5c1a3b532cc1"
      },
      "execution_count": null,
      "outputs": [
        {
          "output_type": "stream",
          "name": "stdout",
          "text": [
            "Help on function disp in module __main__:\n",
            "\n",
            "disp(msg)\n",
            "    (docstring은 여기에 적어준다.)\n",
            "    This Function is display message!\n",
            "    ---------------------------------\n",
            "    Parameters\n",
            "    msg : str : print this msg\n",
            "    ---------------------------------\n",
            "    Return\n",
            "    no return\n",
            "\n"
          ]
        }
      ]
    },
    {
      "cell_type": "code",
      "source": [
        "# lambda function\n",
        "# 함수는 데이터 타입이 function인 변수이다."
      ],
      "metadata": {
        "id": "KfU5uw9YmENg"
      },
      "execution_count": null,
      "outputs": []
    },
    {
      "cell_type": "code",
      "source": [
        "# 함수 3개 선언 : 메모리 사용\n",
        "def plus3(num1, num2):\n",
        "  return num1 + num2\n",
        "\n",
        "def minus(num1, num2):\n",
        "  return num1 - num2\n",
        "\n",
        "def calc(func, num1, num2): # 함수도 변수니까 ~ function도 파라매터나 아규먼트로 사용할 수 있다.\n",
        "    return func(num1, num2)"
      ],
      "metadata": {
        "id": "vgl8xBi9mOJH"
      },
      "execution_count": null,
      "outputs": []
    },
    {
      "cell_type": "code",
      "source": [
        "calc(plus3, 1, 2), calc(minus, 1, 2)"
      ],
      "metadata": {
        "colab": {
          "base_uri": "https://localhost:8080/"
        },
        "id": "QAJNgZbGmqs4",
        "outputId": "a8cfe0e2-6199-40fb-ac68-f434a530f375"
      },
      "execution_count": null,
      "outputs": [
        {
          "output_type": "execute_result",
          "data": {
            "text/plain": [
              "(3, -1)"
            ]
          },
          "metadata": {},
          "execution_count": 74
        }
      ]
    },
    {
      "cell_type": "code",
      "source": [
        "# 함수선언하면 메모리 사용하는데, 선언했는데 안쓸수도 있쟈나. 그런경우에는 lambda함수를 써보자.\n",
        "# lambda <parameters> : <return data>\n",
        "# 간단하게 파라미터와 return만 있는 함수는 람다함수로 사용하면 메모리 절약\n",
        "# 복잡한 함수는 람다함수로 대체할 수 X"
      ],
      "metadata": {
        "id": "QZ8wvPtunsaN"
      },
      "execution_count": null,
      "outputs": []
    },
    {
      "cell_type": "code",
      "source": [
        "# 아래 함수 lambda로 바꾸어 보기\n",
        "# def plus3(num1, num2):\n",
        "#   return num1 + num2\n",
        "pluss = lambda num1, num2: num1 + num2\n",
        "pluss(1,2)"
      ],
      "metadata": {
        "colab": {
          "base_uri": "https://localhost:8080/"
        },
        "id": "kAjSrXCRpbkA",
        "outputId": "8c04d127-0d66-4f88-ccf8-4d531a581e85"
      },
      "execution_count": null,
      "outputs": [
        {
          "output_type": "execute_result",
          "data": {
            "text/plain": [
              "3"
            ]
          },
          "metadata": {},
          "execution_count": 83
        }
      ]
    },
    {
      "cell_type": "code",
      "source": [
        "# calc(plus3, 1, 2), calc(minus, 1, 2)\n",
        "calc(lambda num1, num2: num1   + num2, 1, 2), calc(lambda num1, num2: num1 - num2, 1, 2)"
      ],
      "metadata": {
        "colab": {
          "base_uri": "https://localhost:8080/"
        },
        "id": "G2ywEYSooj4p",
        "outputId": "9d80c873-ee44-4e0c-9243-729ef432b6c2"
      },
      "execution_count": null,
      "outputs": [
        {
          "output_type": "execute_result",
          "data": {
            "text/plain": [
              "(3, -1)"
            ]
          },
          "metadata": {},
          "execution_count": 82
        }
      ]
    },
    {
      "cell_type": "code",
      "source": [
        "# list comprehension\n",
        "# 간단한 리스트 데이터를 만드는 방법"
      ],
      "metadata": {
        "id": "z6tE7iV7pLRu"
      },
      "execution_count": null,
      "outputs": []
    },
    {
      "cell_type": "code",
      "source": [
        "numbers = []\n",
        "for number in range(10): # range(10) : 0~9리스트를 하나 만들었지\n",
        "  if number % 2: # 홀수만 들어가도록 (1이면 True)\n",
        "    numbers.append(number)\n",
        "numbers"
      ],
      "metadata": {
        "colab": {
          "base_uri": "https://localhost:8080/"
        },
        "id": "JBcFXSJLpq2i",
        "outputId": "403ce825-86ad-4582-ec2b-c05b92bf7383"
      },
      "execution_count": null,
      "outputs": [
        {
          "output_type": "execute_result",
          "data": {
            "text/plain": [
              "[1, 3, 5, 7, 9]"
            ]
          },
          "metadata": {},
          "execution_count": 86
        }
      ]
    },
    {
      "cell_type": "code",
      "source": [
        "# 위 코드를 list comprehension 으로 좀더 간결하게 해보자\n",
        "\n",
        "number1 = [number for number in range(10) if number % 2] # for문이 실행되고 if조건절로 넘어가고 이게 True면 앞으로 넘어가고 False면 앞으로 넘어가지 않음.\n",
        "# 넘겨받은 결과를 모아서 list로 comprehension해주는거\n",
        "number1 # 굳이 선언할 필요도 없다."
      ],
      "metadata": {
        "colab": {
          "base_uri": "https://localhost:8080/"
        },
        "id": "Pc2pNIzsqSKm",
        "outputId": "7dbdf01b-cbc5-45cc-f4e4-d8edd9ff2037"
      },
      "execution_count": null,
      "outputs": [
        {
          "output_type": "execute_result",
          "data": {
            "text/plain": [
              "[1, 3, 5, 7, 9]"
            ]
          },
          "metadata": {},
          "execution_count": 88
        }
      ]
    },
    {
      "cell_type": "code",
      "source": [
        "# kim씨 성을 가진 사람을 필터링 하세요.\n",
        "users = [\"kim ie\",\"park aq\",\"lee tt\",\"kim iu\"]"
      ],
      "metadata": {
        "id": "NGNeo622rhBU"
      },
      "execution_count": null,
      "outputs": []
    },
    {
      "cell_type": "code",
      "source": [
        "# 문자열 데이터 타입에서도 masking[] 문법 사용 가능\n",
        "\"kim ie\"[:3]"
      ],
      "metadata": {
        "colab": {
          "base_uri": "https://localhost:8080/",
          "height": 34
        },
        "id": "HZIaf2p7rvSv",
        "outputId": "851f7c62-8cf1-44d9-a9dc-db1c8414e49b"
      },
      "execution_count": null,
      "outputs": [
        {
          "output_type": "execute_result",
          "data": {
            "text/plain": [
              "'kim'"
            ],
            "application/vnd.google.colaboratory.intrinsic+json": {
              "type": "string"
            }
          },
          "metadata": {},
          "execution_count": 95
        }
      ]
    },
    {
      "cell_type": "code",
      "source": [
        "\"kim ie\".split(\" \"), \"kim ie\".split(\" \")[0]"
      ],
      "metadata": {
        "colab": {
          "base_uri": "https://localhost:8080/"
        },
        "id": "5o_pA9L_rxDS",
        "outputId": "24d7d5da-4a99-4d7a-928b-0fe3ac7c3d06"
      },
      "execution_count": null,
      "outputs": [
        {
          "output_type": "execute_result",
          "data": {
            "text/plain": [
              "(['kim', 'ie'], 'kim')"
            ]
          },
          "metadata": {},
          "execution_count": 94
        }
      ]
    },
    {
      "cell_type": "code",
      "source": [
        "user_kim = [name for name in users if name.split(\" \")[0]==\"kim\"]3\n",
        "user_kim"
      ],
      "metadata": {
        "colab": {
          "base_uri": "https://localhost:8080/"
        },
        "id": "XMDqxSG9r_xR",
        "outputId": "435a6b16-73f7-484d-f340-55efb144b895"
      },
      "execution_count": null,
      "outputs": [
        {
          "output_type": "execute_result",
          "data": {
            "text/plain": [
              "['kim ie', 'kim iu']"
            ]
          },
          "metadata": {},
          "execution_count": 100
        }
      ]
    },
    {
      "cell_type": "code",
      "source": [
        "# function summary\n",
        "# 함수는 중복되는 코드를 묶어서 사용함으로 코드작성의 효율을 증가\n",
        "# def, return, lambda\n",
        "# 사용법 : 함수선언(코드작성) > 함수호출(코드실행)\n",
        "# 함수선언부와 함수호출부 사이에 데이터를 주고 받음 : parameter, agument\n",
        "# 함수선언(parameter) > 함수호출(agument)\n",
        "# parameter, default parameter, agument, keyword argument\n",
        "# return\n",
        "#   - 함수를 호출했을때 코드를 실행하고 결과를 돌려줄때\n",
        "#   - 함수에서 코드의 실행 중단\n",
        "# *args, **kwargs\n",
        "#   - agument의 갯수에 관계 없이 parameter에서 데이터를 받을 사용\n",
        "#   - *args : 키워드가 없는 아규먼트를 받음 : tuple \n",
        "#   - **kwargs : 키워드가 있는 아규먼트를 받음 : dict\n",
        "# docstring\n",
        "#   - 함수의 설명을 작성 : 함수설명, 파라메터, 리턴 \n",
        "#   - help(<function_name>) : docstring 출력\n",
        "# lambda function\n",
        "#   - 일회성 함수 : 함수를 실행할때 생성해서 함수실행이 종료되면 없어지는 함수\n",
        "#   - 함수 호출시 아규먼트에서 만들어서 주로 사용\n",
        "#   - 간단한 파라메터와 리턴만 있는 함수를 대체 : 복잡한 함수는 대체 X\n",
        "# list comprehension\n",
        "#   - 리스트 데이터를 만드는 간단한 반복문과 조건문이 있는 코드를 대체\n",
        "#   - [data for data in datas if data % 2]\n",
        "#   - 조건에 해당하는 코드는 optional 하다"
      ],
      "metadata": {
        "id": "GA1KayVrDnyu"
      },
      "execution_count": null,
      "outputs": []
    },
    {
      "cell_type": "code",
      "source": [
        "# 7. 클래스 : class\n",
        "# 개념 1 : 변수와 함수를 묶어서 사용하는 방법\n",
        "# cf. 함수 : 중복되는 코드를 묶어서 사용\n",
        "# 개녑 2 : 객체지향을 구현해 놓은 문법\n",
        "#   - 객체지향 : 실제세계를 모델링하여 코드로 구현\n",
        "#   - 사용이유 : 어떻게 하면 협업을 효율적으로 할 수 있을까? > 실제세계를 모델링해서 코드구현\n",
        "# 함수 사용법 : 함수선언(코드작성) > 함수호출(코드실행)\n",
        "# 클래스 사용법 : 클래스선언(코드작성(변수, 함수)) > 객체생성 > 객체의 메서드 실행(코드실행)\n",
        "# 실제세계 비유 : 클래스선언(설계도) > 객체생성(생산) > 객체메서드실행(기능사용)\n",
        "# 메서드 용어 : 클래스안에서 작성된 함수\n",
        "# 식별자 컨벤션 : CamelCase or PascalCase\n",
        "# cf. 변수나 함수는 snake_case\n",
        "# self : 객체 자신"
      ],
      "metadata": {
        "id": "hZ0-9ChtEZBk"
      },
      "execution_count": null,
      "outputs": []
    },
    {
      "cell_type": "code",
      "source": [
        "# 1) 클래스선언\n",
        "class Calculator:\n",
        "\n",
        "  num1 = 1\n",
        "  num2 = 2\n",
        "  \n",
        "  def plus(self):\n",
        "    return self.num1 + self.num2\n",
        "  \n",
        "  def minus(self):\n",
        "    return self.num1 - self.num2\n",
        "\n",
        "\n",
        "# 2) 객체생성 : 함수호출과 유사 : 식별자가 대문자로 시작하면 객체생성 (식별자가 snake_case면 함수호출인거)\n",
        "calcu = Calculator()"
      ],
      "metadata": {
        "id": "u7HGy2owHi7D"
      },
      "execution_count": null,
      "outputs": []
    },
    {
      "cell_type": "code",
      "source": [
        "# 3) 객체의 메서드 실행\n",
        "calcu.plus()"
      ],
      "metadata": {
        "colab": {
          "base_uri": "https://localhost:8080/"
        },
        "id": "Ps0RDpCkN6gZ",
        "outputId": "792bcb37-458f-4721-e0d9-adbd90673c33"
      },
      "execution_count": null,
      "outputs": [
        {
          "output_type": "execute_result",
          "data": {
            "text/plain": [
              "3"
            ]
          },
          "metadata": {},
          "execution_count": 107
        }
      ]
    },
    {
      "cell_type": "code",
      "source": [
        "# self : 객체 자신 : self == calcu\n",
        "# plus() : self.num1 + self.num2\n",
        "# calcu.plus() : self.num1 + self.num2 코드가 실행되는데 : calcu 객체에서의 plus 메서드\n",
        "calcu.num1, calcu.num2, calcu.plus(), calcu.minus()"
      ],
      "metadata": {
        "colab": {
          "base_uri": "https://localhost:8080/"
        },
        "id": "T0o9CYk4O4lC",
        "outputId": "6f12f349-8a56-4737-e30f-5761218fcda5"
      },
      "execution_count": null,
      "outputs": [
        {
          "output_type": "execute_result",
          "data": {
            "text/plain": [
              "(1, 2, 3, -1)"
            ]
          },
          "metadata": {},
          "execution_count": 109
        }
      ]
    },
    {
      "cell_type": "code",
      "source": [
        "type(calcu)"
      ],
      "metadata": {
        "colab": {
          "base_uri": "https://localhost:8080/"
        },
        "id": "Zr6j_l9VOBol",
        "outputId": "df10594a-9105-49cb-9f29-010e4b9836d9"
      },
      "execution_count": null,
      "outputs": [
        {
          "output_type": "execute_result",
          "data": {
            "text/plain": [
              "__main__.Calculator"
            ]
          },
          "metadata": {},
          "execution_count": 108
        }
      ]
    },
    {
      "cell_type": "code",
      "source": [
        "# Marine : health, attack_pow, attack()\n",
        "# 클래스 선언\n",
        "class Marine:\n",
        "    health = 40\n",
        "    attack_pow = 5\n",
        "    def attack(self, target):\n",
        "        target.health -= self.attack_pow\n",
        "\n",
        "# 객체생성 : m1, m2\n",
        "m1 = Marine()\n",
        "m2 = Marine()"
      ],
      "metadata": {
        "id": "bja_ZBOvP2_h"
      },
      "execution_count": null,
      "outputs": []
    },
    {
      "cell_type": "code",
      "source": [
        "# 메서드실행 : m1이 m2를 공격\n",
        "m1.attack(m2)"
      ],
      "metadata": {
        "id": "J6pZPBN2P25E"
      },
      "execution_count": null,
      "outputs": []
    },
    {
      "cell_type": "code",
      "source": [
        "m1.health, m2.health, m1.attack_pow"
      ],
      "metadata": {
        "colab": {
          "base_uri": "https://localhost:8080/"
        },
        "id": "2DTx4VPQP2zC",
        "outputId": "a6e2dd81-4f85-41a7-db66-ec2ca20584ea"
      },
      "execution_count": null,
      "outputs": [
        {
          "output_type": "execute_result",
          "data": {
            "text/plain": [
              "(40, 35, 5)"
            ]
          },
          "metadata": {},
          "execution_count": 165
        }
      ]
    },
    {
      "cell_type": "code",
      "source": [
        "# 객체의 변수 수정하기\n",
        "# m2 마린 업그레이드 공격력 +1\n",
        "m2.attack_pow += 1\n",
        "m2.attack_pow"
      ],
      "metadata": {
        "colab": {
          "base_uri": "https://localhost:8080/"
        },
        "id": "WEloNWejSgUx",
        "outputId": "c328ff60-7fc4-44b6-8187-9b9fc96e8bad"
      },
      "execution_count": null,
      "outputs": [
        {
          "output_type": "execute_result",
          "data": {
            "text/plain": [
              "6"
            ]
          },
          "metadata": {},
          "execution_count": 166
        }
      ]
    },
    {
      "cell_type": "code",
      "source": [
        "m2.attack(m1)\n",
        "m1.health, m2.health"
      ],
      "metadata": {
        "colab": {
          "base_uri": "https://localhost:8080/"
        },
        "id": "crQ9mC7uSgPi",
        "outputId": "e6b322f1-29a0-432c-c032-7a1f9b7351c0"
      },
      "execution_count": null,
      "outputs": [
        {
          "output_type": "execute_result",
          "data": {
            "text/plain": [
              "(34, 35)"
            ]
          },
          "metadata": {},
          "execution_count": 167
        }
      ]
    },
    {
      "cell_type": "code",
      "source": [
        "# 생성자 메서드 : __init__\n",
        "# 객체를 생성할때 실행되는 메서드 : 불량품을 방지 : 실행되지 않는 메서드가 없도록 만듦\n",
        "# 객체의 변수를 설정할때 주로 사용\n",
        "\n",
        "# 클래스선언\n",
        "class Calcualtor:\n",
        "    def __init__(self, num1, num2):\n",
        "        self.num1 = num1\n",
        "        self.num2 = num2\n",
        "    def plus(self):\n",
        "        return self.num1 + self.num2\n",
        "\n",
        "# 객체생성 : RAM 사용\n",
        "calc = Calcualtor(1, 2)"
      ],
      "metadata": {
        "id": "xEAOUa5ZSgLp"
      },
      "execution_count": null,
      "outputs": []
    },
    {
      "cell_type": "code",
      "source": [
        "# 메서드실행\n",
        "calc.plus()"
      ],
      "metadata": {
        "colab": {
          "base_uri": "https://localhost:8080/"
        },
        "id": "Wbq21Iz9SgId",
        "outputId": "034665ad-5b84-44cc-9db3-71b3acd17cac"
      },
      "execution_count": null,
      "outputs": [
        {
          "output_type": "execute_result",
          "data": {
            "text/plain": [
              "3"
            ]
          },
          "metadata": {},
          "execution_count": 169
        }
      ]
    },
    {
      "cell_type": "code",
      "source": [
        "# 데이터 타입과 클래스의 객체의 관계"
      ],
      "metadata": {
        "id": "c3yliCE0V2E8"
      },
      "execution_count": null,
      "outputs": []
    },
    {
      "cell_type": "code",
      "source": [
        "data1, data2 = 1, \"python\"\n",
        "type(data1), type(data2), type(m1)"
      ],
      "metadata": {
        "colab": {
          "base_uri": "https://localhost:8080/"
        },
        "id": "2RWRHUSeV1_6",
        "outputId": "775c8d6e-329b-4318-bdcc-229b8ec665f9"
      },
      "execution_count": null,
      "outputs": [
        {
          "output_type": "execute_result",
          "data": {
            "text/plain": [
              "(int, str, __main__.Marine)"
            ]
          },
          "metadata": {},
          "execution_count": 171
        }
      ]
    },
    {
      "cell_type": "code",
      "source": [
        "# data2 : 데이터타입(str)\n",
        "# m1 : 데이터타입(Marine)"
      ],
      "metadata": {
        "id": "dCDQIPtlV15z"
      },
      "execution_count": null,
      "outputs": []
    },
    {
      "cell_type": "code",
      "source": [
        "# data2는 str 데이터 타입의 객체 : upper()는 data2객체의 메서드\n",
        "data2.upper()\n",
        "# m1는 Marine 데이터 타입의 객체 : attack()은 m1객체의 메서드\n",
        "m1.attack(m2)\n",
        "# 그러므로 데이터 타입에 따라서 클래스 다르고 클래스가 다르면 사용할수 있는\n",
        "# 메서드가 다르다."
      ],
      "metadata": {
        "id": "66Cjq0nUV10T"
      },
      "execution_count": null,
      "outputs": []
    },
    {
      "cell_type": "code",
      "source": [
        "# dir() : 객체의 변수, 메서드 출력\n",
        "# data2 : datatype(str) : str class > upper()\n",
        "# dir(data2)"
      ],
      "metadata": {
        "id": "bcMOA-xFV1wZ"
      },
      "execution_count": null,
      "outputs": []
    },
    {
      "cell_type": "code",
      "source": [
        "# 클래스 선언 : 사용자 정의 데이터 타입을 만든다.\n",
        "# dir(m1)"
      ],
      "metadata": {
        "id": "4D68y1mYBhDm"
      },
      "execution_count": null,
      "outputs": []
    },
    {
      "cell_type": "code",
      "source": [
        "# class\n",
        "# 개념 1 : 변수와 함수를 모아서 사용하는 문법\n",
        "# 개념 2 : 객체지향을 구현해 놓은 문법 : 실제세계를 반영해서 개발하는 방법\n",
        "# 사용법 : 클래스선언(코드작성) > 객체생성(메모리사용) > 메서드실행(코드실행)\n",
        "# 실제세계 : 클래스선언(설계도작성) > 객체생성(제품생산) > 메서드실행(제품사용)\n",
        "# self : 객체자신\n",
        "#   - calc.plus() : self.num1 + self.num2 > calc.num1 + calc.num2\n",
        "# 생성자 메서드 : __init__ : 객체생성시 실행\n",
        "#   - 사용목적 : 불량품 생산 방지 : 변수가 선언되지 않은 상태에서 메서드 실행 방지\n",
        "#   - 객체생성시 변수를 선언할때 주로 사용\n",
        "# 사용자 정의 데이터 타입\n",
        "#   - data(str) > str class(upper() 작성) > data.upper()\n",
        "#   - m1(Marine) > Marine class(attack()) > m1.attack()\n",
        "#   - 데이터 타입에 따라서 실행할수 있는 메서드가 달라짐\n",
        "#   - dir() : 메서드 확인 함수"
      ],
      "metadata": {
        "id": "Luh8M0vvYbVD"
      },
      "execution_count": null,
      "outputs": []
    },
    {
      "cell_type": "code",
      "source": [
        "# 스페셜 메서드 : 앞뒤로 __가 있음\n",
        "# 같은 연산자라도 데이터 타입에 따라 다르게 기능이 수행된다.\n",
        "1 + 2, \"1\" + \"2\""
      ],
      "metadata": {
        "colab": {
          "base_uri": "https://localhost:8080/"
        },
        "id": "2Bv56lR1YbOG",
        "outputId": "c2d5c0a1-8888-45ff-ed5f-e0e10cbbfb7b"
      },
      "execution_count": null,
      "outputs": [
        {
          "output_type": "execute_result",
          "data": {
            "text/plain": [
              "(3, '12')"
            ]
          },
          "metadata": {},
          "execution_count": 177
        }
      ]
    },
    {
      "cell_type": "code",
      "source": [
        "data1, data2 = 1, 2\n",
        "data3, data4 = \"1\", \"2\""
      ],
      "metadata": {
        "id": "_5cg9ja9YbK9"
      },
      "execution_count": null,
      "outputs": []
    },
    {
      "cell_type": "code",
      "source": [
        "# + 연산 : __add__ : 메서드 실행"
      ],
      "metadata": {
        "id": "RJwVUFuAeiwa"
      },
      "execution_count": null,
      "outputs": []
    },
    {
      "cell_type": "code",
      "source": [
        "# data1 + data2 : int class의 __add__ 실행\n",
        "type(data1), data1 + data2, data1.__add__(data2)"
      ],
      "metadata": {
        "colab": {
          "base_uri": "https://localhost:8080/"
        },
        "id": "lX5Cpcp6eiq-",
        "outputId": "9b6b3872-0b8a-4cec-b331-1c88453cabec"
      },
      "execution_count": null,
      "outputs": [
        {
          "output_type": "execute_result",
          "data": {
            "text/plain": [
              "(int, 3, 3)"
            ]
          },
          "metadata": {},
          "execution_count": 180
        }
      ]
    },
    {
      "cell_type": "code",
      "source": [
        "# data3 + data4 : str class의 __add__ 실행\n",
        "type(data3), data3 + data4, data3.__add__(data4)"
      ],
      "metadata": {
        "colab": {
          "base_uri": "https://localhost:8080/"
        },
        "id": "e1nWBaRQeij9",
        "outputId": "add14550-f2f4-49f0-a9ad-d6c733404636"
      },
      "execution_count": null,
      "outputs": [
        {
          "output_type": "execute_result",
          "data": {
            "text/plain": [
              "(str, '12', '12')"
            ]
          },
          "metadata": {},
          "execution_count": 181
        }
      ]
    },
    {
      "cell_type": "code",
      "source": [
        "# dir(data1)"
      ],
      "metadata": {
        "id": "7uDtAS1feihE"
      },
      "execution_count": null,
      "outputs": []
    },
    {
      "cell_type": "code",
      "source": [
        "# 8. 입출력\n",
        "# 객체를 SSD에 저장 및 로드 : RAM > SSD, SSD > RAM\n",
        "# pickle : 입출력 속도가 빠르고 사용이 간편"
      ],
      "metadata": {
        "id": "xc5RNkLif-0t"
      },
      "execution_count": null,
      "outputs": []
    },
    {
      "cell_type": "code",
      "source": [
        "import pickle"
      ],
      "metadata": {
        "id": "825MbX2mgxUq"
      },
      "execution_count": null,
      "outputs": []
    },
    {
      "cell_type": "code",
      "source": [
        "class Disp:\n",
        "    def __init__(self, msg):\n",
        "        self.msg = msg\n",
        "    def show(self):\n",
        "        print(self.msg)\n",
        "    def predict(msgg):\n",
        "        print(msgg)\n",
        "disp = Disp(\"kyobo\")\n",
        "disp.show()"
      ],
      "metadata": {
        "colab": {
          "base_uri": "https://localhost:8080/"
        },
        "id": "mnhwCkrUf-wS",
        "outputId": "b28e889f-5a49-49dc-e29f-f26e03006707"
      },
      "execution_count": null,
      "outputs": [
        {
          "output_type": "stream",
          "name": "stdout",
          "text": [
            "kyobo\n"
          ]
        }
      ]
    },
    {
      "cell_type": "code",
      "source": [
        "# RAM > HDD(SSD)\n",
        "with open(\"disp.pkl\", \"wb\") as file:\n",
        "    pickle.dump(disp, file)"
      ],
      "metadata": {
        "id": "PBzNwfp-f-sc"
      },
      "execution_count": null,
      "outputs": []
    },
    {
      "cell_type": "code",
      "source": [
        "# HDD(SSD) > RAM\n",
        "with open(\"disp.pkl\", \"rb\") as file:\n",
        "    load_obj = pickle.load(file)"
      ],
      "metadata": {
        "id": "qqzPCE6Bf-Xi"
      },
      "execution_count": null,
      "outputs": []
    },
    {
      "cell_type": "code",
      "source": [
        "disp.show()\n",
        "load_obj.show()"
      ],
      "metadata": {
        "colab": {
          "base_uri": "https://localhost:8080/"
        },
        "id": "vnwDJdD6YbIA",
        "outputId": "038a41a8-5f3e-4edb-d122-37a282525aa0"
      },
      "execution_count": null,
      "outputs": [
        {
          "output_type": "stream",
          "name": "stdout",
          "text": [
            "kyobo\n",
            "kyobo\n"
          ]
        }
      ]
    },
    {
      "cell_type": "code",
      "source": [
        "# AI 객체 : 문장 > 카테고리 분류 : model.pkl 저장"
      ],
      "metadata": {
        "id": "Dvc1k3jCiswP"
      },
      "execution_count": null,
      "outputs": []
    },
    {
      "cell_type": "code",
      "source": [
        "# HDD > RAM\n",
        "with open(\"model.pkl\", \"rb\") as file:\n",
        "    model = pickle.load(file)"
      ],
      "metadata": {
        "id": "xsdNsAviisrB"
      },
      "execution_count": null,
      "outputs": []
    },
    {
      "cell_type": "code",
      "source": [
        "text = \"요즘 주식 환율 예칙 불가능\"\n",
        "model.predict([text])"
      ],
      "metadata": {
        "colab": {
          "base_uri": "https://localhost:8080/"
        },
        "id": "4R-k4CQKo92P",
        "outputId": "463407f0-fdbd-4d92-b7e7-127529a00b57"
      },
      "execution_count": null,
      "outputs": [
        {
          "output_type": "execute_result",
          "data": {
            "text/plain": [
              "array([101])"
            ]
          },
          "metadata": {},
          "execution_count": 221
        }
      ]
    },
    {
      "cell_type": "code",
      "source": [
        "text = \"요즘 주식 환율 예측 불가능합니다.\"\n",
        "model.predict([text])[0],\\\n",
        "model.predict_proba([text])[0]"
      ],
      "metadata": {
        "colab": {
          "base_uri": "https://localhost:8080/"
        },
        "id": "Fps20Ge6isjt",
        "outputId": "ba3a1e90-4185-4574-ddd3-27dd2b3ee92f"
      },
      "execution_count": null,
      "outputs": [
        {
          "output_type": "execute_result",
          "data": {
            "text/plain": [
              "(101, array([0.02314564, 0.8712127 , 0.00155211, 0.00649604, 0.0047405 ,\n",
              "        0.092853  ]))"
            ]
          },
          "metadata": {},
          "execution_count": 222
        }
      ]
    },
    {
      "cell_type": "code",
      "source": [
        "# 100:\"정치\", 101:\"경제\", 102:\"사회\",\n",
        "# 103:\"생활/문화\", 104:\"세계\", 105:\"IT/과학\""
      ],
      "metadata": {
        "id": "_n9-2mUhisgA"
      },
      "execution_count": null,
      "outputs": []
    },
    {
      "cell_type": "code",
      "source": [
        "# 9. module\n",
        "# 변수, 함수, 클래스를 하나의 파일(.py)로 묶어서 사용하는 문법\n",
        "# import, from, as"
      ],
      "metadata": {
        "id": "kGJBbnFFnh9f"
      },
      "execution_count": null,
      "outputs": []
    },
    {
      "cell_type": "code",
      "source": [
        "%%writefile kyobo.py\n",
        "number = 3\n",
        "\n",
        "def plus(n1, n2):\n",
        "    return n1 + n2\n",
        "\n",
        "class Echo:\n",
        "    def show(self):\n",
        "        print(\"echo\")"
      ],
      "metadata": {
        "colab": {
          "base_uri": "https://localhost:8080/"
        },
        "id": "Qmbf14Uhnh30",
        "outputId": "fcd79417-8a88-4d36-b8e7-a758f0c56e01"
      },
      "execution_count": null,
      "outputs": [
        {
          "output_type": "stream",
          "name": "stdout",
          "text": [
            "Writing kyobo.py\n"
          ]
        }
      ]
    },
    {
      "cell_type": "code",
      "source": [
        "import kyobo\n",
        "type(kyobo), kyobo.number, kyobo.plus(1, 2)"
      ],
      "metadata": {
        "colab": {
          "base_uri": "https://localhost:8080/"
        },
        "id": "nqi4WH5onhx2",
        "outputId": "97cde300-e2d3-4468-81fb-c14a3e169b5c"
      },
      "execution_count": null,
      "outputs": [
        {
          "output_type": "execute_result",
          "data": {
            "text/plain": [
              "(module, 3, 3)"
            ]
          },
          "metadata": {},
          "execution_count": 216
        }
      ]
    },
    {
      "cell_type": "code",
      "source": [
        "from kyobo import Echo, plus\n",
        "echo = Echo()\n",
        "echo.show()"
      ],
      "metadata": {
        "colab": {
          "base_uri": "https://localhost:8080/"
        },
        "id": "FwwC-7vinhsc",
        "outputId": "2f0e5450-7f71-4cb1-f559-f6dbb197bb4d"
      },
      "execution_count": null,
      "outputs": [
        {
          "output_type": "stream",
          "name": "stdout",
          "text": [
            "echo\n"
          ]
        }
      ]
    },
    {
      "cell_type": "code",
      "source": [
        "import kyobo as kyo\n",
        "kyo.number"
      ],
      "metadata": {
        "colab": {
          "base_uri": "https://localhost:8080/"
        },
        "id": "iZilxDwfqr-I",
        "outputId": "9d387472-a76c-4edd-8cf3-e9a869bddcd2"
      },
      "execution_count": null,
      "outputs": [
        {
          "output_type": "execute_result",
          "data": {
            "text/plain": [
              "3"
            ]
          },
          "metadata": {},
          "execution_count": 218
        }
      ]
    },
    {
      "cell_type": "code",
      "source": [
        "!pip install geohash2"
      ],
      "metadata": {
        "colab": {
          "base_uri": "https://localhost:8080/"
        },
        "id": "kC9TcuI9sDiS",
        "outputId": "43344f9c-f344-4dcd-8f7f-ffb442fbc6da"
      },
      "execution_count": null,
      "outputs": [
        {
          "output_type": "stream",
          "name": "stdout",
          "text": [
            "Collecting geohash2\n",
            "  Downloading geohash2-1.1.tar.gz (15 kB)\n",
            "Requirement already satisfied: docutils>=0.3 in /usr/local/lib/python3.7/dist-packages (from geohash2) (0.17.1)\n",
            "Building wheels for collected packages: geohash2\n",
            "  Building wheel for geohash2 (setup.py) ... \u001b[?25l\u001b[?25hdone\n",
            "  Created wheel for geohash2: filename=geohash2-1.1-py3-none-any.whl size=15561 sha256=01b2a2d2c184d9c003ddc2b374656b544fe76569592ab600f41678d941572b65\n",
            "  Stored in directory: /root/.cache/pip/wheels/5d/61/e3/c3da255d2fc70eb901623d2e0b690f3da6454d5ef713d288ff\n",
            "Successfully built geohash2\n",
            "Installing collected packages: geohash2\n",
            "Successfully installed geohash2-1.1\n"
          ]
        }
      ]
    },
    {
      "cell_type": "code",
      "source": [
        "import zigbang as zb"
      ],
      "metadata": {
        "id": "X4FOXShDsJY_"
      },
      "execution_count": null,
      "outputs": []
    },
    {
      "cell_type": "code",
      "source": [
        "df = zb.oneroom(\"망원동\")\n",
        "df.head()"
      ],
      "metadata": {
        "colab": {
          "base_uri": "https://localhost:8080/",
          "height": 617
        },
        "id": "1XQeHQi1sUAn",
        "outputId": "5d4127c4-69c7-4f99-efc0-c40a1c92f0b4"
      },
      "execution_count": null,
      "outputs": [
        {
          "output_type": "execute_result",
          "data": {
            "text/plain": [
              "    item_id sales_type  deposit  rent  size_m2 building_floor floor  \\\n",
              "0  31307204         월세     1000    70    46.28              3     1   \n",
              "1  31308709         월세     2000    65    39.67              3     2   \n",
              "2  31468977         전세    40000     0    66.12              5     3   \n",
              "3  31480981         전세    45900     0    49.59              5     3   \n",
              "4  31461424         월세     5000    40    36.36              3   반지하   \n",
              "\n",
              "                            title service_type     address1 manage_cost  \\\n",
              "0                  🌞채광잘들어오는깔끄미투룸🌞           빌라  서울시 마포구 망원동           2   \n",
              "1       🎶 [1000.70 가능] 🎶[저렴한 월세!]           빌라  서울시 마포구 망원동           5   \n",
              "2   🟥🟧🟨망리단길 올 리모델링 큰 쓰리룸 망원역 도보5분           빌라  서울시 마포구 망원동           3   \n",
              "3  💝핫한망리단길/한강💝\\r\\n풀옵션/신축/대형2룸/합정역           빌라  서울시 마포구 망원동           4   \n",
              "4                     🎉망원동 풀옵 투룸🎉           빌라  서울시 마포구 망원동           3   \n",
              "\n",
              "   is_new  \n",
              "0   False  \n",
              "1   False  \n",
              "2    True  \n",
              "3    True  \n",
              "4    True  "
            ],
            "text/html": [
              "\n",
              "  <div id=\"df-6cbe4ac3-4fae-4219-afea-740b849e6c13\">\n",
              "    <div class=\"colab-df-container\">\n",
              "      <div>\n",
              "<style scoped>\n",
              "    .dataframe tbody tr th:only-of-type {\n",
              "        vertical-align: middle;\n",
              "    }\n",
              "\n",
              "    .dataframe tbody tr th {\n",
              "        vertical-align: top;\n",
              "    }\n",
              "\n",
              "    .dataframe thead th {\n",
              "        text-align: right;\n",
              "    }\n",
              "</style>\n",
              "<table border=\"1\" class=\"dataframe\">\n",
              "  <thead>\n",
              "    <tr style=\"text-align: right;\">\n",
              "      <th></th>\n",
              "      <th>item_id</th>\n",
              "      <th>sales_type</th>\n",
              "      <th>deposit</th>\n",
              "      <th>rent</th>\n",
              "      <th>size_m2</th>\n",
              "      <th>building_floor</th>\n",
              "      <th>floor</th>\n",
              "      <th>title</th>\n",
              "      <th>service_type</th>\n",
              "      <th>address1</th>\n",
              "      <th>manage_cost</th>\n",
              "      <th>is_new</th>\n",
              "    </tr>\n",
              "  </thead>\n",
              "  <tbody>\n",
              "    <tr>\n",
              "      <th>0</th>\n",
              "      <td>31307204</td>\n",
              "      <td>월세</td>\n",
              "      <td>1000</td>\n",
              "      <td>70</td>\n",
              "      <td>46.28</td>\n",
              "      <td>3</td>\n",
              "      <td>1</td>\n",
              "      <td>🌞채광잘들어오는깔끄미투룸🌞</td>\n",
              "      <td>빌라</td>\n",
              "      <td>서울시 마포구 망원동</td>\n",
              "      <td>2</td>\n",
              "      <td>False</td>\n",
              "    </tr>\n",
              "    <tr>\n",
              "      <th>1</th>\n",
              "      <td>31308709</td>\n",
              "      <td>월세</td>\n",
              "      <td>2000</td>\n",
              "      <td>65</td>\n",
              "      <td>39.67</td>\n",
              "      <td>3</td>\n",
              "      <td>2</td>\n",
              "      <td>🎶 [1000.70 가능] 🎶[저렴한 월세!]</td>\n",
              "      <td>빌라</td>\n",
              "      <td>서울시 마포구 망원동</td>\n",
              "      <td>5</td>\n",
              "      <td>False</td>\n",
              "    </tr>\n",
              "    <tr>\n",
              "      <th>2</th>\n",
              "      <td>31468977</td>\n",
              "      <td>전세</td>\n",
              "      <td>40000</td>\n",
              "      <td>0</td>\n",
              "      <td>66.12</td>\n",
              "      <td>5</td>\n",
              "      <td>3</td>\n",
              "      <td>🟥🟧🟨망리단길 올 리모델링 큰 쓰리룸 망원역 도보5분</td>\n",
              "      <td>빌라</td>\n",
              "      <td>서울시 마포구 망원동</td>\n",
              "      <td>3</td>\n",
              "      <td>True</td>\n",
              "    </tr>\n",
              "    <tr>\n",
              "      <th>3</th>\n",
              "      <td>31480981</td>\n",
              "      <td>전세</td>\n",
              "      <td>45900</td>\n",
              "      <td>0</td>\n",
              "      <td>49.59</td>\n",
              "      <td>5</td>\n",
              "      <td>3</td>\n",
              "      <td>💝핫한망리단길/한강💝\\r\\n풀옵션/신축/대형2룸/합정역</td>\n",
              "      <td>빌라</td>\n",
              "      <td>서울시 마포구 망원동</td>\n",
              "      <td>4</td>\n",
              "      <td>True</td>\n",
              "    </tr>\n",
              "    <tr>\n",
              "      <th>4</th>\n",
              "      <td>31461424</td>\n",
              "      <td>월세</td>\n",
              "      <td>5000</td>\n",
              "      <td>40</td>\n",
              "      <td>36.36</td>\n",
              "      <td>3</td>\n",
              "      <td>반지하</td>\n",
              "      <td>🎉망원동 풀옵 투룸🎉</td>\n",
              "      <td>빌라</td>\n",
              "      <td>서울시 마포구 망원동</td>\n",
              "      <td>3</td>\n",
              "      <td>True</td>\n",
              "    </tr>\n",
              "  </tbody>\n",
              "</table>\n",
              "</div>\n",
              "      <button class=\"colab-df-convert\" onclick=\"convertToInteractive('df-6cbe4ac3-4fae-4219-afea-740b849e6c13')\"\n",
              "              title=\"Convert this dataframe to an interactive table.\"\n",
              "              style=\"display:none;\">\n",
              "        \n",
              "  <svg xmlns=\"http://www.w3.org/2000/svg\" height=\"24px\"viewBox=\"0 0 24 24\"\n",
              "       width=\"24px\">\n",
              "    <path d=\"M0 0h24v24H0V0z\" fill=\"none\"/>\n",
              "    <path d=\"M18.56 5.44l.94 2.06.94-2.06 2.06-.94-2.06-.94-.94-2.06-.94 2.06-2.06.94zm-11 1L8.5 8.5l.94-2.06 2.06-.94-2.06-.94L8.5 2.5l-.94 2.06-2.06.94zm10 10l.94 2.06.94-2.06 2.06-.94-2.06-.94-.94-2.06-.94 2.06-2.06.94z\"/><path d=\"M17.41 7.96l-1.37-1.37c-.4-.4-.92-.59-1.43-.59-.52 0-1.04.2-1.43.59L10.3 9.45l-7.72 7.72c-.78.78-.78 2.05 0 2.83L4 21.41c.39.39.9.59 1.41.59.51 0 1.02-.2 1.41-.59l7.78-7.78 2.81-2.81c.8-.78.8-2.07 0-2.86zM5.41 20L4 18.59l7.72-7.72 1.47 1.35L5.41 20z\"/>\n",
              "  </svg>\n",
              "      </button>\n",
              "      \n",
              "  <style>\n",
              "    .colab-df-container {\n",
              "      display:flex;\n",
              "      flex-wrap:wrap;\n",
              "      gap: 12px;\n",
              "    }\n",
              "\n",
              "    .colab-df-convert {\n",
              "      background-color: #E8F0FE;\n",
              "      border: none;\n",
              "      border-radius: 50%;\n",
              "      cursor: pointer;\n",
              "      display: none;\n",
              "      fill: #1967D2;\n",
              "      height: 32px;\n",
              "      padding: 0 0 0 0;\n",
              "      width: 32px;\n",
              "    }\n",
              "\n",
              "    .colab-df-convert:hover {\n",
              "      background-color: #E2EBFA;\n",
              "      box-shadow: 0px 1px 2px rgba(60, 64, 67, 0.3), 0px 1px 3px 1px rgba(60, 64, 67, 0.15);\n",
              "      fill: #174EA6;\n",
              "    }\n",
              "\n",
              "    [theme=dark] .colab-df-convert {\n",
              "      background-color: #3B4455;\n",
              "      fill: #D2E3FC;\n",
              "    }\n",
              "\n",
              "    [theme=dark] .colab-df-convert:hover {\n",
              "      background-color: #434B5C;\n",
              "      box-shadow: 0px 1px 3px 1px rgba(0, 0, 0, 0.15);\n",
              "      filter: drop-shadow(0px 1px 2px rgba(0, 0, 0, 0.3));\n",
              "      fill: #FFFFFF;\n",
              "    }\n",
              "  </style>\n",
              "\n",
              "      <script>\n",
              "        const buttonEl =\n",
              "          document.querySelector('#df-6cbe4ac3-4fae-4219-afea-740b849e6c13 button.colab-df-convert');\n",
              "        buttonEl.style.display =\n",
              "          google.colab.kernel.accessAllowed ? 'block' : 'none';\n",
              "\n",
              "        async function convertToInteractive(key) {\n",
              "          const element = document.querySelector('#df-6cbe4ac3-4fae-4219-afea-740b849e6c13');\n",
              "          const dataTable =\n",
              "            await google.colab.kernel.invokeFunction('convertToInteractive',\n",
              "                                                     [key], {});\n",
              "          if (!dataTable) return;\n",
              "\n",
              "          const docLinkHtml = 'Like what you see? Visit the ' +\n",
              "            '<a target=\"_blank\" href=https://colab.research.google.com/notebooks/data_table.ipynb>data table notebook</a>'\n",
              "            + ' to learn more about interactive tables.';\n",
              "          element.innerHTML = '';\n",
              "          dataTable['output_type'] = 'display_data';\n",
              "          await google.colab.output.renderOutput(dataTable, element);\n",
              "          const docLink = document.createElement('div');\n",
              "          docLink.innerHTML = docLinkHtml;\n",
              "          element.appendChild(docLink);\n",
              "        }\n",
              "      </script>\n",
              "    </div>\n",
              "  </div>\n",
              "  "
            ]
          },
          "metadata": {},
          "execution_count": 227
        }
      ]
    },
    {
      "cell_type": "code",
      "source": [
        "# 10. 예외처리\n",
        "# try, except, finally\n",
        "# 코드 실행중 에러가 발생했는때 처리하는 문법"
      ],
      "metadata": {
        "id": "xr1eAn2qsdsz"
      },
      "execution_count": null,
      "outputs": []
    },
    {
      "cell_type": "code",
      "source": [
        "try:\n",
        "  print(1/0)\n",
        "except Exception as e:\n",
        "  print(\"Error:\",e)\n",
        "finally: # try에서 error 발생하든 안하든 실행됨\n",
        "  print(\"disconnect!!!\")\n",
        "print(\"Done!!!\")"
      ],
      "metadata": {
        "colab": {
          "base_uri": "https://localhost:8080/"
        },
        "id": "GjtiF0U0sfBv",
        "outputId": "14e8d2aa-eb8c-41eb-c0f1-42869560efbc"
      },
      "execution_count": null,
      "outputs": [
        {
          "output_type": "stream",
          "name": "stdout",
          "text": [
            "Error: division by zero\n",
            "disconnect!!!\n",
            "Done!!!\n"
          ]
        }
      ]
    },
    {
      "cell_type": "markdown",
      "source": [
        "-----\n",
        "##Summary"
      ],
      "metadata": {
        "id": "GYtwMI2uwXcu"
      }
    },
    {
      "cell_type": "markdown",
      "source": [
        "### MySQL"
      ],
      "metadata": {
        "id": "IMoFORxwwjKM"
      }
    },
    {
      "cell_type": "code",
      "source": [
        "# DML : DATA : C(insert into)R(select from)U(update set)D(delete from)\n",
        "# DDL : DATABASE, TABLE : C(create)R(show, desc)U(alter)D(drop)\n",
        "# DCL : X\n",
        "# 연산자 : 산술, 비교, 논리\n",
        "# DML : READ\n",
        "#   - where : between, in, not in, like\n",
        "#   - order by : desc, asc(생략가능) : 컬럼사용 한개이상 가능\n",
        "#   - limit : limit : skip, limit\n",
        "# 데이터 타입 : 숫자, 문자열, 날짜\n",
        "# 제약조건 : not null, unique, primary key, auto_increment ...\n",
        "# DDL 테이블수정 : ADD, MODIFY COLUMN, DROP\n",
        "# 함수 : date_format, count, round, concat ...\n",
        "# group by : 특정 컬럼, 결합 함수 : 중복되는 데이터를 결합\n",
        "# having : 쿼리 실행 후 특정 조건으로 데이터 필터링\n",
        "# join : 두개 이상의 테이블을 결합 : inner, outer(union), left, right\n",
        "# sub query : select, from, where\n",
        "# view : 가상의 테이블 : 수정, 삭제 불가\n",
        "# index : select의 속도를 증가"
      ],
      "metadata": {
        "id": "s_VeQ8BEwZbR"
      },
      "execution_count": null,
      "outputs": []
    },
    {
      "cell_type": "markdown",
      "source": [
        "### Python"
      ],
      "metadata": {
        "id": "0WUROmnpwpD5"
      }
    },
    {
      "cell_type": "code",
      "source": [
        "# 1. 변수선언 : 식별자규칙 : _만 특수문자 사용가능, 가장앞에 숫자사용 X, 명령어 사용X\n",
        "# 2. 데이터타입 : int, float, bool, str, list, tuple, dict, set\n",
        "#   - list, tuple의 차이 : 같은 데이터를 저장하면 tuple 저장공간을 적게 사용\n",
        "#   - tuple은 데이터 수정이 불가능\n",
        "#   - set : 중복을 허용하지 X\n",
        "#   - masking [] : [index], [start:end], [start:end:stride]\n",
        "# 3. 연산자 : 산술, 할당, 비교, 논리(not, or, and), 멤버(in, not in)\n",
        "# 4. 조건문 : if, elif, else\n",
        "# 5. 반복문 : while, for in, break, continue, range(), enumurate(), zip()\n",
        "# 6. 함수 : parameter, argument, *args, **kwargs, return, lambda\n",
        "# 7. 클래스 : class : 객체지향 : 클래스선언 > 객체생성 > 메서드호출\n",
        "#   - __init__ : 생성자 메서드\n",
        "# 8. 입출력 : pickle\n",
        "# 9. 모듈 : import, from, as\n",
        "# 10. 예외처리 : try, except, finally"
      ],
      "metadata": {
        "id": "CSc72-ocwrIT"
      },
      "execution_count": null,
      "outputs": []
    }
  ]
}